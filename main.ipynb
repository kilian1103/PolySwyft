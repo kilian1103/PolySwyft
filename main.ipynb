{
 "cells": [
  {
   "cell_type": "code",
   "outputs": [],
   "source": [
    "import logging\n",
    "from pytorch_lightning.loggers import WandbLogger\n",
    "import numpy as np\n",
    "import pypolychord\n",
    "import wandb\n",
    "import swyft\n",
    "import torch\n",
    "import anesthetic\n",
    "from anesthetic import MCMCSamples\n",
    "import os"
   ],
   "metadata": {
    "collapsed": false,
    "ExecuteTime": {
     "end_time": "2025-05-21T09:52:40.065399Z",
     "start_time": "2025-05-21T09:52:21.869122Z"
    }
   },
   "id": "cbc444902206e184",
   "execution_count": 1
  },
  {
   "cell_type": "code",
   "outputs": [],
   "source": [
    "try:\n",
    "    from mpi4py import MPI\n",
    "    comm_gen = MPI.COMM_WORLD\n",
    "    rank_gen = comm_gen.Get_rank()\n",
    "    size_gen = comm_gen.Get_size()\n",
    "except ImportError:\n",
    "    raise ImportError(\"Please install mpi4py to use this script with MPI.\")\n"
   ],
   "metadata": {
    "collapsed": false,
    "ExecuteTime": {
     "end_time": "2025-05-21T09:52:40.444193Z",
     "start_time": "2025-05-21T09:52:40.074082Z"
    }
   },
   "id": "9c87673a461c8b48",
   "execution_count": 2
  },
  {
   "cell_type": "markdown",
   "source": [
    "We are importing the relevant modules for the (re-)training of the NRE's. Here, we use an already implemented swyft simulator ``PolySwyft_Simulator_MultiGauss`` and a ``SwyftModule`` that is extended with PolySwyft compatible methods. For customisation, one has to re-implement these classes to adjust for their own needs."
   ],
   "metadata": {
    "collapsed": false
   },
   "id": "a42ff434af5fc65d"
  },
  {
   "cell_type": "code",
   "execution_count": 3,
   "id": "initial_id",
   "metadata": {
    "collapsed": true,
    "ExecuteTime": {
     "end_time": "2025-05-21T09:52:40.693716Z",
     "start_time": "2025-05-21T09:52:40.450131Z"
    }
   },
   "outputs": [],
   "source": [
    "from pytorch_lightning import seed_everything\n",
    "from pytorch_lightning.callbacks import LearningRateMonitor, ModelCheckpoint\n",
    "from pytorch_lightning.callbacks.early_stopping import EarlyStopping\n",
    "from PolySwyft.PolySwyft_Network import Network\n",
    "from PolySwyft.PolySwyft_Settings import PolySwyft_Settings\n",
    "from PolySwyft.PolySwyft_Simulator_MultiGauss import Simulator\n",
    "from PolySwyft.utils import select_weighted_contour, resimulate_deadpoints\n",
    "from PolySwyft.PolySwyft_Dataloader import PolySwyftDataModule\n",
    "from PolySwyft.utils import compute_KL_compression, compute_KL_divergence_truth, compute_KL_divergence"
   ]
  },
  {
   "cell_type": "markdown",
   "source": [
    "Initialise the ``PolySwyftSettings``and change some of the default settings."
   ],
   "metadata": {
    "collapsed": false
   },
   "id": "6e7e3779b5cc6e9b"
  },
  {
   "cell_type": "code",
   "outputs": [
    {
     "name": "stderr",
     "output_type": "stream",
     "text": [
      "Global seed set to 234\n"
     ]
    }
   ],
   "source": [
    "root=\"PolySwyft_notebook\"\n",
    "polyswyftSettings = PolySwyft_Settings(root)\n",
    "trainer_kwargs = {\"accelerator\": 'cpu',\n",
    "                  \"devices\": 1,\n",
    "                  \"num_nodes\": 1,\n",
    "                  #\"strategy\": \"ddp\",\n",
    "                  \"max_epochs\": 1000,\n",
    "                  \"log_every_n_steps\": 1,\n",
    "                  \"precision\": 64,\n",
    "                  \"enable_progress_bar\": True,\n",
    "                  \"default_root_dir\": root,\n",
    "                  \"callbacks\": [],\n",
    "                  \"deterministic\": True,\n",
    "                  }\n",
    "polyswyftSettings.trainer_kwargs = trainer_kwargs\n",
    "polyswyftSettings.early_stopping_patience = 3\n",
    "seed_everything(polyswyftSettings.seed, workers=True)\n",
    "logging.basicConfig(filename=polyswyftSettings.logger_name, level=logging.INFO,\n",
    "                    filemode=\"a\")\n",
    "logger = logging.getLogger()\n",
    "polyswyftSettings.logger = logger\n",
    "logger.info('Started')"
   ],
   "metadata": {
    "collapsed": false,
    "ExecuteTime": {
     "end_time": "2025-05-21T09:52:40.745462Z",
     "start_time": "2025-05-21T09:52:40.702522Z"
    }
   },
   "id": "d367a7bb7084911c",
   "execution_count": 4
  },
  {
   "cell_type": "code",
   "outputs": [],
   "source": [
    "#### instantiate swyft simulator\n",
    "polyswyftSettings.num_features = 3\n",
    "polyswyftSettings.num_features_dataset = 5\n",
    "polyswyftSettings.NRE_num_retrain_rounds = 2\n",
    "polyswyftSettings.n_training_samples = 1000\n",
    "d = polyswyftSettings.num_features_dataset\n",
    "n = polyswyftSettings.num_features\n",
    "\n",
    "m = torch.randn(d) * 3  # mean vec of dataset\n",
    "M = torch.randn(size=(d, n))  # transform matrix of dataset to parameter vee\n",
    "C = torch.eye(d)  # cov matrix of dataset\n",
    "mu = torch.zeros(n)  # mean vec of parameter prior\n",
    "Sigma = 100 * torch.eye(n)  # cov matrix of parameter prior\n",
    "sim = Simulator(polyswyftSettings=polyswyftSettings, m=m, M=M, C=C, mu=mu, Sigma=Sigma)\n",
    "polyswyftSettings.model = sim.model  # lsbi model"
   ],
   "metadata": {
    "collapsed": false,
    "ExecuteTime": {
     "end_time": "2025-05-21T09:52:40.776760Z",
     "start_time": "2025-05-21T09:52:40.758473Z"
    }
   },
   "id": "8130426b20cf8c26",
   "execution_count": 5
  },
  {
   "cell_type": "code",
   "outputs": [
    {
     "name": "stderr",
     "output_type": "stream",
     "text": [
      "/Users/hikarukilian/LFIenv/lib/python3.10/site-packages/scipy/stats/_multivariate.py:753: RuntimeWarning: covariance is not symmetric positive-semidefinite.\n",
      "  out = random_state.multivariate_normal(mean, cov, size)\n",
      "Global seed set to 234\n"
     ]
    },
    {
     "data": {
      "text/plain": "  0%|          | 0/1000 [00:00<?, ?it/s]",
      "application/vnd.jupyter.widget-view+json": {
       "version_major": 2,
       "version_minor": 0,
       "model_id": "22e28cdc086443da949977004f7be9b0"
      }
     },
     "metadata": {},
     "output_type": "display_data"
    },
    {
     "name": "stderr",
     "output_type": "stream",
     "text": [
      "Global seed set to 234\n"
     ]
    }
   ],
   "source": [
    "# generate training dat and obs\n",
    "obs = swyft.Sample(x=torch.tensor(sim.model.evidence().rvs()[None, :]))\n",
    "n_per_core = polyswyftSettings.n_training_samples // size_gen\n",
    "if rank_gen == 0:\n",
    "    n_per_core += polyswyftSettings.n_training_samples % size_gen\n",
    "seed_everything(polyswyftSettings.seed + rank_gen, workers=True)\n",
    "deadpoints = sim.sample(n_per_core, targets=[polyswyftSettings.targetKey])[\n",
    "    polyswyftSettings.targetKey]\n",
    "comm_gen.Barrier()\n",
    "seed_everything(polyswyftSettings.seed, workers=True)\n",
    "deadpoints = comm_gen.allgather(deadpoints)\n",
    "deadpoints = np.concatenate(deadpoints, axis=0)\n",
    "comm_gen.Barrier()"
   ],
   "metadata": {
    "collapsed": false,
    "ExecuteTime": {
     "end_time": "2025-05-21T09:52:42.488295Z",
     "start_time": "2025-05-21T09:52:40.780980Z"
    }
   },
   "id": "f65cf265a9b32989",
   "execution_count": 6
  },
  {
   "cell_type": "code",
   "outputs": [
    {
     "data": {
      "text/plain": "  0%|          | 0/1000 [00:00<?, ?it/s]",
      "application/vnd.jupyter.widget-view+json": {
       "version_major": 2,
       "version_minor": 0,
       "model_id": "9386a6ab6daf497b9f45e53eefca7acb"
      }
     },
     "metadata": {},
     "output_type": "display_data"
    }
   ],
   "source": [
    "### generate true posterior for comparison\n",
    "cond = {polyswyftSettings.obsKey: obs[polyswyftSettings.obsKey].numpy().squeeze()}\n",
    "full_joint = sim.sample(polyswyftSettings.n_weighted_samples, conditions=cond)\n",
    "posterior = full_joint[polyswyftSettings.posteriorsKey]\n",
    "weights = np.ones(shape=len(posterior))  # direct samples from posterior have weights 1\n",
    "params_labels = {i: rf\"${polyswyftSettings.targetKey}_{i}$\" for i in range(polyswyftSettings.num_features)}\n",
    "mcmc_true = MCMCSamples(\n",
    "    data=posterior, weights=weights.squeeze(), labels=params_labels)"
   ],
   "metadata": {
    "collapsed": false,
    "ExecuteTime": {
     "end_time": "2025-05-21T09:52:49.696785Z",
     "start_time": "2025-05-21T09:52:42.494419Z"
    }
   },
   "id": "a9a80613196b1f3a",
   "execution_count": 7
  },
  {
   "cell_type": "code",
   "outputs": [],
   "source": [
    "#### instantiate swyft network\n",
    "network = Network(polyswyftSettings=polyswyftSettings, obs=obs)\n",
    "\n",
    "#### create helper function for polyswyft cycle\n",
    "def create_callbacks() -> list:\n",
    "    early_stopping_callback = EarlyStopping(monitor='val_loss', min_delta=0.,\n",
    "                                            patience=polyswyftSettings.early_stopping_patience, mode='min')\n",
    "    lr_monitor = LearningRateMonitor(logging_interval='step')\n",
    "    checkpoint_callback = ModelCheckpoint(monitor='val_loss',\n",
    "                                          filename='NRE_{epoch}_{val_loss:.2f}_{train_loss:.2f}', mode='min')\n",
    "    return [early_stopping_callback, lr_monitor, checkpoint_callback]\n",
    "\n",
    "def lr_round_scheduler(rd: int)-> float:\n",
    "    lr = polyswyftSettings.learning_rate_init * (polyswyftSettings.learning_rate_decay ** (polyswyftSettings.early_stopping_patience*rd))\n",
    "    return lr\n",
    "\n",
    "def deadpoints_processing(deadpoints: anesthetic.NestedSamples)->anesthetic.NestedSamples:\n",
    "    return deadpoints"
   ],
   "metadata": {
    "collapsed": false,
    "ExecuteTime": {
     "end_time": "2025-05-21T09:52:49.776224Z",
     "start_time": "2025-05-21T09:52:49.705530Z"
    }
   },
   "id": "b54f19e4fc2eaee0",
   "execution_count": 8
  },
  {
   "cell_type": "code",
   "outputs": [],
   "source": [
    " #### set up polychord settings\n",
    "polyset = pypolychord.PolyChordSettings(polyswyftSettings.num_features, nDerived=polyswyftSettings.nderived)\n",
    "polyset.file_root = \"samples\"\n",
    "polyset.base_dir = polyswyftSettings.root\n",
    "polyset.seed = polyswyftSettings.seed\n",
    "polyset.nfail = polyswyftSettings.n_training_samples\n",
    "polyset.nlive = 100*polyswyftSettings.num_features"
   ],
   "metadata": {
    "collapsed": false,
    "ExecuteTime": {
     "end_time": "2025-05-21T09:52:49.803434Z",
     "start_time": "2025-05-21T09:52:49.781532Z"
    }
   },
   "id": "5526ce1aed6712cc",
   "execution_count": 9
  },
  {
   "cell_type": "code",
   "outputs": [
    {
     "name": "stderr",
     "output_type": "stream",
     "text": [
      "\u001B[34m\u001B[1mwandb\u001B[0m: Currently logged in as: \u001B[33mkhs40\u001B[0m (\u001B[33mnsnre\u001B[0m). Use \u001B[1m`wandb login --relogin`\u001B[0m to force relogin\n"
     ]
    },
    {
     "data": {
      "text/plain": "<IPython.core.display.HTML object>",
      "text/html": "wandb version 0.19.11 is available!  To upgrade, please run:\n $ pip install wandb --upgrade"
     },
     "metadata": {},
     "output_type": "display_data"
    },
    {
     "data": {
      "text/plain": "<IPython.core.display.HTML object>",
      "text/html": "Tracking run with wandb version 0.15.3"
     },
     "metadata": {},
     "output_type": "display_data"
    },
    {
     "data": {
      "text/plain": "<IPython.core.display.HTML object>",
      "text/html": "Run data is saved locally in <code>PolySwyft_notebook/round_0/wandb/run-20250521_105301-v6c4us3v</code>"
     },
     "metadata": {},
     "output_type": "display_data"
    },
    {
     "data": {
      "text/plain": "<IPython.core.display.HTML object>",
      "text/html": "Syncing run <strong><a href='https://wandb.ai/nsnre/PolySwyft_notebook/runs/v6c4us3v' target=\"_blank\">round_0</a></strong> to <a href='https://wandb.ai/nsnre/PolySwyft_notebook' target=\"_blank\">Weights & Biases</a> (<a href='https://wandb.me/run' target=\"_blank\">docs</a>)<br/>"
     },
     "metadata": {},
     "output_type": "display_data"
    },
    {
     "data": {
      "text/plain": "<IPython.core.display.HTML object>",
      "text/html": " View project at <a href='https://wandb.ai/nsnre/PolySwyft_notebook' target=\"_blank\">https://wandb.ai/nsnre/PolySwyft_notebook</a>"
     },
     "metadata": {},
     "output_type": "display_data"
    },
    {
     "data": {
      "text/plain": "<IPython.core.display.HTML object>",
      "text/html": " View run at <a href='https://wandb.ai/nsnre/PolySwyft_notebook/runs/v6c4us3v' target=\"_blank\">https://wandb.ai/nsnre/PolySwyft_notebook/runs/v6c4us3v</a>"
     },
     "metadata": {},
     "output_type": "display_data"
    },
    {
     "name": "stderr",
     "output_type": "stream",
     "text": [
      "GPU available: False, used: False\n",
      "TPU available: False, using: 0 TPU cores\n",
      "IPU available: False, using: 0 IPUs\n",
      "HPU available: False, using: 0 HPUs\n",
      "\n",
      "  | Name    | Type                   | Params\n",
      "---------------------------------------------------\n",
      "0 | network | LogRatioEstimator_Ndim | 68.4 K\n",
      "---------------------------------------------------\n",
      "68.4 K    Trainable params\n",
      "0         Non-trainable params\n",
      "68.4 K    Total params\n",
      "0.547     Total estimated model params size (MB)\n"
     ]
    },
    {
     "data": {
      "text/plain": "Sanity Checking: 0it [00:00, ?it/s]",
      "application/vnd.jupyter.widget-view+json": {
       "version_major": 2,
       "version_minor": 0,
       "model_id": "e39c59e0acf44a908c459c077bf4a58e"
      }
     },
     "metadata": {},
     "output_type": "display_data"
    },
    {
     "name": "stderr",
     "output_type": "stream",
     "text": [
      "/Users/hikarukilian/LFIenv/lib/python3.10/site-packages/pytorch_lightning/trainer/connectors/data_connector.py:224: PossibleUserWarning: The dataloader, val_dataloader 0, does not have many workers which may be a bottleneck. Consider increasing the value of the `num_workers` argument` (try 12 which is the number of cpus on this machine) in the `DataLoader` init to improve performance.\n",
      "  rank_zero_warn(\n",
      "/Users/hikarukilian/LFIenv/lib/python3.10/site-packages/torch/__init__.py:696: UserWarning: torch.set_default_tensor_type() is deprecated as of PyTorch 2.1, please use torch.set_default_dtype() and torch.set_default_device() as alternatives. (Triggered internally at /Users/runner/work/pytorch/pytorch/pytorch/torch/csrc/tensor/python_tensor.cpp:453.)\n",
      "  _C._set_default_tensor_type(t)\n",
      "/Users/hikarukilian/LFIenv/lib/python3.10/site-packages/pytorch_lightning/trainer/connectors/data_connector.py:224: PossibleUserWarning: The dataloader, train_dataloader, does not have many workers which may be a bottleneck. Consider increasing the value of the `num_workers` argument` (try 12 which is the number of cpus on this machine) in the `DataLoader` init to improve performance.\n",
      "  rank_zero_warn(\n"
     ]
    },
    {
     "data": {
      "text/plain": "Training: 0it [00:00, ?it/s]",
      "application/vnd.jupyter.widget-view+json": {
       "version_major": 2,
       "version_minor": 0,
       "model_id": "0c403ebd105941fc835f1dfdcc28e40d"
      }
     },
     "metadata": {},
     "output_type": "display_data"
    },
    {
     "data": {
      "text/plain": "Validation: 0it [00:00, ?it/s]",
      "application/vnd.jupyter.widget-view+json": {
       "version_major": 2,
       "version_minor": 0,
       "model_id": "5dabed00462c403080d0a286199069ab"
      }
     },
     "metadata": {},
     "output_type": "display_data"
    },
    {
     "data": {
      "text/plain": "Validation: 0it [00:00, ?it/s]",
      "application/vnd.jupyter.widget-view+json": {
       "version_major": 2,
       "version_minor": 0,
       "model_id": "dffda65ba3cd4b269e48869e6cafa178"
      }
     },
     "metadata": {},
     "output_type": "display_data"
    },
    {
     "data": {
      "text/plain": "Validation: 0it [00:00, ?it/s]",
      "application/vnd.jupyter.widget-view+json": {
       "version_major": 2,
       "version_minor": 0,
       "model_id": "682b33a1f4714df9b0ca444032cb1b2f"
      }
     },
     "metadata": {},
     "output_type": "display_data"
    },
    {
     "data": {
      "text/plain": "Validation: 0it [00:00, ?it/s]",
      "application/vnd.jupyter.widget-view+json": {
       "version_major": 2,
       "version_minor": 0,
       "model_id": "c3aecdeaa9884cc492808b7aa86229be"
      }
     },
     "metadata": {},
     "output_type": "display_data"
    },
    {
     "data": {
      "text/plain": "Validation: 0it [00:00, ?it/s]",
      "application/vnd.jupyter.widget-view+json": {
       "version_major": 2,
       "version_minor": 0,
       "model_id": "e9cbb355c45148999ae7663da182b65e"
      }
     },
     "metadata": {},
     "output_type": "display_data"
    },
    {
     "data": {
      "text/plain": "Validation: 0it [00:00, ?it/s]",
      "application/vnd.jupyter.widget-view+json": {
       "version_major": 2,
       "version_minor": 0,
       "model_id": "053ff4d65d7048b3812cd0748f4f5f4e"
      }
     },
     "metadata": {},
     "output_type": "display_data"
    },
    {
     "data": {
      "text/plain": "Validation: 0it [00:00, ?it/s]",
      "application/vnd.jupyter.widget-view+json": {
       "version_major": 2,
       "version_minor": 0,
       "model_id": "05904f1ac478422d8c61f47082031c57"
      }
     },
     "metadata": {},
     "output_type": "display_data"
    },
    {
     "data": {
      "text/plain": "Validation: 0it [00:00, ?it/s]",
      "application/vnd.jupyter.widget-view+json": {
       "version_major": 2,
       "version_minor": 0,
       "model_id": "525ba892bb9e4d9c9a826753503e71f2"
      }
     },
     "metadata": {},
     "output_type": "display_data"
    },
    {
     "data": {
      "text/plain": "Validation: 0it [00:00, ?it/s]",
      "application/vnd.jupyter.widget-view+json": {
       "version_major": 2,
       "version_minor": 0,
       "model_id": "da18b99b1f4e45a7bee8b2622de0ae30"
      }
     },
     "metadata": {},
     "output_type": "display_data"
    },
    {
     "data": {
      "text/plain": "<IPython.core.display.HTML object>",
      "text/html": "Waiting for W&B process to finish... <strong style=\"color:green\">(success).</strong>"
     },
     "metadata": {},
     "output_type": "display_data"
    },
    {
     "data": {
      "text/plain": "VBox(children=(Label(value='0.001 MB of 0.001 MB uploaded (0.000 MB deduped)\\r'), FloatProgress(value=1.0, max…",
      "application/vnd.jupyter.widget-view+json": {
       "version_major": 2,
       "version_minor": 0,
       "model_id": "f15122fdb6bf4cbf99c098185f7d471a"
      }
     },
     "metadata": {},
     "output_type": "display_data"
    },
    {
     "data": {
      "text/plain": "<IPython.core.display.HTML object>",
      "text/html": "<style>\n    table.wandb td:nth-child(1) { padding: 0 10px; text-align: left ; width: auto;} td:nth-child(2) {text-align: left ; width: 100%}\n    .wandb-row { display: flex; flex-direction: row; flex-wrap: wrap; justify-content: flex-start; width: 100% }\n    .wandb-col { display: flex; flex-direction: column; flex-basis: 100%; flex: 1; padding: 10px; }\n    </style>\n<div class=\"wandb-row\"><div class=\"wandb-col\"><h3>Run history:</h3><br/><table class=\"wandb\"><tr><td>epoch</td><td>▁▁▁▁▁▂▂▂▂▃▃▃▃▃▄▄▄▄▅▅▅▅▅▅▅▅▅▆▆▆▆▇▇▇▇█████</td></tr><tr><td>lr-Adam</td><td>█████▇▇▇▇▆▆▆▆▆▅▅▅▅▄▄▄▄▄▄▄▄▄▃▃▃▃▂▂▂▂▁▁▁▁▁</td></tr><tr><td>train_loss</td><td>█▇▅▃▂▂▃▁▁▂▂▁▁▁▁▁▁▁▂▂▁▁▁▁▁▁▁▁▁▁▁▂▂▁▁▂▁▁▁▁</td></tr><tr><td>trainer/global_step</td><td>▁▁▁▂▂▂▂▂▂▃▃▃▃▃▄▄▄▄▄▄▅▅▅▅▅▅▆▆▆▆▆▇▇▇▇▇▇███</td></tr><tr><td>val_loss</td><td>█▃▁▁▁▁▁▁▁</td></tr></table><br/></div><div class=\"wandb-col\"><h3>Run summary:</h3><br/><table class=\"wandb\"><tr><td>epoch</td><td>8</td></tr><tr><td>lr-Adam</td><td>0.00092</td></tr><tr><td>train_loss</td><td>-1.38332</td></tr><tr><td>trainer/global_step</td><td>116</td></tr><tr><td>val_loss</td><td>-1.35814</td></tr></table><br/></div></div>"
     },
     "metadata": {},
     "output_type": "display_data"
    },
    {
     "data": {
      "text/plain": "<IPython.core.display.HTML object>",
      "text/html": " View run <strong style=\"color:#cdcd00\">round_0</strong> at: <a href='https://wandb.ai/nsnre/PolySwyft_notebook/runs/v6c4us3v' target=\"_blank\">https://wandb.ai/nsnre/PolySwyft_notebook/runs/v6c4us3v</a><br/>Synced 5 W&B file(s), 0 media file(s), 0 artifact file(s) and 0 other file(s)"
     },
     "metadata": {},
     "output_type": "display_data"
    },
    {
     "data": {
      "text/plain": "<IPython.core.display.HTML object>",
      "text/html": "Find logs at: <code>PolySwyft_notebook/round_0/wandb/run-20250521_105301-v6c4us3v/logs</code>"
     },
     "metadata": {},
     "output_type": "display_data"
    },
    {
     "name": "stdout",
     "output_type": "stream",
     "text": [
      "PolyChord: MPI is already initilised, not initialising, and will not finalize\n",
      "Last dead point: [-6.21425667 12.65660193  2.51636592  9.98682951 10.01141282]\n",
      "\n",
      "PolyChord: Next Generation Nested Sampling\n",
      "copyright: Will Handley, Mike Hobson & Anthony Lasenby\n",
      "  version: 1.22.1\n",
      "  release: 10th Jan 2024\n",
      "    email: wh260@mrao.cam.ac.uk\n",
      "\n",
      "Run Settings\n",
      "nlive    :     300\n",
      "nDims    :       3\n",
      "nDerived :       0\n",
      "Doing Clustering\n",
      "Synchronous parallelisation\n",
      "Generating equally weighted posteriors\n",
      "Generating weighted posteriors\n",
      "Clustering on posteriors\n",
      "Writing a resume file to PolySwyft_notebook/round_0/samples.resume\n",
      "\n",
      "Resuming from previous run\n",
      "number of repeats:           15\n",
      "started sampling\n",
      "\n",
      " ____________________________________________________ \n",
      "|                                                    |\n",
      "| ndead  =         4310                              |\n",
      "| log(Z) =            3.55608 +/-            0.12970 |\n",
      "|____________________________________________________|\n",
      "Round 0: KL(P_i||Pi) = 4.921561124766918 +/- 0.11870994556581622\n",
      "Round 0: KL(P_true||P_(i)) = 5.326898405358199 +/- 0.1375013304121969\n",
      "Round 0: KL(P_true||Pi) = 7.735077484805545\n"
     ]
    },
    {
     "data": {
      "text/plain": "<IPython.core.display.HTML object>",
      "text/html": "wandb version 0.19.11 is available!  To upgrade, please run:\n $ pip install wandb --upgrade"
     },
     "metadata": {},
     "output_type": "display_data"
    },
    {
     "data": {
      "text/plain": "<IPython.core.display.HTML object>",
      "text/html": "Tracking run with wandb version 0.15.3"
     },
     "metadata": {},
     "output_type": "display_data"
    },
    {
     "data": {
      "text/plain": "<IPython.core.display.HTML object>",
      "text/html": "Run data is saved locally in <code>PolySwyft_notebook/round_1/wandb/run-20250521_105350-xszvne6h</code>"
     },
     "metadata": {},
     "output_type": "display_data"
    },
    {
     "data": {
      "text/plain": "<IPython.core.display.HTML object>",
      "text/html": "Syncing run <strong><a href='https://wandb.ai/nsnre/PolySwyft_notebook/runs/xszvne6h' target=\"_blank\">round_1</a></strong> to <a href='https://wandb.ai/nsnre/PolySwyft_notebook' target=\"_blank\">Weights & Biases</a> (<a href='https://wandb.me/run' target=\"_blank\">docs</a>)<br/>"
     },
     "metadata": {},
     "output_type": "display_data"
    },
    {
     "data": {
      "text/plain": "<IPython.core.display.HTML object>",
      "text/html": " View project at <a href='https://wandb.ai/nsnre/PolySwyft_notebook' target=\"_blank\">https://wandb.ai/nsnre/PolySwyft_notebook</a>"
     },
     "metadata": {},
     "output_type": "display_data"
    },
    {
     "data": {
      "text/plain": "<IPython.core.display.HTML object>",
      "text/html": " View run at <a href='https://wandb.ai/nsnre/PolySwyft_notebook/runs/xszvne6h' target=\"_blank\">https://wandb.ai/nsnre/PolySwyft_notebook/runs/xszvne6h</a>"
     },
     "metadata": {},
     "output_type": "display_data"
    },
    {
     "name": "stderr",
     "output_type": "stream",
     "text": [
      "GPU available: False, used: False\n",
      "TPU available: False, using: 0 TPU cores\n",
      "IPU available: False, using: 0 IPUs\n",
      "HPU available: False, using: 0 HPUs\n",
      "\n",
      "  | Name    | Type                   | Params\n",
      "---------------------------------------------------\n",
      "0 | network | LogRatioEstimator_Ndim | 68.4 K\n",
      "---------------------------------------------------\n",
      "68.4 K    Trainable params\n",
      "0         Non-trainable params\n",
      "68.4 K    Total params\n",
      "0.547     Total estimated model params size (MB)\n"
     ]
    },
    {
     "data": {
      "text/plain": "Sanity Checking: 0it [00:00, ?it/s]",
      "application/vnd.jupyter.widget-view+json": {
       "version_major": 2,
       "version_minor": 0,
       "model_id": "07cf1218ec1440828996e2e8890607f1"
      }
     },
     "metadata": {},
     "output_type": "display_data"
    },
    {
     "name": "stderr",
     "output_type": "stream",
     "text": [
      "/Users/hikarukilian/LFIenv/lib/python3.10/site-packages/pytorch_lightning/trainer/connectors/data_connector.py:224: PossibleUserWarning: The dataloader, val_dataloader 0, does not have many workers which may be a bottleneck. Consider increasing the value of the `num_workers` argument` (try 12 which is the number of cpus on this machine) in the `DataLoader` init to improve performance.\n",
      "  rank_zero_warn(\n",
      "/Users/hikarukilian/LFIenv/lib/python3.10/site-packages/pytorch_lightning/trainer/connectors/data_connector.py:224: PossibleUserWarning: The dataloader, train_dataloader, does not have many workers which may be a bottleneck. Consider increasing the value of the `num_workers` argument` (try 12 which is the number of cpus on this machine) in the `DataLoader` init to improve performance.\n",
      "  rank_zero_warn(\n"
     ]
    },
    {
     "data": {
      "text/plain": "Training: 0it [00:00, ?it/s]",
      "application/vnd.jupyter.widget-view+json": {
       "version_major": 2,
       "version_minor": 0,
       "model_id": "fc7abb3a2e574f78a1bc446fe5472104"
      }
     },
     "metadata": {},
     "output_type": "display_data"
    },
    {
     "data": {
      "text/plain": "Validation: 0it [00:00, ?it/s]",
      "application/vnd.jupyter.widget-view+json": {
       "version_major": 2,
       "version_minor": 0,
       "model_id": "b5021644939742b7922706823304b2b3"
      }
     },
     "metadata": {},
     "output_type": "display_data"
    },
    {
     "data": {
      "text/plain": "Validation: 0it [00:00, ?it/s]",
      "application/vnd.jupyter.widget-view+json": {
       "version_major": 2,
       "version_minor": 0,
       "model_id": "ac845b6f7def4389bc1874d5dd09a966"
      }
     },
     "metadata": {},
     "output_type": "display_data"
    },
    {
     "data": {
      "text/plain": "Validation: 0it [00:00, ?it/s]",
      "application/vnd.jupyter.widget-view+json": {
       "version_major": 2,
       "version_minor": 0,
       "model_id": "7fe5588813d141a8b17c6c47d26fdca8"
      }
     },
     "metadata": {},
     "output_type": "display_data"
    },
    {
     "data": {
      "text/plain": "Validation: 0it [00:00, ?it/s]",
      "application/vnd.jupyter.widget-view+json": {
       "version_major": 2,
       "version_minor": 0,
       "model_id": "f5f934a62b334e44a691efba09ce58a2"
      }
     },
     "metadata": {},
     "output_type": "display_data"
    },
    {
     "data": {
      "text/plain": "Validation: 0it [00:00, ?it/s]",
      "application/vnd.jupyter.widget-view+json": {
       "version_major": 2,
       "version_minor": 0,
       "model_id": "88ac2ea058a84218a35eca9fa63dcbf1"
      }
     },
     "metadata": {},
     "output_type": "display_data"
    },
    {
     "data": {
      "text/plain": "Validation: 0it [00:00, ?it/s]",
      "application/vnd.jupyter.widget-view+json": {
       "version_major": 2,
       "version_minor": 0,
       "model_id": "06204baa8dbf4f80996c86486c5a77b2"
      }
     },
     "metadata": {},
     "output_type": "display_data"
    },
    {
     "data": {
      "text/plain": "Validation: 0it [00:00, ?it/s]",
      "application/vnd.jupyter.widget-view+json": {
       "version_major": 2,
       "version_minor": 0,
       "model_id": "79e9bb9d12be4965bf6674deaf03b277"
      }
     },
     "metadata": {},
     "output_type": "display_data"
    },
    {
     "data": {
      "text/plain": "Validation: 0it [00:00, ?it/s]",
      "application/vnd.jupyter.widget-view+json": {
       "version_major": 2,
       "version_minor": 0,
       "model_id": "8606754e462c4409b9027bd1d90b7d18"
      }
     },
     "metadata": {},
     "output_type": "display_data"
    },
    {
     "data": {
      "text/plain": "Validation: 0it [00:00, ?it/s]",
      "application/vnd.jupyter.widget-view+json": {
       "version_major": 2,
       "version_minor": 0,
       "model_id": "d75bf6351314453c94fe3a5eec429a6c"
      }
     },
     "metadata": {},
     "output_type": "display_data"
    },
    {
     "data": {
      "text/plain": "Validation: 0it [00:00, ?it/s]",
      "application/vnd.jupyter.widget-view+json": {
       "version_major": 2,
       "version_minor": 0,
       "model_id": "8d22756712794d39ad2ad205f780c890"
      }
     },
     "metadata": {},
     "output_type": "display_data"
    },
    {
     "data": {
      "text/plain": "Validation: 0it [00:00, ?it/s]",
      "application/vnd.jupyter.widget-view+json": {
       "version_major": 2,
       "version_minor": 0,
       "model_id": "8a9732a23df7476cadf39a26134b3d69"
      }
     },
     "metadata": {},
     "output_type": "display_data"
    },
    {
     "data": {
      "text/plain": "Validation: 0it [00:00, ?it/s]",
      "application/vnd.jupyter.widget-view+json": {
       "version_major": 2,
       "version_minor": 0,
       "model_id": "ec54c945232443799670bdc46c28f7d3"
      }
     },
     "metadata": {},
     "output_type": "display_data"
    },
    {
     "data": {
      "text/plain": "Validation: 0it [00:00, ?it/s]",
      "application/vnd.jupyter.widget-view+json": {
       "version_major": 2,
       "version_minor": 0,
       "model_id": "60d33d2e6ca34dccaf686f05b61a3869"
      }
     },
     "metadata": {},
     "output_type": "display_data"
    },
    {
     "data": {
      "text/plain": "Validation: 0it [00:00, ?it/s]",
      "application/vnd.jupyter.widget-view+json": {
       "version_major": 2,
       "version_minor": 0,
       "model_id": "5fdd482e81c044228c785dc4974da662"
      }
     },
     "metadata": {},
     "output_type": "display_data"
    },
    {
     "data": {
      "text/plain": "Validation: 0it [00:00, ?it/s]",
      "application/vnd.jupyter.widget-view+json": {
       "version_major": 2,
       "version_minor": 0,
       "model_id": "c6adf91a98dc43dc952bdcd2d3f90705"
      }
     },
     "metadata": {},
     "output_type": "display_data"
    },
    {
     "data": {
      "text/plain": "Validation: 0it [00:00, ?it/s]",
      "application/vnd.jupyter.widget-view+json": {
       "version_major": 2,
       "version_minor": 0,
       "model_id": "aa9c57f484114291b58e78b98155631f"
      }
     },
     "metadata": {},
     "output_type": "display_data"
    },
    {
     "data": {
      "text/plain": "Validation: 0it [00:00, ?it/s]",
      "application/vnd.jupyter.widget-view+json": {
       "version_major": 2,
       "version_minor": 0,
       "model_id": "86dd32ed706d4e15b2857a4cab603275"
      }
     },
     "metadata": {},
     "output_type": "display_data"
    },
    {
     "data": {
      "text/plain": "Validation: 0it [00:00, ?it/s]",
      "application/vnd.jupyter.widget-view+json": {
       "version_major": 2,
       "version_minor": 0,
       "model_id": "93024af8f87343c5adea4bc1bbd3dc74"
      }
     },
     "metadata": {},
     "output_type": "display_data"
    },
    {
     "data": {
      "text/plain": "Validation: 0it [00:00, ?it/s]",
      "application/vnd.jupyter.widget-view+json": {
       "version_major": 2,
       "version_minor": 0,
       "model_id": "5158d1993dc741b4b02887ea496fea6b"
      }
     },
     "metadata": {},
     "output_type": "display_data"
    },
    {
     "data": {
      "text/plain": "Validation: 0it [00:00, ?it/s]",
      "application/vnd.jupyter.widget-view+json": {
       "version_major": 2,
       "version_minor": 0,
       "model_id": "5e7cd483701f4f15846a139d394975fe"
      }
     },
     "metadata": {},
     "output_type": "display_data"
    },
    {
     "data": {
      "text/plain": "Validation: 0it [00:00, ?it/s]",
      "application/vnd.jupyter.widget-view+json": {
       "version_major": 2,
       "version_minor": 0,
       "model_id": "0695aaf24a574a1e950a088da84cb730"
      }
     },
     "metadata": {},
     "output_type": "display_data"
    },
    {
     "data": {
      "text/plain": "Validation: 0it [00:00, ?it/s]",
      "application/vnd.jupyter.widget-view+json": {
       "version_major": 2,
       "version_minor": 0,
       "model_id": "6ed891598cc64e4aa7589146b34fdfa0"
      }
     },
     "metadata": {},
     "output_type": "display_data"
    },
    {
     "data": {
      "text/plain": "<IPython.core.display.HTML object>",
      "text/html": "Waiting for W&B process to finish... <strong style=\"color:green\">(success).</strong>"
     },
     "metadata": {},
     "output_type": "display_data"
    },
    {
     "data": {
      "text/plain": "VBox(children=(Label(value='0.001 MB of 0.001 MB uploaded (0.000 MB deduped)\\r'), FloatProgress(value=1.0, max…",
      "application/vnd.jupyter.widget-view+json": {
       "version_major": 2,
       "version_minor": 0,
       "model_id": "f1d7f5cad92a404cba0caa6de972f249"
      }
     },
     "metadata": {},
     "output_type": "display_data"
    },
    {
     "data": {
      "text/plain": "<IPython.core.display.HTML object>",
      "text/html": "<style>\n    table.wandb td:nth-child(1) { padding: 0 10px; text-align: left ; width: auto;} td:nth-child(2) {text-align: left ; width: 100%}\n    .wandb-row { display: flex; flex-direction: row; flex-wrap: wrap; justify-content: flex-start; width: 100% }\n    .wandb-col { display: flex; flex-direction: column; flex-basis: 100%; flex: 1; padding: 10px; }\n    </style>\n<div class=\"wandb-row\"><div class=\"wandb-col\"><h3>Run history:</h3><br/><table class=\"wandb\"><tr><td>epoch</td><td>▁▁▁▁▂▂▂▂▂▃▃▃▃▃▃▄▄▄▄▄▅▅▅▅▅▅▆▆▆▆▆▇▇▇▇▇▇███</td></tr><tr><td>lr-Adam</td><td>████▇▇▇▇▇▆▆▆▆▆▆▅▅▅▄▄▄▄▄▄▃▃▃▃▃▃▃▂▂▂▂▂▁▁▁▁</td></tr><tr><td>train_loss</td><td>▄▄▆▂▅▄▄▄▅▆▅▃▆▁▂▇▅▄▃▆▃▄▃▂▄▂▁▃▅▂▃█▂▃▅▃▅▃▄▆</td></tr><tr><td>trainer/global_step</td><td>▁▁▁▂▂▂▂▂▂▃▃▃▃▃▃▄▄▄▄▄▅▅▅▅▅▅▆▆▆▆▆▇▇▇▇▇▇███</td></tr><tr><td>val_loss</td><td>▅█▅▄▆▇▃▃▅▂▂▂▁▂▁▁▁▁▁▁▁▁</td></tr></table><br/></div><div class=\"wandb-col\"><h3>Run summary:</h3><br/><table class=\"wandb\"><tr><td>epoch</td><td>21</td></tr><tr><td>lr-Adam</td><td>0.00079</td></tr><tr><td>train_loss</td><td>-0.86457</td></tr><tr><td>trainer/global_step</td><td>1473</td></tr><tr><td>val_loss</td><td>-1.00292</td></tr></table><br/></div></div>"
     },
     "metadata": {},
     "output_type": "display_data"
    },
    {
     "data": {
      "text/plain": "<IPython.core.display.HTML object>",
      "text/html": " View run <strong style=\"color:#cdcd00\">round_1</strong> at: <a href='https://wandb.ai/nsnre/PolySwyft_notebook/runs/xszvne6h' target=\"_blank\">https://wandb.ai/nsnre/PolySwyft_notebook/runs/xszvne6h</a><br/>Synced 5 W&B file(s), 0 media file(s), 0 artifact file(s) and 0 other file(s)"
     },
     "metadata": {},
     "output_type": "display_data"
    },
    {
     "data": {
      "text/plain": "<IPython.core.display.HTML object>",
      "text/html": "Find logs at: <code>PolySwyft_notebook/round_1/wandb/run-20250521_105350-xszvne6h/logs</code>"
     },
     "metadata": {},
     "output_type": "display_data"
    },
    {
     "name": "stdout",
     "output_type": "stream",
     "text": [
      "Last dead point: [-4.4613237  13.58198925  2.16876315  2.64935005  2.66838082]PolyChord: MPI is already initilised, not initialising, and will not finalize\n",
      "\n",
      "PolyChord: Next Generation Nested Sampling\n",
      "copyright: Will Handley, Mike Hobson & Anthony Lasenby\n",
      "  version: 1.22.1\n",
      "  release: 10th Jan 2024\n",
      "    email: wh260@mrao.cam.ac.uk\n",
      "\n",
      "Run Settings\n",
      "nlive    :     300\n",
      "nDims    :       3\n",
      "nDerived :       0\n",
      "Doing Clustering\n",
      "Synchronous parallelisation\n",
      "Generating equally weighted posteriors\n",
      "Generating weighted posteriors\n",
      "Clustering on posteriors\n",
      "Writing a resume file to PolySwyft_notebook/round_1/samples.resume\n",
      "\n",
      "Resuming from previous run\n",
      "number of repeats:           15\n",
      "started sampling\n",
      "\n",
      "\n",
      " ____________________________________________________ \n",
      "|                                                    |\n",
      "| ndead  =         4724                              |\n",
      "| log(Z) =           -5.16306 +/-            0.14685 |\n",
      "|____________________________________________________|\n",
      "Round 1: KL(P_i||P_(i-1)) = 4.288739210713212 +/- 0.20328782405455195\n",
      "Round 1: KL(P_i||Pi) = 6.365829684668814 +/- 0.13215562417036306\n",
      "Round 1: KL(P_true||P_(i)) = 1.0406948675960583 +/- 0.15818797950817798\n",
      "Round 1: KL(P_true||Pi) = 7.735077484805545\n"
     ]
    },
    {
     "data": {
      "text/plain": "<IPython.core.display.HTML object>",
      "text/html": "wandb version 0.19.11 is available!  To upgrade, please run:\n $ pip install wandb --upgrade"
     },
     "metadata": {},
     "output_type": "display_data"
    },
    {
     "data": {
      "text/plain": "<IPython.core.display.HTML object>",
      "text/html": "Tracking run with wandb version 0.15.3"
     },
     "metadata": {},
     "output_type": "display_data"
    },
    {
     "data": {
      "text/plain": "<IPython.core.display.HTML object>",
      "text/html": "Run data is saved locally in <code>PolySwyft_notebook/round_2/wandb/run-20250521_105621-qf9vz43u</code>"
     },
     "metadata": {},
     "output_type": "display_data"
    },
    {
     "data": {
      "text/plain": "<IPython.core.display.HTML object>",
      "text/html": "Syncing run <strong><a href='https://wandb.ai/nsnre/PolySwyft_notebook/runs/qf9vz43u' target=\"_blank\">round_2</a></strong> to <a href='https://wandb.ai/nsnre/PolySwyft_notebook' target=\"_blank\">Weights & Biases</a> (<a href='https://wandb.me/run' target=\"_blank\">docs</a>)<br/>"
     },
     "metadata": {},
     "output_type": "display_data"
    },
    {
     "data": {
      "text/plain": "<IPython.core.display.HTML object>",
      "text/html": " View project at <a href='https://wandb.ai/nsnre/PolySwyft_notebook' target=\"_blank\">https://wandb.ai/nsnre/PolySwyft_notebook</a>"
     },
     "metadata": {},
     "output_type": "display_data"
    },
    {
     "data": {
      "text/plain": "<IPython.core.display.HTML object>",
      "text/html": " View run at <a href='https://wandb.ai/nsnre/PolySwyft_notebook/runs/qf9vz43u' target=\"_blank\">https://wandb.ai/nsnre/PolySwyft_notebook/runs/qf9vz43u</a>"
     },
     "metadata": {},
     "output_type": "display_data"
    },
    {
     "name": "stderr",
     "output_type": "stream",
     "text": [
      "GPU available: False, used: False\n",
      "TPU available: False, using: 0 TPU cores\n",
      "IPU available: False, using: 0 IPUs\n",
      "HPU available: False, using: 0 HPUs\n",
      "\n",
      "  | Name    | Type                   | Params\n",
      "---------------------------------------------------\n",
      "0 | network | LogRatioEstimator_Ndim | 68.4 K\n",
      "---------------------------------------------------\n",
      "68.4 K    Trainable params\n",
      "0         Non-trainable params\n",
      "68.4 K    Total params\n",
      "0.547     Total estimated model params size (MB)\n"
     ]
    },
    {
     "data": {
      "text/plain": "Sanity Checking: 0it [00:00, ?it/s]",
      "application/vnd.jupyter.widget-view+json": {
       "version_major": 2,
       "version_minor": 0,
       "model_id": "062a408ec4e74d61a7cc01725dbf6e20"
      }
     },
     "metadata": {},
     "output_type": "display_data"
    },
    {
     "name": "stderr",
     "output_type": "stream",
     "text": [
      "/Users/hikarukilian/LFIenv/lib/python3.10/site-packages/pytorch_lightning/trainer/connectors/data_connector.py:224: PossibleUserWarning: The dataloader, val_dataloader 0, does not have many workers which may be a bottleneck. Consider increasing the value of the `num_workers` argument` (try 12 which is the number of cpus on this machine) in the `DataLoader` init to improve performance.\n",
      "  rank_zero_warn(\n",
      "/Users/hikarukilian/LFIenv/lib/python3.10/site-packages/pytorch_lightning/trainer/connectors/data_connector.py:224: PossibleUserWarning: The dataloader, train_dataloader, does not have many workers which may be a bottleneck. Consider increasing the value of the `num_workers` argument` (try 12 which is the number of cpus on this machine) in the `DataLoader` init to improve performance.\n",
      "  rank_zero_warn(\n"
     ]
    },
    {
     "data": {
      "text/plain": "Training: 0it [00:00, ?it/s]",
      "application/vnd.jupyter.widget-view+json": {
       "version_major": 2,
       "version_minor": 0,
       "model_id": "a6113a344be447a59e5a11d37f7aa312"
      }
     },
     "metadata": {},
     "output_type": "display_data"
    },
    {
     "data": {
      "text/plain": "Validation: 0it [00:00, ?it/s]",
      "application/vnd.jupyter.widget-view+json": {
       "version_major": 2,
       "version_minor": 0,
       "model_id": "7f92ec5df24d4fdbb23c07aac7ae88ab"
      }
     },
     "metadata": {},
     "output_type": "display_data"
    },
    {
     "data": {
      "text/plain": "Validation: 0it [00:00, ?it/s]",
      "application/vnd.jupyter.widget-view+json": {
       "version_major": 2,
       "version_minor": 0,
       "model_id": "c8af996e92d2480cb7204496cf62c031"
      }
     },
     "metadata": {},
     "output_type": "display_data"
    },
    {
     "data": {
      "text/plain": "Validation: 0it [00:00, ?it/s]",
      "application/vnd.jupyter.widget-view+json": {
       "version_major": 2,
       "version_minor": 0,
       "model_id": "419170dc4d664c60868ebd4b2d28e126"
      }
     },
     "metadata": {},
     "output_type": "display_data"
    },
    {
     "data": {
      "text/plain": "Validation: 0it [00:00, ?it/s]",
      "application/vnd.jupyter.widget-view+json": {
       "version_major": 2,
       "version_minor": 0,
       "model_id": "bca7a3bfad0b482d82d4591f4fac86f7"
      }
     },
     "metadata": {},
     "output_type": "display_data"
    },
    {
     "data": {
      "text/plain": "Validation: 0it [00:00, ?it/s]",
      "application/vnd.jupyter.widget-view+json": {
       "version_major": 2,
       "version_minor": 0,
       "model_id": "b69f678db8f94bdd86bf4f7f6cd483bf"
      }
     },
     "metadata": {},
     "output_type": "display_data"
    },
    {
     "data": {
      "text/plain": "Validation: 0it [00:00, ?it/s]",
      "application/vnd.jupyter.widget-view+json": {
       "version_major": 2,
       "version_minor": 0,
       "model_id": "58f911d10c6b443cb744a1bdfd043fd8"
      }
     },
     "metadata": {},
     "output_type": "display_data"
    },
    {
     "data": {
      "text/plain": "Validation: 0it [00:00, ?it/s]",
      "application/vnd.jupyter.widget-view+json": {
       "version_major": 2,
       "version_minor": 0,
       "model_id": "d3443f9ac616418cb98e3aa54079238c"
      }
     },
     "metadata": {},
     "output_type": "display_data"
    },
    {
     "data": {
      "text/plain": "Validation: 0it [00:00, ?it/s]",
      "application/vnd.jupyter.widget-view+json": {
       "version_major": 2,
       "version_minor": 0,
       "model_id": "a2a12428b0dc4e098e4176783f76075c"
      }
     },
     "metadata": {},
     "output_type": "display_data"
    },
    {
     "data": {
      "text/plain": "<IPython.core.display.HTML object>",
      "text/html": "Waiting for W&B process to finish... <strong style=\"color:green\">(success).</strong>"
     },
     "metadata": {},
     "output_type": "display_data"
    },
    {
     "data": {
      "text/plain": "VBox(children=(Label(value='0.001 MB of 0.001 MB uploaded (0.000 MB deduped)\\r'), FloatProgress(value=1.0, max…",
      "application/vnd.jupyter.widget-view+json": {
       "version_major": 2,
       "version_minor": 0,
       "model_id": "0178573fe4f542e695038c6a19eb270b"
      }
     },
     "metadata": {},
     "output_type": "display_data"
    },
    {
     "data": {
      "text/plain": "<IPython.core.display.HTML object>",
      "text/html": "<style>\n    table.wandb td:nth-child(1) { padding: 0 10px; text-align: left ; width: auto;} td:nth-child(2) {text-align: left ; width: 100%}\n    .wandb-row { display: flex; flex-direction: row; flex-wrap: wrap; justify-content: flex-start; width: 100% }\n    .wandb-col { display: flex; flex-direction: column; flex-basis: 100%; flex: 1; padding: 10px; }\n    </style>\n<div class=\"wandb-row\"><div class=\"wandb-col\"><h3>Run history:</h3><br/><table class=\"wandb\"><tr><td>epoch</td><td>▁▁▁▁▁▂▂▂▂▂▃▃▃▃▃▄▄▄▄▄▅▅▅▅▅▆▆▆▆▆▇▇▇▇▇█████</td></tr><tr><td>lr-Adam</td><td>█████▇▇▇▇▇▆▆▆▆▆▅▅▅▅▅▄▄▄▄▄▃▃▃▃▃▂▂▂▂▂▁▁▁▁▁</td></tr><tr><td>train_loss</td><td>█▃▄▅▅▃▂▃▂▃▃▄▂▂▂▄▃▅▄▄▃▄▃▃▂▃▅▂▄▂▃▃▃▃▂▄▄▂▃▁</td></tr><tr><td>trainer/global_step</td><td>▁▁▁▂▂▂▂▂▂▃▃▃▃▃▃▄▄▄▄▄▅▅▅▅▅▅▆▆▆▆▆▇▇▇▇▇▇███</td></tr><tr><td>val_loss</td><td>█▆▂▂▁▂▂▁</td></tr></table><br/></div><div class=\"wandb-col\"><h3>Run summary:</h3><br/><table class=\"wandb\"><tr><td>epoch</td><td>7</td></tr><tr><td>lr-Adam</td><td>0.00088</td></tr><tr><td>train_loss</td><td>-1.18268</td></tr><tr><td>trainer/global_step</td><td>1007</td></tr><tr><td>val_loss</td><td>-0.99014</td></tr></table><br/></div></div>"
     },
     "metadata": {},
     "output_type": "display_data"
    },
    {
     "data": {
      "text/plain": "<IPython.core.display.HTML object>",
      "text/html": " View run <strong style=\"color:#cdcd00\">round_2</strong> at: <a href='https://wandb.ai/nsnre/PolySwyft_notebook/runs/qf9vz43u' target=\"_blank\">https://wandb.ai/nsnre/PolySwyft_notebook/runs/qf9vz43u</a><br/>Synced 5 W&B file(s), 0 media file(s), 0 artifact file(s) and 0 other file(s)"
     },
     "metadata": {},
     "output_type": "display_data"
    },
    {
     "data": {
      "text/plain": "<IPython.core.display.HTML object>",
      "text/html": "Find logs at: <code>PolySwyft_notebook/round_2/wandb/run-20250521_105621-qf9vz43u/logs</code>"
     },
     "metadata": {},
     "output_type": "display_data"
    },
    {
     "name": "stdout",
     "output_type": "stream",
     "text": [
      "PolyChord: MPI is already initilised, not initialising, and will not finalize\n",
      "Last dead point: [-4.37501586 13.27767267  1.82578986  1.95181592  1.95962301]\n",
      "\n",
      "PolyChord: Next Generation Nested Sampling\n",
      "copyright: Will Handley, Mike Hobson & Anthony Lasenby\n",
      "  version: 1.22.1\n",
      "  release: 10th Jan 2024\n",
      "    email: wh260@mrao.cam.ac.uk\n",
      "\n",
      "Run Settings\n",
      "nlive    :     300\n",
      "nDims    :       3\n",
      "nDerived :       0\n",
      "Doing Clustering\n",
      "Synchronous parallelisation\n",
      "Generating equally weighted posteriors\n",
      "Generating weighted posteriors\n",
      "Clustering on posteriors\n",
      "Writing a resume file to PolySwyft_notebook/round_2/samples.resume\n",
      "\n",
      "Resuming from previous run\n",
      "number of repeats:           15\n",
      "started sampling\n",
      "\n",
      " ____________________________________________________ \n",
      "|                                                    |\n",
      "| ndead  =         5067                              |\n",
      "| log(Z) =           -7.01060 +/-            0.15953 |\n",
      "|____________________________________________________|\n",
      "Round 2: KL(P_i||P_(i-1)) = 1.6369549530535465 +/- 0.2109266615679889\n",
      "Round 2: KL(P_i||Pi) = 7.544648650310884 +/- 0.16163176718792371\n",
      "Round 2: KL(P_true||P_(i)) = -0.6152460061200768 +/- 0.1590306122955073\n",
      "Round 2: KL(P_true||Pi) = 7.735077484805545\n"
     ]
    }
   ],
   "source": [
    "if not polyswyftSettings.only_plot_mode:\n",
    "    #initialise temporary storage for KL diagnostics\n",
    "    deadpoints_samples = deadpoints\n",
    "    network_storage = {}\n",
    "    samples_storage = {}\n",
    "    root_storage = {}\n",
    "    dkl_storage = {}\n",
    "    dkl_storage_true = {}\n",
    "    dkl_compression_storage = {}\n",
    "    current_key = \"current\"\n",
    "    previous_key = \"previous\"\n",
    "    for rd in range(polyswyftSettings.NRE_start_from_round, polyswyftSettings.NRE_num_retrain_rounds+1):\n",
    "        logger.info(\"training network round: \" + str(rd))\n",
    "        if polyswyftSettings.NRE_start_from_round > 0: # load previous samples and network\n",
    "            root = f\"{polyswyftSettings.root}/{polyswyftSettings.child_root}_{rd-1}\"\n",
    "            deadpoints = anesthetic.read_chains(root=f\"{root}/{polyset.file_root}\")\n",
    "            deadpoints_samples = deadpoints.iloc[:, :polyswyftSettings.num_features].to_numpy()\n",
    "            network.load_state_dict(torch.load(f\"{root}/{polyswyftSettings.neural_network_file}\"))\n",
    "\n",
    "        ### update root\n",
    "        root = f\"{polyswyftSettings.root}/{polyswyftSettings.child_root}_{rd}\"\n",
    "        ### create root folder ###\n",
    "        try:\n",
    "            os.makedirs(root)\n",
    "        except OSError:\n",
    "            logger.info(\"root folder already exists!\")\n",
    "\n",
    "\n",
    "        ####conditional resimulate deadpoints with swyft\n",
    "        resimulate_deadpoints(deadpoints=deadpoints_samples, polyswyftSettings=polyswyftSettings, sim=sim, rd=rd)\n",
    "        dm = PolySwyftDataModule(polyswyftSettings=polyswyftSettings,rd=rd,\n",
    "                                 **polyswyftSettings.dm_kwargs)\n",
    "\n",
    "        ###prepare network\n",
    "        network = Network(polyswyftSettings=polyswyftSettings, obs=obs)\n",
    "        learning_rate = lr_round_scheduler(rd) #adjust learning rate between round (optional)\n",
    "        network.optimizer_init.optim_args = dict(lr=learning_rate)\n",
    "        ####set network to train mode\n",
    "        network.train()\n",
    "\n",
    "        #prepare wandb logger\n",
    "        polyswyftSettings.wandb_kwargs[\"name\"] = f\"{polyswyftSettings.child_root}_{rd}\"\n",
    "        polyswyftSettings.wandb_kwargs[\"save_dir\"] = f\"{polyswyftSettings.root}/{polyswyftSettings.child_root}_{rd}\"\n",
    "        wandb_logger = WandbLogger(**polyswyftSettings.wandb_kwargs)\n",
    "\n",
    "        ###prepare trainer\n",
    "        polyswyftSettings.trainer_kwargs[\"callbacks\"] = create_callbacks()\n",
    "        #### train network\n",
    "        trainer = swyft.SwyftTrainer(**polyswyftSettings.trainer_kwargs, logger=wandb_logger)\n",
    "        trainer.fit(network, dm)\n",
    "        wandb.finish()\n",
    "\n",
    "        ### save network and optimizer\n",
    "        if rank_gen == 0:\n",
    "            torch.save(network.state_dict(), f\"{root}/{polyswyftSettings.neural_network_file}\")\n",
    "            torch.save(network.optimizers().state_dict(), f\"{root}/{polyswyftSettings.optimizer_file}\")\n",
    "            \n",
    "        comm_gen.Barrier()\n",
    "        #### prepare network for polychord\n",
    "        network.load_state_dict(torch.load(f\"{root}/{polyswyftSettings.neural_network_file}\"))\n",
    "        network.double()\n",
    "        network.eval()\n",
    "\n",
    "        # run polychord\n",
    "        polyset.base_dir = root\n",
    "        comm_gen.barrier()\n",
    "        pypolychord.run_polychord(loglikelihood=network.logLikelihood,\n",
    "                                  nDims=polyswyftSettings.num_features,\n",
    "                                  nDerived=polyswyftSettings.nderived, settings=polyset,\n",
    "                                  prior=network.prior, dumper=network.dumper)\n",
    "\n",
    "        comm_gen.Barrier()\n",
    "        deadpoints = anesthetic.read_chains(root=f\"{root}/{polyset.file_root}\")\n",
    "\n",
    "        #run dynamic nested sampling round 2 here if you want\n",
    "        ##### Polychord run 2 #####\n",
    "        if polyswyftSettings.use_livepoint_increasing:\n",
    "            ### choose contour to increase livepoints ###\n",
    "            index = select_weighted_contour(deadpoints,\n",
    "                                            threshold=1 - polyswyftSettings.livepoint_increase_posterior_contour)\n",
    "            logL = deadpoints.iloc[index, :].logL\n",
    "\n",
    "            try:\n",
    "                os.makedirs(f\"{root}/{polyswyftSettings.increased_livepoints_fileroot}\")\n",
    "            except OSError:\n",
    "                logger.info(\"root folder already exists!\")\n",
    "\n",
    "            ### run polychord round 2 ###\n",
    "            polyset.base_dir = f\"{root}/{polyswyftSettings.increased_livepoints_fileroot}\"\n",
    "            polyset.nlives = {logL: polyswyftSettings.n_increased_livepoints}\n",
    "            comm_gen.Barrier()\n",
    "            pypolychord.run_polychord(loglikelihood=network.logLikelihood,\n",
    "                                      nDims=polyswyftSettings.num_features,\n",
    "                                      nDerived=polyswyftSettings.nderived, settings=polyset,\n",
    "                                      prior=network.prior, dumper=network.dumper)\n",
    "            comm_gen.Barrier()\n",
    "            polyset.nlives = {}\n",
    "            deadpoints = anesthetic.read_chains(\n",
    "                root=f\"{root}/{polyswyftSettings.increased_livepoints_fileroot}/{polyset.file_root}\")\n",
    "\n",
    "\n",
    "        #### compute KL divergences\n",
    "        root_storage[rd] = root\n",
    "        samples_storage[current_key] = deadpoints\n",
    "        network_storage[current_key] = network\n",
    "        #### compute KL(P_i||P_(i-1))\n",
    "        if rd > 0:\n",
    "            previous_network = network_storage[previous_key]\n",
    "            KDL = compute_KL_divergence(polyswyftSettings=polyswyftSettings, previous_network=previous_network.eval(),\n",
    "                                        current_samples=samples_storage[current_key], obs=obs,\n",
    "                                        previous_samples=samples_storage[previous_key])\n",
    "            dkl_storage[rd] = KDL\n",
    "            logger.info(f\"Round {rd}: KL(P_i||P_(i-1)) = {KDL[0]} +/- {KDL[1]}\")\n",
    "            print(f\"Round {rd}: KL(P_i||P_(i-1)) = {KDL[0]} +/- {KDL[1]}\")\n",
    "\n",
    "\n",
    "        ### compute KL(P_i||Pi)\n",
    "        DKL = compute_KL_compression(samples_storage[current_key], polyswyftSettings)\n",
    "        dkl_compression_storage[rd] = DKL\n",
    "        logger.info(f\"Round {rd}: KL(P_i||Pi) = {DKL[0]} +/- {DKL[1]}\")\n",
    "        print(f\"Round {rd}: KL(P_i||Pi) = {DKL[0]} +/- {DKL[1]}\")\n",
    "\n",
    "\n",
    "        if mcmc_true is not None:\n",
    "            #### compute KL(P_true||P_i)\n",
    "            current_network = network_storage[current_key]\n",
    "            KDL_true = compute_KL_divergence_truth(polyswyftSettings=polyswyftSettings,\n",
    "                                                   network=current_network.eval(),\n",
    "                                                   true_posterior=mcmc_true.copy(), obs=obs,\n",
    "                                                   samples=samples_storage[current_key])\n",
    "            dkl_storage_true[rd] = KDL_true\n",
    "            logger.info(f\"Round {rd}: KL(P_true||P_(i)) = {KDL_true[0]} +/- {KDL_true[1]}\")\n",
    "            print(f\"Round {rd}: KL(P_true||P_(i)) = {KDL_true[0]} +/- {KDL_true[1]}\")\n",
    "\n",
    "            #### compute K(P_true||Pi)\n",
    "            logPi = polyswyftSettings.model.prior().logpdf(posterior)\n",
    "            logP = polyswyftSettings.model.posterior(obs[polyswyftSettings.obsKey].squeeze()).logpdf(posterior)\n",
    "            dkl_compression_truth = 1/logP.shape[0]*((logP - logPi).sum())\n",
    "            logger.info(f\"Round {rd}: KL(P_true||Pi) = {dkl_compression_truth}\")\n",
    "            print(f\"Round {rd}: KL(P_true||Pi) = {dkl_compression_truth}\")\n",
    "\n",
    "        samples_storage[previous_key] = deadpoints\n",
    "        network_storage[previous_key] = network\n",
    "\n",
    "        #### optional deadpoints post processing\n",
    "        deadpoints = deadpoints_processing(deadpoints)\n",
    "\n",
    "        #prepare data for next round\n",
    "        deadpoints_samples = deadpoints.iloc[:, :polyswyftSettings.num_features].to_numpy()\n"
   ],
   "metadata": {
    "collapsed": false,
    "ExecuteTime": {
     "end_time": "2025-05-21T09:58:07.915062Z",
     "start_time": "2025-05-21T09:52:49.814169Z"
    }
   },
   "id": "dd531a59efa99967",
   "execution_count": 10
  },
  {
   "cell_type": "code",
   "outputs": [],
   "source": [
    "import matplotlib.pyplot as plt\n",
    "from anesthetic import make_2d_axes"
   ],
   "metadata": {
    "collapsed": false,
    "ExecuteTime": {
     "end_time": "2025-05-21T09:58:07.927480Z",
     "start_time": "2025-05-21T09:58:07.919494Z"
    }
   },
   "id": "3e673c441f8aee79",
   "execution_count": 11
  },
  {
   "cell_type": "code",
   "outputs": [
    {
     "data": {
      "text/plain": "<Figure size 640x480 with 12 Axes>",
      "image/png": "[encoded data removed]"
     },
     "metadata": {},
     "output_type": "display_data"
    },
    {
     "data": {
      "text/plain": "<Figure size 350x350 with 1 Axes>",
      "image/png": "[encoded data removed]"
     },
     "metadata": {},
     "output_type": "display_data"
    }
   ],
   "source": [
    "if rank_gen == 0:\n",
    "    from matplotlib import rc\n",
    "    rc('text', usetex=True)\n",
    "    rc('font', family='serif')\n",
    "\n",
    "    # set up labels for plotting\n",
    "    params_idx = [i for i in range(0, polyswyftSettings.num_features)]\n",
    "    params_labels = {i: rf\"${polyswyftSettings.targetKey}_{i}$\" for i in range(polyswyftSettings.num_features)}\n",
    "    params = [fr\"${polyswyftSettings.targetKey}_{i}$\" for i in range(polyswyftSettings.num_features)]\n",
    "    # triangle plot\n",
    "    if polyswyftSettings.plot_triangle_plot:\n",
    "        kinds = {'lower': 'kde_2d', 'diagonal': 'kde_1d', 'upper': \"scatter_2d\"}\n",
    "        fig, axes = make_2d_axes(params_idx, labels=params_labels, lower=True, diagonal=True, upper=True,\n",
    "                                 ticks=\"outer\")\n",
    "\n",
    "        for rd in range(polyswyftSettings.triangle_start, polyswyftSettings.NRE_num_retrain_rounds + 1):\n",
    "            # load samples from round\n",
    "            current_root = f\"{polyswyftSettings.root}/{polyswyftSettings.child_root}_{rd}\"\n",
    "            ## if dynamic sampling was on\n",
    "            if polyswyftSettings.use_livepoint_increasing:\n",
    "                samples = anesthetic.read_chains(\n",
    "                    root=f\"{current_root}/{polyswyftSettings.increased_livepoints_fileroot}/{polyset.file_root}\")\n",
    "            else:\n",
    "                samples = anesthetic.read_chains(root=f\"{current_root}/{polyset.file_root}\")\n",
    "            ### setup labels\n",
    "            labels = samples.get_labels()\n",
    "            labels[:polyswyftSettings.num_features] = params\n",
    "            samples.set_labels(labels, inplace=True)\n",
    "\n",
    "            ### plot posterior\n",
    "            samples.plot_2d(axes=axes, alpha=0.4, label=fr\"$p_{rd}(\\theta|D)$\",\n",
    "                           kinds=kinds)\n",
    "\n",
    "        ### plot prior\n",
    "        prior = samples.prior()\n",
    "        prior.plot_2d(axes=axes, alpha=0.4, label=\"prior\", kinds=kinds)\n",
    "\n",
    "        if mcmc_true is not None:\n",
    "            mcmc_true.plot_2d(axes=axes, alpha=0.9, label=\"true\", color=\"red\",\n",
    "                                   kinds=kinds)\n",
    "\n",
    "        axes.iloc[-1, 0].legend(bbox_to_anchor=(len(axes) / 2, len(axes)), loc='lower center',\n",
    "                                ncols=polyswyftSettings.NRE_num_retrain_rounds + 2)\n",
    "        plt.show()\n",
    "        fig.savefig(f\"{polyswyftSettings.root}/NRE_triangle_posterior.pdf\")\n",
    "\n",
    "    # KL divergence plot\n",
    "    if polyswyftSettings.plot_KL_divergence:\n",
    "        current_key = \"current\"\n",
    "        previous_key = \"previous\"\n",
    "        network_storage = {}\n",
    "        samples_storage = {}\n",
    "        root_storage = {}\n",
    "        dkl_storage = {}\n",
    "        dkl_storage_true = {}\n",
    "        dkl_compression_storage = {}\n",
    "\n",
    "        for rd in range(0, polyswyftSettings.NRE_num_retrain_rounds + 1):\n",
    "            current_root = f\"{polyswyftSettings.root}/{polyswyftSettings.child_root}_{rd}\"\n",
    "            root_storage[rd] = current_root\n",
    "\n",
    "            ## if dynamic sampling was on\n",
    "            if polyswyftSettings.use_livepoint_increasing:\n",
    "                samples = anesthetic.read_chains(\n",
    "                    root=f\"{current_root}/{polyswyftSettings.increased_livepoints_fileroot}/{polyset.file_root}\")\n",
    "            else:\n",
    "                samples = anesthetic.read_chains(root=f\"{current_root}/{polyset.file_root}\")\n",
    "            samples_storage[current_key] = samples\n",
    "            new_network = Network(polyswyftSettings=polyswyftSettings, obs=obs)\n",
    "            new_network.load_state_dict(torch.load(f\"{current_root}/{polyswyftSettings.neural_network_file}\"))\n",
    "            new_network.double()  # change to float64 precision of network\n",
    "            network_storage[current_key] = new_network\n",
    "\n",
    "            if rd > 0:\n",
    "                previous_network = network_storage[previous_key]\n",
    "                KDL = compute_KL_divergence(polyswyftSettings=polyswyftSettings, previous_network=previous_network.eval(),\n",
    "                                        current_samples=samples_storage[current_key], obs=obs,\n",
    "                                        previous_samples=samples_storage[previous_key])\n",
    "                dkl_storage[rd] = KDL\n",
    "\n",
    "            DKL = compute_KL_compression(samples_storage[current_key], polyswyftSettings)\n",
    "            dkl_compression_storage[rd] = DKL\n",
    "            if mcmc_true is not None:\n",
    "                network = network_storage[current_key]\n",
    "                KDL_true = compute_KL_divergence_truth(polyswyftSettings=polyswyftSettings,\n",
    "                                                       network=network.eval(),\n",
    "                                                       true_posterior=mcmc_true.copy(), obs=obs,\n",
    "                                                       samples=samples_storage[current_key])\n",
    "                dkl_storage_true[rd] = KDL_true\n",
    "\n",
    "            samples_storage[previous_key] = samples\n",
    "            network_storage[previous_key] = new_network\n",
    "        plt.figure(figsize=(3.5, 3.5))\n",
    "\n",
    "        ### plot KL(P_i||P_{i-1})\n",
    "        plt.errorbar(x=[i for i in range(1, polyswyftSettings.NRE_num_retrain_rounds + 1)],\n",
    "                     y=[dkl_storage[i][0] for i in range(1, polyswyftSettings.NRE_num_retrain_rounds + 1)],\n",
    "                     yerr=[dkl_storage[i][1] for i in range(1, polyswyftSettings.NRE_num_retrain_rounds + 1)],\n",
    "                     label=r\"$\\mathrm{KL} (\\mathcal{P}_i||\\mathcal{P}_{i-1})$\")\n",
    "        ### plot KL(P_i||pi)\n",
    "        plt.errorbar(x=[i for i in range(0, polyswyftSettings.NRE_num_retrain_rounds + 1)],\n",
    "                     y=[dkl_compression_storage[i][0] for i in range(0, polyswyftSettings.NRE_num_retrain_rounds + 1)],\n",
    "                     yerr=[dkl_compression_storage[i][1] for i in range(0, polyswyftSettings.NRE_num_retrain_rounds + 1)],\n",
    "                     label=r\"$\\mathrm{KL}(\\mathcal{P}_i||\\pi)$\")\n",
    "\n",
    "        if mcmc_true is not None and polyswyftSettings.model is not None:\n",
    "            ### plot KL(P_true||P_i)\n",
    "            plt.errorbar(x=[i for i in range(0, polyswyftSettings.NRE_num_retrain_rounds + 1)],\n",
    "                         y=[dkl_storage_true[i][0] for i in range(0, polyswyftSettings.NRE_num_retrain_rounds + 1)],\n",
    "                         yerr=[dkl_storage_true[i][1] for i in range(0, polyswyftSettings.NRE_num_retrain_rounds + 1)],\n",
    "                         label=r\"$\\mathrm{KL}(\\mathcal{P}_{\\mathrm{True}}||\\mathcal{P}_i)$\", linestyle=\"--\")\n",
    "            ### plot KL(P_true||pi)\n",
    "            logpi = polyswyftSettings.model.prior().logpdf(posterior)\n",
    "            logP = polyswyftSettings.model.posterior(obs[polyswyftSettings.obsKey].squeeze()).logpdf(posterior)\n",
    "            dkl_compression_truth = 1/logP.shape[0]*((logP - logpi).sum())\n",
    "            plt.hlines(y=dkl_compression_truth, xmin=0, xmax=polyswyftSettings.NRE_num_retrain_rounds, color=\"red\",\n",
    "                       label=r\"$\\mathrm{KL}(\\mathcal{P}_{\\mathrm{True}}||\\pi)$\",linestyle=\"--\")\n",
    "\n",
    "        plt.legend()\n",
    "        plt.xlabel(\"retrain round\")\n",
    "        plt.ylabel(\"KL divergence\")\n",
    "        plt.savefig(f\"{polyswyftSettings.root}/kl_divergence.pdf\", dpi=300, bbox_inches='tight')\n",
    "        plt.show()\n",
    "        plt.close()"
   ],
   "metadata": {
    "collapsed": false,
    "ExecuteTime": {
     "end_time": "2025-05-21T09:58:17.838042Z",
     "start_time": "2025-05-21T09:58:07.930771Z"
    }
   },
   "id": "62ad384caa7bc7c5",
   "execution_count": 12
  }
 ],
 "metadata": {
  "kernelspec": {
   "name": "lfienv",
   "language": "python",
   "display_name": "LFIenv"
  },
  "language_info": {
   "codemirror_mode": {
    "name": "ipython",
    "version": 2
   },
   "file_extension": ".py",
   "mimetype": "text/x-python",
   "name": "python",
   "nbconvert_exporter": "python",
   "pygments_lexer": "ipython2",
   "version": "2.7.6"
  }
 },
 "nbformat": 4,
 "nbformat_minor": 5
}
