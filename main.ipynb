{
 "cells": [
  {
   "cell_type": "code",
   "outputs": [],
   "source": [
    "import logging\n",
    "from pytorch_lightning.loggers import WandbLogger\n",
    "import numpy as np\n",
    "import pypolychord\n",
    "import wandb\n",
    "import swyft\n",
    "import torch\n",
    "import anesthetic\n",
    "from anesthetic import MCMCSamples\n",
    "import os"
   ],
   "metadata": {
    "collapsed": false,
    "ExecuteTime": {
     "end_time": "2025-05-19T11:06:36.079333Z",
     "start_time": "2025-05-19T11:05:58.697740Z"
    }
   },
   "id": "cbc444902206e184",
   "execution_count": 1
  },
  {
   "cell_type": "code",
   "outputs": [],
   "source": [
    "try:\n",
    "    from mpi4py import MPI\n",
    "    comm_gen = MPI.COMM_WORLD\n",
    "    rank_gen = comm_gen.Get_rank()\n",
    "    size_gen = comm_gen.Get_size()\n",
    "except ImportError:\n",
    "    raise ImportError(\"Please install mpi4py to use this script with MPI.\")\n"
   ],
   "metadata": {
    "collapsed": false,
    "ExecuteTime": {
     "end_time": "2025-05-19T11:06:36.503074Z",
     "start_time": "2025-05-19T11:06:36.106975Z"
    }
   },
   "id": "9c87673a461c8b48",
   "execution_count": 2
  },
  {
   "cell_type": "code",
   "execution_count": 3,
   "id": "initial_id",
   "metadata": {
    "collapsed": true,
    "ExecuteTime": {
     "end_time": "2025-05-19T11:06:37.008516Z",
     "start_time": "2025-05-19T11:06:36.512700Z"
    }
   },
   "outputs": [],
   "source": [
    "from pytorch_lightning import seed_everything\n",
    "from pytorch_lightning.callbacks import LearningRateMonitor, ModelCheckpoint\n",
    "from pytorch_lightning.callbacks.early_stopping import EarlyStopping\n",
    "from PolySwyft.PolySwyft_Network import Network\n",
    "from PolySwyft.PolySwyft_Settings import PolySwyft_Settings\n",
    "from PolySwyft.PolySwyft_Simulator_MultiGauss import Simulator\n",
    "from PolySwyft.utils import select_weighted_contour, resimulate_deadpoints\n",
    "from PolySwyft.PolySwyft_Dataloader import PolySwyftDataModule\n",
    "from PolySwyft.utils import compute_KL_compression, compute_KL_divergence_truth, compute_KL_divergence"
   ]
  },
  {
   "cell_type": "markdown",
   "source": [
    "Initialise the PolySwyftSettins"
   ],
   "metadata": {
    "collapsed": false
   },
   "id": "6e7e3779b5cc6e9b"
  },
  {
   "cell_type": "code",
   "outputs": [
    {
     "name": "stderr",
     "output_type": "stream",
     "text": [
      "Global seed set to 234\n"
     ]
    }
   ],
   "source": [
    "root=\"PolySwyft_notebook\"\n",
    "polyswyftSettings = PolySwyft_Settings(root)\n",
    "trainer_kwargs = {\"accelerator\": 'cpu',\n",
    "                  \"devices\": 1,\n",
    "                  \"num_nodes\": 1,\n",
    "                  #\"strategy\": \"ddp\",\n",
    "                  \"max_epochs\": 1000,\n",
    "                  \"log_every_n_steps\": 1,\n",
    "                  \"precision\": 64,\n",
    "                  \"enable_progress_bar\": True,\n",
    "                  \"default_root_dir\": root,\n",
    "                  \"callbacks\": [],\n",
    "                  \"deterministic\": True,\n",
    "                  }\n",
    "polyswyftSettings.trainer_kwargs = trainer_kwargs\n",
    "polyswyftSettings.early_stopping_patience = 3\n",
    "seed_everything(polyswyftSettings.seed, workers=True)\n",
    "logging.basicConfig(filename=polyswyftSettings.logger_name, level=logging.INFO,\n",
    "                    filemode=\"w\")\n",
    "logger = logging.getLogger()\n",
    "polyswyftSettings.logger = logger\n",
    "logger.info('Started')"
   ],
   "metadata": {
    "collapsed": false,
    "ExecuteTime": {
     "end_time": "2025-05-19T11:06:37.105413Z",
     "start_time": "2025-05-19T11:06:37.029151Z"
    }
   },
   "id": "d367a7bb7084911c",
   "execution_count": 4
  },
  {
   "cell_type": "code",
   "outputs": [],
   "source": [
    "#### instantiate swyft simulator\n",
    "polyswyftSettings.num_features = 2\n",
    "polyswyftSettings.num_features_dataset = 3\n",
    "polyswyftSettings.NRE_num_retrain_rounds = 1\n",
    "\n",
    "d = polyswyftSettings.num_features_dataset\n",
    "n = polyswyftSettings.num_features\n",
    "\n",
    "m = torch.randn(d) * 3  # mean vec of dataset\n",
    "M = torch.randn(size=(d, n))  # transform matrix of dataset to parameter vee\n",
    "C = torch.eye(d)  # cov matrix of dataset\n",
    "mu = torch.zeros(n)  # mean vec of parameter prior\n",
    "Sigma = 100 * torch.eye(n)  # cov matrix of parameter prior\n",
    "sim = Simulator(polyswyftSettings=polyswyftSettings, m=m, M=M, C=C, mu=mu, Sigma=Sigma)\n",
    "polyswyftSettings.model = sim.model  # lsbi model"
   ],
   "metadata": {
    "collapsed": false,
    "ExecuteTime": {
     "end_time": "2025-05-19T11:06:37.158741Z",
     "start_time": "2025-05-19T11:06:37.122229Z"
    }
   },
   "id": "8130426b20cf8c26",
   "execution_count": 5
  },
  {
   "cell_type": "code",
   "outputs": [
    {
     "name": "stderr",
     "output_type": "stream",
     "text": [
      "/Users/hikarukilian/LFIenv/lib/python3.10/site-packages/scipy/stats/_multivariate.py:753: RuntimeWarning: covariance is not symmetric positive-semidefinite.\n",
      "  out = random_state.multivariate_normal(mean, cov, size)\n",
      "Global seed set to 234\n"
     ]
    },
    {
     "data": {
      "text/plain": "  0%|          | 0/10000 [00:00<?, ?it/s]",
      "application/vnd.jupyter.widget-view+json": {
       "version_major": 2,
       "version_minor": 0,
       "model_id": "0ec0b2bec163431c83e14b1a85923f4c"
      }
     },
     "metadata": {},
     "output_type": "display_data"
    },
    {
     "name": "stderr",
     "output_type": "stream",
     "text": [
      "Global seed set to 234\n"
     ]
    }
   ],
   "source": [
    "# generate training dat and obs\n",
    "obs = swyft.Sample(x=torch.tensor(sim.model.evidence().rvs()[None, :]))\n",
    "n_per_core = polyswyftSettings.n_training_samples // size_gen\n",
    "if rank_gen == 0:\n",
    "    n_per_core += polyswyftSettings.n_training_samples % size_gen\n",
    "seed_everything(polyswyftSettings.seed + rank_gen, workers=True)\n",
    "deadpoints = sim.sample(n_per_core, targets=[polyswyftSettings.targetKey])[\n",
    "    polyswyftSettings.targetKey]\n",
    "comm_gen.Barrier()\n",
    "seed_everything(polyswyftSettings.seed, workers=True)\n",
    "deadpoints = comm_gen.allgather(deadpoints)\n",
    "deadpoints = np.concatenate(deadpoints, axis=0)\n",
    "comm_gen.Barrier()"
   ],
   "metadata": {
    "collapsed": false,
    "ExecuteTime": {
     "end_time": "2025-05-19T11:07:09.799493Z",
     "start_time": "2025-05-19T11:06:37.168826Z"
    }
   },
   "id": "f65cf265a9b32989",
   "execution_count": 6
  },
  {
   "cell_type": "code",
   "outputs": [
    {
     "data": {
      "text/plain": "  0%|          | 0/1000 [00:00<?, ?it/s]",
      "application/vnd.jupyter.widget-view+json": {
       "version_major": 2,
       "version_minor": 0,
       "model_id": "461871eb3f334c578e9e5efbb1b84d68"
      }
     },
     "metadata": {},
     "output_type": "display_data"
    }
   ],
   "source": [
    "### generate true posterior for comparison\n",
    "cond = {polyswyftSettings.obsKey: obs[polyswyftSettings.obsKey].numpy().squeeze()}\n",
    "full_joint = sim.sample(polyswyftSettings.n_weighted_samples, conditions=cond)\n",
    "posterior = full_joint[polyswyftSettings.posteriorsKey]\n",
    "weights = np.ones(shape=len(posterior))  # direct samples from posterior have weights 1\n",
    "params_labels = {i: rf\"${polyswyftSettings.targetKey}_{i}$\" for i in range(polyswyftSettings.num_features)}\n",
    "mcmc_true = MCMCSamples(\n",
    "    data=posterior, weights=weights.squeeze(), labels=params_labels)"
   ],
   "metadata": {
    "collapsed": false,
    "ExecuteTime": {
     "end_time": "2025-05-19T11:07:43.520639Z",
     "start_time": "2025-05-19T11:07:09.804901Z"
    }
   },
   "id": "a9a80613196b1f3a",
   "execution_count": 7
  },
  {
   "cell_type": "code",
   "outputs": [],
   "source": [
    "#### instantiate swyft network\n",
    "network = Network(polyswyftSettings=polyswyftSettings, obs=obs)\n",
    "\n",
    "#### create helper function for polyswyft cycle\n",
    "def create_callbacks() -> list:\n",
    "    early_stopping_callback = EarlyStopping(monitor='val_loss', min_delta=0.,\n",
    "                                            patience=polyswyftSettings.early_stopping_patience, mode='min')\n",
    "    lr_monitor = LearningRateMonitor(logging_interval='step')\n",
    "    checkpoint_callback = ModelCheckpoint(monitor='val_loss',\n",
    "                                          filename='NRE_{epoch}_{val_loss:.2f}_{train_loss:.2f}', mode='min')\n",
    "    return [early_stopping_callback, lr_monitor, checkpoint_callback]\n",
    "\n",
    "def lr_round_scheduler(rd: int)-> float:\n",
    "    lr = polyswyftSettings.learning_rate_init * (polyswyftSettings.learning_rate_decay ** (polyswyftSettings.early_stopping_patience*rd))\n",
    "    return lr\n",
    "\n",
    "def deadpoints_processing(deadpoints: anesthetic.NestedSamples)->anesthetic.NestedSamples:\n",
    "    return deadpoints"
   ],
   "metadata": {
    "collapsed": false,
    "ExecuteTime": {
     "end_time": "2025-05-19T11:07:43.655491Z",
     "start_time": "2025-05-19T11:07:43.543167Z"
    }
   },
   "id": "b54f19e4fc2eaee0",
   "execution_count": 8
  },
  {
   "cell_type": "code",
   "outputs": [],
   "source": [
    " #### set up polychord settings\n",
    "polyset = pypolychord.PolyChordSettings(polyswyftSettings.num_features, nDerived=polyswyftSettings.nderived)\n",
    "polyset.file_root = \"samples\"\n",
    "polyset.base_dir = polyswyftSettings.root\n",
    "polyset.seed = polyswyftSettings.seed\n",
    "polyset.nfail = polyswyftSettings.n_training_samples\n",
    "polyset.nlive = 100*polyswyftSettings.num_features"
   ],
   "metadata": {
    "collapsed": false,
    "ExecuteTime": {
     "end_time": "2025-05-19T11:07:43.725192Z",
     "start_time": "2025-05-19T11:07:43.668851Z"
    }
   },
   "id": "5526ce1aed6712cc",
   "execution_count": 9
  },
  {
   "cell_type": "code",
   "outputs": [
    {
     "name": "stderr",
     "output_type": "stream",
     "text": [
      "\u001B[34m\u001B[1mwandb\u001B[0m: Currently logged in as: \u001B[33mkhs40\u001B[0m (\u001B[33mnsnre\u001B[0m). Use \u001B[1m`wandb login --relogin`\u001B[0m to force relogin\n"
     ]
    },
    {
     "data": {
      "text/plain": "<IPython.core.display.HTML object>",
      "text/html": "wandb version 0.19.11 is available!  To upgrade, please run:\n $ pip install wandb --upgrade"
     },
     "metadata": {},
     "output_type": "display_data"
    },
    {
     "data": {
      "text/plain": "<IPython.core.display.HTML object>",
      "text/html": "Tracking run with wandb version 0.15.3"
     },
     "metadata": {},
     "output_type": "display_data"
    },
    {
     "data": {
      "text/plain": "<IPython.core.display.HTML object>",
      "text/html": "Run data is saved locally in <code>PolySwyft_notebook/round_0/wandb/run-20250519_113846-f43x480m</code>"
     },
     "metadata": {},
     "output_type": "display_data"
    },
    {
     "data": {
      "text/plain": "<IPython.core.display.HTML object>",
      "text/html": "Syncing run <strong><a href='https://wandb.ai/nsnre/PolySwyft_notebook/runs/f43x480m' target=\"_blank\">round_0</a></strong> to <a href='https://wandb.ai/nsnre/PolySwyft_notebook' target=\"_blank\">Weights & Biases</a> (<a href='https://wandb.me/run' target=\"_blank\">docs</a>)<br/>"
     },
     "metadata": {},
     "output_type": "display_data"
    },
    {
     "data": {
      "text/plain": "<IPython.core.display.HTML object>",
      "text/html": " View project at <a href='https://wandb.ai/nsnre/PolySwyft_notebook' target=\"_blank\">https://wandb.ai/nsnre/PolySwyft_notebook</a>"
     },
     "metadata": {},
     "output_type": "display_data"
    },
    {
     "data": {
      "text/plain": "<IPython.core.display.HTML object>",
      "text/html": " View run at <a href='https://wandb.ai/nsnre/PolySwyft_notebook/runs/f43x480m' target=\"_blank\">https://wandb.ai/nsnre/PolySwyft_notebook/runs/f43x480m</a>"
     },
     "metadata": {},
     "output_type": "display_data"
    },
    {
     "name": "stderr",
     "output_type": "stream",
     "text": [
      "GPU available: False, used: False\n",
      "TPU available: False, using: 0 TPU cores\n",
      "IPU available: False, using: 0 IPUs\n",
      "HPU available: False, using: 0 HPUs\n",
      "\n",
      "  | Name    | Type                   | Params\n",
      "---------------------------------------------------\n",
      "0 | network | LogRatioEstimator_Ndim | 68.0 K\n",
      "---------------------------------------------------\n",
      "68.0 K    Trainable params\n",
      "0         Non-trainable params\n",
      "68.0 K    Total params\n",
      "0.544     Total estimated model params size (MB)\n"
     ]
    },
    {
     "data": {
      "text/plain": "Sanity Checking: 0it [00:00, ?it/s]",
      "application/vnd.jupyter.widget-view+json": {
       "version_major": 2,
       "version_minor": 0,
       "model_id": "e741eecc4da448439aacbe77a5af1c4f"
      }
     },
     "metadata": {},
     "output_type": "display_data"
    },
    {
     "name": "stderr",
     "output_type": "stream",
     "text": [
      "/Users/hikarukilian/LFIenv/lib/python3.10/site-packages/pytorch_lightning/trainer/connectors/data_connector.py:224: PossibleUserWarning: The dataloader, val_dataloader 0, does not have many workers which may be a bottleneck. Consider increasing the value of the `num_workers` argument` (try 12 which is the number of cpus on this machine) in the `DataLoader` init to improve performance.\n",
      "  rank_zero_warn(\n",
      "/Users/hikarukilian/LFIenv/lib/python3.10/site-packages/torch/__init__.py:696: UserWarning: torch.set_default_tensor_type() is deprecated as of PyTorch 2.1, please use torch.set_default_dtype() and torch.set_default_device() as alternatives. (Triggered internally at /Users/runner/work/pytorch/pytorch/pytorch/torch/csrc/tensor/python_tensor.cpp:453.)\n",
      "  _C._set_default_tensor_type(t)\n",
      "/Users/hikarukilian/LFIenv/lib/python3.10/site-packages/pytorch_lightning/trainer/connectors/data_connector.py:224: PossibleUserWarning: The dataloader, train_dataloader, does not have many workers which may be a bottleneck. Consider increasing the value of the `num_workers` argument` (try 12 which is the number of cpus on this machine) in the `DataLoader` init to improve performance.\n",
      "  rank_zero_warn(\n"
     ]
    },
    {
     "data": {
      "text/plain": "Training: 0it [00:00, ?it/s]",
      "application/vnd.jupyter.widget-view+json": {
       "version_major": 2,
       "version_minor": 0,
       "model_id": "910b48092ac1459fa24d77233daf575a"
      }
     },
     "metadata": {},
     "output_type": "display_data"
    },
    {
     "data": {
      "text/plain": "Validation: 0it [00:00, ?it/s]",
      "application/vnd.jupyter.widget-view+json": {
       "version_major": 2,
       "version_minor": 0,
       "model_id": "b3b5386b9b69408aa2c6b0a3bd137a0f"
      }
     },
     "metadata": {},
     "output_type": "display_data"
    },
    {
     "data": {
      "text/plain": "Validation: 0it [00:00, ?it/s]",
      "application/vnd.jupyter.widget-view+json": {
       "version_major": 2,
       "version_minor": 0,
       "model_id": "52e2a8403a87422780557b3a90d5bae6"
      }
     },
     "metadata": {},
     "output_type": "display_data"
    },
    {
     "data": {
      "text/plain": "Validation: 0it [00:00, ?it/s]",
      "application/vnd.jupyter.widget-view+json": {
       "version_major": 2,
       "version_minor": 0,
       "model_id": "5c2964f804154bacb81a309dc192b511"
      }
     },
     "metadata": {},
     "output_type": "display_data"
    },
    {
     "data": {
      "text/plain": "Validation: 0it [00:00, ?it/s]",
      "application/vnd.jupyter.widget-view+json": {
       "version_major": 2,
       "version_minor": 0,
       "model_id": "6744e72b3f1049dca25ce6b66f30232c"
      }
     },
     "metadata": {},
     "output_type": "display_data"
    },
    {
     "data": {
      "text/plain": "Validation: 0it [00:00, ?it/s]",
      "application/vnd.jupyter.widget-view+json": {
       "version_major": 2,
       "version_minor": 0,
       "model_id": "9137a475600346159e8def54a53a4d8e"
      }
     },
     "metadata": {},
     "output_type": "display_data"
    },
    {
     "data": {
      "text/plain": "Validation: 0it [00:00, ?it/s]",
      "application/vnd.jupyter.widget-view+json": {
       "version_major": 2,
       "version_minor": 0,
       "model_id": "5dc3290c51fe4b45a4a180c585337168"
      }
     },
     "metadata": {},
     "output_type": "display_data"
    },
    {
     "data": {
      "text/plain": "Validation: 0it [00:00, ?it/s]",
      "application/vnd.jupyter.widget-view+json": {
       "version_major": 2,
       "version_minor": 0,
       "model_id": "a41a25733ce54460aab916263c46ddc9"
      }
     },
     "metadata": {},
     "output_type": "display_data"
    },
    {
     "data": {
      "text/plain": "Validation: 0it [00:00, ?it/s]",
      "application/vnd.jupyter.widget-view+json": {
       "version_major": 2,
       "version_minor": 0,
       "model_id": "a3e4f47fcb8342daaab0997dd7f8b6a0"
      }
     },
     "metadata": {},
     "output_type": "display_data"
    },
    {
     "data": {
      "text/plain": "<IPython.core.display.HTML object>",
      "text/html": "Waiting for W&B process to finish... <strong style=\"color:green\">(success).</strong>"
     },
     "metadata": {},
     "output_type": "display_data"
    },
    {
     "data": {
      "text/plain": "<IPython.core.display.HTML object>",
      "text/html": "<style>\n    table.wandb td:nth-child(1) { padding: 0 10px; text-align: left ; width: auto;} td:nth-child(2) {text-align: left ; width: 100%}\n    .wandb-row { display: flex; flex-direction: row; flex-wrap: wrap; justify-content: flex-start; width: 100% }\n    .wandb-col { display: flex; flex-direction: column; flex-basis: 100%; flex: 1; padding: 10px; }\n    </style>\n<div class=\"wandb-row\"><div class=\"wandb-col\"><h3>Run history:</h3><br/><table class=\"wandb\"><tr><td>epoch</td><td>▁▁▁▁▁▂▂▂▂▂▃▃▃▃▃▄▄▄▄▄▅▅▅▅▅▆▆▆▆▆▇▇▇▇▇█████</td></tr><tr><td>lr-Adam</td><td>█████▇▇▇▇▇▆▆▆▆▆▅▅▅▅▅▄▄▄▄▄▃▃▃▃▃▂▂▂▂▂▁▁▁▁▁</td></tr><tr><td>train_loss</td><td>█▂▂▄▂▁▃▁▂▁▃▁▂▃▂▁▂▃▅▁▂▃▄▄▂▁▁▃▁▁▂▂▃▃▂▃▁▁▁▁</td></tr><tr><td>trainer/global_step</td><td>▁▁▁▂▂▂▂▂▂▃▃▃▃▃▄▄▄▄▄▄▅▅▅▅▅▅▆▆▆▆▆▇▇▇▇▇▇███</td></tr><tr><td>val_loss</td><td>▅▃▃▅▁▄█▁</td></tr></table><br/></div><div class=\"wandb-col\"><h3>Run summary:</h3><br/><table class=\"wandb\"><tr><td>epoch</td><td>7</td></tr><tr><td>lr-Adam</td><td>0.00093</td></tr><tr><td>train_loss</td><td>-1.3784</td></tr><tr><td>trainer/global_step</td><td>999</td></tr><tr><td>val_loss</td><td>-1.31349</td></tr></table><br/></div></div>"
     },
     "metadata": {},
     "output_type": "display_data"
    },
    {
     "data": {
      "text/plain": "<IPython.core.display.HTML object>",
      "text/html": " View run <strong style=\"color:#cdcd00\">round_0</strong> at: <a href='https://wandb.ai/nsnre/PolySwyft_notebook/runs/f43x480m' target=\"_blank\">https://wandb.ai/nsnre/PolySwyft_notebook/runs/f43x480m</a><br/>Synced 5 W&B file(s), 0 media file(s), 0 artifact file(s) and 0 other file(s)"
     },
     "metadata": {},
     "output_type": "display_data"
    },
    {
     "data": {
      "text/plain": "<IPython.core.display.HTML object>",
      "text/html": "Find logs at: <code>PolySwyft_notebook/round_0/wandb/run-20250519_113846-f43x480m/logs</code>"
     },
     "metadata": {},
     "output_type": "display_data"
    },
    {
     "name": "stdout",
     "output_type": "stream",
     "text": [
      "PolyChord: MPI is already initilised, not initialising, and will not finalize\n",
      "\n",
      "PolyChord: Next Generation Nested Sampling\n",
      "copyright: Will Handley, Mike Hobson & Anthony Lasenby\n",
      "  version: 1.22.1\n",
      "  release: 10th Jan 2024\n",
      "    email: wh260@mrao.cam.ac.uk\n",
      "\n",
      "Run Settings\n",
      "nlive    :     200\n",
      "nDims    :       2\n",
      "nDerived :       0\n",
      "Doing Clustering\n",
      "Synchronous parallelisation\n",
      "Generating equally weighted posteriors\n",
      "Generating weighted posteriors\n",
      "Clustering on posteriors\n",
      "Writing a resume file to PolySwyft_notebook/round_0/samples.resume\n",
      "\n",
      "generating live points\n"
     ]
    },
    {
     "name": "stderr",
     "output_type": "stream",
     "text": [
      "/Users/hikarukilian/IdeaProjects/NS_LFI/PolySwyft/PolySwyft_Network.py:42: UserWarning: The given NumPy array is not writable, and PyTorch does not support non-writable tensors. This means writing to this tensor will result in undefined behavior. You may want to copy the array to protect its data or make it writable before converting it to a tensor. This type of warning will be suppressed for the rest of this program. (Triggered internally at /Users/runner/work/pytorch/pytorch/pytorch/torch/csrc/utils/tensor_numpy.cpp:212.)\n",
      "  theta = torch.tensor(theta)\n"
     ]
    },
    {
     "name": "stdout",
     "output_type": "stream",
     "text": [
      "\n",
      "all live points generated\n",
      "\n",
      "Speed  1 =  0.256E-02 seconds\n",
      "number of repeats:           10\n",
      "started sampling\n",
      "Last dead point: [  7.66824462 -17.84087557 -20.71699223 -17.37006024]\n",
      "_________________\n",
      "lives      | 200 |\n",
      "phantoms   |1127 |\n",
      "posteriors | 201 |\n",
      "equals     |  50 |\n",
      "‾‾‾‾‾‾‾‾‾‾‾‾‾‾‾‾‾\n",
      "ncluster   =       1 /       1\n",
      "ndead      =                 201\n",
      "nposterior =                 201\n",
      "nequals    =                  49\n",
      "nlike      =                3484\n",
      "<nlike>    =          16.42   (           1.64 per slice )\n",
      "log(Z)     =          -19.77 +/-  0.09\n",
      "log(Z_1)   =          -19.77 +/-  0.09 (still evaluating)\n",
      "\n",
      "\n",
      "Last dead point: [-1.23913585e+01 -8.40285903e+00 -1.00000000e+30 -1.32354536e+01]\n",
      "_________________\n",
      "lives      | 200 |\n",
      "phantoms   |1456 |\n",
      "posteriors | 402 |\n",
      "equals     |  68 |\n",
      "‾‾‾‾‾‾‾‾‾‾‾‾‾‾‾‾‾\n",
      "ncluster   =       1 /       1\n",
      "ndead      =                 402\n",
      "nposterior =                 402\n",
      "nequals    =                  64\n",
      "nlike      =                9372\n",
      "<nlike>    =          29.44   (           2.94 per slice )\n",
      "log(Z)     =          -16.23 +/-  0.10\n",
      "log(Z_1)   =          -16.23 +/-  0.10 (still evaluating)\n",
      "\n",
      "\n",
      "Last dead point: [-8.62739207e+00 -1.13588749e+01 -1.00000000e+30 -8.32614790e+00]\n",
      "_________________\n",
      "lives      | 200 |\n",
      "phantoms   |1608 |\n",
      "posteriors | 603 |\n",
      "equals     |  46 |\n",
      "‾‾‾‾‾‾‾‾‾‾‾‾‾‾‾‾‾\n",
      "ncluster   =       1 /       1\n",
      "ndead      =                 603\n",
      "nposterior =                 603\n",
      "nequals    =                  43\n",
      "nlike      =               17343\n",
      "<nlike>    =          39.86   (           3.99 per slice )\n",
      "log(Z)     =          -12.87 +/-  0.14\n",
      "log(Z_1)   =          -12.87 +/-  0.14 (still evaluating)\n",
      "\n",
      "\n",
      "Last dead point: [ -5.69943603 -15.20094497 -14.74375997  -0.42310941]\n",
      "_________________\n",
      "lives      | 200 |\n",
      "phantoms   |1589 |\n",
      "posteriors | 804 |\n",
      "equals     |  26 |\n",
      "‾‾‾‾‾‾‾‾‾‾‾‾‾‾‾‾‾\n",
      "ncluster   =       1 /       1\n",
      "ndead      =                 804\n",
      "nposterior =                 804\n",
      "nequals    =                  34\n",
      "nlike      =               26392\n",
      "<nlike>    =          45.24   (           4.52 per slice )\n",
      "log(Z)     =           -6.31 +/-  0.18\n",
      "log(Z_1)   =           -6.31 +/-  0.18 (still evaluating)\n",
      "\n",
      "\n",
      "Last dead point: [ -3.72694608 -11.15634587   3.63820852   3.87868184]\n",
      "_________________\n",
      "lives      | 200 |\n",
      "phantoms   |1671 |\n",
      "posteriors |1005 |\n",
      "equals     |  64 |\n",
      "‾‾‾‾‾‾‾‾‾‾‾‾‾‾‾‾‾\n",
      "ncluster   =       1 /       1\n",
      "ndead      =                1005\n",
      "nposterior =                1005\n",
      "nequals    =                  63\n",
      "nlike      =               35959\n",
      "<nlike>    =          47.84   (           4.78 per slice )\n",
      "log(Z)     =           -2.18 +/-  0.16\n",
      "log(Z_1)   =           -2.18 +/-  0.16 (still evaluating)\n",
      "\n",
      "\n",
      "Last dead point: [ -4.73427523 -12.00331065   3.20535035   5.5801386 ]\n",
      "_________________\n",
      "lives      | 200 |\n",
      "phantoms   |1759 |\n",
      "posteriors |1206 |\n",
      "equals     | 179 |\n",
      "‾‾‾‾‾‾‾‾‾‾‾‾‾‾‾‾‾\n",
      "ncluster   =       1 /       1\n",
      "ndead      =                1206\n",
      "nposterior =                1206\n",
      "nequals    =                 184\n",
      "nlike      =               45471\n",
      "<nlike>    =          47.56   (           4.76 per slice )\n",
      "log(Z)     =           -0.45 +/-  0.16\n",
      "log(Z_1)   =           -0.45 +/-  0.16 (still evaluating)\n",
      "\n",
      "\n",
      "Last dead point: [ -4.78295431 -12.95424847   5.40817203   6.17960341]\n",
      "_________________\n",
      "lives      | 200 |\n",
      "phantoms   |1803 |\n",
      "posteriors |1407 |\n",
      "equals     | 351 |\n",
      "‾‾‾‾‾‾‾‾‾‾‾‾‾‾‾‾‾\n",
      "ncluster   =       1 /       1\n",
      "ndead      =                1407\n",
      "nposterior =                1407\n",
      "nequals    =                 347\n",
      "nlike      =               55082\n",
      "<nlike>    =          48.05   (           4.81 per slice )\n",
      "log(Z)     =            0.18 +/-  0.16\n",
      "log(Z_1)   =            0.18 +/-  0.16 (still evaluating)\n",
      "\n",
      "\n",
      "Last dead point: [ -4.59863607 -12.60504221   6.03327003   6.39066427]\n",
      "_________________\n",
      "lives      | 200 |\n",
      "phantoms   |1834 |\n",
      "posteriors |1608 |\n",
      "equals     | 452 |\n",
      "‾‾‾‾‾‾‾‾‾‾‾‾‾‾‾‾‾\n",
      "ncluster   =       1 /       1\n",
      "ndead      =                1608\n",
      "nposterior =                1608\n",
      "nequals    =                 440\n",
      "nlike      =               64492\n",
      "<nlike>    =          47.05   (           4.71 per slice )\n",
      "log(Z)     =            0.41 +/-  0.16\n",
      "log(Z_1)   =            0.41 +/-  0.16 (still evaluating)\n",
      "\n",
      "\n",
      "Last dead point: [ -4.38545126 -12.51334798   6.37165003   6.46510559]\n",
      "_________________\n",
      "lives      | 200 |\n",
      "phantoms   |1859 |\n",
      "posteriors |1809 |\n",
      "equals     | 490 |\n",
      "‾‾‾‾‾‾‾‾‾‾‾‾‾‾‾‾‾\n",
      "ncluster   =       1 /       1\n",
      "ndead      =                1809\n",
      "nposterior =                1809\n",
      "nequals    =                 489\n",
      "nlike      =               73907\n",
      "<nlike>    =          47.08   (           4.71 per slice )\n",
      "log(Z)     =            0.49 +/-  0.16\n",
      "log(Z_1)   =            0.49 +/-  0.16 (still evaluating)\n",
      "\n",
      "\n",
      "Last dead point: [ -4.17734002 -12.33870065   6.34326195   6.48651229]\n",
      "_________________\n",
      "lives      | 200 |\n",
      "phantoms   |1946 |\n",
      "posteriors |2005 |\n",
      "equals     | 503 |\n",
      "‾‾‾‾‾‾‾‾‾‾‾‾‾‾‾‾‾\n",
      "ncluster   =       1 /       2\n",
      "ndead      =                2010\n",
      "nposterior =                2010\n",
      "nequals    =                 507\n",
      "nlike      =               83545\n",
      "<nlike>    =          48.19   (           4.82 per slice )\n",
      "log(Z)     =            0.52 +/-  0.16\n",
      "log(Z_1)   =            0.49 +/-  0.16 (still evaluating)\n",
      "log(Z_2)   =           -3.30 +/-  0.22\n",
      "\n",
      "\n",
      "Last dead point: [ -4.01147211 -12.34804367   6.48315021   6.49371355]\n",
      "_________________\n",
      "lives      | 200 |\n",
      "phantoms   |1871 |\n",
      "posteriors |2206 |\n",
      "equals     | 507 |\n",
      "‾‾‾‾‾‾‾‾‾‾‾‾‾‾‾‾‾\n",
      "ncluster   =       1 /       2\n",
      "ndead      =                2211\n",
      "nposterior =                2211\n",
      "nequals    =                 514\n",
      "nlike      =               93135\n",
      "<nlike>    =          47.95   (           4.79 per slice )\n",
      "log(Z)     =            0.53 +/-  0.16\n",
      "log(Z_1)   =            0.51 +/-  0.16 (still evaluating)\n",
      "log(Z_2)   =           -3.30 +/-  0.22\n",
      "\n",
      "\n",
      "Last dead point: [ -4.19380743 -12.47406223   6.45823513   6.49631495]\n",
      "_________________\n",
      "lives      | 200 |\n",
      "phantoms   |1978 |\n",
      "posteriors |2407 |\n",
      "equals     | 510 |\n",
      "‾‾‾‾‾‾‾‾‾‾‾‾‾‾‾‾‾\n",
      "ncluster   =       1 /       2\n",
      "ndead      =                2412\n",
      "nposterior =                2412\n",
      "nequals    =                 517\n",
      "nlike      =              102585\n",
      "<nlike>    =          47.25   (           4.72 per slice )\n",
      "log(Z)     =            0.53 +/-  0.16\n",
      "log(Z_1)   =            0.51 +/-  0.16 (still evaluating)\n",
      "log(Z_2)   =           -3.30 +/-  0.22\n",
      "\n",
      "\n",
      "Last dead point: [ -4.08601546 -12.39760633   6.40385578   6.49756231]\n",
      " ____________________________________________________ \n",
      "|                                                    |\n",
      "| ndead  =         2779                              |\n",
      "| log(Z) =            0.53425 +/-            0.15971 |\n",
      "|____________________________________________________|\n",
      "Round 0: KL(P_i||Pi) = 5.008736354845188 +/- 0.1423886908250559\n",
      "Round 0: KL(P_true||P_(i)) = 0.2906384674283244 +/- 0.17125278173694142\n",
      "Round 0: KL(P_true||Pi) = 5.231066283010163\n"
     ]
    },
    {
     "data": {
      "text/plain": "<IPython.core.display.HTML object>",
      "text/html": "wandb version 0.19.11 is available!  To upgrade, please run:\n $ pip install wandb --upgrade"
     },
     "metadata": {},
     "output_type": "display_data"
    },
    {
     "data": {
      "text/plain": "<IPython.core.display.HTML object>",
      "text/html": "Tracking run with wandb version 0.15.3"
     },
     "metadata": {},
     "output_type": "display_data"
    },
    {
     "data": {
      "text/plain": "<IPython.core.display.HTML object>",
      "text/html": "Run data is saved locally in <code>PolySwyft_notebook/round_1/wandb/run-20250519_114551-qwdmtqgv</code>"
     },
     "metadata": {},
     "output_type": "display_data"
    },
    {
     "data": {
      "text/plain": "<IPython.core.display.HTML object>",
      "text/html": "Syncing run <strong><a href='https://wandb.ai/nsnre/PolySwyft_notebook/runs/qwdmtqgv' target=\"_blank\">round_1</a></strong> to <a href='https://wandb.ai/nsnre/PolySwyft_notebook' target=\"_blank\">Weights & Biases</a> (<a href='https://wandb.me/run' target=\"_blank\">docs</a>)<br/>"
     },
     "metadata": {},
     "output_type": "display_data"
    },
    {
     "data": {
      "text/plain": "<IPython.core.display.HTML object>",
      "text/html": " View project at <a href='https://wandb.ai/nsnre/PolySwyft_notebook' target=\"_blank\">https://wandb.ai/nsnre/PolySwyft_notebook</a>"
     },
     "metadata": {},
     "output_type": "display_data"
    },
    {
     "data": {
      "text/plain": "<IPython.core.display.HTML object>",
      "text/html": " View run at <a href='https://wandb.ai/nsnre/PolySwyft_notebook/runs/qwdmtqgv' target=\"_blank\">https://wandb.ai/nsnre/PolySwyft_notebook/runs/qwdmtqgv</a>"
     },
     "metadata": {},
     "output_type": "display_data"
    },
    {
     "name": "stderr",
     "output_type": "stream",
     "text": [
      "GPU available: False, used: False\n",
      "TPU available: False, using: 0 TPU cores\n",
      "IPU available: False, using: 0 IPUs\n",
      "HPU available: False, using: 0 HPUs\n",
      "\n",
      "  | Name    | Type                   | Params\n",
      "---------------------------------------------------\n",
      "0 | network | LogRatioEstimator_Ndim | 68.0 K\n",
      "---------------------------------------------------\n",
      "68.0 K    Trainable params\n",
      "0         Non-trainable params\n",
      "68.0 K    Total params\n",
      "0.544     Total estimated model params size (MB)\n"
     ]
    },
    {
     "data": {
      "text/plain": "Sanity Checking: 0it [00:00, ?it/s]",
      "application/vnd.jupyter.widget-view+json": {
       "version_major": 2,
       "version_minor": 0,
       "model_id": "c8e576a28f044272a69dd0155286d569"
      }
     },
     "metadata": {},
     "output_type": "display_data"
    },
    {
     "name": "stderr",
     "output_type": "stream",
     "text": [
      "/Users/hikarukilian/LFIenv/lib/python3.10/site-packages/pytorch_lightning/trainer/connectors/data_connector.py:224: PossibleUserWarning: The dataloader, val_dataloader 0, does not have many workers which may be a bottleneck. Consider increasing the value of the `num_workers` argument` (try 12 which is the number of cpus on this machine) in the `DataLoader` init to improve performance.\n",
      "  rank_zero_warn(\n",
      "/Users/hikarukilian/LFIenv/lib/python3.10/site-packages/pytorch_lightning/trainer/connectors/data_connector.py:224: PossibleUserWarning: The dataloader, train_dataloader, does not have many workers which may be a bottleneck. Consider increasing the value of the `num_workers` argument` (try 12 which is the number of cpus on this machine) in the `DataLoader` init to improve performance.\n",
      "  rank_zero_warn(\n"
     ]
    },
    {
     "data": {
      "text/plain": "Training: 0it [00:00, ?it/s]",
      "application/vnd.jupyter.widget-view+json": {
       "version_major": 2,
       "version_minor": 0,
       "model_id": "c0ea8e330ac44775aefa22db7f028c21"
      }
     },
     "metadata": {},
     "output_type": "display_data"
    },
    {
     "data": {
      "text/plain": "Validation: 0it [00:00, ?it/s]",
      "application/vnd.jupyter.widget-view+json": {
       "version_major": 2,
       "version_minor": 0,
       "model_id": "1e34eb8e4de947a2b3db6ed49ef5d0b4"
      }
     },
     "metadata": {},
     "output_type": "display_data"
    },
    {
     "data": {
      "text/plain": "Validation: 0it [00:00, ?it/s]",
      "application/vnd.jupyter.widget-view+json": {
       "version_major": 2,
       "version_minor": 0,
       "model_id": "c33ea584b6434779a30469c174f7d0f7"
      }
     },
     "metadata": {},
     "output_type": "display_data"
    },
    {
     "data": {
      "text/plain": "Validation: 0it [00:00, ?it/s]",
      "application/vnd.jupyter.widget-view+json": {
       "version_major": 2,
       "version_minor": 0,
       "model_id": "66f4951f23a64f0f9a5f7a297368acec"
      }
     },
     "metadata": {},
     "output_type": "display_data"
    },
    {
     "data": {
      "text/plain": "Validation: 0it [00:00, ?it/s]",
      "application/vnd.jupyter.widget-view+json": {
       "version_major": 2,
       "version_minor": 0,
       "model_id": "2e0b8475988541a7b64bc0cfb4e14930"
      }
     },
     "metadata": {},
     "output_type": "display_data"
    },
    {
     "data": {
      "text/plain": "Validation: 0it [00:00, ?it/s]",
      "application/vnd.jupyter.widget-view+json": {
       "version_major": 2,
       "version_minor": 0,
       "model_id": "a26c19aea5a94507923c29312c571d39"
      }
     },
     "metadata": {},
     "output_type": "display_data"
    },
    {
     "data": {
      "text/plain": "Validation: 0it [00:00, ?it/s]",
      "application/vnd.jupyter.widget-view+json": {
       "version_major": 2,
       "version_minor": 0,
       "model_id": "c66f412fe5c3494c9193b4a42e309b6d"
      }
     },
     "metadata": {},
     "output_type": "display_data"
    },
    {
     "data": {
      "text/plain": "Validation: 0it [00:00, ?it/s]",
      "application/vnd.jupyter.widget-view+json": {
       "version_major": 2,
       "version_minor": 0,
       "model_id": "0227d407d61c4546b4fe91fe6b897a96"
      }
     },
     "metadata": {},
     "output_type": "display_data"
    },
    {
     "data": {
      "text/plain": "Validation: 0it [00:00, ?it/s]",
      "application/vnd.jupyter.widget-view+json": {
       "version_major": 2,
       "version_minor": 0,
       "model_id": "7956544b9f75422ca658ededd3032eee"
      }
     },
     "metadata": {},
     "output_type": "display_data"
    },
    {
     "data": {
      "text/plain": "Validation: 0it [00:00, ?it/s]",
      "application/vnd.jupyter.widget-view+json": {
       "version_major": 2,
       "version_minor": 0,
       "model_id": "92121ba6bcfc4fa99afbccb56756348a"
      }
     },
     "metadata": {},
     "output_type": "display_data"
    },
    {
     "data": {
      "text/plain": "Validation: 0it [00:00, ?it/s]",
      "application/vnd.jupyter.widget-view+json": {
       "version_major": 2,
       "version_minor": 0,
       "model_id": "ca575c033fd044dd9792647a0bd5a2f0"
      }
     },
     "metadata": {},
     "output_type": "display_data"
    },
    {
     "data": {
      "text/plain": "Validation: 0it [00:00, ?it/s]",
      "application/vnd.jupyter.widget-view+json": {
       "version_major": 2,
       "version_minor": 0,
       "model_id": "c36c3ccbb9fe453092dc0ae184bcc4e0"
      }
     },
     "metadata": {},
     "output_type": "display_data"
    },
    {
     "data": {
      "text/plain": "Validation: 0it [00:00, ?it/s]",
      "application/vnd.jupyter.widget-view+json": {
       "version_major": 2,
       "version_minor": 0,
       "model_id": "eea3691445ca4ef19d2cf78416065f37"
      }
     },
     "metadata": {},
     "output_type": "display_data"
    },
    {
     "data": {
      "text/plain": "Validation: 0it [00:00, ?it/s]",
      "application/vnd.jupyter.widget-view+json": {
       "version_major": 2,
       "version_minor": 0,
       "model_id": "4fb0558bd5a84433b7f520d730e667ac"
      }
     },
     "metadata": {},
     "output_type": "display_data"
    },
    {
     "data": {
      "text/plain": "Validation: 0it [00:00, ?it/s]",
      "application/vnd.jupyter.widget-view+json": {
       "version_major": 2,
       "version_minor": 0,
       "model_id": "dc8c9b45fc36484295e204881fc48d48"
      }
     },
     "metadata": {},
     "output_type": "display_data"
    },
    {
     "data": {
      "text/plain": "Validation: 0it [00:00, ?it/s]",
      "application/vnd.jupyter.widget-view+json": {
       "version_major": 2,
       "version_minor": 0,
       "model_id": "1d2ad7f3af0e4e63a08c558dc49685cd"
      }
     },
     "metadata": {},
     "output_type": "display_data"
    },
    {
     "data": {
      "text/plain": "Validation: 0it [00:00, ?it/s]",
      "application/vnd.jupyter.widget-view+json": {
       "version_major": 2,
       "version_minor": 0,
       "model_id": "2038cec58705455aa10dc6635de5a9e1"
      }
     },
     "metadata": {},
     "output_type": "display_data"
    },
    {
     "data": {
      "text/plain": "Validation: 0it [00:00, ?it/s]",
      "application/vnd.jupyter.widget-view+json": {
       "version_major": 2,
       "version_minor": 0,
       "model_id": "2cce5a0d61f544d0b7ec2bd46b53eb0f"
      }
     },
     "metadata": {},
     "output_type": "display_data"
    },
    {
     "data": {
      "text/plain": "Validation: 0it [00:00, ?it/s]",
      "application/vnd.jupyter.widget-view+json": {
       "version_major": 2,
       "version_minor": 0,
       "model_id": "a687f0cdff6a494db7d1669141544c88"
      }
     },
     "metadata": {},
     "output_type": "display_data"
    }
   ],
   "source": [
    "if not polyswyftSettings.only_plot_mode:\n",
    "    #initialise temporary storage for KL diagnostics\n",
    "    network_storage = {}\n",
    "    samples_storage = {}\n",
    "    root_storage = {}\n",
    "    dkl_storage = {}\n",
    "    dkl_storage_true = {}\n",
    "    dkl_compression_storage = {}\n",
    "    current_key = \"current\"\n",
    "    previous_key = \"previous\"\n",
    "    for rd in range(polyswyftSettings.NRE_start_from_round, polyswyftSettings.NRE_num_retrain_rounds+1):\n",
    "        logger.info(\"training network round: \" + str(rd))\n",
    "        if polyswyftSettings.NRE_start_from_round > 0: # load previous samples and network\n",
    "            root = f\"{polyswyftSettings.root}/{polyswyftSettings.child_root}_{rd-1}\"\n",
    "            deadpoints = anesthetic.read_chains(root=f\"{root}/{polyset.file_root}\")\n",
    "            deadpoints = deadpoints.iloc[:, :polyswyftSettings.num_features].to_numpy()\n",
    "            network.load_state_dict(torch.load(f\"{root}/{polyswyftSettings.neural_network_file}\"))\n",
    "\n",
    "        ### update root\n",
    "        root = f\"{polyswyftSettings.root}/{polyswyftSettings.child_root}_{rd}\"\n",
    "        ### create root folder ###\n",
    "        try:\n",
    "            os.makedirs(root)\n",
    "        except OSError:\n",
    "            logger.info(\"root folder already exists!\")\n",
    "\n",
    "\n",
    "        ####conditional resimulate deadpoints with swyft\n",
    "        resimulate_deadpoints(deadpoints=deadpoints, polyswyftSettings=polyswyftSettings, sim=sim, rd=rd)\n",
    "        dm = PolySwyftDataModule(polyswyftSettings=polyswyftSettings,rd=rd,\n",
    "                                 **polyswyftSettings.dm_kwargs)\n",
    "\n",
    "        ###prepare network\n",
    "        learning_rate = lr_round_scheduler(rd) #adjust learning rate between round (optional)\n",
    "        network.optimizer_init.optim_args = dict(lr=learning_rate)\n",
    "        ####set network to train mode\n",
    "        network.train()\n",
    "\n",
    "        #prepare wandb logger\n",
    "        polyswyftSettings.wandb_kwargs[\"name\"] = f\"{polyswyftSettings.child_root}_{rd}\"\n",
    "        polyswyftSettings.wandb_kwargs[\"save_dir\"] = f\"{polyswyftSettings.root}/{polyswyftSettings.child_root}_{rd}\"\n",
    "        wandb_logger = WandbLogger(**polyswyftSettings.wandb_kwargs)\n",
    "        \n",
    "        ###prepare trainer\n",
    "        polyswyftSettings.trainer_kwargs[\"callbacks\"] = create_callbacks()\n",
    "        #### train network\n",
    "        trainer = swyft.SwyftTrainer(**polyswyftSettings.trainer_kwargs, logger=wandb_logger)\n",
    "        trainer.fit(network, dm)\n",
    "        wandb.finish()\n",
    "        \n",
    "        ### save network and optimizer\n",
    "        if rank_gen == 0:\n",
    "            torch.save(network.state_dict(), f\"{root}/{polyswyftSettings.neural_network_file}\")\n",
    "            torch.save(network.optimizers().state_dict(), f\"{root}/{polyswyftSettings.optimizer_file}\")\n",
    "\n",
    "        #### prepare network for polychord\n",
    "        network.eval()\n",
    "\n",
    "        # run polychord\n",
    "        polyset.base_dir = root\n",
    "        comm_gen.barrier()\n",
    "        pypolychord.run_polychord(loglikelihood=network.logLikelihood,\n",
    "                                  nDims=polyswyftSettings.num_features,\n",
    "                                  nDerived=polyswyftSettings.nderived, settings=polyset,\n",
    "                                  prior=network.prior, dumper=network.dumper)\n",
    "\n",
    "        comm_gen.Barrier()\n",
    "        deadpoints = anesthetic.read_chains(root=f\"{root}/{polyset.file_root}\")\n",
    "\n",
    "        #run dynamic nested sampling round 2 here if you want\n",
    "        ##### Polychord run 2 #####\n",
    "        if polyswyftSettings.use_livepoint_increasing:\n",
    "            ### choose contour to increase livepoints ###\n",
    "            index = select_weighted_contour(deadpoints,\n",
    "                                            threshold=1 - polyswyftSettings.livepoint_increase_posterior_contour)\n",
    "            logL = deadpoints.iloc[index, :].logL\n",
    "\n",
    "            try:\n",
    "                os.makedirs(f\"{root}/{polyswyftSettings.increased_livepoints_fileroot}\")\n",
    "            except OSError:\n",
    "                logger.info(\"root folder already exists!\")\n",
    "\n",
    "            ### run polychord round 2 ###\n",
    "            polyset.base_dir = f\"{root}/{polyswyftSettings.increased_livepoints_fileroot}\"\n",
    "            polyset.nlives = {logL: polyswyftSettings.n_increased_livepoints}\n",
    "            comm_gen.Barrier()\n",
    "            pypolychord.run_polychord(loglikelihood=network.logLikelihood,\n",
    "                                      nDims=polyswyftSettings.num_features,\n",
    "                                      nDerived=polyswyftSettings.nderived, settings=polyset,\n",
    "                                      prior=network.prior, dumper=network.dumper)\n",
    "            comm_gen.Barrier()\n",
    "            polyset.nlives = {}\n",
    "            deadpoints = anesthetic.read_chains(\n",
    "                root=f\"{root}/{polyswyftSettings.increased_livepoints_fileroot}/{polyset.file_root}\")\n",
    "\n",
    "        #### optional deadpoints post processing\n",
    "        deadpoints = deadpoints_processing(deadpoints)\n",
    "\n",
    "\n",
    "        #### compute KL divergences\n",
    "        root_storage[current_key] = root\n",
    "        samples_storage[current_key] = deadpoints\n",
    "        network_storage[current_key] = network\n",
    "        #### compute KL(P_i||P_(i-1))\n",
    "        if rd > 0:\n",
    "            previous_network = network_storage[previous_key]\n",
    "            KDL = compute_KL_divergence(polyswyftSettings=polyswyftSettings, previous_network=previous_network.eval(),\n",
    "                                        current_samples=samples_storage[current_key], obs=obs,\n",
    "                                        previous_samples=samples_storage[previous_key])\n",
    "            dkl_storage[rd] = KDL\n",
    "            logger.info(f\"Round {rd}: KL(P_i||P_(i-1)) = {KDL[0]} +/- {KDL[1]}\")\n",
    "            print(f\"Round {rd}: KL(P_i||P_(i-1)) = {KDL[0]} +/- {KDL[1]}\")\n",
    "\n",
    "\n",
    "        ### compute KL(P_i||Pi)\n",
    "        DKL = compute_KL_compression(samples_storage[current_key], polyswyftSettings)\n",
    "        dkl_compression_storage[rd] = DKL\n",
    "        logger.info(f\"Round {rd}: KL(P_i||Pi) = {DKL[0]} +/- {DKL[1]}\")\n",
    "        print(f\"Round {rd}: KL(P_i||Pi) = {DKL[0]} +/- {DKL[1]}\")\n",
    "\n",
    "\n",
    "        if mcmc_true is not None:\n",
    "            #### compute KL(P_true||P_i)\n",
    "            network = network_storage[current_key]\n",
    "            KDL_true = compute_KL_divergence_truth(polyswyftSettings=polyswyftSettings,\n",
    "                                                   network=network.eval(),\n",
    "                                                   true_posterior=mcmc_true.copy(), obs=obs,\n",
    "                                                   samples=samples_storage[current_key])\n",
    "            dkl_storage_true[rd] = KDL_true\n",
    "            logger.info(f\"Round {rd}: KL(P_true||P_(i)) = {KDL_true[0]} +/- {KDL_true[1]}\")\n",
    "            print(f\"Round {rd}: KL(P_true||P_(i)) = {KDL_true[0]} +/- {KDL_true[1]}\")\n",
    "\n",
    "            #### compute K(P_true||Pi)\n",
    "            logPi = polyswyftSettings.model.prior().logpdf(posterior)\n",
    "            logP = polyswyftSettings.model.posterior(obs[polyswyftSettings.obsKey].squeeze()).logpdf(posterior)\n",
    "            dkl_compression_truth = 1/logP.shape[0]*((logP - logPi).sum())\n",
    "            logger.info(f\"Round {rd}: KL(P_true||Pi) = {dkl_compression_truth}\")\n",
    "            print(f\"Round {rd}: KL(P_true||Pi) = {dkl_compression_truth}\")\n",
    "\n",
    "        root_storage[previous_key] = root\n",
    "        samples_storage[previous_key] = deadpoints\n",
    "        network_storage[previous_key] = network\n",
    "\n",
    "        #prepare data for next round\n",
    "        deadpoints = deadpoints.iloc[:, :polyswyftSettings.num_features].to_numpy()\n",
    "\n"
   ],
   "metadata": {
    "collapsed": false,
    "is_executing": true,
    "ExecuteTime": {
     "start_time": "2025-05-19T10:38:37.983369Z"
    }
   },
   "id": "dd531a59efa99967",
   "execution_count": null
  },
  {
   "cell_type": "code",
   "outputs": [],
   "source": [
    "import matplotlib.pyplot as plt\n",
    "from anesthetic import make_2d_axes"
   ],
   "metadata": {
    "collapsed": false,
    "ExecuteTime": {
     "end_time": "2025-05-19T11:07:43.804002Z",
     "start_time": "2025-05-19T11:07:43.783662Z"
    }
   },
   "id": "3e673c441f8aee79",
   "execution_count": 10
  },
  {
   "cell_type": "code",
   "outputs": [
    {
     "data": {
      "text/plain": "<Figure size 640x480 with 6 Axes>",
      "image/png": "[encoded data removed]"
     },
     "metadata": {},
     "output_type": "display_data"
    },
    {
     "data": {
      "text/plain": "<Figure size 350x350 with 1 Axes>",
      "image/png": "[encoded data removed]"
     },
     "metadata": {},
     "output_type": "display_data"
    }
   ],
   "source": [
    "if rank_gen == 0:\n",
    "    from matplotlib import rc\n",
    "    rc('text', usetex=True)\n",
    "    rc('font', family='serif')\n",
    "\n",
    "    # set up labels for plotting\n",
    "    params_idx = [i for i in range(0, polyswyftSettings.num_features)]\n",
    "    params_labels = {i: rf\"${polyswyftSettings.targetKey}_{i}$\" for i in range(polyswyftSettings.num_features)}\n",
    "    params = [fr\"${polyswyftSettings.targetKey}_{i}$\" for i in range(polyswyftSettings.num_features)]\n",
    "    # triangle plot\n",
    "    if polyswyftSettings.plot_triangle_plot:\n",
    "        kinds = {'lower': 'kde_2d', 'diagonal': 'kde_1d', 'upper': \"scatter_2d\"}\n",
    "        fig, axes = make_2d_axes(params_idx, labels=params_labels, lower=True, diagonal=True, upper=True,\n",
    "                                 ticks=\"outer\")\n",
    "\n",
    "        for rd in range(polyswyftSettings.triangle_start, polyswyftSettings.NRE_num_retrain_rounds + 1):\n",
    "            # load samples from round\n",
    "            current_root = f\"{polyswyftSettings.root}/{polyswyftSettings.child_root}_{rd}\"\n",
    "            ## if dynamic sampling was on\n",
    "            if polyswyftSettings.use_livepoint_increasing:\n",
    "                samples = anesthetic.read_chains(\n",
    "                    root=f\"{current_root}/{polyswyftSettings.increased_livepoints_fileroot}/{polyset.file_root}\")\n",
    "            else:\n",
    "                samples = anesthetic.read_chains(root=f\"{current_root}/{polyset.file_root}\")\n",
    "            ### setup labels\n",
    "            labels = samples.get_labels()\n",
    "            labels[:polyswyftSettings.num_features] = params\n",
    "            samples.set_labels(labels, inplace=True)\n",
    "\n",
    "            ### plot posterior\n",
    "            samples.plot_2d(axes=axes, alpha=0.4, label=fr\"$p_{rd}(\\theta|D)$\",\n",
    "                           kinds=kinds)\n",
    "\n",
    "        ### plot prior\n",
    "        prior = samples.prior()\n",
    "        prior.plot_2d(axes=axes, alpha=0.4, label=\"prior\", kinds=kinds)\n",
    "\n",
    "        if mcmc_true is not None:\n",
    "            mcmc_true.plot_2d(axes=axes, alpha=0.9, label=\"true\", color=\"red\",\n",
    "                                   kinds=kinds)\n",
    "\n",
    "        axes.iloc[-1, 0].legend(bbox_to_anchor=(len(axes) / 2, len(axes)), loc='lower center',\n",
    "                                ncols=polyswyftSettings.NRE_num_retrain_rounds + 2)\n",
    "        plt.show()\n",
    "        fig.savefig(f\"{polyswyftSettings.root}/NRE_triangle_posterior.pdf\")\n",
    "\n",
    "    # KL divergence plot\n",
    "    if polyswyftSettings.plot_KL_divergence:\n",
    "        current_key = \"current\"\n",
    "        previous_key = \"previous\"\n",
    "        network_storage = {}\n",
    "        samples_storage = {}\n",
    "        root_storage = {}\n",
    "        dkl_storage = {}\n",
    "        dkl_storage_true = {}\n",
    "        dkl_compression_storage = {}\n",
    "\n",
    "        for rd in range(0, polyswyftSettings.NRE_num_retrain_rounds + 1):\n",
    "            current_root = f\"{polyswyftSettings.root}/{polyswyftSettings.child_root}_{rd}\"\n",
    "            root_storage[current_key] = current_root\n",
    "\n",
    "            ## if dynamic sampling was on\n",
    "            if polyswyftSettings.use_livepoint_increasing:\n",
    "                samples = anesthetic.read_chains(\n",
    "                    root=f\"{current_root}/{polyswyftSettings.increased_livepoints_fileroot}/{polyset.file_root}\")\n",
    "            else:\n",
    "                samples = anesthetic.read_chains(root=f\"{current_root}/{polyset.file_root}\")\n",
    "            samples_storage[current_key] = samples\n",
    "            new_network = Network(polyswyftSettings=polyswyftSettings, obs=obs)\n",
    "            new_network.load_state_dict(torch.load(f\"{current_root}/{polyswyftSettings.neural_network_file}\"))\n",
    "            new_network.double()  # change to float64 precision of network\n",
    "            network_storage[current_key] = new_network\n",
    "\n",
    "            if rd > 0:\n",
    "                previous_network = network_storage[previous_key]\n",
    "                KDL = compute_KL_divergence(polyswyftSettings=polyswyftSettings, previous_network=previous_network.eval(),\n",
    "                                        current_samples=samples_storage[current_key], obs=obs,\n",
    "                                        previous_samples=samples_storage[previous_key])\n",
    "                dkl_storage[rd] = KDL\n",
    "\n",
    "            DKL = compute_KL_compression(samples_storage[current_key], polyswyftSettings)\n",
    "            dkl_compression_storage[rd] = DKL\n",
    "            if mcmc_true is not None:\n",
    "                network = network_storage[current_key]\n",
    "                KDL_true = compute_KL_divergence_truth(polyswyftSettings=polyswyftSettings,\n",
    "                                                       network=network.eval(),\n",
    "                                                       true_posterior=mcmc_true.copy(), obs=obs,\n",
    "                                                       samples=samples_storage[current_key])\n",
    "                dkl_storage_true[rd] = KDL_true\n",
    "\n",
    "            root_storage[previous_key] = current_root\n",
    "            samples_storage[previous_key] = samples\n",
    "            network_storage[previous_key] = new_network\n",
    "        plt.figure(figsize=(3.5, 3.5))\n",
    "\n",
    "        ### plot KL(P_i||P_{i-1})\n",
    "        plt.errorbar(x=[i for i in range(1, polyswyftSettings.NRE_num_retrain_rounds + 1)],\n",
    "                     y=[dkl_storage[i][0] for i in range(1, polyswyftSettings.NRE_num_retrain_rounds + 1)],\n",
    "                     yerr=[dkl_storage[i][1] for i in range(1, polyswyftSettings.NRE_num_retrain_rounds + 1)],\n",
    "                     label=r\"$\\mathrm{KL} (\\mathcal{P}_i||\\mathcal{P}_{i-1})$\")\n",
    "        ### plot KL(P_i||Pi)\n",
    "        plt.errorbar(x=[i for i in range(0, polyswyftSettings.NRE_num_retrain_rounds + 1)],\n",
    "                     y=[dkl_compression_storage[i][0] for i in range(0, polyswyftSettings.NRE_num_retrain_rounds + 1)],\n",
    "                     yerr=[dkl_compression_storage[i][1] for i in range(0, polyswyftSettings.NRE_num_retrain_rounds + 1)],\n",
    "                     label=r\"$\\mathrm{KL}(\\mathcal{P}_i||\\pi)$\")\n",
    "\n",
    "        if mcmc_true is not None and polyswyftSettings.model is not None:\n",
    "            ### plot KL(P_true||P_i)\n",
    "            plt.errorbar(x=[i for i in range(0, polyswyftSettings.NRE_num_retrain_rounds + 1)],\n",
    "                         y=[dkl_storage_true[i][0] for i in range(0, polyswyftSettings.NRE_num_retrain_rounds + 1)],\n",
    "                         yerr=[dkl_storage_true[i][1] for i in range(0, polyswyftSettings.NRE_num_retrain_rounds + 1)],\n",
    "                         label=r\"$\\mathrm{KL}(\\mathcal{P}_{\\mathrm{True}}||\\mathcal{P}_i)$\", linestyle=\"--\")\n",
    "            ### plot KL(P_true||Pi)\n",
    "            logPi = polyswyftSettings.model.prior().logpdf(posterior)\n",
    "            logP = polyswyftSettings.model.posterior(obs[polyswyftSettings.obsKey].squeeze()).logpdf(posterior)\n",
    "            dkl_compression_truth = 1/logP.shape[0]*((logP - logPi).sum())\n",
    "            plt.hlines(y=dkl_compression_truth, xmin=0, xmax=polyswyftSettings.NRE_num_retrain_rounds, color=\"red\",\n",
    "                       label=r\"$\\mathrm{KL}(\\mathcal{P}_{\\mathrm{True}}||\\pi)$\",linestyle=\"--\")\n",
    "\n",
    "        plt.legend()\n",
    "        plt.xlabel(\"retrain round\")\n",
    "        plt.ylabel(\"KL divergence\")\n",
    "        plt.savefig(f\"{polyswyftSettings.root}/kl_divergence.pdf\", dpi=300, bbox_inches='tight')\n",
    "        plt.show()\n",
    "        plt.close()\n",
    "\n",
    "\n"
   ],
   "metadata": {
    "collapsed": false,
    "ExecuteTime": {
     "end_time": "2025-05-19T11:08:22.846089Z",
     "start_time": "2025-05-19T11:07:43.948414Z"
    }
   },
   "id": "62ad384caa7bc7c5",
   "execution_count": 11
  }
 ],
 "metadata": {
  "kernelspec": {
   "name": "lfienv",
   "language": "python",
   "display_name": "LFIenv"
  },
  "language_info": {
   "codemirror_mode": {
    "name": "ipython",
    "version": 2
   },
   "file_extension": ".py",
   "mimetype": "text/x-python",
   "name": "python",
   "nbconvert_exporter": "python",
   "pygments_lexer": "ipython2",
   "version": "2.7.6"
  }
 },
 "nbformat": 4,
 "nbformat_minor": 5
}
