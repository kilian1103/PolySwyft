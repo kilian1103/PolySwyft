{
 "cells": [
  {
   "cell_type": "code",
   "outputs": [],
   "source": [
    "import logging\n",
    "from pytorch_lightning.loggers import WandbLogger\n",
    "import numpy as np\n",
    "import pypolychord\n",
    "import wandb\n",
    "import swyft\n",
    "import torch\n",
    "import anesthetic\n",
    "from anesthetic import MCMCSamples\n",
    "import os"
   ],
   "metadata": {
    "collapsed": false,
    "ExecuteTime": {
     "end_time": "2025-05-22T16:48:24.280875Z",
     "start_time": "2025-05-22T16:48:05.248339Z"
    }
   },
   "id": "cbc444902206e184",
   "execution_count": 1
  },
  {
   "cell_type": "code",
   "outputs": [],
   "source": [
    "try:\n",
    "    from mpi4py import MPI\n",
    "    comm_gen = MPI.COMM_WORLD\n",
    "    rank_gen = comm_gen.Get_rank()\n",
    "    size_gen = comm_gen.Get_size()\n",
    "except ImportError:\n",
    "    raise ImportError(\"Please install mpi4py to use this script with MPI.\")\n"
   ],
   "metadata": {
    "collapsed": false,
    "ExecuteTime": {
     "end_time": "2025-05-22T16:48:24.393808Z",
     "start_time": "2025-05-22T16:48:24.283532Z"
    }
   },
   "id": "9c87673a461c8b48",
   "execution_count": 2
  },
  {
   "cell_type": "markdown",
   "source": [
    "We are importing the relevant modules for the (re-)training of the NRE's. Here, we use an already implemented swyft simulator ``PolySwyft_Simulator_MultiGauss`` and a ``SwyftModule`` that is extended with PolySwyft compatible methods. For customisation, one has to re-implement these classes to adjust for their own needs."
   ],
   "metadata": {
    "collapsed": false
   },
   "id": "a42ff434af5fc65d"
  },
  {
   "cell_type": "code",
   "execution_count": 3,
   "id": "initial_id",
   "metadata": {
    "collapsed": true,
    "ExecuteTime": {
     "end_time": "2025-05-22T16:48:24.509395Z",
     "start_time": "2025-05-22T16:48:24.395854Z"
    }
   },
   "outputs": [],
   "source": [
    "from pytorch_lightning import seed_everything\n",
    "from pytorch_lightning.callbacks import LearningRateMonitor, ModelCheckpoint\n",
    "from pytorch_lightning.callbacks.early_stopping import EarlyStopping\n",
    "from PolySwyft.PolySwyft_Network import Network\n",
    "from PolySwyft.PolySwyft_Settings import PolySwyft_Settings\n",
    "from PolySwyft.PolySwyft_Simulator_MultiGauss import Simulator\n",
    "from PolySwyft.utils import select_weighted_contour, resimulate_deadpoints\n",
    "from PolySwyft.PolySwyft_Dataloader import PolySwyftDataModule\n",
    "from PolySwyft.utils import compute_KL_compression, compute_KL_divergence_truth, compute_KL_divergence"
   ]
  },
  {
   "cell_type": "markdown",
   "source": [
    "Initialise the ``PolySwyftSettings``and change some of the default settings."
   ],
   "metadata": {
    "collapsed": false
   },
   "id": "6e7e3779b5cc6e9b"
  },
  {
   "cell_type": "code",
   "outputs": [
    {
     "name": "stderr",
     "output_type": "stream",
     "text": [
      "Global seed set to 234\n"
     ]
    }
   ],
   "source": [
    "root=\"PolySwyft_notebook\"\n",
    "polyswyftSettings = PolySwyft_Settings(root)\n",
    "trainer_kwargs = {\"accelerator\": 'cpu',\n",
    "                  \"devices\": 1,\n",
    "                  \"num_nodes\": 1,\n",
    "                  #\"strategy\": \"ddp\",\n",
    "                  \"max_epochs\": 1000,\n",
    "                  \"log_every_n_steps\": 1,\n",
    "                  \"precision\": 64,\n",
    "                  \"enable_progress_bar\": True,\n",
    "                  \"default_root_dir\": root,\n",
    "                  \"callbacks\": [],\n",
    "                  \"deterministic\": True,\n",
    "                  }\n",
    "polyswyftSettings.trainer_kwargs = trainer_kwargs\n",
    "polyswyftSettings.early_stopping_patience = 3\n",
    "seed_everything(polyswyftSettings.seed, workers=True)\n",
    "logging.basicConfig(filename=polyswyftSettings.logger_name, level=logging.INFO,\n",
    "                    filemode=\"a\")\n",
    "logger = logging.getLogger()\n",
    "polyswyftSettings.logger = logger\n",
    "logger.info('Started')"
   ],
   "metadata": {
    "collapsed": false,
    "ExecuteTime": {
     "end_time": "2025-05-22T16:48:24.529201Z",
     "start_time": "2025-05-22T16:48:24.512637Z"
    }
   },
   "id": "d367a7bb7084911c",
   "execution_count": 4
  },
  {
   "cell_type": "code",
   "outputs": [],
   "source": [
    "#### instantiate swyft simulator\n",
    "polyswyftSettings.num_features = 3\n",
    "polyswyftSettings.num_features_dataset = 5\n",
    "polyswyftSettings.NRE_num_retrain_rounds = 3\n",
    "polyswyftSettings.NRE_start_from_round = 0\n",
    "polyswyftSettings.n_training_samples = 1000\n",
    "d = polyswyftSettings.num_features_dataset\n",
    "n = polyswyftSettings.num_features\n",
    "\n",
    "m = torch.randn(d) * 3  # mean vec of dataset\n",
    "M = torch.randn(size=(d, n))  # transform matrix of dataset to parameter vee\n",
    "C = torch.eye(d)  # cov matrix of dataset\n",
    "mu = torch.zeros(n)  # mean vec of parameter prior\n",
    "Sigma = 50 * torch.eye(n)  # cov matrix of parameter prior\n",
    "sim = Simulator(polyswyftSettings=polyswyftSettings, m=m, M=M, C=C, mu=mu, Sigma=Sigma)\n",
    "polyswyftSettings.model = sim.model  # lsbi model"
   ],
   "metadata": {
    "collapsed": false,
    "ExecuteTime": {
     "end_time": "2025-05-22T16:48:24.543271Z",
     "start_time": "2025-05-22T16:48:24.531298Z"
    }
   },
   "id": "8130426b20cf8c26",
   "execution_count": 5
  },
  {
   "cell_type": "code",
   "outputs": [
    {
     "name": "stderr",
     "output_type": "stream",
     "text": [
      "/Users/hikarukilian/LFIenv/lib/python3.10/site-packages/scipy/stats/_multivariate.py:753: RuntimeWarning: covariance is not symmetric positive-semidefinite.\n",
      "  out = random_state.multivariate_normal(mean, cov, size)\n",
      "Global seed set to 234\n"
     ]
    },
    {
     "data": {
      "text/plain": "  0%|          | 0/1000 [00:00<?, ?it/s]",
      "application/vnd.jupyter.widget-view+json": {
       "version_major": 2,
       "version_minor": 0,
       "model_id": "0f3f2c89d69e43efaff6728d0e8a7ecd"
      }
     },
     "metadata": {},
     "output_type": "display_data"
    },
    {
     "name": "stderr",
     "output_type": "stream",
     "text": [
      "Global seed set to 234\n"
     ]
    }
   ],
   "source": [
    "# generate training dat and obs\n",
    "obs = swyft.Sample(x=torch.tensor(sim.model.evidence().rvs()[None, :]))\n",
    "n_per_core = polyswyftSettings.n_training_samples // size_gen\n",
    "if rank_gen == 0:\n",
    "    n_per_core += polyswyftSettings.n_training_samples % size_gen\n",
    "seed_everything(polyswyftSettings.seed + rank_gen, workers=True)\n",
    "deadpoints = sim.sample(n_per_core, targets=[polyswyftSettings.targetKey])[\n",
    "    polyswyftSettings.targetKey]\n",
    "comm_gen.Barrier()\n",
    "seed_everything(polyswyftSettings.seed, workers=True)\n",
    "deadpoints = comm_gen.allgather(deadpoints)\n",
    "deadpoints = np.concatenate(deadpoints, axis=0)\n",
    "comm_gen.Barrier()"
   ],
   "metadata": {
    "collapsed": false,
    "ExecuteTime": {
     "end_time": "2025-05-22T16:48:25.147935Z",
     "start_time": "2025-05-22T16:48:24.545080Z"
    }
   },
   "id": "f65cf265a9b32989",
   "execution_count": 6
  },
  {
   "cell_type": "code",
   "outputs": [
    {
     "data": {
      "text/plain": "  0%|          | 0/1000 [00:00<?, ?it/s]",
      "application/vnd.jupyter.widget-view+json": {
       "version_major": 2,
       "version_minor": 0,
       "model_id": "a5bda794e53c4b769a6d174c7eaae483"
      }
     },
     "metadata": {},
     "output_type": "display_data"
    }
   ],
   "source": [
    "### generate true posterior for comparison\n",
    "cond = {polyswyftSettings.obsKey: obs[polyswyftSettings.obsKey].numpy().squeeze()}\n",
    "full_joint = sim.sample(polyswyftSettings.n_weighted_samples, conditions=cond)\n",
    "posterior = full_joint[polyswyftSettings.posteriorsKey]\n",
    "weights = np.ones(shape=len(posterior))  # direct samples from posterior have weights 1\n",
    "params_labels = {i: rf\"${polyswyftSettings.targetKey}_{i}$\" for i in range(polyswyftSettings.num_features)}\n",
    "mcmc_true = MCMCSamples(\n",
    "    data=posterior, weights=weights.squeeze(), labels=params_labels)"
   ],
   "metadata": {
    "collapsed": false,
    "ExecuteTime": {
     "end_time": "2025-05-22T16:48:27.156745Z",
     "start_time": "2025-05-22T16:48:25.150231Z"
    }
   },
   "id": "a9a80613196b1f3a",
   "execution_count": 7
  },
  {
   "cell_type": "code",
   "outputs": [],
   "source": [
    "#### create helper function for polyswyft cycle\n",
    "def create_callbacks() -> list:\n",
    "    \"\"\"\n",
    "    Callbacks for the pytorch lightning trainer\n",
    "    \"\"\"\n",
    "    early_stopping_callback = EarlyStopping(monitor='val_loss', min_delta=0.,\n",
    "                                            patience=polyswyftSettings.early_stopping_patience, mode='min')\n",
    "    lr_monitor = LearningRateMonitor(logging_interval='step')\n",
    "    checkpoint_callback = ModelCheckpoint(monitor='val_loss',\n",
    "                                          filename='NRE_{epoch}_{val_loss:.2f}_{train_loss:.2f}', mode='min')\n",
    "    return [early_stopping_callback, lr_monitor, checkpoint_callback]\n",
    "\n",
    "def lr_round_scheduler(rd: int)-> float:\n",
    "    \"\"\"\n",
    "    learning rate decay between rounds (optional).\n",
    "    \"\"\"\n",
    "    lr = polyswyftSettings.learning_rate_init * (polyswyftSettings.learning_rate_decay ** (polyswyftSettings.early_stopping_patience*rd))\n",
    "    return lr\n",
    "\n",
    "def deadpoints_processing(deadpoints: anesthetic.NestedSamples)->anesthetic.NestedSamples:\n",
    "    \"\"\"\n",
    "    deadpoints post processing (optional)\n",
    "    :param deadpoints:\n",
    "    :return: deadpoints\n",
    "    \"\"\"\n",
    "    return deadpoints"
   ],
   "metadata": {
    "collapsed": false,
    "ExecuteTime": {
     "end_time": "2025-05-22T16:48:27.166158Z",
     "start_time": "2025-05-22T16:48:27.158899Z"
    }
   },
   "id": "b54f19e4fc2eaee0",
   "execution_count": 8
  },
  {
   "cell_type": "code",
   "outputs": [],
   "source": [
    " #### set up polychord settings\n",
    "polyset = pypolychord.PolyChordSettings(polyswyftSettings.num_features, nDerived=polyswyftSettings.nderived)\n",
    "polyset.file_root = \"samples\"\n",
    "polyset.base_dir = polyswyftSettings.root\n",
    "polyset.seed = polyswyftSettings.seed\n",
    "polyset.nfail = polyswyftSettings.n_training_samples\n",
    "polyset.nlive = 100*polyswyftSettings.num_features"
   ],
   "metadata": {
    "collapsed": false,
    "ExecuteTime": {
     "end_time": "2025-05-22T16:48:27.175190Z",
     "start_time": "2025-05-22T16:48:27.169027Z"
    }
   },
   "id": "5526ce1aed6712cc",
   "execution_count": 9
  },
  {
   "cell_type": "code",
   "outputs": [
    {
     "name": "stderr",
     "output_type": "stream",
     "text": [
      "\u001B[34m\u001B[1mwandb\u001B[0m: Currently logged in as: \u001B[33mkhs40\u001B[0m (\u001B[33mnsnre\u001B[0m). Use \u001B[1m`wandb login --relogin`\u001B[0m to force relogin\n"
     ]
    },
    {
     "data": {
      "text/plain": "<IPython.core.display.HTML object>",
      "text/html": "wandb version 0.19.11 is available!  To upgrade, please run:\n $ pip install wandb --upgrade"
     },
     "metadata": {},
     "output_type": "display_data"
    },
    {
     "data": {
      "text/plain": "<IPython.core.display.HTML object>",
      "text/html": "Tracking run with wandb version 0.15.3"
     },
     "metadata": {},
     "output_type": "display_data"
    },
    {
     "data": {
      "text/plain": "<IPython.core.display.HTML object>",
      "text/html": "Run data is saved locally in <code>PolySwyft_notebook/round_0/wandb/run-20250522_174830-pypfg032</code>"
     },
     "metadata": {},
     "output_type": "display_data"
    },
    {
     "data": {
      "text/plain": "<IPython.core.display.HTML object>",
      "text/html": "Syncing run <strong><a href='https://wandb.ai/nsnre/PolySwyft_notebook/runs/pypfg032' target=\"_blank\">round_0</a></strong> to <a href='https://wandb.ai/nsnre/PolySwyft_notebook' target=\"_blank\">Weights & Biases</a> (<a href='https://wandb.me/run' target=\"_blank\">docs</a>)<br/>"
     },
     "metadata": {},
     "output_type": "display_data"
    },
    {
     "data": {
      "text/plain": "<IPython.core.display.HTML object>",
      "text/html": " View project at <a href='https://wandb.ai/nsnre/PolySwyft_notebook' target=\"_blank\">https://wandb.ai/nsnre/PolySwyft_notebook</a>"
     },
     "metadata": {},
     "output_type": "display_data"
    },
    {
     "data": {
      "text/plain": "<IPython.core.display.HTML object>",
      "text/html": " View run at <a href='https://wandb.ai/nsnre/PolySwyft_notebook/runs/pypfg032' target=\"_blank\">https://wandb.ai/nsnre/PolySwyft_notebook/runs/pypfg032</a>"
     },
     "metadata": {},
     "output_type": "display_data"
    },
    {
     "name": "stderr",
     "output_type": "stream",
     "text": [
      "GPU available: False, used: False\n",
      "TPU available: False, using: 0 TPU cores\n",
      "IPU available: False, using: 0 IPUs\n",
      "HPU available: False, using: 0 HPUs\n",
      "\n",
      "  | Name    | Type                   | Params\n",
      "---------------------------------------------------\n",
      "0 | network | LogRatioEstimator_Ndim | 68.4 K\n",
      "---------------------------------------------------\n",
      "68.4 K    Trainable params\n",
      "0         Non-trainable params\n",
      "68.4 K    Total params\n",
      "0.547     Total estimated model params size (MB)\n"
     ]
    },
    {
     "data": {
      "text/plain": "Sanity Checking: 0it [00:00, ?it/s]",
      "application/vnd.jupyter.widget-view+json": {
       "version_major": 2,
       "version_minor": 0,
       "model_id": "3a083a282abd433b91dcd75db3b13df1"
      }
     },
     "metadata": {},
     "output_type": "display_data"
    },
    {
     "name": "stderr",
     "output_type": "stream",
     "text": [
      "/Users/hikarukilian/LFIenv/lib/python3.10/site-packages/pytorch_lightning/trainer/connectors/data_connector.py:224: PossibleUserWarning: The dataloader, val_dataloader 0, does not have many workers which may be a bottleneck. Consider increasing the value of the `num_workers` argument` (try 12 which is the number of cpus on this machine) in the `DataLoader` init to improve performance.\n",
      "  rank_zero_warn(\n",
      "/Users/hikarukilian/LFIenv/lib/python3.10/site-packages/torch/__init__.py:696: UserWarning: torch.set_default_tensor_type() is deprecated as of PyTorch 2.1, please use torch.set_default_dtype() and torch.set_default_device() as alternatives. (Triggered internally at /Users/runner/work/pytorch/pytorch/pytorch/torch/csrc/tensor/python_tensor.cpp:453.)\n",
      "  _C._set_default_tensor_type(t)\n",
      "/Users/hikarukilian/LFIenv/lib/python3.10/site-packages/pytorch_lightning/trainer/connectors/data_connector.py:224: PossibleUserWarning: The dataloader, train_dataloader, does not have many workers which may be a bottleneck. Consider increasing the value of the `num_workers` argument` (try 12 which is the number of cpus on this machine) in the `DataLoader` init to improve performance.\n",
      "  rank_zero_warn(\n"
     ]
    },
    {
     "data": {
      "text/plain": "Training: 0it [00:00, ?it/s]",
      "application/vnd.jupyter.widget-view+json": {
       "version_major": 2,
       "version_minor": 0,
       "model_id": "e6c5ff4035e14bf79eea983e60c8488e"
      }
     },
     "metadata": {},
     "output_type": "display_data"
    },
    {
     "data": {
      "text/plain": "Validation: 0it [00:00, ?it/s]",
      "application/vnd.jupyter.widget-view+json": {
       "version_major": 2,
       "version_minor": 0,
       "model_id": "4a1a65a473e04f89b24b1ae2f5089b69"
      }
     },
     "metadata": {},
     "output_type": "display_data"
    },
    {
     "data": {
      "text/plain": "Validation: 0it [00:00, ?it/s]",
      "application/vnd.jupyter.widget-view+json": {
       "version_major": 2,
       "version_minor": 0,
       "model_id": "d87e11de6f704bf989160ec07325614b"
      }
     },
     "metadata": {},
     "output_type": "display_data"
    },
    {
     "data": {
      "text/plain": "Validation: 0it [00:00, ?it/s]",
      "application/vnd.jupyter.widget-view+json": {
       "version_major": 2,
       "version_minor": 0,
       "model_id": "cbbfefde5e2d4aaa8c093657001aaa09"
      }
     },
     "metadata": {},
     "output_type": "display_data"
    },
    {
     "data": {
      "text/plain": "Validation: 0it [00:00, ?it/s]",
      "application/vnd.jupyter.widget-view+json": {
       "version_major": 2,
       "version_minor": 0,
       "model_id": "e719293b1cb846d8a78510c942d32218"
      }
     },
     "metadata": {},
     "output_type": "display_data"
    },
    {
     "data": {
      "text/plain": "Validation: 0it [00:00, ?it/s]",
      "application/vnd.jupyter.widget-view+json": {
       "version_major": 2,
       "version_minor": 0,
       "model_id": "0484df6c332b41d48a50787c59059dfd"
      }
     },
     "metadata": {},
     "output_type": "display_data"
    },
    {
     "data": {
      "text/plain": "Validation: 0it [00:00, ?it/s]",
      "application/vnd.jupyter.widget-view+json": {
       "version_major": 2,
       "version_minor": 0,
       "model_id": "94f024239cf94efca55b4c7caa46a426"
      }
     },
     "metadata": {},
     "output_type": "display_data"
    },
    {
     "data": {
      "text/plain": "Validation: 0it [00:00, ?it/s]",
      "application/vnd.jupyter.widget-view+json": {
       "version_major": 2,
       "version_minor": 0,
       "model_id": "9052a3162281450fa18529053cbecbf6"
      }
     },
     "metadata": {},
     "output_type": "display_data"
    },
    {
     "data": {
      "text/plain": "Validation: 0it [00:00, ?it/s]",
      "application/vnd.jupyter.widget-view+json": {
       "version_major": 2,
       "version_minor": 0,
       "model_id": "d4c1a5f794e442c0bb3d02e5937423d8"
      }
     },
     "metadata": {},
     "output_type": "display_data"
    },
    {
     "data": {
      "text/plain": "Validation: 0it [00:00, ?it/s]",
      "application/vnd.jupyter.widget-view+json": {
       "version_major": 2,
       "version_minor": 0,
       "model_id": "19ee599e65db4af8a2aaba7a2e8ec541"
      }
     },
     "metadata": {},
     "output_type": "display_data"
    },
    {
     "data": {
      "text/plain": "Validation: 0it [00:00, ?it/s]",
      "application/vnd.jupyter.widget-view+json": {
       "version_major": 2,
       "version_minor": 0,
       "model_id": "a8c8243a0ca844189efb2c5469cb4543"
      }
     },
     "metadata": {},
     "output_type": "display_data"
    },
    {
     "data": {
      "text/plain": "Validation: 0it [00:00, ?it/s]",
      "application/vnd.jupyter.widget-view+json": {
       "version_major": 2,
       "version_minor": 0,
       "model_id": "75e28975c76e43a688ab49cff9286d8c"
      }
     },
     "metadata": {},
     "output_type": "display_data"
    },
    {
     "data": {
      "text/plain": "<IPython.core.display.HTML object>",
      "text/html": "Waiting for W&B process to finish... <strong style=\"color:green\">(success).</strong>"
     },
     "metadata": {},
     "output_type": "display_data"
    },
    {
     "data": {
      "text/plain": "VBox(children=(Label(value='0.001 MB of 0.001 MB uploaded (0.000 MB deduped)\\r'), FloatProgress(value=1.0, max…",
      "application/vnd.jupyter.widget-view+json": {
       "version_major": 2,
       "version_minor": 0,
       "model_id": "fec2e21e857549fa833a5a4db42cfd56"
      }
     },
     "metadata": {},
     "output_type": "display_data"
    },
    {
     "data": {
      "text/plain": "<IPython.core.display.HTML object>",
      "text/html": "<style>\n    table.wandb td:nth-child(1) { padding: 0 10px; text-align: left ; width: auto;} td:nth-child(2) {text-align: left ; width: 100%}\n    .wandb-row { display: flex; flex-direction: row; flex-wrap: wrap; justify-content: flex-start; width: 100% }\n    .wandb-col { display: flex; flex-direction: column; flex-basis: 100%; flex: 1; padding: 10px; }\n    </style>\n<div class=\"wandb-row\"><div class=\"wandb-col\"><h3>Run history:</h3><br/><table class=\"wandb\"><tr><td>epoch</td><td>▁▁▁▁▂▂▂▂▂▂▂▃▃▃▃▄▄▄▅▅▅▅▅▅▅▅▆▆▆▇▇▇▇▇▇▇████</td></tr><tr><td>lr-Adam</td><td>████▇▇▇▇▇▇▇▆▆▆▆▅▅▅▄▄▄▄▄▄▄▄▃▃▃▂▂▂▂▂▂▂▂▁▁▁</td></tr><tr><td>train_loss</td><td>█▆▃▂▂▂▁▂▂▂▁▁▂▁▂▁▁▂▁▁▁▂▁▁▁▁▁▁▁▁▁▁▁▁▁▁▁▁▁▁</td></tr><tr><td>trainer/global_step</td><td>▁▁▁▁▂▂▂▂▂▃▃▃▃▃▃▄▄▄▄▄▅▅▅▅▅▅▆▆▆▆▆▇▇▇▇▇▇███</td></tr><tr><td>val_loss</td><td>█▃▂▁▁▁▁▁▁▁▁</td></tr></table><br/></div><div class=\"wandb-col\"><h3>Run summary:</h3><br/><table class=\"wandb\"><tr><td>epoch</td><td>10</td></tr><tr><td>lr-Adam</td><td>0.0009</td></tr><tr><td>train_loss</td><td>-1.27402</td></tr><tr><td>trainer/global_step</td><td>142</td></tr><tr><td>val_loss</td><td>-1.34406</td></tr></table><br/></div></div>"
     },
     "metadata": {},
     "output_type": "display_data"
    },
    {
     "data": {
      "text/plain": "<IPython.core.display.HTML object>",
      "text/html": " View run <strong style=\"color:#cdcd00\">round_0</strong> at: <a href='https://wandb.ai/nsnre/PolySwyft_notebook/runs/pypfg032' target=\"_blank\">https://wandb.ai/nsnre/PolySwyft_notebook/runs/pypfg032</a><br/>Synced 5 W&B file(s), 0 media file(s), 0 artifact file(s) and 0 other file(s)"
     },
     "metadata": {},
     "output_type": "display_data"
    },
    {
     "data": {
      "text/plain": "<IPython.core.display.HTML object>",
      "text/html": "Find logs at: <code>PolySwyft_notebook/round_0/wandb/run-20250522_174830-pypfg032/logs</code>"
     },
     "metadata": {},
     "output_type": "display_data"
    },
    {
     "name": "stdout",
     "output_type": "stream",
     "text": [
      "PolyChord: MPI is already initilised, not initialising, and will not finalize\n",
      "\n",
      "PolyChord: Next Generation Nested Sampling\n",
      "copyright: Will Handley, Mike Hobson & Anthony Lasenby\n",
      "  version: 1.22.1\n",
      "  release: 10th Jan 2024\n",
      "    email: wh260@mrao.cam.ac.uk\n",
      "\n",
      "Run Settings\n",
      "nlive    :     300\n",
      "nDims    :       3\n",
      "nDerived :       0\n",
      "Doing Clustering\n",
      "Synchronous parallelisation\n",
      "Generating equally weighted posteriors\n",
      "Generating weighted posteriors\n",
      "Clustering on posteriors\n",
      "Writing a resume file to PolySwyft_notebook/round_0/samples.resume\n",
      "\n",
      "generating live points\n",
      "\n",
      "all live points generated\n",
      "\n",
      "Speed  1 =  0.250E-02 seconds\n",
      "number of repeats:           15\n",
      "started sampling\n",
      "Last dead point: [ 9.09606494e+00 -8.80320180e-01  2.99194471e+00 -1.00000000e+30\n",
      " -1.24373244e+01]\n",
      "_________________\n",
      "lives      | 300 |\n",
      "phantoms   |2550 |\n",
      "posteriors | 301 |\n",
      "equals     | 164 |\n",
      "‾‾‾‾‾‾‾‾‾‾‾‾‾‾‾‾‾\n",
      "ncluster   =       1 /       1\n",
      "ndead      =                 301\n",
      "nposterior =                 301\n",
      "nequals    =                 168\n",
      "nlike      =                7425\n",
      "<nlike>    =          23.75   (           1.58 per slice )\n",
      "log(Z)     =          -14.01 +/-  0.05\n",
      "log(Z_1)   =          -14.01 +/-  0.05 (still evaluating)\n",
      "\n",
      "\n",
      "Last dead point: [-14.15302533   8.79084276   0.52153707 -13.57524942  -9.61072377]\n",
      "_________________\n",
      "lives      | 300 |\n",
      "phantoms   |3566 |\n",
      "posteriors | 602 |\n",
      "equals     | 132 |\n",
      "‾‾‾‾‾‾‾‾‾‾‾‾‾‾‾‾‾\n",
      "ncluster   =       1 /       1\n",
      "ndead      =                 602\n",
      "nposterior =                 602\n",
      "nequals    =                 120\n",
      "nlike      =               20736\n",
      "<nlike>    =          44.37   (           2.96 per slice )\n",
      "log(Z)     =          -12.50 +/-  0.06\n",
      "log(Z_1)   =          -12.50 +/-  0.06 (still evaluating)\n",
      "\n",
      "\n",
      "Last dead point: [-10.24039587   5.9296309    2.49327136  -5.27786619  -3.69905327]\n",
      "_________________\n",
      "lives      | 300 |\n",
      "phantoms   |3883 |\n",
      "posteriors | 903 |\n",
      "equals     |  58 |\n",
      "‾‾‾‾‾‾‾‾‾‾‾‾‾‾‾‾‾\n",
      "ncluster   =       1 /       1\n",
      "ndead      =                 903\n",
      "nposterior =                 903\n",
      "nequals    =                  46\n",
      "nlike      =               36381\n",
      "<nlike>    =          52.15   (           3.48 per slice )\n",
      "log(Z)     =           -8.43 +/-  0.12\n",
      "log(Z_1)   =           -8.43 +/-  0.12 (still evaluating)\n",
      "\n",
      "\n",
      "Last dead point: [-3.62186308  6.18866188  1.57029997 -1.44154999  1.80642582]\n",
      "_________________\n",
      "lives      | 300 |\n",
      "phantoms   |3911 |\n",
      "posteriors |1204 |\n",
      "equals     |  75 |\n",
      "‾‾‾‾‾‾‾‾‾‾‾‾‾‾‾‾‾\n",
      "ncluster   =       1 /       1\n",
      "ndead      =                1204\n",
      "nposterior =                1204\n",
      "nequals    =                  86\n",
      "nlike      =               54324\n",
      "<nlike>    =          59.81   (           3.99 per slice )\n",
      "log(Z)     =           -3.56 +/-  0.13\n",
      "log(Z_1)   =           -3.56 +/-  0.13 (still evaluating)\n",
      "\n",
      "\n",
      "Last dead point: [-4.32326653  7.25319037  2.41700212  3.87704843  4.61211653]\n",
      "_________________\n",
      "lives      | 300 |\n",
      "phantoms   |4066 |\n",
      "posteriors |1505 |\n",
      "equals     | 170 |\n",
      "‾‾‾‾‾‾‾‾‾‾‾‾‾‾‾‾‾\n",
      "ncluster   =       1 /       1\n",
      "ndead      =                1505\n",
      "nposterior =                1505\n",
      "nequals    =                 161\n",
      "nlike      =               74540\n",
      "<nlike>    =          67.39   (           4.49 per slice )\n",
      "log(Z)     =           -0.96 +/-  0.12\n",
      "log(Z_1)   =           -0.96 +/-  0.12 (still evaluating)\n",
      "\n",
      "\n",
      "Last dead point: [-2.70919079  9.37758558  0.01401497 -0.15932948  6.1318875 ]\n",
      "_________________\n",
      "lives      | 300 |\n",
      "phantoms   |3890 |\n",
      "posteriors |1806 |\n",
      "equals     | 368 |\n",
      "‾‾‾‾‾‾‾‾‾‾‾‾‾‾‾‾‾\n",
      "ncluster   =       1 /       1\n",
      "ndead      =                1806\n",
      "nposterior =                1806\n",
      "nequals    =                 362\n",
      "nlike      =               95721\n",
      "<nlike>    =          70.60   (           4.71 per slice )\n",
      "log(Z)     =            0.31 +/-  0.12\n",
      "log(Z_1)   =            0.31 +/-  0.12 (still evaluating)\n",
      "\n",
      "\n",
      "Last dead point: [-1.2726424  10.07232334  0.76603072  6.20970166  6.79792081]\n",
      "_________________\n",
      "lives      | 300 |\n",
      "phantoms   |4127 |\n",
      "posteriors |2107 |\n",
      "equals     | 633 |\n",
      "‾‾‾‾‾‾‾‾‾‾‾‾‾‾‾‾‾\n",
      "ncluster   =       1 /       1\n",
      "ndead      =                2107\n",
      "nposterior =                2107\n",
      "nequals    =                 624\n",
      "nlike      =              117309\n",
      "<nlike>    =          71.96   (           4.80 per slice )\n",
      "log(Z)     =            0.85 +/-  0.13\n",
      "log(Z_1)   =            0.85 +/-  0.13 (still evaluating)\n",
      "\n",
      "\n",
      "Last dead point: [-4.54524635  9.4518644   1.42606155  7.12413876  7.15735429]\n",
      "_________________\n",
      "lives      | 300 |\n",
      "phantoms   |4351 |\n",
      "posteriors |2408 |\n",
      "equals     | 797 |\n",
      "‾‾‾‾‾‾‾‾‾‾‾‾‾‾‾‾‾\n",
      "ncluster   =       1 /       1\n",
      "ndead      =                2408\n",
      "nposterior =                2408\n",
      "nequals    =                 790\n",
      "nlike      =              138970\n",
      "<nlike>    =          72.20   (           4.81 per slice )\n",
      "log(Z)     =            1.08 +/-  0.13\n",
      "log(Z_1)   =            1.08 +/-  0.13 (still evaluating)\n",
      "\n",
      "\n",
      "Last dead point: [-2.68201323 10.08895196  1.60982445  1.56078875  7.36896063]\n",
      "_________________\n",
      "lives      | 300 |\n",
      "phantoms   |4163 |\n",
      "posteriors |2709 |\n",
      "equals     | 879 |\n",
      "‾‾‾‾‾‾‾‾‾‾‾‾‾‾‾‾‾\n",
      "ncluster   =       1 /       1\n",
      "ndead      =                2709\n",
      "nposterior =                2709\n",
      "nequals    =                 853\n",
      "nlike      =              160374\n",
      "<nlike>    =          71.35   (           4.76 per slice )\n",
      "log(Z)     =            1.18 +/-  0.13\n",
      "log(Z_1)   =            1.18 +/-  0.13 (still evaluating)\n",
      "\n",
      "\n",
      "Last dead point: [-3.52913032 10.01359747  1.63836267  7.42952066  7.46065306]\n",
      "_________________\n",
      "lives      | 300 |\n",
      "phantoms   |4517 |\n",
      "posteriors |3010 |\n",
      "equals     | 916 |\n",
      "‾‾‾‾‾‾‾‾‾‾‾‾‾‾‾‾‾\n",
      "ncluster   =       1 /       1\n",
      "ndead      =                3010\n",
      "nposterior =                3010\n",
      "nequals    =                 892\n",
      "nlike      =              182283\n",
      "<nlike>    =          73.03   (           4.87 per slice )\n",
      "log(Z)     =            1.21 +/-  0.13\n",
      "log(Z_1)   =            1.21 +/-  0.13 (still evaluating)\n",
      "\n",
      "\n",
      "Last dead point: [-2.9454997   9.73968583  1.20278007  7.4131884   7.52117979]\n",
      "_________________\n",
      "lives      | 300 |\n",
      "phantoms   |4199 |\n",
      "posteriors |3311 |\n",
      "equals     | 924 |\n",
      "‾‾‾‾‾‾‾‾‾‾‾‾‾‾‾‾‾\n",
      "ncluster   =       1 /       1\n",
      "ndead      =                3311\n",
      "nposterior =                3311\n",
      "nequals    =                 905\n",
      "nlike      =              203971\n",
      "<nlike>    =          72.29   (           4.82 per slice )\n",
      "log(Z)     =            1.23 +/-  0.13\n",
      "log(Z_1)   =            1.23 +/-  0.13 (still evaluating)\n",
      "\n",
      "\n",
      "Last dead point: [-3.25290988  9.83905257  1.20251408  7.54605998  7.55698472]\n",
      "_________________\n",
      "lives      | 300 |\n",
      "phantoms   |4246 |\n",
      "posteriors |3612 |\n",
      "equals     | 932 |\n",
      "‾‾‾‾‾‾‾‾‾‾‾‾‾‾‾‾‾\n",
      "ncluster   =       1 /       1\n",
      "ndead      =                3612\n",
      "nposterior =                3612\n",
      "nequals    =                 910\n",
      "nlike      =              225502\n",
      "<nlike>    =          71.77   (           4.78 per slice )\n",
      "log(Z)     =            1.24 +/-  0.13\n",
      "log(Z_1)   =            1.24 +/-  0.13 (still evaluating)\n",
      "\n",
      "\n",
      "Last dead point: [-3.37563343  9.86624484  1.31425718  7.56436944  7.57889261]\n",
      "_________________\n",
      "lives      | 300 |\n",
      "phantoms   |4161 |\n",
      "posteriors |3913 |\n",
      "equals     | 933 |\n",
      "‾‾‾‾‾‾‾‾‾‾‾‾‾‾‾‾‾\n",
      "ncluster   =       1 /       1\n",
      "ndead      =                3913\n",
      "nposterior =                3913\n",
      "nequals    =                 913\n",
      "nlike      =              247222\n",
      "<nlike>    =          72.40   (           4.83 per slice )\n",
      "log(Z)     =            1.24 +/-  0.13\n",
      "log(Z_1)   =            1.24 +/-  0.13 (still evaluating)\n",
      "\n",
      "\n",
      "Last dead point: [-3.57601137  9.72667299  1.4642685   7.46163783  7.60983705]\n",
      " ____________________________________________________ \n",
      "|                                                    |\n",
      "| ndead  =         4283                              |\n",
      "| log(Z) =            1.23864 +/-            0.12871 |\n",
      "|____________________________________________________|\n",
      "Round 0: KL(P_i||Pi) = 4.844912843293655 +/- 0.1175298094547159\n",
      "Round 0: KL(P_true||P_(i)) = 1.247894360209685 +/- 0.13589226654470135\n",
      "Round 0: KL(P_true||Pi) = 6.715403081157254\n"
     ]
    },
    {
     "data": {
      "text/plain": "<IPython.core.display.HTML object>",
      "text/html": "wandb version 0.19.11 is available!  To upgrade, please run:\n $ pip install wandb --upgrade"
     },
     "metadata": {},
     "output_type": "display_data"
    },
    {
     "data": {
      "text/plain": "<IPython.core.display.HTML object>",
      "text/html": "Tracking run with wandb version 0.15.3"
     },
     "metadata": {},
     "output_type": "display_data"
    },
    {
     "data": {
      "text/plain": "<IPython.core.display.HTML object>",
      "text/html": "Run data is saved locally in <code>PolySwyft_notebook/round_1/wandb/run-20250522_175553-j92uqtji</code>"
     },
     "metadata": {},
     "output_type": "display_data"
    },
    {
     "data": {
      "text/plain": "<IPython.core.display.HTML object>",
      "text/html": "Syncing run <strong><a href='https://wandb.ai/nsnre/PolySwyft_notebook/runs/j92uqtji' target=\"_blank\">round_1</a></strong> to <a href='https://wandb.ai/nsnre/PolySwyft_notebook' target=\"_blank\">Weights & Biases</a> (<a href='https://wandb.me/run' target=\"_blank\">docs</a>)<br/>"
     },
     "metadata": {},
     "output_type": "display_data"
    },
    {
     "data": {
      "text/plain": "<IPython.core.display.HTML object>",
      "text/html": " View project at <a href='https://wandb.ai/nsnre/PolySwyft_notebook' target=\"_blank\">https://wandb.ai/nsnre/PolySwyft_notebook</a>"
     },
     "metadata": {},
     "output_type": "display_data"
    },
    {
     "data": {
      "text/plain": "<IPython.core.display.HTML object>",
      "text/html": " View run at <a href='https://wandb.ai/nsnre/PolySwyft_notebook/runs/j92uqtji' target=\"_blank\">https://wandb.ai/nsnre/PolySwyft_notebook/runs/j92uqtji</a>"
     },
     "metadata": {},
     "output_type": "display_data"
    },
    {
     "name": "stderr",
     "output_type": "stream",
     "text": [
      "GPU available: False, used: False\n",
      "TPU available: False, using: 0 TPU cores\n",
      "IPU available: False, using: 0 IPUs\n",
      "HPU available: False, using: 0 HPUs\n",
      "\n",
      "  | Name    | Type                   | Params\n",
      "---------------------------------------------------\n",
      "0 | network | LogRatioEstimator_Ndim | 68.4 K\n",
      "---------------------------------------------------\n",
      "68.4 K    Trainable params\n",
      "0         Non-trainable params\n",
      "68.4 K    Total params\n",
      "0.547     Total estimated model params size (MB)\n"
     ]
    },
    {
     "data": {
      "text/plain": "Sanity Checking: 0it [00:00, ?it/s]",
      "application/vnd.jupyter.widget-view+json": {
       "version_major": 2,
       "version_minor": 0,
       "model_id": "1f2ba15051a844e4b089588a550b256f"
      }
     },
     "metadata": {},
     "output_type": "display_data"
    },
    {
     "name": "stderr",
     "output_type": "stream",
     "text": [
      "/Users/hikarukilian/LFIenv/lib/python3.10/site-packages/pytorch_lightning/trainer/connectors/data_connector.py:224: PossibleUserWarning: The dataloader, val_dataloader 0, does not have many workers which may be a bottleneck. Consider increasing the value of the `num_workers` argument` (try 12 which is the number of cpus on this machine) in the `DataLoader` init to improve performance.\n",
      "  rank_zero_warn(\n",
      "/Users/hikarukilian/LFIenv/lib/python3.10/site-packages/pytorch_lightning/trainer/connectors/data_connector.py:224: PossibleUserWarning: The dataloader, train_dataloader, does not have many workers which may be a bottleneck. Consider increasing the value of the `num_workers` argument` (try 12 which is the number of cpus on this machine) in the `DataLoader` init to improve performance.\n",
      "  rank_zero_warn(\n"
     ]
    },
    {
     "data": {
      "text/plain": "Training: 0it [00:00, ?it/s]",
      "application/vnd.jupyter.widget-view+json": {
       "version_major": 2,
       "version_minor": 0,
       "model_id": "a2f3ba238b8746dcb999a0c35826f0b8"
      }
     },
     "metadata": {},
     "output_type": "display_data"
    },
    {
     "data": {
      "text/plain": "Validation: 0it [00:00, ?it/s]",
      "application/vnd.jupyter.widget-view+json": {
       "version_major": 2,
       "version_minor": 0,
       "model_id": "acb36cd79e14410b88d4fbaf6931964c"
      }
     },
     "metadata": {},
     "output_type": "display_data"
    },
    {
     "data": {
      "text/plain": "Validation: 0it [00:00, ?it/s]",
      "application/vnd.jupyter.widget-view+json": {
       "version_major": 2,
       "version_minor": 0,
       "model_id": "e820951d3e8b43c8bcfc8273ee733560"
      }
     },
     "metadata": {},
     "output_type": "display_data"
    },
    {
     "data": {
      "text/plain": "Validation: 0it [00:00, ?it/s]",
      "application/vnd.jupyter.widget-view+json": {
       "version_major": 2,
       "version_minor": 0,
       "model_id": "7f5e6cc8ff5344fb9d0b1cdca035c0af"
      }
     },
     "metadata": {},
     "output_type": "display_data"
    },
    {
     "data": {
      "text/plain": "Validation: 0it [00:00, ?it/s]",
      "application/vnd.jupyter.widget-view+json": {
       "version_major": 2,
       "version_minor": 0,
       "model_id": "b18da572df8c4dc28960af0ddc3b11d0"
      }
     },
     "metadata": {},
     "output_type": "display_data"
    },
    {
     "data": {
      "text/plain": "Validation: 0it [00:00, ?it/s]",
      "application/vnd.jupyter.widget-view+json": {
       "version_major": 2,
       "version_minor": 0,
       "model_id": "27988f4a56a3476fabbfc85b3ea50e45"
      }
     },
     "metadata": {},
     "output_type": "display_data"
    },
    {
     "data": {
      "text/plain": "<IPython.core.display.HTML object>",
      "text/html": "Waiting for W&B process to finish... <strong style=\"color:green\">(success).</strong>"
     },
     "metadata": {},
     "output_type": "display_data"
    },
    {
     "data": {
      "text/plain": "VBox(children=(Label(value='0.001 MB of 0.001 MB uploaded (0.000 MB deduped)\\r'), FloatProgress(value=1.0, max…",
      "application/vnd.jupyter.widget-view+json": {
       "version_major": 2,
       "version_minor": 0,
       "model_id": "26de9ef70569407ca2f367b9dafaac3c"
      }
     },
     "metadata": {},
     "output_type": "display_data"
    },
    {
     "data": {
      "text/plain": "<IPython.core.display.HTML object>",
      "text/html": "<style>\n    table.wandb td:nth-child(1) { padding: 0 10px; text-align: left ; width: auto;} td:nth-child(2) {text-align: left ; width: 100%}\n    .wandb-row { display: flex; flex-direction: row; flex-wrap: wrap; justify-content: flex-start; width: 100% }\n    .wandb-col { display: flex; flex-direction: column; flex-basis: 100%; flex: 1; padding: 10px; }\n    </style>\n<div class=\"wandb-row\"><div class=\"wandb-col\"><h3>Run history:</h3><br/><table class=\"wandb\"><tr><td>epoch</td><td>▁▁▁▁▁▁▁▁▃▃▃▃▃▃▃▃▅▅▅▅▅▅▅▅▆▆▆▆▆▆▆▆████████</td></tr><tr><td>lr-Adam</td><td>████████▆▆▆▆▆▆▆▆▄▄▄▄▄▄▄▄▃▃▃▃▃▃▃▃▁▁▁▁▁▁▁▁</td></tr><tr><td>train_loss</td><td>▆█▄▄▃▅▃▃▅▃▃▃▃▄▃▄▅▃▂▁▅▂▅▄▃▃▅▃▄▅▅▄▃▅▂▃▂▄▃▂</td></tr><tr><td>trainer/global_step</td><td>▁▁▁▂▂▂▂▂▂▃▃▃▃▃▃▄▄▄▄▄▅▅▅▅▅▅▆▆▆▆▆▆▇▇▇▇▇███</td></tr><tr><td>val_loss</td><td>▁▁▃▄█</td></tr></table><br/></div><div class=\"wandb-col\"><h3>Run summary:</h3><br/><table class=\"wandb\"><tr><td>epoch</td><td>4</td></tr><tr><td>lr-Adam</td><td>0.00093</td></tr><tr><td>train_loss</td><td>-1.37988</td></tr><tr><td>trainer/global_step</td><td>334</td></tr><tr><td>val_loss</td><td>-0.74769</td></tr></table><br/></div></div>"
     },
     "metadata": {},
     "output_type": "display_data"
    },
    {
     "data": {
      "text/plain": "<IPython.core.display.HTML object>",
      "text/html": " View run <strong style=\"color:#cdcd00\">round_1</strong> at: <a href='https://wandb.ai/nsnre/PolySwyft_notebook/runs/j92uqtji' target=\"_blank\">https://wandb.ai/nsnre/PolySwyft_notebook/runs/j92uqtji</a><br/>Synced 5 W&B file(s), 0 media file(s), 0 artifact file(s) and 0 other file(s)"
     },
     "metadata": {},
     "output_type": "display_data"
    },
    {
     "data": {
      "text/plain": "<IPython.core.display.HTML object>",
      "text/html": "Find logs at: <code>PolySwyft_notebook/round_1/wandb/run-20250522_175553-j92uqtji/logs</code>"
     },
     "metadata": {},
     "output_type": "display_data"
    },
    {
     "name": "stdout",
     "output_type": "stream",
     "text": [
      "PolyChord: MPI is already initilised, not initialising, and will not finalize\n",
      "\n",
      "PolyChord: Next Generation Nested Sampling\n",
      "copyright: Will Handley, Mike Hobson & Anthony Lasenby\n",
      "  version: 1.22.1\n",
      "  release: 10th Jan 2024\n",
      "    email: wh260@mrao.cam.ac.uk\n",
      "\n",
      "Run Settings\n",
      "nlive    :     300\n",
      "nDims    :       3\n",
      "nDerived :       0\n",
      "Doing Clustering\n",
      "Synchronous parallelisation\n",
      "Generating equally weighted posteriors\n",
      "Generating weighted posteriors\n",
      "Clustering on posteriors\n",
      "Writing a resume file to PolySwyft_notebook/round_1/samples.resume\n",
      "\n",
      "generating live points\n",
      "\n",
      "all live points generated\n",
      "\n",
      "Speed  1 =  0.399E-02 seconds\n",
      "number of repeats:           15\n",
      "started sampling\n",
      "Last dead point: [-4.28000786e+00  4.22626850e+00 -3.93228485e+00 -1.00000000e+30\n",
      " -1.49539597e+01]\n",
      "_________________\n",
      "lives      | 300 |\n",
      "phantoms   |2522 |\n",
      "posteriors | 301 |\n",
      "equals     |  87 |\n",
      "‾‾‾‾‾‾‾‾‾‾‾‾‾‾‾‾‾\n",
      "ncluster   =       1 /       1\n",
      "ndead      =                 301\n",
      "nposterior =                 301\n",
      "nequals    =                  76\n",
      "nlike      =                7423\n",
      "<nlike>    =          23.74   (           1.58 per slice )\n",
      "log(Z)     =          -17.30 +/-  0.08\n",
      "log(Z_1)   =          -17.30 +/-  0.08 (still evaluating)\n",
      "\n",
      "\n",
      "Last dead point: [-11.24043064  10.03476874  -1.75132955 -14.96507345 -12.27016649]\n",
      "_________________\n",
      "lives      | 300 |\n",
      "phantoms   |3545 |\n",
      "posteriors | 602 |\n",
      "equals     | 177 |\n",
      "‾‾‾‾‾‾‾‾‾‾‾‾‾‾‾‾‾\n",
      "ncluster   =       1 /       1\n",
      "ndead      =                 602\n",
      "nposterior =                 602\n",
      "nequals    =                 151\n",
      "nlike      =               21870\n",
      "<nlike>    =          48.16   (           3.21 per slice )\n",
      "log(Z)     =          -14.87 +/-  0.07\n",
      "log(Z_1)   =          -14.87 +/-  0.07 (still evaluating)\n",
      "\n",
      "\n",
      "Last dead point: [ 1.52592602  5.14442105  0.37205684 -9.19363509 -7.82385139]\n",
      "_________________\n",
      "lives      | 300 |\n",
      "phantoms   |3868 |\n",
      "posteriors | 895 |\n",
      "equals     |  80 |\n",
      "‾‾‾‾‾‾‾‾‾‾‾‾‾‾‾‾‾\n",
      "ncluster   =       1 /       2\n",
      "ndead      =                 901\n",
      "nposterior =                 901\n",
      "nequals    =                  72\n",
      "nlike      =               38561\n",
      "<nlike>    =          55.64   (           3.71 per slice )\n",
      "log(Z)     =          -12.21 +/-  0.10\n",
      "log(Z_1)   =          -12.22 +/-  0.11 (still evaluating)\n",
      "log(Z_2)   =          -16.74 +/-  0.33\n",
      "\n",
      "\n",
      "Last dead point: [ 1.73848062  7.82987073  2.16610099 -9.92196847 -2.51194423]\n",
      "_________________\n",
      "lives      | 300 |\n",
      "phantoms   |3991 |\n",
      "posteriors |1196 |\n",
      "equals     |  76 |\n",
      "‾‾‾‾‾‾‾‾‾‾‾‾‾‾‾‾‾\n",
      "ncluster   =       1 /       2\n",
      "ndead      =                1202\n",
      "nposterior =                1202\n",
      "nequals    =                  73\n",
      "nlike      =               57065\n",
      "<nlike>    =          61.68   (           4.11 per slice )\n",
      "log(Z)     =           -7.93 +/-  0.13\n",
      "log(Z_1)   =           -7.93 +/-  0.13 (still evaluating)\n",
      "log(Z_2)   =          -16.74 +/-  0.33\n",
      "\n",
      "\n",
      "Last dead point: [-1.49132855  6.66174903  1.85480699 -0.27679537  0.19010834]\n",
      "_________________\n",
      "lives      | 300 |\n",
      "phantoms   |4296 |\n",
      "posteriors |1497 |\n",
      "equals     | 199 |\n",
      "‾‾‾‾‾‾‾‾‾‾‾‾‾‾‾‾‾\n",
      "ncluster   =       1 /       2\n",
      "ndead      =                1503\n",
      "nposterior =                1503\n",
      "nequals    =                 189\n",
      "nlike      =               77569\n",
      "<nlike>    =          68.35   (           4.56 per slice )\n",
      "log(Z)     =           -5.31 +/-  0.12\n",
      "log(Z_1)   =           -5.31 +/-  0.12 (still evaluating)\n",
      "log(Z_2)   =          -16.74 +/-  0.33\n",
      "\n",
      "\n",
      "Last dead point: [-2.31667787  9.42435396 -0.47770268  1.24661359  1.39834661]\n",
      "_________________\n",
      "lives      | 300 |\n",
      "phantoms   |4178 |\n",
      "posteriors |1798 |\n",
      "equals     | 420 |\n",
      "‾‾‾‾‾‾‾‾‾‾‾‾‾‾‾‾‾\n",
      "ncluster   =       1 /       2\n",
      "ndead      =                1804\n",
      "nposterior =                1804\n",
      "nequals    =                 404\n",
      "nlike      =               98898\n",
      "<nlike>    =          71.10   (           4.74 per slice )\n",
      "log(Z)     =           -4.23 +/-  0.12\n",
      "log(Z_1)   =           -4.23 +/-  0.12 (still evaluating)\n",
      "log(Z_2)   =          -16.74 +/-  0.33\n",
      "\n",
      "\n",
      "Last dead point: [-3.51285491  9.69348902  1.40041177 -1.12505343  1.99853713]\n",
      "_________________\n",
      "lives      | 300 |\n",
      "phantoms   |4067 |\n",
      "posteriors |2099 |\n",
      "equals     | 672 |\n",
      "‾‾‾‾‾‾‾‾‾‾‾‾‾‾‾‾‾\n",
      "ncluster   =       1 /       2\n",
      "ndead      =                2105\n",
      "nposterior =                2105\n",
      "nequals    =                 647\n",
      "nlike      =              120608\n",
      "<nlike>    =          72.37   (           4.82 per slice )\n",
      "log(Z)     =           -3.78 +/-  0.12\n",
      "log(Z_1)   =           -3.78 +/-  0.12 (still evaluating)\n",
      "log(Z_2)   =          -16.74 +/-  0.33\n",
      "\n",
      "\n",
      "Last dead point: [-1.33679227  8.89988852  1.07864991  2.28480062  2.30428331]\n",
      "_________________\n",
      "lives      | 300 |\n",
      "phantoms   |4092 |\n",
      "posteriors |2400 |\n",
      "equals     | 821 |\n",
      "‾‾‾‾‾‾‾‾‾‾‾‾‾‾‾‾‾\n",
      "ncluster   =       1 /       2\n",
      "ndead      =                2406\n",
      "nposterior =                2406\n",
      "nequals    =                 790\n",
      "nlike      =              142268\n",
      "<nlike>    =          72.20   (           4.81 per slice )\n",
      "log(Z)     =           -3.58 +/-  0.12\n",
      "log(Z_1)   =           -3.58 +/-  0.12 (still evaluating)\n",
      "log(Z_2)   =          -16.74 +/-  0.33\n",
      "\n",
      "\n",
      "Last dead point: [-1.79944953  9.12282671  0.99512006  2.23673919  2.47635816]\n",
      "_________________\n",
      "lives      | 300 |\n",
      "phantoms   |4101 |\n",
      "posteriors |2701 |\n",
      "equals     | 863 |\n",
      "‾‾‾‾‾‾‾‾‾‾‾‾‾‾‾‾‾\n",
      "ncluster   =       1 /       2\n",
      "ndead      =                2707\n",
      "nposterior =                2707\n",
      "nequals    =                 856\n",
      "nlike      =              163733\n",
      "<nlike>    =          71.55   (           4.77 per slice )\n",
      "log(Z)     =           -3.51 +/-  0.13\n",
      "log(Z_1)   =           -3.51 +/-  0.13 (still evaluating)\n",
      "log(Z_2)   =          -16.74 +/-  0.33\n",
      "\n",
      "\n",
      "Last dead point: [-1.52575911  8.61707961  0.81052999  2.49052756  2.55703937]\n",
      "_________________\n",
      "lives      | 300 |\n",
      "phantoms   |4337 |\n",
      "posteriors |3002 |\n",
      "equals     | 889 |\n",
      "‾‾‾‾‾‾‾‾‾‾‾‾‾‾‾‾‾\n",
      "ncluster   =       1 /       2\n",
      "ndead      =                3008\n",
      "nposterior =                3008\n",
      "nequals    =                 881\n",
      "nlike      =              185467\n",
      "<nlike>    =          72.45   (           4.83 per slice )\n",
      "log(Z)     =           -3.48 +/-  0.13\n",
      "log(Z_1)   =           -3.48 +/-  0.13 (still evaluating)\n",
      "log(Z_2)   =          -16.74 +/-  0.33\n",
      "\n",
      "\n",
      "Last dead point: [-1.81846969  9.08798906  0.54331114  2.49106193  2.60710197]\n",
      "_________________\n",
      "lives      | 300 |\n",
      "phantoms   |4323 |\n",
      "posteriors |3303 |\n",
      "equals     | 900 |\n",
      "‾‾‾‾‾‾‾‾‾‾‾‾‾‾‾‾‾\n",
      "ncluster   =       1 /       2\n",
      "ndead      =                3309\n",
      "nposterior =                3309\n",
      "nequals    =                 891\n",
      "nlike      =              207087\n",
      "<nlike>    =          72.07   (           4.80 per slice )\n",
      "log(Z)     =           -3.46 +/-  0.13\n",
      "log(Z_1)   =           -3.46 +/-  0.13 (still evaluating)\n",
      "log(Z_2)   =          -16.74 +/-  0.33\n",
      "\n",
      "\n",
      "Last dead point: [-1.7833169   9.08312895  0.69521654  2.60990662  2.63383095]\n",
      "_________________\n",
      "lives      | 300 |\n",
      "phantoms   |4335 |\n",
      "posteriors |3604 |\n",
      "equals     | 904 |\n",
      "‾‾‾‾‾‾‾‾‾‾‾‾‾‾‾‾‾\n",
      "ncluster   =       1 /       2\n",
      "ndead      =                3610\n",
      "nposterior =                3610\n",
      "nequals    =                 896\n",
      "nlike      =              228853\n",
      "<nlike>    =          72.55   (           4.84 per slice )\n",
      "log(Z)     =           -3.46 +/-  0.13\n",
      "log(Z_1)   =           -3.46 +/-  0.13 (still evaluating)\n",
      "log(Z_2)   =          -16.74 +/-  0.33\n",
      "\n",
      "\n",
      "Last dead point: [-2.01658187  8.88941009  0.79569458  2.61868192  2.66044632]\n",
      " ____________________________________________________ \n",
      "|                                                    |\n",
      "| ndead  =         4207                              |\n",
      "| log(Z) =           -3.45642 +/-            0.12602 |\n",
      "|____________________________________________________|\n",
      "Round 1: KL(P_i||P_(i-1)) = 1.096339989103581 +/- 0.18997103717681849\n",
      "Round 1: KL(P_i||Pi) = 4.688500356634735 +/- 0.10518115871766132\n",
      "Round 1: KL(P_true||P_(i)) = 1.3273976657861795 +/- 0.134042560929377\n",
      "Round 1: KL(P_true||Pi) = 6.715403081157254\n"
     ]
    },
    {
     "data": {
      "text/plain": "<IPython.core.display.HTML object>",
      "text/html": "wandb version 0.19.11 is available!  To upgrade, please run:\n $ pip install wandb --upgrade"
     },
     "metadata": {},
     "output_type": "display_data"
    },
    {
     "data": {
      "text/plain": "<IPython.core.display.HTML object>",
      "text/html": "Tracking run with wandb version 0.15.3"
     },
     "metadata": {},
     "output_type": "display_data"
    },
    {
     "data": {
      "text/plain": "<IPython.core.display.HTML object>",
      "text/html": "Run data is saved locally in <code>PolySwyft_notebook/round_2/wandb/run-20250522_180617-etnbs2xk</code>"
     },
     "metadata": {},
     "output_type": "display_data"
    },
    {
     "data": {
      "text/plain": "<IPython.core.display.HTML object>",
      "text/html": "Syncing run <strong><a href='https://wandb.ai/nsnre/PolySwyft_notebook/runs/etnbs2xk' target=\"_blank\">round_2</a></strong> to <a href='https://wandb.ai/nsnre/PolySwyft_notebook' target=\"_blank\">Weights & Biases</a> (<a href='https://wandb.me/run' target=\"_blank\">docs</a>)<br/>"
     },
     "metadata": {},
     "output_type": "display_data"
    },
    {
     "data": {
      "text/plain": "<IPython.core.display.HTML object>",
      "text/html": " View project at <a href='https://wandb.ai/nsnre/PolySwyft_notebook' target=\"_blank\">https://wandb.ai/nsnre/PolySwyft_notebook</a>"
     },
     "metadata": {},
     "output_type": "display_data"
    },
    {
     "data": {
      "text/plain": "<IPython.core.display.HTML object>",
      "text/html": " View run at <a href='https://wandb.ai/nsnre/PolySwyft_notebook/runs/etnbs2xk' target=\"_blank\">https://wandb.ai/nsnre/PolySwyft_notebook/runs/etnbs2xk</a>"
     },
     "metadata": {},
     "output_type": "display_data"
    },
    {
     "name": "stderr",
     "output_type": "stream",
     "text": [
      "GPU available: False, used: False\n",
      "TPU available: False, using: 0 TPU cores\n",
      "IPU available: False, using: 0 IPUs\n",
      "HPU available: False, using: 0 HPUs\n",
      "\n",
      "  | Name    | Type                   | Params\n",
      "---------------------------------------------------\n",
      "0 | network | LogRatioEstimator_Ndim | 68.4 K\n",
      "---------------------------------------------------\n",
      "68.4 K    Trainable params\n",
      "0         Non-trainable params\n",
      "68.4 K    Total params\n",
      "0.547     Total estimated model params size (MB)\n"
     ]
    },
    {
     "data": {
      "text/plain": "Sanity Checking: 0it [00:00, ?it/s]",
      "application/vnd.jupyter.widget-view+json": {
       "version_major": 2,
       "version_minor": 0,
       "model_id": "cae14ea4d41445eb9602513fb4b6f234"
      }
     },
     "metadata": {},
     "output_type": "display_data"
    },
    {
     "name": "stderr",
     "output_type": "stream",
     "text": [
      "/Users/hikarukilian/LFIenv/lib/python3.10/site-packages/pytorch_lightning/trainer/connectors/data_connector.py:224: PossibleUserWarning: The dataloader, val_dataloader 0, does not have many workers which may be a bottleneck. Consider increasing the value of the `num_workers` argument` (try 12 which is the number of cpus on this machine) in the `DataLoader` init to improve performance.\n",
      "  rank_zero_warn(\n",
      "/Users/hikarukilian/LFIenv/lib/python3.10/site-packages/pytorch_lightning/trainer/connectors/data_connector.py:224: PossibleUserWarning: The dataloader, train_dataloader, does not have many workers which may be a bottleneck. Consider increasing the value of the `num_workers` argument` (try 12 which is the number of cpus on this machine) in the `DataLoader` init to improve performance.\n",
      "  rank_zero_warn(\n"
     ]
    },
    {
     "data": {
      "text/plain": "Training: 0it [00:00, ?it/s]",
      "application/vnd.jupyter.widget-view+json": {
       "version_major": 2,
       "version_minor": 0,
       "model_id": "5ffbee2cd43245f8aaf42c03de5db5ab"
      }
     },
     "metadata": {},
     "output_type": "display_data"
    },
    {
     "data": {
      "text/plain": "Validation: 0it [00:00, ?it/s]",
      "application/vnd.jupyter.widget-view+json": {
       "version_major": 2,
       "version_minor": 0,
       "model_id": "88c9f23d770044e6b379fc0d62b41b83"
      }
     },
     "metadata": {},
     "output_type": "display_data"
    },
    {
     "data": {
      "text/plain": "Validation: 0it [00:00, ?it/s]",
      "application/vnd.jupyter.widget-view+json": {
       "version_major": 2,
       "version_minor": 0,
       "model_id": "fd8dd0b250f94602a607f18519354b5b"
      }
     },
     "metadata": {},
     "output_type": "display_data"
    },
    {
     "data": {
      "text/plain": "Validation: 0it [00:00, ?it/s]",
      "application/vnd.jupyter.widget-view+json": {
       "version_major": 2,
       "version_minor": 0,
       "model_id": "dc11f7ca94b4442f91e0b8265afea018"
      }
     },
     "metadata": {},
     "output_type": "display_data"
    },
    {
     "data": {
      "text/plain": "Validation: 0it [00:00, ?it/s]",
      "application/vnd.jupyter.widget-view+json": {
       "version_major": 2,
       "version_minor": 0,
       "model_id": "28c69abf52674720bc40cd7e3844b8d1"
      }
     },
     "metadata": {},
     "output_type": "display_data"
    },
    {
     "data": {
      "text/plain": "Validation: 0it [00:00, ?it/s]",
      "application/vnd.jupyter.widget-view+json": {
       "version_major": 2,
       "version_minor": 0,
       "model_id": "3c8ddcaad5bb430ebd0233da5153e1a2"
      }
     },
     "metadata": {},
     "output_type": "display_data"
    },
    {
     "data": {
      "text/plain": "Validation: 0it [00:00, ?it/s]",
      "application/vnd.jupyter.widget-view+json": {
       "version_major": 2,
       "version_minor": 0,
       "model_id": "a8bc30991c714a448af15e2d633f4dd7"
      }
     },
     "metadata": {},
     "output_type": "display_data"
    },
    {
     "data": {
      "text/plain": "Validation: 0it [00:00, ?it/s]",
      "application/vnd.jupyter.widget-view+json": {
       "version_major": 2,
       "version_minor": 0,
       "model_id": "2d437bad320d4479ad5f4872f827610a"
      }
     },
     "metadata": {},
     "output_type": "display_data"
    },
    {
     "data": {
      "text/plain": "Validation: 0it [00:00, ?it/s]",
      "application/vnd.jupyter.widget-view+json": {
       "version_major": 2,
       "version_minor": 0,
       "model_id": "6371e41a4cb74bb0bbd1793cb0c4ed95"
      }
     },
     "metadata": {},
     "output_type": "display_data"
    },
    {
     "data": {
      "text/plain": "Validation: 0it [00:00, ?it/s]",
      "application/vnd.jupyter.widget-view+json": {
       "version_major": 2,
       "version_minor": 0,
       "model_id": "32f1b62df2234c8095dd3b587a190c89"
      }
     },
     "metadata": {},
     "output_type": "display_data"
    },
    {
     "data": {
      "text/plain": "<IPython.core.display.HTML object>",
      "text/html": "Waiting for W&B process to finish... <strong style=\"color:green\">(success).</strong>"
     },
     "metadata": {},
     "output_type": "display_data"
    },
    {
     "data": {
      "text/plain": "VBox(children=(Label(value='0.001 MB of 0.001 MB uploaded (0.000 MB deduped)\\r'), FloatProgress(value=1.0, max…",
      "application/vnd.jupyter.widget-view+json": {
       "version_major": 2,
       "version_minor": 0,
       "model_id": "29d4a12b2a0145d6a06cf87f68f81912"
      }
     },
     "metadata": {},
     "output_type": "display_data"
    },
    {
     "data": {
      "text/plain": "<IPython.core.display.HTML object>",
      "text/html": "<style>\n    table.wandb td:nth-child(1) { padding: 0 10px; text-align: left ; width: auto;} td:nth-child(2) {text-align: left ; width: 100%}\n    .wandb-row { display: flex; flex-direction: row; flex-wrap: wrap; justify-content: flex-start; width: 100% }\n    .wandb-col { display: flex; flex-direction: column; flex-basis: 100%; flex: 1; padding: 10px; }\n    </style>\n<div class=\"wandb-row\"><div class=\"wandb-col\"><h3>Run history:</h3><br/><table class=\"wandb\"><tr><td>epoch</td><td>▁▁▁▁▁▂▂▂▂▃▃▃▃▄▄▄▄▄▅▅▅▅▅▅▅▅▅▆▆▆▆▇▇▇▇▇████</td></tr><tr><td>lr-Adam</td><td>█████▇▇▇▇▆▆▆▆▆▅▅▅▅▄▄▄▄▄▄▄▄▄▃▃▃▃▃▂▂▂▂▁▁▁▁</td></tr><tr><td>train_loss</td><td>▅▃▃▅▄▃▂▃▃▅▆▃▁▅▄▄▂▃▄▇▄▅▃▂▃▆▆▅▄▃▄▆▂▃▃█▁▃▆▁</td></tr><tr><td>trainer/global_step</td><td>▁▁▁▂▂▂▂▂▂▃▃▃▃▃▃▄▄▄▄▄▅▅▅▅▅▅▆▆▆▆▆▇▇▇▇▇▇███</td></tr><tr><td>val_loss</td><td>▇█▃▄▂▁▂▁▂</td></tr></table><br/></div><div class=\"wandb-col\"><h3>Run summary:</h3><br/><table class=\"wandb\"><tr><td>epoch</td><td>8</td></tr><tr><td>lr-Adam</td><td>0.00087</td></tr><tr><td>train_loss</td><td>-0.81932</td></tr><tr><td>trainer/global_step</td><td>1070</td></tr><tr><td>val_loss</td><td>-0.97649</td></tr></table><br/></div></div>"
     },
     "metadata": {},
     "output_type": "display_data"
    },
    {
     "data": {
      "text/plain": "<IPython.core.display.HTML object>",
      "text/html": " View run <strong style=\"color:#cdcd00\">round_2</strong> at: <a href='https://wandb.ai/nsnre/PolySwyft_notebook/runs/etnbs2xk' target=\"_blank\">https://wandb.ai/nsnre/PolySwyft_notebook/runs/etnbs2xk</a><br/>Synced 5 W&B file(s), 0 media file(s), 0 artifact file(s) and 0 other file(s)"
     },
     "metadata": {},
     "output_type": "display_data"
    },
    {
     "data": {
      "text/plain": "<IPython.core.display.HTML object>",
      "text/html": "Find logs at: <code>PolySwyft_notebook/round_2/wandb/run-20250522_180617-etnbs2xk/logs</code>"
     },
     "metadata": {},
     "output_type": "display_data"
    },
    {
     "name": "stdout",
     "output_type": "stream",
     "text": [
      "PolyChord: MPI is already initilised, not initialising, and will not finalize\n",
      "\n",
      "PolyChord: Next Generation Nested Sampling\n",
      "copyright: Will Handley, Mike Hobson & Anthony Lasenby\n",
      "  version: 1.22.1\n",
      "  release: 10th Jan 2024\n",
      "    email: wh260@mrao.cam.ac.uk\n",
      "\n",
      "Run Settings\n",
      "nlive    :     300\n",
      "nDims    :       3\n",
      "nDerived :       0\n",
      "Doing Clustering\n",
      "Synchronous parallelisation\n",
      "Generating equally weighted posteriors\n",
      "Generating weighted posteriors\n",
      "Clustering on posteriors\n",
      "Writing a resume file to PolySwyft_notebook/round_2/samples.resume\n",
      "\n",
      "generating live points\n",
      "\n",
      "\n",
      "all live points generated\n",
      "\n",
      "Speed  1 =  0.164E-02 seconds\n",
      "number of repeats:           15\n",
      "started sampling\n",
      "Last dead point: [  4.91745065   4.24728053   7.17333254 -24.2686909  -18.41974495]\n",
      "_________________\n",
      "lives      | 300 |\n",
      "phantoms   |2473 |\n",
      "posteriors | 301 |\n",
      "equals     |  43 |\n",
      "‾‾‾‾‾‾‾‾‾‾‾‾‾‾‾‾‾\n",
      "ncluster   =       1 /       1\n",
      "ndead      =                 301\n",
      "nposterior =                 301\n",
      "nequals    =                  39\n",
      "nlike      =                7523\n",
      "<nlike>    =          24.08   (           1.61 per slice )\n",
      "log(Z)     =          -21.40 +/-  0.11\n",
      "log(Z_1)   =          -21.40 +/-  0.11 (still evaluating)\n",
      "\n",
      "\n",
      "Last dead point: [  4.20056987   7.76700705  -5.92518215 -14.26081764 -14.22425484]\n",
      "_________________\n",
      "lives      | 300 |\n",
      "phantoms   |3555 |\n",
      "posteriors | 602 |\n",
      "equals     | 120 |\n",
      "‾‾‾‾‾‾‾‾‾‾‾‾‾‾‾‾‾\n",
      "ncluster   =       1 /       1\n",
      "ndead      =                 602\n",
      "nposterior =                 602\n",
      "nequals    =                 127\n",
      "nlike      =               22342\n",
      "<nlike>    =          49.40   (           3.29 per slice )\n",
      "log(Z)     =          -17.18 +/-  0.08\n",
      "log(Z_1)   =          -17.18 +/-  0.08 (still evaluating)\n",
      "\n",
      "\n",
      "Last dead point: [  3.66150722   7.06786483   2.76527016 -15.32871399 -11.63278817]\n",
      "_________________\n",
      "lives      | 300 |\n",
      "phantoms   |3883 |\n",
      "posteriors | 903 |\n",
      "equals     | 183 |\n",
      "‾‾‾‾‾‾‾‾‾‾‾‾‾‾‾‾‾\n",
      "ncluster   =       1 /       1\n",
      "ndead      =                 903\n",
      "nposterior =                 903\n",
      "nequals    =                 176\n",
      "nlike      =               39782\n",
      "<nlike>    =          58.13   (           3.88 per slice )\n",
      "log(Z)     =          -15.14 +/-  0.09\n",
      "log(Z_1)   =          -15.14 +/-  0.09 (still evaluating)\n",
      "\n",
      "\n",
      "Last dead point: [ 1.33768441e+00  6.97855382e+00  2.38136300e+00 -1.00000000e+30\n",
      " -8.78176494e+00]\n",
      "_________________\n",
      "lives      | 300 |\n",
      "phantoms   |4221 |\n",
      "posteriors |1204 |\n",
      "equals     | 153 |\n",
      "‾‾‾‾‾‾‾‾‾‾‾‾‾‾‾‾‾\n",
      "ncluster   =       1 /       1\n",
      "ndead      =                1204\n",
      "nposterior =                1204\n",
      "nequals    =                 160\n",
      "nlike      =               59215\n",
      "<nlike>    =          64.78   (           4.32 per slice )\n",
      "log(Z)     =          -13.47 +/-  0.10\n",
      "log(Z_1)   =          -13.47 +/-  0.10 (still evaluating)\n",
      "\n",
      "\n",
      "Last dead point: [-1.77119415  9.86086008 -1.0050522  -9.35124741 -4.81104514]\n",
      "_________________\n",
      "lives      | 300 |\n",
      "phantoms   |4355 |\n",
      "posteriors |1505 |\n",
      "equals     | 109 |\n",
      "‾‾‾‾‾‾‾‾‾‾‾‾‾‾‾‾‾\n",
      "ncluster   =       1 /       1\n",
      "ndead      =                1505\n",
      "nposterior =                1505\n",
      "nequals    =                 110\n",
      "nlike      =               79872\n",
      "<nlike>    =          68.86   (           4.59 per slice )\n",
      "log(Z)     =          -10.91 +/-  0.13\n",
      "log(Z_1)   =          -10.91 +/-  0.13 (still evaluating)\n",
      "\n",
      "\n",
      "Last dead point: [-4.79739913  8.02145992  2.00941366 -1.97676067 -1.78434139]\n",
      "_________________\n",
      "lives      | 300 |\n",
      "phantoms   |4178 |\n",
      "posteriors |1806 |\n",
      "equals     | 175 |\n",
      "‾‾‾‾‾‾‾‾‾‾‾‾‾‾‾‾‾\n",
      "ncluster   =       1 /       1\n",
      "ndead      =                1806\n",
      "nposterior =                1806\n",
      "nequals    =                 181\n",
      "nlike      =              101159\n",
      "<nlike>    =          70.96   (           4.73 per slice )\n",
      "log(Z)     =           -8.30 +/-  0.13\n",
      "log(Z_1)   =           -8.30 +/-  0.13 (still evaluating)\n",
      "\n",
      "\n",
      "Last dead point: [-0.10760244  9.70812378  0.24573161 -1.2643757  -0.12371717]\n",
      "_________________\n",
      "lives      | 300 |\n",
      "phantoms   |4066 |\n",
      "posteriors |2107 |\n",
      "equals     | 336 |\n",
      "‾‾‾‾‾‾‾‾‾‾‾‾‾‾‾‾‾\n",
      "ncluster   =       1 /       1\n",
      "ndead      =                2107\n",
      "nposterior =                2107\n",
      "nequals    =                 335\n",
      "nlike      =              122789\n",
      "<nlike>    =          72.10   (           4.81 per slice )\n",
      "log(Z)     =           -7.03 +/-  0.14\n",
      "log(Z_1)   =           -7.03 +/-  0.14 (still evaluating)\n",
      "\n",
      "\n",
      "Last dead point: [-2.20323483  8.42121505  1.68971378  0.39889291  0.67045914]\n",
      "_________________\n",
      "lives      | 300 |\n",
      "phantoms   |4296 |\n",
      "posteriors |2408 |\n",
      "equals     | 595 |\n",
      "‾‾‾‾‾‾‾‾‾‾‾‾‾‾‾‾‾\n",
      "ncluster   =       1 /       1\n",
      "ndead      =                2408\n",
      "nposterior =                2408\n",
      "nequals    =                 610\n",
      "nlike      =              144403\n",
      "<nlike>    =          72.05   (           4.80 per slice )\n",
      "log(Z)     =           -6.41 +/-  0.14\n",
      "log(Z_1)   =           -6.41 +/-  0.14 (still evaluating)\n",
      "\n",
      "\n",
      "Last dead point: [-2.51866492  9.03278137  1.1083161  -0.98786977  1.08137002]\n",
      "_________________\n",
      "lives      | 300 |\n",
      "phantoms   |4075 |\n",
      "posteriors |2709 |\n",
      "equals     | 791 |\n",
      "‾‾‾‾‾‾‾‾‾‾‾‾‾‾‾‾‾\n",
      "ncluster   =       1 /       1\n",
      "ndead      =                2709\n",
      "nposterior =                2709\n",
      "nequals    =                 785\n",
      "nlike      =              166048\n",
      "<nlike>    =          72.15   (           4.81 per slice )\n",
      "log(Z)     =           -6.15 +/-  0.14\n",
      "log(Z_1)   =           -6.15 +/-  0.14 (still evaluating)\n",
      "\n",
      "\n",
      "Last dead point: [-1.57873818  9.23264245  1.18034873  0.47781448  1.23719304]\n",
      "_________________\n",
      "lives      | 300 |\n",
      "phantoms   |4431 |\n",
      "posteriors |3010 |\n",
      "equals     | 880 |\n",
      "‾‾‾‾‾‾‾‾‾‾‾‾‾‾‾‾‾\n",
      "ncluster   =       1 /       1\n",
      "ndead      =                3010\n",
      "nposterior =                3010\n",
      "nequals    =                 869\n",
      "nlike      =              187789\n",
      "<nlike>    =          72.47   (           4.83 per slice )\n",
      "log(Z)     =           -6.04 +/-  0.14\n",
      "log(Z_1)   =           -6.04 +/-  0.14 (still evaluating)\n",
      "\n",
      "\n",
      "Last dead point: [-2.60108817  9.17868604  1.22583524  1.25184631  1.32399616]\n",
      "_________________\n",
      "lives      | 300 |\n",
      "phantoms   |4515 |\n",
      "posteriors |3311 |\n",
      "equals     | 917 |\n",
      "‾‾‾‾‾‾‾‾‾‾‾‾‾‾‾‾‾\n",
      "ncluster   =       1 /       1\n",
      "ndead      =                3311\n",
      "nposterior =                3311\n",
      "nequals    =                 909\n",
      "nlike      =              209586\n",
      "<nlike>    =          72.66   (           4.84 per slice )\n",
      "log(Z)     =           -6.00 +/-  0.14\n",
      "log(Z_1)   =           -6.00 +/-  0.14 (still evaluating)\n",
      "\n",
      "\n",
      "Last dead point: [-2.70982216  9.34943561  1.18556211  1.20910019  1.3765644 ]\n",
      "_________________\n",
      "lives      | 300 |\n",
      "phantoms   |4455 |\n",
      "posteriors |3612 |\n",
      "equals     | 933 |\n",
      "‾‾‾‾‾‾‾‾‾‾‾‾‾‾‾‾‾\n",
      "ncluster   =       1 /       1\n",
      "ndead      =                3612\n",
      "nposterior =                3612\n",
      "nequals    =                 927\n",
      "nlike      =              231347\n",
      "<nlike>    =          72.54   (           4.84 per slice )\n",
      "log(Z)     =           -5.99 +/-  0.14\n",
      "log(Z_1)   =           -5.99 +/-  0.14 (still evaluating)\n",
      "\n",
      "\n",
      "Last dead point: [-2.19931188  9.12528524  1.36116665  1.32273948  1.40689905]\n",
      "_________________\n",
      "lives      | 300 |\n",
      "phantoms   |4638 |\n",
      "posteriors |3913 |\n",
      "equals     | 936 |\n",
      "‾‾‾‾‾‾‾‾‾‾‾‾‾‾‾‾‾\n",
      "ncluster   =       1 /       1\n",
      "ndead      =                3913\n",
      "nposterior =                3913\n",
      "nequals    =                 931\n",
      "nlike      =              253073\n",
      "<nlike>    =          72.42   (           4.83 per slice )\n",
      "log(Z)     =           -5.98 +/-  0.14\n",
      "log(Z_1)   =           -5.98 +/-  0.14 (still evaluating)\n",
      "\n",
      "\n",
      "Last dead point: [-2.75788226  9.25707962  1.43307572  1.173877    1.42484551]\n",
      "_________________\n",
      "lives      | 300 |\n",
      "phantoms   |4652 |\n",
      "posteriors |4214 |\n",
      "equals     | 938 |\n",
      "‾‾‾‾‾‾‾‾‾‾‾‾‾‾‾‾‾\n",
      "ncluster   =       1 /       1\n",
      "ndead      =                4214\n",
      "nposterior =                4214\n",
      "nequals    =                 934\n",
      "nlike      =              274751\n",
      "<nlike>    =          72.26   (           4.82 per slice )\n",
      "log(Z)     =           -5.98 +/-  0.14\n",
      "log(Z_1)   =           -5.98 +/-  0.14 (still evaluating)\n",
      "\n",
      "\n",
      "Last dead point: [-2.47535714  9.26811145  1.34243987  1.40764781  1.44997126]\n",
      " ____________________________________________________ \n",
      "|                                                    |\n",
      "| ndead  =         4601                              |\n",
      "| log(Z) =           -5.97624 +/-            0.14228 |\n",
      "|____________________________________________________|\n",
      "Round 2: KL(P_i||P_(i-1)) = 0.7582787429233363 +/- 0.20516381430308292\n",
      "Round 2: KL(P_i||Pi) = 5.950729412320843 +/- 0.1315483661125849\n",
      "Round 2: KL(P_true||P_(i)) = 0.3458758737867091 +/- 0.14483774665302193\n",
      "Round 2: KL(P_true||Pi) = 6.715403081157254\n"
     ]
    },
    {
     "data": {
      "text/plain": "<IPython.core.display.HTML object>",
      "text/html": "wandb version 0.19.11 is available!  To upgrade, please run:\n $ pip install wandb --upgrade"
     },
     "metadata": {},
     "output_type": "display_data"
    },
    {
     "data": {
      "text/plain": "<IPython.core.display.HTML object>",
      "text/html": "Tracking run with wandb version 0.15.3"
     },
     "metadata": {},
     "output_type": "display_data"
    },
    {
     "data": {
      "text/plain": "<IPython.core.display.HTML object>",
      "text/html": "Run data is saved locally in <code>PolySwyft_notebook/round_3/wandb/run-20250522_184906-ph9jeh7p</code>"
     },
     "metadata": {},
     "output_type": "display_data"
    },
    {
     "data": {
      "text/plain": "<IPython.core.display.HTML object>",
      "text/html": "Syncing run <strong><a href='https://wandb.ai/nsnre/PolySwyft_notebook/runs/ph9jeh7p' target=\"_blank\">round_3</a></strong> to <a href='https://wandb.ai/nsnre/PolySwyft_notebook' target=\"_blank\">Weights & Biases</a> (<a href='https://wandb.me/run' target=\"_blank\">docs</a>)<br/>"
     },
     "metadata": {},
     "output_type": "display_data"
    },
    {
     "data": {
      "text/plain": "<IPython.core.display.HTML object>",
      "text/html": " View project at <a href='https://wandb.ai/nsnre/PolySwyft_notebook' target=\"_blank\">https://wandb.ai/nsnre/PolySwyft_notebook</a>"
     },
     "metadata": {},
     "output_type": "display_data"
    },
    {
     "data": {
      "text/plain": "<IPython.core.display.HTML object>",
      "text/html": " View run at <a href='https://wandb.ai/nsnre/PolySwyft_notebook/runs/ph9jeh7p' target=\"_blank\">https://wandb.ai/nsnre/PolySwyft_notebook/runs/ph9jeh7p</a>"
     },
     "metadata": {},
     "output_type": "display_data"
    },
    {
     "name": "stderr",
     "output_type": "stream",
     "text": [
      "GPU available: False, used: False\n",
      "TPU available: False, using: 0 TPU cores\n",
      "IPU available: False, using: 0 IPUs\n",
      "HPU available: False, using: 0 HPUs\n",
      "\n",
      "  | Name    | Type                   | Params\n",
      "---------------------------------------------------\n",
      "0 | network | LogRatioEstimator_Ndim | 68.4 K\n",
      "---------------------------------------------------\n",
      "68.4 K    Trainable params\n",
      "0         Non-trainable params\n",
      "68.4 K    Total params\n",
      "0.547     Total estimated model params size (MB)\n"
     ]
    },
    {
     "data": {
      "text/plain": "Sanity Checking: 0it [00:00, ?it/s]",
      "application/vnd.jupyter.widget-view+json": {
       "version_major": 2,
       "version_minor": 0,
       "model_id": "f54d209ef8b049ceace661fb813df06c"
      }
     },
     "metadata": {},
     "output_type": "display_data"
    },
    {
     "name": "stderr",
     "output_type": "stream",
     "text": [
      "/Users/hikarukilian/LFIenv/lib/python3.10/site-packages/pytorch_lightning/trainer/connectors/data_connector.py:224: PossibleUserWarning: The dataloader, val_dataloader 0, does not have many workers which may be a bottleneck. Consider increasing the value of the `num_workers` argument` (try 12 which is the number of cpus on this machine) in the `DataLoader` init to improve performance.\n",
      "  rank_zero_warn(\n",
      "/Users/hikarukilian/LFIenv/lib/python3.10/site-packages/pytorch_lightning/trainer/connectors/data_connector.py:224: PossibleUserWarning: The dataloader, train_dataloader, does not have many workers which may be a bottleneck. Consider increasing the value of the `num_workers` argument` (try 12 which is the number of cpus on this machine) in the `DataLoader` init to improve performance.\n",
      "  rank_zero_warn(\n"
     ]
    },
    {
     "data": {
      "text/plain": "Training: 0it [00:00, ?it/s]",
      "application/vnd.jupyter.widget-view+json": {
       "version_major": 2,
       "version_minor": 0,
       "model_id": "77d14983f3b94f25b501da5c45db7bb4"
      }
     },
     "metadata": {},
     "output_type": "display_data"
    },
    {
     "data": {
      "text/plain": "Validation: 0it [00:00, ?it/s]",
      "application/vnd.jupyter.widget-view+json": {
       "version_major": 2,
       "version_minor": 0,
       "model_id": "2f92a21ca33a4c18be646f452fc20238"
      }
     },
     "metadata": {},
     "output_type": "display_data"
    },
    {
     "data": {
      "text/plain": "Validation: 0it [00:00, ?it/s]",
      "application/vnd.jupyter.widget-view+json": {
       "version_major": 2,
       "version_minor": 0,
       "model_id": "ce3362465c794935b5e8a1b3b5a01ce4"
      }
     },
     "metadata": {},
     "output_type": "display_data"
    },
    {
     "data": {
      "text/plain": "Validation: 0it [00:00, ?it/s]",
      "application/vnd.jupyter.widget-view+json": {
       "version_major": 2,
       "version_minor": 0,
       "model_id": "6fb9190fba6340e7b4bfa59f495596cc"
      }
     },
     "metadata": {},
     "output_type": "display_data"
    },
    {
     "data": {
      "text/plain": "Validation: 0it [00:00, ?it/s]",
      "application/vnd.jupyter.widget-view+json": {
       "version_major": 2,
       "version_minor": 0,
       "model_id": "c015f0a9a5364e02873c12cfb6982d8d"
      }
     },
     "metadata": {},
     "output_type": "display_data"
    },
    {
     "data": {
      "text/plain": "Validation: 0it [00:00, ?it/s]",
      "application/vnd.jupyter.widget-view+json": {
       "version_major": 2,
       "version_minor": 0,
       "model_id": "f443f471b07d47c5bf7fb1694922244b"
      }
     },
     "metadata": {},
     "output_type": "display_data"
    },
    {
     "data": {
      "text/plain": "Validation: 0it [00:00, ?it/s]",
      "application/vnd.jupyter.widget-view+json": {
       "version_major": 2,
       "version_minor": 0,
       "model_id": "e376a932361f4301b058c1db0a381b5c"
      }
     },
     "metadata": {},
     "output_type": "display_data"
    },
    {
     "data": {
      "text/plain": "Validation: 0it [00:00, ?it/s]",
      "application/vnd.jupyter.widget-view+json": {
       "version_major": 2,
       "version_minor": 0,
       "model_id": "0252ec30abc44b6c9536a9a4d5a22326"
      }
     },
     "metadata": {},
     "output_type": "display_data"
    },
    {
     "data": {
      "text/plain": "Validation: 0it [00:00, ?it/s]",
      "application/vnd.jupyter.widget-view+json": {
       "version_major": 2,
       "version_minor": 0,
       "model_id": "1c6327fb4623442b83c3aee83b027c00"
      }
     },
     "metadata": {},
     "output_type": "display_data"
    },
    {
     "data": {
      "text/plain": "Validation: 0it [00:00, ?it/s]",
      "application/vnd.jupyter.widget-view+json": {
       "version_major": 2,
       "version_minor": 0,
       "model_id": "bd7368955374481fb4db2c7cda816742"
      }
     },
     "metadata": {},
     "output_type": "display_data"
    },
    {
     "data": {
      "text/plain": "Validation: 0it [00:00, ?it/s]",
      "application/vnd.jupyter.widget-view+json": {
       "version_major": 2,
       "version_minor": 0,
       "model_id": "c6dda0e734a94a008ca33c3c582efcec"
      }
     },
     "metadata": {},
     "output_type": "display_data"
    },
    {
     "data": {
      "text/plain": "<IPython.core.display.HTML object>",
      "text/html": "Waiting for W&B process to finish... <strong style=\"color:green\">(success).</strong>"
     },
     "metadata": {},
     "output_type": "display_data"
    },
    {
     "data": {
      "text/plain": "VBox(children=(Label(value='0.001 MB of 0.008 MB uploaded (0.000 MB deduped)\\r'), FloatProgress(value=0.132617…",
      "application/vnd.jupyter.widget-view+json": {
       "version_major": 2,
       "version_minor": 0,
       "model_id": "247859f590844e129a03a389a883436d"
      }
     },
     "metadata": {},
     "output_type": "display_data"
    },
    {
     "data": {
      "text/plain": "<IPython.core.display.HTML object>",
      "text/html": "<style>\n    table.wandb td:nth-child(1) { padding: 0 10px; text-align: left ; width: auto;} td:nth-child(2) {text-align: left ; width: 100%}\n    .wandb-row { display: flex; flex-direction: row; flex-wrap: wrap; justify-content: flex-start; width: 100% }\n    .wandb-col { display: flex; flex-direction: column; flex-basis: 100%; flex: 1; padding: 10px; }\n    </style>\n<div class=\"wandb-row\"><div class=\"wandb-col\"><h3>Run history:</h3><br/><table class=\"wandb\"><tr><td>epoch</td><td>▁▁▁▁▂▂▂▂▃▃▃▃▃▃▃▃▄▄▄▄▅▅▅▅▆▆▆▆▆▆▆▆▇▇▇▇████</td></tr><tr><td>lr-Adam</td><td>████▇▇▇▇▆▆▆▆▆▆▆▆▅▅▅▅▄▄▄▄▃▃▃▃▃▃▃▃▂▂▂▂▁▁▁▁</td></tr><tr><td>train_loss</td><td>▅▁▃▄▂▄▃▅▄▁▇▆▄▃▆▃▃▇▃▁▇▃▁▄▅▂▃▄▆▂▃▄▆▂▄▃▅█▃▆</td></tr><tr><td>trainer/global_step</td><td>▁▁▁▂▂▂▂▂▂▃▃▃▃▃▄▄▄▄▄▄▅▅▅▅▅▅▆▆▆▆▆▇▇▇▇▇▇███</td></tr><tr><td>val_loss</td><td>█▅▅▄▃▄▁▄▂▆</td></tr></table><br/></div><div class=\"wandb-col\"><h3>Run summary:</h3><br/><table class=\"wandb\"><tr><td>epoch</td><td>9</td></tr><tr><td>lr-Adam</td><td>0.00083</td></tr><tr><td>train_loss</td><td>-1.16138</td></tr><tr><td>trainer/global_step</td><td>1769</td></tr><tr><td>val_loss</td><td>-0.90213</td></tr></table><br/></div></div>"
     },
     "metadata": {},
     "output_type": "display_data"
    },
    {
     "data": {
      "text/plain": "<IPython.core.display.HTML object>",
      "text/html": " View run <strong style=\"color:#cdcd00\">round_3</strong> at: <a href='https://wandb.ai/nsnre/PolySwyft_notebook/runs/ph9jeh7p' target=\"_blank\">https://wandb.ai/nsnre/PolySwyft_notebook/runs/ph9jeh7p</a><br/>Synced 5 W&B file(s), 0 media file(s), 0 artifact file(s) and 0 other file(s)"
     },
     "metadata": {},
     "output_type": "display_data"
    },
    {
     "data": {
      "text/plain": "<IPython.core.display.HTML object>",
      "text/html": "Find logs at: <code>PolySwyft_notebook/round_3/wandb/run-20250522_184906-ph9jeh7p/logs</code>"
     },
     "metadata": {},
     "output_type": "display_data"
    },
    {
     "name": "stdout",
     "output_type": "stream",
     "text": [
      "PolyChord: MPI is already initilised, not initialising, and will not finalize\n",
      "\n",
      "PolyChord: Next Generation Nested Sampling\n",
      "copyright: Will Handley, Mike Hobson & Anthony Lasenby\n",
      "  version: 1.22.1\n",
      "  release: 10th Jan 2024\n",
      "    email: wh260@mrao.cam.ac.uk\n",
      "\n",
      "Run Settings\n",
      "nlive    :     300\n",
      "nDims    :       3\n",
      "nDerived :       0\n",
      "Doing Clustering\n",
      "Synchronous parallelisation\n",
      "Generating equally weighted posteriors\n",
      "Generating weighted posteriors\n",
      "Clustering on posteriors\n",
      "Writing a resume file to PolySwyft_notebook/round_3/samples.resume\n",
      "\n",
      "generating live points\n",
      "\n",
      "\n",
      "all live points generated\n",
      "\n",
      "Speed  1 =  0.138E-02 seconds\n",
      "number of repeats:           15\n",
      "started sampling\n",
      "Last dead point: [  3.81975575  -0.39901325  -0.07979416 -21.11755393 -17.91667861]\n",
      "_________________\n",
      "lives      | 300 |\n",
      "phantoms   |2569 |\n",
      "posteriors | 301 |\n",
      "equals     |  46 |\n",
      "‾‾‾‾‾‾‾‾‾‾‾‾‾‾‾‾‾\n",
      "ncluster   =       1 /       1\n",
      "ndead      =                 301\n",
      "nposterior =                 301\n",
      "nequals    =                  52\n",
      "nlike      =                7510\n",
      "<nlike>    =          24.03   (           1.60 per slice )\n",
      "log(Z)     =          -20.70 +/-  0.10\n",
      "log(Z_1)   =          -20.70 +/-  0.10 (still evaluating)\n",
      "\n",
      "\n",
      "Last dead point: [ -0.71283501   3.82600533   3.00445294 -28.62595734 -13.68630877]\n",
      "_________________\n",
      "lives      | 300 |\n",
      "phantoms   |3427 |\n",
      "posteriors | 602 |\n",
      "equals     | 105 |\n",
      "‾‾‾‾‾‾‾‾‾‾‾‾‾‾‾‾‾\n",
      "ncluster   =       1 /       1\n",
      "ndead      =                 602\n",
      "nposterior =                 602\n",
      "nequals    =                 125\n",
      "nlike      =               22361\n",
      "<nlike>    =          49.50   (           3.30 per slice )\n",
      "log(Z)     =          -16.65 +/-  0.08\n",
      "log(Z_1)   =          -16.65 +/-  0.08 (still evaluating)\n",
      "\n",
      "\n",
      "Last dead point: [ -2.52365205   5.61724161  -0.29721553 -11.57597481 -11.22205969]\n",
      "_________________\n",
      "lives      | 300 |\n",
      "phantoms   |4094 |\n",
      "posteriors | 903 |\n",
      "equals     | 205 |\n",
      "‾‾‾‾‾‾‾‾‾‾‾‾‾‾‾‾‾\n",
      "ncluster   =       1 /       1\n",
      "ndead      =                 903\n",
      "nposterior =                 903\n",
      "nequals    =                 189\n",
      "nlike      =               39630\n",
      "<nlike>    =          57.56   (           3.84 per slice )\n",
      "log(Z)     =          -14.65 +/-  0.08\n",
      "log(Z_1)   =          -14.65 +/-  0.08 (still evaluating)\n",
      "\n",
      "\n",
      "Last dead point: [ -7.57489962  11.67682187   2.88431979 -13.76963524  -8.25668218]\n",
      "_________________\n",
      "lives      | 300 |\n",
      "phantoms   |4049 |\n",
      "posteriors |1204 |\n",
      "equals     | 136 |\n",
      "‾‾‾‾‾‾‾‾‾‾‾‾‾‾‾‾‾\n",
      "ncluster   =       1 /       1\n",
      "ndead      =                1204\n",
      "nposterior =                1204\n",
      "nequals    =                 134\n",
      "nlike      =               58574\n",
      "<nlike>    =          63.15   (           4.21 per slice )\n",
      "log(Z)     =          -13.06 +/-  0.10\n",
      "log(Z_1)   =          -13.06 +/-  0.10 (still evaluating)\n",
      "\n",
      "\n",
      "Last dead point: [ 0.75046324  8.00625964  1.38739981 -4.59022424 -4.40426304]\n",
      "_________________\n",
      "lives      | 300 |\n",
      "phantoms   |4170 |\n",
      "posteriors |1505 |\n",
      "equals     | 124 |\n",
      "‾‾‾‾‾‾‾‾‾‾‾‾‾‾‾‾‾\n",
      "ncluster   =       1 /       1\n",
      "ndead      =                1505\n",
      "nposterior =                1505\n",
      "nequals    =                 124\n",
      "nlike      =               78725\n",
      "<nlike>    =          67.17   (           4.48 per slice )\n",
      "log(Z)     =          -10.35 +/-  0.13\n",
      "log(Z_1)   =          -10.35 +/-  0.13 (still evaluating)\n",
      "\n",
      "\n",
      "Last dead point: [-3.14615292  9.79517097  0.10051352 -3.72506121 -1.78063406]\n",
      "_________________\n",
      "lives      | 300 |\n",
      "phantoms   |3989 |\n",
      "posteriors |1806 |\n",
      "equals     | 179 |\n",
      "‾‾‾‾‾‾‾‾‾‾‾‾‾‾‾‾‾\n",
      "ncluster   =       1 /       1\n",
      "ndead      =                1806\n",
      "nposterior =                1806\n",
      "nequals    =                 171\n",
      "nlike      =               99917\n",
      "<nlike>    =          70.64   (           4.71 per slice )\n",
      "log(Z)     =           -8.26 +/-  0.13\n",
      "log(Z_1)   =           -8.26 +/-  0.13 (still evaluating)\n",
      "\n",
      "\n",
      "Last dead point: [-2.03282002  9.16588661  0.24999147 -4.40426304 -0.42402833]\n",
      "_________________\n",
      "lives      | 300 |\n",
      "phantoms   |4254 |\n",
      "posteriors |2107 |\n",
      "equals     | 382 |\n",
      "‾‾‾‾‾‾‾‾‾‾‾‾‾‾‾‾‾\n",
      "ncluster   =       1 /       1\n",
      "ndead      =                2107\n",
      "nposterior =                2107\n",
      "nequals    =                 383\n",
      "nlike      =              121512\n",
      "<nlike>    =          71.98   (           4.80 per slice )\n",
      "log(Z)     =           -7.14 +/-  0.13\n",
      "log(Z_1)   =           -7.14 +/-  0.13 (still evaluating)\n",
      "\n",
      "\n",
      "Last dead point: [-2.67793727  8.45064316  1.65802549  0.14193179  0.41997271]\n",
      "_________________\n",
      "lives      | 300 |\n",
      "phantoms   |4146 |\n",
      "posteriors |2408 |\n",
      "equals     | 660 |\n",
      "‾‾‾‾‾‾‾‾‾‾‾‾‾‾‾‾‾\n",
      "ncluster   =       1 /       1\n",
      "ndead      =                2408\n",
      "nposterior =                2408\n",
      "nequals    =                 657\n",
      "nlike      =              143191\n",
      "<nlike>    =          72.26   (           4.82 per slice )\n",
      "log(Z)     =           -6.61 +/-  0.14\n",
      "log(Z_1)   =           -6.61 +/-  0.14 (still evaluating)\n",
      "\n",
      "\n",
      "Last dead point: [-2.02153955  9.53149167  0.79527254 -0.84508935  0.86238797]\n",
      "_________________\n",
      "lives      | 300 |\n",
      "phantoms   |4095 |\n",
      "posteriors |2709 |\n",
      "equals     | 871 |\n",
      "‾‾‾‾‾‾‾‾‾‾‾‾‾‾‾‾‾\n",
      "ncluster   =       1 /       1\n",
      "ndead      =                2709\n",
      "nposterior =                2709\n",
      "nequals    =                 858\n",
      "nlike      =              164839\n",
      "<nlike>    =          72.16   (           4.81 per slice )\n",
      "log(Z)     =           -6.35 +/-  0.14\n",
      "log(Z_1)   =           -6.35 +/-  0.14 (still evaluating)\n",
      "\n",
      "\n",
      "Last dead point: [-3.88810385  9.30014928  1.55439616  0.83624048  1.08536974]\n",
      "_________________\n",
      "lives      | 300 |\n",
      "phantoms   |4102 |\n",
      "posteriors |3010 |\n",
      "equals     | 970 |\n",
      "‾‾‾‾‾‾‾‾‾‾‾‾‾‾‾‾‾\n",
      "ncluster   =       1 /       1\n",
      "ndead      =                3010\n",
      "nposterior =                3010\n",
      "nequals    =                 961\n",
      "nlike      =              186454\n",
      "<nlike>    =          72.05   (           4.80 per slice )\n",
      "log(Z)     =           -6.24 +/-  0.14\n",
      "log(Z_1)   =           -6.24 +/-  0.14 (still evaluating)\n",
      "\n",
      "\n",
      "Last dead point: [-2.51037558  9.38617253  1.02223838 -5.70430736  1.18368979]\n",
      "_________________\n",
      "lives      | 300 |\n",
      "phantoms   |4304 |\n",
      "posteriors |3311 |\n",
      "equals     |1013 |\n",
      "‾‾‾‾‾‾‾‾‾‾‾‾‾‾‾‾‾\n",
      "ncluster   =       1 /       1\n",
      "ndead      =                3311\n",
      "nposterior =                3311\n",
      "nequals    =                1011\n",
      "nlike      =              208092\n",
      "<nlike>    =          72.13   (           4.81 per slice )\n",
      "log(Z)     =           -6.20 +/-  0.14\n",
      "log(Z_1)   =           -6.20 +/-  0.14 (still evaluating)\n",
      "\n",
      "\n",
      "Last dead point: [-2.8193351   9.15959549  1.10558423  1.21166568  1.24087518]\n",
      "_________________\n",
      "lives      | 300 |\n",
      "phantoms   |4244 |\n",
      "posteriors |3612 |\n",
      "equals     |1032 |\n",
      "‾‾‾‾‾‾‾‾‾‾‾‾‾‾‾‾‾\n",
      "ncluster   =       1 /       1\n",
      "ndead      =                3612\n",
      "nposterior =                3612\n",
      "nequals    =                1040\n",
      "nlike      =              229696\n",
      "<nlike>    =          72.01   (           4.80 per slice )\n",
      "log(Z)     =           -6.18 +/-  0.14\n",
      "log(Z_1)   =           -6.18 +/-  0.14 (still evaluating)\n",
      "\n",
      "\n",
      "Last dead point: [-2.73636709  9.3491093   1.03287865  1.26532566  1.27220109]\n",
      "_________________\n",
      "lives      | 300 |\n",
      "phantoms   |3913 |\n",
      "posteriors |3913 |\n",
      "equals     |1038 |\n",
      "‾‾‾‾‾‾‾‾‾‾‾‾‾‾‾‾‾\n",
      "ncluster   =       1 /       1\n",
      "ndead      =                3913\n",
      "nposterior =                3913\n",
      "nequals    =                1044\n",
      "nlike      =              251188\n",
      "<nlike>    =          71.64   (           4.78 per slice )\n",
      "log(Z)     =           -6.18 +/-  0.14\n",
      "log(Z_1)   =           -6.18 +/-  0.14 (still evaluating)\n",
      "\n",
      "\n",
      "Last dead point: [-2.92013137  9.27873013  1.05049563  1.28107932  1.28657388]\n",
      "_________________\n",
      "lives      | 300 |\n",
      "phantoms   |4213 |\n",
      "posteriors |4214 |\n",
      "equals     |1044 |\n",
      "‾‾‾‾‾‾‾‾‾‾‾‾‾‾‾‾‾\n",
      "ncluster   =       1 /       1\n",
      "ndead      =                4214\n",
      "nposterior =                4214\n",
      "nequals    =                1045\n",
      "nlike      =              272721\n",
      "<nlike>    =          71.78   (           4.79 per slice )\n",
      "log(Z)     =           -6.17 +/-  0.14\n",
      "log(Z_1)   =           -6.17 +/-  0.14 (still evaluating)\n",
      "\n",
      "\n",
      "Last dead point: [-3.02314929  9.32094185  1.1070182   1.21938565  1.30627602]\n",
      " ____________________________________________________ \n",
      "|                                                    |\n",
      "| ndead  =         4618                              |\n",
      "| log(Z) =           -6.17314 +/-            0.14095 |\n",
      "|____________________________________________________|\n",
      "Round 3: KL(P_i||P_(i-1)) = 0.161434013898408 +/- 0.20132343726518998\n",
      "Round 3: KL(P_i||Pi) = 5.822625464911898 +/- 0.12380169719732863\n",
      "Round 3: KL(P_true||P_(i)) = 0.49295147365365166 +/- 0.14867792453519693\n",
      "Round 3: KL(P_true||Pi) = 6.715403081157254\n"
     ]
    }
   ],
   "source": [
    "if not polyswyftSettings.only_plot_mode:\n",
    "    #initialise temporary storage for KL diagnostics\n",
    "    deadpoints_samples = deadpoints\n",
    "    network_storage = {}\n",
    "    samples_storage = {}\n",
    "    root_storage = {}\n",
    "    dkl_storage = {}\n",
    "    dkl_storage_true = {}\n",
    "    dkl_compression_storage = {}\n",
    "    current_key = \"current\"\n",
    "    previous_key = \"previous\"\n",
    "    for rd in range(polyswyftSettings.NRE_start_from_round, polyswyftSettings.NRE_num_retrain_rounds+1):\n",
    "        logger.info(\"training network round: \" + str(rd))\n",
    "        if polyswyftSettings.NRE_start_from_round > 0: # load previous samples and network\n",
    "            root = f\"{polyswyftSettings.root}/{polyswyftSettings.child_root}_{rd-1}\"\n",
    "            deadpoints = anesthetic.read_chains(root=f\"{root}/{polyset.file_root}\")\n",
    "            deadpoints_samples = deadpoints.iloc[:, :polyswyftSettings.num_features].to_numpy()\n",
    "            network = Network(polyswyftSettings=polyswyftSettings, obs=obs)\n",
    "            network.load_state_dict(torch.load(f\"{root}/{polyswyftSettings.neural_network_file}\"))\n",
    "            root_storage[rd-1] = root\n",
    "            network_storage[previous_key] = network\n",
    "            samples_storage[previous_key] = deadpoints\n",
    "\n",
    "        ### update root\n",
    "        root = f\"{polyswyftSettings.root}/{polyswyftSettings.child_root}_{rd}\"\n",
    "        ### create root folder ###\n",
    "        try:\n",
    "            os.makedirs(root)\n",
    "        except OSError:\n",
    "            logger.info(\"root folder already exists!\")\n",
    "\n",
    "\n",
    "        ####conditional resimulate deadpoints with swyft\n",
    "        resimulate_deadpoints(deadpoints=deadpoints_samples, polyswyftSettings=polyswyftSettings, sim=sim, rd=rd)\n",
    "        dm = PolySwyftDataModule(polyswyftSettings=polyswyftSettings,rd=rd,\n",
    "                                 **polyswyftSettings.dm_kwargs)\n",
    "\n",
    "        ###prepare network\n",
    "        #### instantiate swyft network\n",
    "        network = Network(polyswyftSettings=polyswyftSettings, obs=obs)\n",
    "        if rd > 0:\n",
    "            prev_root = root_storage[rd-1]\n",
    "            network.load_state_dict(torch.load(f\"{prev_root}/{polyswyftSettings.neural_network_file}\"))\n",
    "        learning_rate = lr_round_scheduler(rd) #adjust learning rate between round (optional)\n",
    "        network.optimizer_init.optim_args = dict(lr=learning_rate)\n",
    "        ####set network to train mode\n",
    "        network.train()\n",
    "\n",
    "        #prepare wandb logger\n",
    "        polyswyftSettings.wandb_kwargs[\"name\"] = f\"{polyswyftSettings.child_root}_{rd}\"\n",
    "        polyswyftSettings.wandb_kwargs[\"save_dir\"] = f\"{polyswyftSettings.root}/{polyswyftSettings.child_root}_{rd}\"\n",
    "        wandb_logger = WandbLogger(**polyswyftSettings.wandb_kwargs)\n",
    "\n",
    "        ###prepare trainer\n",
    "        polyswyftSettings.trainer_kwargs[\"callbacks\"] = create_callbacks()\n",
    "        #### train network\n",
    "        trainer = swyft.SwyftTrainer(**polyswyftSettings.trainer_kwargs, logger=wandb_logger)\n",
    "        trainer.fit(network, dm)\n",
    "        wandb.finish()\n",
    "\n",
    "        ### save network and optimizer\n",
    "        if rank_gen == 0:\n",
    "            torch.save(network.state_dict(), f\"{root}/{polyswyftSettings.neural_network_file}\")\n",
    "            torch.save(network.optimizers().state_dict(), f\"{root}/{polyswyftSettings.optimizer_file}\")\n",
    "\n",
    "        comm_gen.Barrier()\n",
    "        #### prepare network for polychord\n",
    "        network.eval()\n",
    "\n",
    "        # run polychord\n",
    "        polyset.base_dir = root\n",
    "        comm_gen.barrier()\n",
    "        pypolychord.run_polychord(loglikelihood=network.logLikelihood,\n",
    "                                  nDims=polyswyftSettings.num_features,\n",
    "                                  nDerived=polyswyftSettings.nderived, settings=polyset,\n",
    "                                  prior=network.prior, dumper=network.dumper)\n",
    "\n",
    "        comm_gen.Barrier()\n",
    "        deadpoints = anesthetic.read_chains(root=f\"{root}/{polyset.file_root}\")\n",
    "\n",
    "        #run dynamic nested sampling round 2 here if you want\n",
    "        ##### Polychord run 2 #####\n",
    "        if polyswyftSettings.use_livepoint_increasing:\n",
    "            ### choose contour to increase livepoints ###\n",
    "            index = select_weighted_contour(deadpoints,\n",
    "                                            threshold=1 - polyswyftSettings.livepoint_increase_posterior_contour)\n",
    "            logL = deadpoints.iloc[index, :].logL\n",
    "\n",
    "            try:\n",
    "                os.makedirs(f\"{root}/{polyswyftSettings.increased_livepoints_fileroot}\")\n",
    "            except OSError:\n",
    "                logger.info(\"root folder already exists!\")\n",
    "\n",
    "            ### run polychord round 2 ###\n",
    "            polyset.base_dir = f\"{root}/{polyswyftSettings.increased_livepoints_fileroot}\"\n",
    "            polyset.nlives = {logL: polyswyftSettings.n_increased_livepoints}\n",
    "            comm_gen.Barrier()\n",
    "            pypolychord.run_polychord(loglikelihood=network.logLikelihood,\n",
    "                                      nDims=polyswyftSettings.num_features,\n",
    "                                      nDerived=polyswyftSettings.nderived, settings=polyset,\n",
    "                                      prior=network.prior, dumper=network.dumper)\n",
    "            comm_gen.Barrier()\n",
    "            polyset.nlives = {}\n",
    "            deadpoints = anesthetic.read_chains(\n",
    "                root=f\"{root}/{polyswyftSettings.increased_livepoints_fileroot}/{polyset.file_root}\")\n",
    "\n",
    "\n",
    "        #### compute KL divergences\n",
    "        root_storage[rd] = root\n",
    "        samples_storage[current_key] = deadpoints\n",
    "        network_storage[current_key] = network\n",
    "        #### compute KL(P_i||P_(i-1))\n",
    "        if rd > 0:\n",
    "            previous_network = network_storage[previous_key]\n",
    "            KDL = compute_KL_divergence(polyswyftSettings=polyswyftSettings, previous_network=previous_network.eval(),\n",
    "                                        current_samples=samples_storage[current_key], obs=obs,\n",
    "                                        previous_samples=samples_storage[previous_key])\n",
    "            dkl_storage[rd] = KDL\n",
    "            logger.info(f\"Round {rd}: KL(P_i||P_(i-1)) = {KDL[0]} +/- {KDL[1]}\")\n",
    "            print(f\"Round {rd}: KL(P_i||P_(i-1)) = {KDL[0]} +/- {KDL[1]}\")\n",
    "\n",
    "\n",
    "        ### compute KL(P_i||Pi)\n",
    "        DKL = compute_KL_compression(samples_storage[current_key], polyswyftSettings)\n",
    "        dkl_compression_storage[rd] = DKL\n",
    "        logger.info(f\"Round {rd}: KL(P_i||Pi) = {DKL[0]} +/- {DKL[1]}\")\n",
    "        print(f\"Round {rd}: KL(P_i||Pi) = {DKL[0]} +/- {DKL[1]}\")\n",
    "\n",
    "\n",
    "        if mcmc_true is not None:\n",
    "            #### compute KL(P_true||P_i)\n",
    "            current_network = network_storage[current_key]\n",
    "            KDL_true = compute_KL_divergence_truth(polyswyftSettings=polyswyftSettings,\n",
    "                                                   network=current_network.eval(),\n",
    "                                                   true_posterior=mcmc_true.copy(), obs=obs,\n",
    "                                                   samples=samples_storage[current_key])\n",
    "            dkl_storage_true[rd] = KDL_true\n",
    "            logger.info(f\"Round {rd}: KL(P_true||P_(i)) = {KDL_true[0]} +/- {KDL_true[1]}\")\n",
    "            print(f\"Round {rd}: KL(P_true||P_(i)) = {KDL_true[0]} +/- {KDL_true[1]}\")\n",
    "\n",
    "            #### compute K(P_true||Pi)\n",
    "            logPi = polyswyftSettings.model.prior().logpdf(posterior)\n",
    "            logP = polyswyftSettings.model.posterior(obs[polyswyftSettings.obsKey].squeeze()).logpdf(posterior)\n",
    "            dkl_compression_truth = 1/logP.shape[0]*((logP - logPi).sum())\n",
    "            logger.info(f\"Round {rd}: KL(P_true||Pi) = {dkl_compression_truth}\")\n",
    "            print(f\"Round {rd}: KL(P_true||Pi) = {dkl_compression_truth}\")\n",
    "\n",
    "        samples_storage[previous_key] = deadpoints\n",
    "        network_storage[previous_key] = network\n",
    "\n",
    "        #### optional deadpoints post processing\n",
    "        deadpoints = deadpoints_processing(deadpoints)\n",
    "\n",
    "        #prepare data for next round\n",
    "        deadpoints_samples = deadpoints.iloc[:, :polyswyftSettings.num_features].to_numpy()\n"
   ],
   "metadata": {
    "collapsed": false,
    "ExecuteTime": {
     "end_time": "2025-05-22T17:59:28.971472Z",
     "start_time": "2025-05-22T16:48:27.183235Z"
    }
   },
   "id": "dd531a59efa99967",
   "execution_count": 10
  },
  {
   "cell_type": "code",
   "outputs": [],
   "source": [
    "import matplotlib.pyplot as plt\n",
    "from anesthetic import make_2d_axes"
   ],
   "metadata": {
    "collapsed": false,
    "ExecuteTime": {
     "end_time": "2025-05-22T17:59:29.036737Z",
     "start_time": "2025-05-22T17:59:28.996734Z"
    }
   },
   "id": "3e673c441f8aee79",
   "execution_count": 11
  },
  {
   "cell_type": "code",
   "outputs": [
    {
     "data": {
      "text/plain": "<Figure size 640x480 with 12 Axes>",
      "image/png": "[encoded data removed]"
     },
     "metadata": {},
     "output_type": "display_data"
    },
    {
     "data": {
      "text/plain": "<Figure size 350x350 with 1 Axes>",
      "image/png": "[encoded data removed]"
     },
     "metadata": {},
     "output_type": "display_data"
    }
   ],
   "source": [
    "if rank_gen == 0:\n",
    "    from matplotlib import rc\n",
    "    rc('text', usetex=True)\n",
    "    rc('font', family='serif')\n",
    "\n",
    "    # set up labels for plotting\n",
    "    params_idx = [i for i in range(0, polyswyftSettings.num_features)]\n",
    "    params_labels = {i: rf\"${polyswyftSettings.targetKey}_{i}$\" for i in range(polyswyftSettings.num_features)}\n",
    "    params = [fr\"${polyswyftSettings.targetKey}_{i}$\" for i in range(polyswyftSettings.num_features)]\n",
    "    # triangle plot\n",
    "    if polyswyftSettings.plot_triangle_plot:\n",
    "        kinds = {'lower': 'kde_2d', 'diagonal': 'kde_1d', 'upper': \"scatter_2d\"}\n",
    "        fig, axes = make_2d_axes(params_idx, labels=params_labels, lower=True, diagonal=True, upper=True,\n",
    "                                 ticks=\"outer\")\n",
    "\n",
    "        for rd in range(polyswyftSettings.triangle_start, polyswyftSettings.NRE_num_retrain_rounds + 1):\n",
    "            # load samples from round\n",
    "            current_root = f\"{polyswyftSettings.root}/{polyswyftSettings.child_root}_{rd}\"\n",
    "            ## if dynamic sampling was on\n",
    "            if polyswyftSettings.use_livepoint_increasing:\n",
    "                samples = anesthetic.read_chains(\n",
    "                    root=f\"{current_root}/{polyswyftSettings.increased_livepoints_fileroot}/{polyset.file_root}\")\n",
    "            else:\n",
    "                samples = anesthetic.read_chains(root=f\"{current_root}/{polyset.file_root}\")\n",
    "            ### setup labels\n",
    "            labels = samples.get_labels()\n",
    "            labels[:polyswyftSettings.num_features] = params\n",
    "            samples.set_labels(labels, inplace=True)\n",
    "\n",
    "            ### plot posterior\n",
    "            samples.plot_2d(axes=axes, alpha=0.4, label=fr\"$p_{rd}(\\theta|D)$\",\n",
    "                           kinds=kinds)\n",
    "\n",
    "        ### plot prior\n",
    "        #prior = samples.prior()\n",
    "        #prior.plot_2d(axes=axes, alpha=0.4, label=\"prior\", kinds=kinds)\n",
    "\n",
    "        if mcmc_true is not None:\n",
    "            mcmc_true.plot_2d(axes=axes, alpha=0.9, label=\"true\", color=\"red\",\n",
    "                                   kinds=kinds)\n",
    "\n",
    "        axes.iloc[-1, 0].legend(bbox_to_anchor=(len(axes) / 2, len(axes)), loc='lower center',\n",
    "                                ncols=polyswyftSettings.NRE_num_retrain_rounds + 2)\n",
    "        plt.show()\n",
    "        fig.savefig(f\"{polyswyftSettings.root}/NRE_triangle_posterior.pdf\")\n",
    "\n",
    "    # KL divergence plot\n",
    "    if polyswyftSettings.plot_KL_divergence:\n",
    "        current_key = \"current\"\n",
    "        previous_key = \"previous\"\n",
    "        network_storage = {}\n",
    "        samples_storage = {}\n",
    "        root_storage = {}\n",
    "        dkl_storage = {}\n",
    "        dkl_storage_true = {}\n",
    "        dkl_compression_storage = {}\n",
    "\n",
    "        for rd in range(0, polyswyftSettings.NRE_num_retrain_rounds + 1):\n",
    "            current_root = f\"{polyswyftSettings.root}/{polyswyftSettings.child_root}_{rd}\"\n",
    "            root_storage[rd] = current_root\n",
    "\n",
    "            ## if dynamic sampling was on\n",
    "            if polyswyftSettings.use_livepoint_increasing:\n",
    "                samples = anesthetic.read_chains(\n",
    "                    root=f\"{current_root}/{polyswyftSettings.increased_livepoints_fileroot}/{polyset.file_root}\")\n",
    "            else:\n",
    "                samples = anesthetic.read_chains(root=f\"{current_root}/{polyset.file_root}\")\n",
    "            samples_storage[current_key] = samples\n",
    "            new_network = Network(polyswyftSettings=polyswyftSettings, obs=obs)\n",
    "            new_network.load_state_dict(torch.load(f\"{current_root}/{polyswyftSettings.neural_network_file}\"))\n",
    "            new_network.double()  # change to float64 precision of network\n",
    "            network_storage[current_key] = new_network\n",
    "\n",
    "            if rd > 0:\n",
    "                previous_network = network_storage[previous_key]\n",
    "                KDL = compute_KL_divergence(polyswyftSettings=polyswyftSettings, previous_network=previous_network.eval(),\n",
    "                                        current_samples=samples_storage[current_key], obs=obs,\n",
    "                                        previous_samples=samples_storage[previous_key])\n",
    "                dkl_storage[rd] = KDL\n",
    "\n",
    "            DKL = compute_KL_compression(samples_storage[current_key], polyswyftSettings)\n",
    "            dkl_compression_storage[rd] = DKL\n",
    "            if mcmc_true is not None:\n",
    "                network = network_storage[current_key]\n",
    "                KDL_true = compute_KL_divergence_truth(polyswyftSettings=polyswyftSettings,\n",
    "                                                       network=network.eval(),\n",
    "                                                       true_posterior=mcmc_true.copy(), obs=obs,\n",
    "                                                       samples=samples_storage[current_key])\n",
    "                dkl_storage_true[rd] = KDL_true\n",
    "\n",
    "            samples_storage[previous_key] = samples\n",
    "            network_storage[previous_key] = new_network\n",
    "        plt.figure(figsize=(3.5, 3.5))\n",
    "\n",
    "        ### plot KL(P_i||P_{i-1})\n",
    "        plt.errorbar(x=[i for i in range(1, polyswyftSettings.NRE_num_retrain_rounds + 1)],\n",
    "                     y=[dkl_storage[i][0] for i in range(1, polyswyftSettings.NRE_num_retrain_rounds + 1)],\n",
    "                     yerr=[dkl_storage[i][1] for i in range(1, polyswyftSettings.NRE_num_retrain_rounds + 1)],\n",
    "                     label=r\"$\\mathrm{KL} (\\mathcal{P}_i||\\mathcal{P}_{i-1})$\")\n",
    "        ### plot KL(P_i||pi)\n",
    "        plt.errorbar(x=[i for i in range(0, polyswyftSettings.NRE_num_retrain_rounds + 1)],\n",
    "                     y=[dkl_compression_storage[i][0] for i in range(0, polyswyftSettings.NRE_num_retrain_rounds + 1)],\n",
    "                     yerr=[dkl_compression_storage[i][1] for i in range(0, polyswyftSettings.NRE_num_retrain_rounds + 1)],\n",
    "                     label=r\"$\\mathrm{KL}(\\mathcal{P}_i||\\pi)$\")\n",
    "\n",
    "        if mcmc_true is not None and polyswyftSettings.model is not None:\n",
    "            ### plot KL(P_true||P_i)\n",
    "            plt.errorbar(x=[i for i in range(0, polyswyftSettings.NRE_num_retrain_rounds + 1)],\n",
    "                         y=[dkl_storage_true[i][0] for i in range(0, polyswyftSettings.NRE_num_retrain_rounds + 1)],\n",
    "                         yerr=[dkl_storage_true[i][1] for i in range(0, polyswyftSettings.NRE_num_retrain_rounds + 1)],\n",
    "                         label=r\"$\\mathrm{KL}(\\mathcal{P}_{\\mathrm{True}}||\\mathcal{P}_i)$\", linestyle=\"--\")\n",
    "            ### plot KL(P_true||pi)\n",
    "            logpi = polyswyftSettings.model.prior().logpdf(posterior)\n",
    "            logP = polyswyftSettings.model.posterior(obs[polyswyftSettings.obsKey].squeeze()).logpdf(posterior)\n",
    "            dkl_compression_truth = 1/logP.shape[0]*((logP - logpi).sum())\n",
    "            plt.hlines(y=dkl_compression_truth, xmin=0, xmax=polyswyftSettings.NRE_num_retrain_rounds, color=\"red\",\n",
    "                       label=r\"$\\mathrm{KL}(\\mathcal{P}_{\\mathrm{True}}||\\pi)$\",linestyle=\"--\")\n",
    "\n",
    "        plt.legend()\n",
    "        plt.xlabel(\"retrain round\")\n",
    "        plt.ylabel(\"KL divergence\")\n",
    "        plt.savefig(f\"{polyswyftSettings.root}/kl_divergence.pdf\", dpi=300, bbox_inches='tight')\n",
    "        plt.show()\n",
    "        plt.close()"
   ],
   "metadata": {
    "collapsed": false,
    "ExecuteTime": {
     "end_time": "2025-05-22T17:59:45.083743Z",
     "start_time": "2025-05-22T17:59:29.042517Z"
    }
   },
   "id": "62ad384caa7bc7c5",
   "execution_count": 12
  }
 ],
 "metadata": {
  "kernelspec": {
   "name": "lfienv",
   "language": "python",
   "display_name": "LFIenv"
  },
  "language_info": {
   "codemirror_mode": {
    "name": "ipython",
    "version": 2
   },
   "file_extension": ".py",
   "mimetype": "text/x-python",
   "name": "python",
   "nbconvert_exporter": "python",
   "pygments_lexer": "ipython2",
   "version": "2.7.6"
  }
 },
 "nbformat": 4,
 "nbformat_minor": 5
}
