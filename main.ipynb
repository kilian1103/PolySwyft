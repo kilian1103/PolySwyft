{
 "cells": [
  {
   "cell_type": "code",
   "outputs": [],
   "source": [
    "import logging\n",
    "from pytorch_lightning.loggers import WandbLogger\n",
    "import numpy as np\n",
    "import pypolychord\n",
    "import wandb\n",
    "import swyft\n",
    "import torch\n",
    "import anesthetic\n",
    "from anesthetic import MCMCSamples\n",
    "import os"
   ],
   "metadata": {
    "collapsed": false,
    "ExecuteTime": {
     "end_time": "2025-05-17T00:04:27.722037Z",
     "start_time": "2025-05-17T00:04:02.749822Z"
    }
   },
   "id": "cbc444902206e184",
   "execution_count": 1
  },
  {
   "cell_type": "code",
   "outputs": [],
   "source": [
    "try:\n",
    "    from mpi4py import MPI\n",
    "    comm_gen = MPI.COMM_WORLD\n",
    "    rank_gen = comm_gen.Get_rank()\n",
    "    size_gen = comm_gen.Get_size()\n",
    "except ImportError:\n",
    "    raise ImportError(\"Please install mpi4py to use this script with MPI.\")\n"
   ],
   "metadata": {
    "collapsed": false,
    "ExecuteTime": {
     "end_time": "2025-05-17T00:04:27.930977Z",
     "start_time": "2025-05-17T00:04:27.730654Z"
    }
   },
   "id": "9c87673a461c8b48",
   "execution_count": 2
  },
  {
   "cell_type": "code",
   "execution_count": 3,
   "id": "initial_id",
   "metadata": {
    "collapsed": true,
    "ExecuteTime": {
     "end_time": "2025-05-17T00:04:28.153562Z",
     "start_time": "2025-05-17T00:04:27.935484Z"
    }
   },
   "outputs": [],
   "source": [
    "from pytorch_lightning import seed_everything\n",
    "from pytorch_lightning.callbacks import LearningRateMonitor, ModelCheckpoint\n",
    "from pytorch_lightning.callbacks.early_stopping import EarlyStopping\n",
    "from PolySwyft.PolySwyft_Network import Network\n",
    "from PolySwyft.PolySwyft_Settings import PolySwyft_Settings\n",
    "from PolySwyft.PolySwyft_Simulator_MultiGauss import Simulator\n",
    "from PolySwyft.utils import select_weighted_contour, resimulate_deadpoints\n",
    "from PolySwyft.PolySwyft_Dataloader import PolySwyftDataModule"
   ]
  },
  {
   "cell_type": "code",
   "outputs": [
    {
     "name": "stderr",
     "output_type": "stream",
     "text": [
      "Global seed set to 234\n"
     ]
    }
   ],
   "source": [
    "root=\"PolySwyft_notebook\"\n",
    "polyswyftSettings = PolySwyft_Settings(root)\n",
    "trainer_kwargs = {\"accelerator\": 'cpu',\n",
    "                  \"devices\": 1,\n",
    "                  \"num_nodes\": 1,\n",
    "                  #\"strategy\": \"ddp\",\n",
    "                  \"max_epochs\": 1000,\n",
    "                  \"log_every_n_steps\": 1,\n",
    "                  \"precision\": 64,\n",
    "                  \"enable_progress_bar\": True,\n",
    "                  \"default_root_dir\": root,\n",
    "                  \"callbacks\": [],\n",
    "                  \"deterministic\": True,\n",
    "                  }\n",
    "polyswyftSettings.trainer_kwargs = trainer_kwargs\n",
    "polyswyftSettings.early_stopping_patience = 3\n",
    "seed_everything(polyswyftSettings.seed, workers=True)\n",
    "logging.basicConfig(filename=polyswyftSettings.logger_name, level=logging.INFO,\n",
    "                    filemode=\"w\")\n",
    "logger = logging.getLogger()\n",
    "polyswyftSettings.logger = logger\n",
    "logger.info('Started')"
   ],
   "metadata": {
    "collapsed": false,
    "ExecuteTime": {
     "end_time": "2025-05-17T00:04:28.242255Z",
     "start_time": "2025-05-17T00:04:28.206324Z"
    }
   },
   "id": "d367a7bb7084911c",
   "execution_count": 4
  },
  {
   "cell_type": "code",
   "outputs": [],
   "source": [
    " #### instantiate swyft simulator\n",
    "polyswyftSettings.num_features = 2\n",
    "polyswyftSettings.num_features_dataset = 3\n",
    "polyswyftSettings.NRE_num_retrain_rounds = 1\n",
    "\n",
    "d = polyswyftSettings.num_features_dataset\n",
    "n = polyswyftSettings.num_features\n",
    "\n",
    "m = torch.randn(d) * 3  # mean vec of dataset\n",
    "M = torch.randn(size=(d, n))  # transform matrix of dataset to parameter vee\n",
    "C = torch.eye(d)  # cov matrix of dataset\n",
    "mu = torch.zeros(n)  # mean vec of parameter prior\n",
    "Sigma = 100 * torch.eye(n)  # cov matrix of parameter prior\n",
    "sim = Simulator(polyswyftSettings=polyswyftSettings, m=m, M=M, C=C, mu=mu, Sigma=Sigma)\n",
    "polyswyftSettings.model = sim.model  # lsbi model"
   ],
   "metadata": {
    "collapsed": false,
    "ExecuteTime": {
     "end_time": "2025-05-17T00:04:28.262729Z",
     "start_time": "2025-05-17T00:04:28.247786Z"
    }
   },
   "id": "8130426b20cf8c26",
   "execution_count": 5
  },
  {
   "cell_type": "code",
   "outputs": [
    {
     "name": "stderr",
     "output_type": "stream",
     "text": [
      "/Users/hikarukilian/LFIenv/lib/python3.10/site-packages/scipy/stats/_multivariate.py:753: RuntimeWarning: covariance is not symmetric positive-semidefinite.\n",
      "  out = random_state.multivariate_normal(mean, cov, size)\n",
      "Global seed set to 234\n"
     ]
    },
    {
     "data": {
      "text/plain": "  0%|          | 0/10000 [00:00<?, ?it/s]",
      "application/vnd.jupyter.widget-view+json": {
       "version_major": 2,
       "version_minor": 0,
       "model_id": "977fcc90ebb5443d8ae6c1b6608643a9"
      }
     },
     "metadata": {},
     "output_type": "display_data"
    },
    {
     "name": "stderr",
     "output_type": "stream",
     "text": [
      "Global seed set to 234\n"
     ]
    }
   ],
   "source": [
    "# generate training dat and obs\n",
    "obs = swyft.Sample(x=torch.tensor(sim.model.evidence().rvs()[None, :]))\n",
    "n_per_core = polyswyftSettings.n_training_samples // size_gen\n",
    "if rank_gen == 0:\n",
    "    n_per_core += polyswyftSettings.n_training_samples % size_gen\n",
    "seed_everything(polyswyftSettings.seed + rank_gen, workers=True)\n",
    "deadpoints = sim.sample(n_per_core, targets=[polyswyftSettings.targetKey])[\n",
    "    polyswyftSettings.targetKey]\n",
    "comm_gen.Barrier()\n",
    "seed_everything(polyswyftSettings.seed, workers=True)\n",
    "deadpoints = comm_gen.allgather(deadpoints)\n",
    "deadpoints = np.concatenate(deadpoints, axis=0)\n",
    "comm_gen.Barrier()"
   ],
   "metadata": {
    "collapsed": false,
    "ExecuteTime": {
     "end_time": "2025-05-17T00:04:49.732887Z",
     "start_time": "2025-05-17T00:04:28.268268Z"
    }
   },
   "id": "f65cf265a9b32989",
   "execution_count": 6
  },
  {
   "cell_type": "code",
   "outputs": [
    {
     "data": {
      "text/plain": "  0%|          | 0/1000 [00:00<?, ?it/s]",
      "application/vnd.jupyter.widget-view+json": {
       "version_major": 2,
       "version_minor": 0,
       "model_id": "b4c1d0ba742745f6aa9dae4ccaa149e7"
      }
     },
     "metadata": {},
     "output_type": "display_data"
    }
   ],
   "source": [
    "### generate true posterior for comparison\n",
    "cond = {polyswyftSettings.obsKey: obs[polyswyftSettings.obsKey].numpy().squeeze()}\n",
    "full_joint = sim.sample(polyswyftSettings.n_weighted_samples, conditions=cond)\n",
    "posterior = full_joint[polyswyftSettings.posteriorsKey]\n",
    "weights = np.ones(shape=len(posterior))  # direct samples from posterior have weights 1\n",
    "params_labels = {i: rf\"${polyswyftSettings.targetKey}_{i}$\" for i in range(polyswyftSettings.num_features)}\n",
    "mcmc_true = MCMCSamples(\n",
    "    data=posterior, weights=weights.squeeze(), labels=params_labels)"
   ],
   "metadata": {
    "collapsed": false,
    "ExecuteTime": {
     "end_time": "2025-05-17T00:04:55.801620Z",
     "start_time": "2025-05-17T00:04:49.745013Z"
    }
   },
   "id": "a9a80613196b1f3a",
   "execution_count": 7
  },
  {
   "cell_type": "code",
   "outputs": [],
   "source": [
    "#### instantiate swyft network\n",
    "network = Network(polyswyftSettings=polyswyftSettings, obs=obs)\n",
    "\n",
    "#### create helper function for polyswyft cycle\n",
    "def create_callbacks() -> list:\n",
    "    early_stopping_callback = EarlyStopping(monitor='val_loss', min_delta=0.,\n",
    "                                            patience=polyswyftSettings.early_stopping_patience, mode='min')\n",
    "    lr_monitor = LearningRateMonitor(logging_interval='step')\n",
    "    checkpoint_callback = ModelCheckpoint(monitor='val_loss',\n",
    "                                          filename='NRE_{epoch}_{val_loss:.2f}_{train_loss:.2f}', mode='min')\n",
    "    return [early_stopping_callback, lr_monitor, checkpoint_callback]\n",
    "\n",
    "def lr_round_scheduler(rd: int)-> float:\n",
    "    lr = polyswyftSettings.learning_rate_init * (polyswyftSettings.learning_rate_decay ** (polyswyftSettings.early_stopping_patience*rd))\n",
    "    return lr\n",
    "\n",
    "def deadpoints_processing(deadpoints: anesthetic.NestedSamples)->anesthetic.NestedSamples:\n",
    "    return deadpoints"
   ],
   "metadata": {
    "collapsed": false,
    "ExecuteTime": {
     "end_time": "2025-05-17T00:04:55.861296Z",
     "start_time": "2025-05-17T00:04:55.809870Z"
    }
   },
   "id": "b54f19e4fc2eaee0",
   "execution_count": 8
  },
  {
   "cell_type": "code",
   "outputs": [],
   "source": [
    " #### set up polychord settings\n",
    "polyset = pypolychord.PolyChordSettings(polyswyftSettings.num_features, nDerived=polyswyftSettings.nderived)\n",
    "polyset.file_root = \"samples\"\n",
    "polyset.base_dir = polyswyftSettings.root\n",
    "polyset.seed = polyswyftSettings.seed\n",
    "polyset.nfail = polyswyftSettings.n_training_samples\n",
    "polyset.nlive = 100*polyswyftSettings.num_features"
   ],
   "metadata": {
    "collapsed": false,
    "ExecuteTime": {
     "end_time": "2025-05-17T00:04:55.878379Z",
     "start_time": "2025-05-17T00:04:55.866282Z"
    }
   },
   "id": "5526ce1aed6712cc",
   "execution_count": 9
  },
  {
   "cell_type": "code",
   "outputs": [
    {
     "name": "stderr",
     "output_type": "stream",
     "text": [
      "\u001B[34m\u001B[1mwandb\u001B[0m: Currently logged in as: \u001B[33mkhs40\u001B[0m (\u001B[33mnsnre\u001B[0m). Use \u001B[1m`wandb login --relogin`\u001B[0m to force relogin\n"
     ]
    },
    {
     "data": {
      "text/plain": "<IPython.core.display.HTML object>",
      "text/html": "wandb version 0.19.11 is available!  To upgrade, please run:\n $ pip install wandb --upgrade"
     },
     "metadata": {},
     "output_type": "display_data"
    },
    {
     "data": {
      "text/plain": "<IPython.core.display.HTML object>",
      "text/html": "Tracking run with wandb version 0.15.3"
     },
     "metadata": {},
     "output_type": "display_data"
    },
    {
     "data": {
      "text/plain": "<IPython.core.display.HTML object>",
      "text/html": "Run data is saved locally in <code>PolySwyft_notebook/round_0/wandb/run-20250517_010512-g3e4smpo</code>"
     },
     "metadata": {},
     "output_type": "display_data"
    },
    {
     "data": {
      "text/plain": "<IPython.core.display.HTML object>",
      "text/html": "Syncing run <strong><a href='https://wandb.ai/nsnre/PolySwyft_notebook/runs/g3e4smpo' target=\"_blank\">round_0</a></strong> to <a href='https://wandb.ai/nsnre/PolySwyft_notebook' target=\"_blank\">Weights & Biases</a> (<a href='https://wandb.me/run' target=\"_blank\">docs</a>)<br/>"
     },
     "metadata": {},
     "output_type": "display_data"
    },
    {
     "data": {
      "text/plain": "<IPython.core.display.HTML object>",
      "text/html": " View project at <a href='https://wandb.ai/nsnre/PolySwyft_notebook' target=\"_blank\">https://wandb.ai/nsnre/PolySwyft_notebook</a>"
     },
     "metadata": {},
     "output_type": "display_data"
    },
    {
     "data": {
      "text/plain": "<IPython.core.display.HTML object>",
      "text/html": " View run at <a href='https://wandb.ai/nsnre/PolySwyft_notebook/runs/g3e4smpo' target=\"_blank\">https://wandb.ai/nsnre/PolySwyft_notebook/runs/g3e4smpo</a>"
     },
     "metadata": {},
     "output_type": "display_data"
    },
    {
     "name": "stderr",
     "output_type": "stream",
     "text": [
      "GPU available: False, used: False\n",
      "TPU available: False, using: 0 TPU cores\n",
      "IPU available: False, using: 0 IPUs\n",
      "HPU available: False, using: 0 HPUs\n",
      "\n",
      "  | Name    | Type                   | Params\n",
      "---------------------------------------------------\n",
      "0 | network | LogRatioEstimator_Ndim | 68.0 K\n",
      "---------------------------------------------------\n",
      "68.0 K    Trainable params\n",
      "0         Non-trainable params\n",
      "68.0 K    Total params\n",
      "0.544     Total estimated model params size (MB)\n"
     ]
    },
    {
     "data": {
      "text/plain": "Sanity Checking: 0it [00:00, ?it/s]",
      "application/vnd.jupyter.widget-view+json": {
       "version_major": 2,
       "version_minor": 0,
       "model_id": "cc8be179a8954ca3975b3b78baeee942"
      }
     },
     "metadata": {},
     "output_type": "display_data"
    },
    {
     "name": "stderr",
     "output_type": "stream",
     "text": [
      "/Users/hikarukilian/LFIenv/lib/python3.10/site-packages/pytorch_lightning/trainer/connectors/data_connector.py:224: PossibleUserWarning: The dataloader, val_dataloader 0, does not have many workers which may be a bottleneck. Consider increasing the value of the `num_workers` argument` (try 12 which is the number of cpus on this machine) in the `DataLoader` init to improve performance.\n",
      "  rank_zero_warn(\n",
      "/Users/hikarukilian/LFIenv/lib/python3.10/site-packages/torch/__init__.py:696: UserWarning: torch.set_default_tensor_type() is deprecated as of PyTorch 2.1, please use torch.set_default_dtype() and torch.set_default_device() as alternatives. (Triggered internally at /Users/runner/work/pytorch/pytorch/pytorch/torch/csrc/tensor/python_tensor.cpp:453.)\n",
      "  _C._set_default_tensor_type(t)\n",
      "/Users/hikarukilian/LFIenv/lib/python3.10/site-packages/pytorch_lightning/trainer/connectors/data_connector.py:224: PossibleUserWarning: The dataloader, train_dataloader, does not have many workers which may be a bottleneck. Consider increasing the value of the `num_workers` argument` (try 12 which is the number of cpus on this machine) in the `DataLoader` init to improve performance.\n",
      "  rank_zero_warn(\n"
     ]
    },
    {
     "data": {
      "text/plain": "Training: 0it [00:00, ?it/s]",
      "application/vnd.jupyter.widget-view+json": {
       "version_major": 2,
       "version_minor": 0,
       "model_id": "0b745da5594148fd9a4a8ebb33a68a0f"
      }
     },
     "metadata": {},
     "output_type": "display_data"
    },
    {
     "data": {
      "text/plain": "Validation: 0it [00:00, ?it/s]",
      "application/vnd.jupyter.widget-view+json": {
       "version_major": 2,
       "version_minor": 0,
       "model_id": "d67763ae7e094c109bf33e56d72d422f"
      }
     },
     "metadata": {},
     "output_type": "display_data"
    },
    {
     "data": {
      "text/plain": "Validation: 0it [00:00, ?it/s]",
      "application/vnd.jupyter.widget-view+json": {
       "version_major": 2,
       "version_minor": 0,
       "model_id": "5de4aa825bad4dcca9b3422159a6176c"
      }
     },
     "metadata": {},
     "output_type": "display_data"
    },
    {
     "data": {
      "text/plain": "Validation: 0it [00:00, ?it/s]",
      "application/vnd.jupyter.widget-view+json": {
       "version_major": 2,
       "version_minor": 0,
       "model_id": "22f7ef4501d24cf4854f5c31c5158731"
      }
     },
     "metadata": {},
     "output_type": "display_data"
    },
    {
     "data": {
      "text/plain": "Validation: 0it [00:00, ?it/s]",
      "application/vnd.jupyter.widget-view+json": {
       "version_major": 2,
       "version_minor": 0,
       "model_id": "9c5e20171acf4b8e87438be99a4b3521"
      }
     },
     "metadata": {},
     "output_type": "display_data"
    },
    {
     "data": {
      "text/plain": "Validation: 0it [00:00, ?it/s]",
      "application/vnd.jupyter.widget-view+json": {
       "version_major": 2,
       "version_minor": 0,
       "model_id": "76e9990321354412bd0719ab9f5ed318"
      }
     },
     "metadata": {},
     "output_type": "display_data"
    },
    {
     "data": {
      "text/plain": "Validation: 0it [00:00, ?it/s]",
      "application/vnd.jupyter.widget-view+json": {
       "version_major": 2,
       "version_minor": 0,
       "model_id": "694ae47bb5094ca4b571b60de0392d35"
      }
     },
     "metadata": {},
     "output_type": "display_data"
    },
    {
     "data": {
      "text/plain": "Validation: 0it [00:00, ?it/s]",
      "application/vnd.jupyter.widget-view+json": {
       "version_major": 2,
       "version_minor": 0,
       "model_id": "4d9e24e70a9b4fc4b222ac7abeb3b1c0"
      }
     },
     "metadata": {},
     "output_type": "display_data"
    },
    {
     "data": {
      "text/plain": "Validation: 0it [00:00, ?it/s]",
      "application/vnd.jupyter.widget-view+json": {
       "version_major": 2,
       "version_minor": 0,
       "model_id": "f364ae3f588b478798e30f681c39f0c3"
      }
     },
     "metadata": {},
     "output_type": "display_data"
    },
    {
     "data": {
      "text/plain": "<IPython.core.display.HTML object>",
      "text/html": "Waiting for W&B process to finish... <strong style=\"color:green\">(success).</strong>"
     },
     "metadata": {},
     "output_type": "display_data"
    },
    {
     "data": {
      "text/plain": "VBox(children=(Label(value='0.001 MB of 0.001 MB uploaded (0.000 MB deduped)\\r'), FloatProgress(value=1.0, max…",
      "application/vnd.jupyter.widget-view+json": {
       "version_major": 2,
       "version_minor": 0,
       "model_id": "d6d672aaee704c31b33412e197c46c3c"
      }
     },
     "metadata": {},
     "output_type": "display_data"
    },
    {
     "data": {
      "text/plain": "<IPython.core.display.HTML object>",
      "text/html": "<style>\n    table.wandb td:nth-child(1) { padding: 0 10px; text-align: left ; width: auto;} td:nth-child(2) {text-align: left ; width: 100%}\n    .wandb-row { display: flex; flex-direction: row; flex-wrap: wrap; justify-content: flex-start; width: 100% }\n    .wandb-col { display: flex; flex-direction: column; flex-basis: 100%; flex: 1; padding: 10px; }\n    </style>\n<div class=\"wandb-row\"><div class=\"wandb-col\"><h3>Run history:</h3><br/><table class=\"wandb\"><tr><td>epoch</td><td>▁▁▁▁▁▂▂▂▂▂▃▃▃▃▃▄▄▄▄▄▅▅▅▅▅▆▆▆▆▆▇▇▇▇▇█████</td></tr><tr><td>lr-Adam</td><td>█████▇▇▇▇▇▆▆▆▆▆▅▅▅▅▅▄▄▄▄▄▃▃▃▃▃▂▂▂▂▂▁▁▁▁▁</td></tr><tr><td>train_loss</td><td>█▂▂▄▂▁▃▁▂▁▃▁▂▃▂▁▂▃▅▁▂▃▄▄▂▁▁▃▁▁▂▂▃▃▂▃▁▁▁▁</td></tr><tr><td>trainer/global_step</td><td>▁▁▁▂▂▂▂▂▂▃▃▃▃▃▄▄▄▄▄▄▅▅▅▅▅▅▆▆▆▆▆▇▇▇▇▇▇███</td></tr><tr><td>val_loss</td><td>▅▃▃▅▁▄█▁</td></tr></table><br/></div><div class=\"wandb-col\"><h3>Run summary:</h3><br/><table class=\"wandb\"><tr><td>epoch</td><td>7</td></tr><tr><td>lr-Adam</td><td>0.00093</td></tr><tr><td>train_loss</td><td>-1.3784</td></tr><tr><td>trainer/global_step</td><td>999</td></tr><tr><td>val_loss</td><td>-1.31349</td></tr></table><br/></div></div>"
     },
     "metadata": {},
     "output_type": "display_data"
    },
    {
     "data": {
      "text/plain": "<IPython.core.display.HTML object>",
      "text/html": " View run <strong style=\"color:#cdcd00\">round_0</strong> at: <a href='https://wandb.ai/nsnre/PolySwyft_notebook/runs/g3e4smpo' target=\"_blank\">https://wandb.ai/nsnre/PolySwyft_notebook/runs/g3e4smpo</a><br/>Synced 5 W&B file(s), 0 media file(s), 0 artifact file(s) and 0 other file(s)"
     },
     "metadata": {},
     "output_type": "display_data"
    },
    {
     "data": {
      "text/plain": "<IPython.core.display.HTML object>",
      "text/html": "Find logs at: <code>PolySwyft_notebook/round_0/wandb/run-20250517_010512-g3e4smpo/logs</code>"
     },
     "metadata": {},
     "output_type": "display_data"
    },
    {
     "name": "stdout",
     "output_type": "stream",
     "text": [
      "PolyChord: MPI is already initilised, not initialising, and will not finalize\n",
      "Last dead point: [ -4.08601546 -12.39760633   6.40385578   6.49756231]\n",
      "\n",
      "PolyChord: Next Generation Nested Sampling\n",
      "copyright: Will Handley, Mike Hobson & Anthony Lasenby\n",
      "  version: 1.22.1\n",
      "  release: 10th Jan 2024\n",
      "    email: wh260@mrao.cam.ac.uk\n",
      "\n",
      "Run Settings\n",
      "nlive    :     200\n",
      "nDims    :       2\n",
      "nDerived :       0\n",
      "Doing Clustering\n",
      "Synchronous parallelisation\n",
      "Generating equally weighted posteriors\n",
      "Generating weighted posteriors\n",
      "Clustering on posteriors\n",
      "Writing a resume file to PolySwyft_notebook/round_0/samples.resume\n",
      "\n",
      "Resuming from previous run\n",
      "number of repeats:           10\n",
      "started sampling\n",
      "\n",
      " ____________________________________________________ \n",
      "|                                                    |\n",
      "| ndead  =         2779                              |\n",
      "| log(Z) =            0.53425 +/-            0.15971 |\n",
      "|____________________________________________________|\n",
      "Key not found\n"
     ]
    },
    {
     "data": {
      "text/plain": "<IPython.core.display.HTML object>",
      "text/html": "wandb version 0.19.11 is available!  To upgrade, please run:\n $ pip install wandb --upgrade"
     },
     "metadata": {},
     "output_type": "display_data"
    },
    {
     "data": {
      "text/plain": "<IPython.core.display.HTML object>",
      "text/html": "Tracking run with wandb version 0.15.3"
     },
     "metadata": {},
     "output_type": "display_data"
    },
    {
     "data": {
      "text/plain": "<IPython.core.display.HTML object>",
      "text/html": "Run data is saved locally in <code>PolySwyft_notebook/round_1/wandb/run-20250517_011827-j6suemzf</code>"
     },
     "metadata": {},
     "output_type": "display_data"
    },
    {
     "data": {
      "text/plain": "<IPython.core.display.HTML object>",
      "text/html": "Syncing run <strong><a href='https://wandb.ai/nsnre/PolySwyft_notebook/runs/j6suemzf' target=\"_blank\">round_1</a></strong> to <a href='https://wandb.ai/nsnre/PolySwyft_notebook' target=\"_blank\">Weights & Biases</a> (<a href='https://wandb.me/run' target=\"_blank\">docs</a>)<br/>"
     },
     "metadata": {},
     "output_type": "display_data"
    },
    {
     "data": {
      "text/plain": "<IPython.core.display.HTML object>",
      "text/html": " View project at <a href='https://wandb.ai/nsnre/PolySwyft_notebook' target=\"_blank\">https://wandb.ai/nsnre/PolySwyft_notebook</a>"
     },
     "metadata": {},
     "output_type": "display_data"
    },
    {
     "data": {
      "text/plain": "<IPython.core.display.HTML object>",
      "text/html": " View run at <a href='https://wandb.ai/nsnre/PolySwyft_notebook/runs/j6suemzf' target=\"_blank\">https://wandb.ai/nsnre/PolySwyft_notebook/runs/j6suemzf</a>"
     },
     "metadata": {},
     "output_type": "display_data"
    },
    {
     "name": "stderr",
     "output_type": "stream",
     "text": [
      "GPU available: False, used: False\n",
      "TPU available: False, using: 0 TPU cores\n",
      "IPU available: False, using: 0 IPUs\n",
      "HPU available: False, using: 0 HPUs\n",
      "\n",
      "  | Name    | Type                   | Params\n",
      "---------------------------------------------------\n",
      "0 | network | LogRatioEstimator_Ndim | 68.0 K\n",
      "---------------------------------------------------\n",
      "68.0 K    Trainable params\n",
      "0         Non-trainable params\n",
      "68.0 K    Total params\n",
      "0.544     Total estimated model params size (MB)\n"
     ]
    },
    {
     "name": "stdout",
     "output_type": "stream",
     "text": [
      "Key not found\n"
     ]
    },
    {
     "data": {
      "text/plain": "Sanity Checking: 0it [00:00, ?it/s]",
      "application/vnd.jupyter.widget-view+json": {
       "version_major": 2,
       "version_minor": 0,
       "model_id": "7d900e9274994116b19f8771ce3a6a44"
      }
     },
     "metadata": {},
     "output_type": "display_data"
    },
    {
     "name": "stderr",
     "output_type": "stream",
     "text": [
      "/Users/hikarukilian/LFIenv/lib/python3.10/site-packages/pytorch_lightning/trainer/connectors/data_connector.py:224: PossibleUserWarning: The dataloader, val_dataloader 0, does not have many workers which may be a bottleneck. Consider increasing the value of the `num_workers` argument` (try 12 which is the number of cpus on this machine) in the `DataLoader` init to improve performance.\n",
      "  rank_zero_warn(\n",
      "/Users/hikarukilian/LFIenv/lib/python3.10/site-packages/pytorch_lightning/trainer/connectors/data_connector.py:224: PossibleUserWarning: The dataloader, train_dataloader, does not have many workers which may be a bottleneck. Consider increasing the value of the `num_workers` argument` (try 12 which is the number of cpus on this machine) in the `DataLoader` init to improve performance.\n",
      "  rank_zero_warn(\n"
     ]
    },
    {
     "data": {
      "text/plain": "Training: 0it [00:00, ?it/s]",
      "application/vnd.jupyter.widget-view+json": {
       "version_major": 2,
       "version_minor": 0,
       "model_id": "0d776db821df405fbe6e9439667495ff"
      }
     },
     "metadata": {},
     "output_type": "display_data"
    },
    {
     "data": {
      "text/plain": "Validation: 0it [00:00, ?it/s]",
      "application/vnd.jupyter.widget-view+json": {
       "version_major": 2,
       "version_minor": 0,
       "model_id": "ba51fdf5f8ab48c28002513152142af6"
      }
     },
     "metadata": {},
     "output_type": "display_data"
    },
    {
     "data": {
      "text/plain": "Validation: 0it [00:00, ?it/s]",
      "application/vnd.jupyter.widget-view+json": {
       "version_major": 2,
       "version_minor": 0,
       "model_id": "e8ca1b87404d472fbab4dd1900b3636e"
      }
     },
     "metadata": {},
     "output_type": "display_data"
    },
    {
     "data": {
      "text/plain": "Validation: 0it [00:00, ?it/s]",
      "application/vnd.jupyter.widget-view+json": {
       "version_major": 2,
       "version_minor": 0,
       "model_id": "3e8aff2f2a4e4128b268ee746188a9b0"
      }
     },
     "metadata": {},
     "output_type": "display_data"
    },
    {
     "data": {
      "text/plain": "Validation: 0it [00:00, ?it/s]",
      "application/vnd.jupyter.widget-view+json": {
       "version_major": 2,
       "version_minor": 0,
       "model_id": "9f244ccbd32a444da16a242d2dd9e310"
      }
     },
     "metadata": {},
     "output_type": "display_data"
    },
    {
     "data": {
      "text/plain": "Validation: 0it [00:00, ?it/s]",
      "application/vnd.jupyter.widget-view+json": {
       "version_major": 2,
       "version_minor": 0,
       "model_id": "1148f91e5ecd4c7bbed4f3c7f8ce5cde"
      }
     },
     "metadata": {},
     "output_type": "display_data"
    },
    {
     "data": {
      "text/plain": "Validation: 0it [00:00, ?it/s]",
      "application/vnd.jupyter.widget-view+json": {
       "version_major": 2,
       "version_minor": 0,
       "model_id": "e886133dfc314b8583006b15a753e1dd"
      }
     },
     "metadata": {},
     "output_type": "display_data"
    },
    {
     "data": {
      "text/plain": "<IPython.core.display.HTML object>",
      "text/html": "Waiting for W&B process to finish... <strong style=\"color:green\">(success).</strong>"
     },
     "metadata": {},
     "output_type": "display_data"
    },
    {
     "data": {
      "text/plain": "<IPython.core.display.HTML object>",
      "text/html": "<style>\n    table.wandb td:nth-child(1) { padding: 0 10px; text-align: left ; width: auto;} td:nth-child(2) {text-align: left ; width: 100%}\n    .wandb-row { display: flex; flex-direction: row; flex-wrap: wrap; justify-content: flex-start; width: 100% }\n    .wandb-col { display: flex; flex-direction: column; flex-basis: 100%; flex: 1; padding: 10px; }\n    </style>\n<div class=\"wandb-row\"><div class=\"wandb-col\"><h3>Run history:</h3><br/><table class=\"wandb\"><tr><td>epoch</td><td>▁▁▁▁▁▁▁▂▂▂▂▂▂▂▄▄▄▄▄▄▅▅▅▅▅▅▅▇▇▇▇▇▇███████</td></tr><tr><td>lr-Adam</td><td>███████▇▇▇▇▇▇▇▅▅▅▅▅▅▄▄▄▄▄▄▄▂▂▂▂▂▂▁▁▁▁▁▁▁</td></tr><tr><td>train_loss</td><td>▅▄▃▄▂▅▃▆▅▃█▄▂▄▆▆▄▁▃▂▅▆▃▆▃▂▃▆▄▄▁▃▁▂▃▂▃▁▅▃</td></tr><tr><td>trainer/global_step</td><td>▁▁▁▂▂▂▂▂▂▃▃▃▃▃▃▄▄▄▄▄▅▅▅▅▅▅▆▆▆▆▆▇▇▇▇▇▇███</td></tr><tr><td>val_loss</td><td>▅▇▁▅█▁</td></tr></table><br/></div><div class=\"wandb-col\"><h3>Run summary:</h3><br/><table class=\"wandb\"><tr><td>epoch</td><td>5</td></tr><tr><td>lr-Adam</td><td>0.00092</td></tr><tr><td>train_loss</td><td>-1.24083</td></tr><tr><td>trainer/global_step</td><td>959</td></tr><tr><td>val_loss</td><td>-1.27649</td></tr></table><br/></div></div>"
     },
     "metadata": {},
     "output_type": "display_data"
    },
    {
     "data": {
      "text/plain": "<IPython.core.display.HTML object>",
      "text/html": " View run <strong style=\"color:#cdcd00\">round_1</strong> at: <a href='https://wandb.ai/nsnre/PolySwyft_notebook/runs/j6suemzf' target=\"_blank\">https://wandb.ai/nsnre/PolySwyft_notebook/runs/j6suemzf</a><br/>Synced 5 W&B file(s), 0 media file(s), 0 artifact file(s) and 0 other file(s)"
     },
     "metadata": {},
     "output_type": "display_data"
    },
    {
     "data": {
      "text/plain": "<IPython.core.display.HTML object>",
      "text/html": "Find logs at: <code>PolySwyft_notebook/round_1/wandb/run-20250517_011827-j6suemzf/logs</code>"
     },
     "metadata": {},
     "output_type": "display_data"
    },
    {
     "name": "stdout",
     "output_type": "stream",
     "text": [
      "PolyChord: MPI is already initilised, not initialising, and will not finalize\n",
      "Last dead point: [ -5.44747288 -12.60827028   3.38893419   3.39176979]\n",
      "\n",
      "PolyChord: Next Generation Nested Sampling\n",
      "copyright: Will Handley, Mike Hobson & Anthony Lasenby\n",
      "  version: 1.22.1\n",
      "  release: 10th Jan 2024\n",
      "    email: wh260@mrao.cam.ac.uk\n",
      "\n",
      "Run Settings\n",
      "nlive    :     200\n",
      "nDims    :       2\n",
      "nDerived :       0\n",
      "Doing Clustering\n",
      "Synchronous parallelisation\n",
      "Generating equally weighted posteriors\n",
      "Generating weighted posteriors\n",
      "Clustering on posteriors\n",
      "Writing a resume file to PolySwyft_notebook/round_1/samples.resume\n",
      "\n",
      "Resuming from previous run\n",
      "number of repeats:           10\n",
      "started sampling\n",
      "\n",
      " ____________________________________________________ \n",
      "|                                                    |\n",
      "| ndead  =         2738                              |\n",
      "| log(Z) =           -2.37180 +/-            0.15700 |\n",
      "|____________________________________________________|\n"
     ]
    }
   ],
   "source": [
    "if not polyswyftSettings.only_plot_mode:\n",
    "    for rd in range(polyswyftSettings.NRE_start_from_round, polyswyftSettings.NRE_num_retrain_rounds+1):\n",
    "        logger.info(\"training network round: \" + str(rd))\n",
    "        if polyswyftSettings.NRE_start_from_round > 0: # load previous samples and network\n",
    "            root = f\"{polyswyftSettings.root}/{polyswyftSettings.child_root}_{rd-1}\"\n",
    "            deadpoints = anesthetic.read_chains(root=f\"{root}/{polyset.file_root}\")\n",
    "            deadpoints = deadpoints.iloc[:, :polyswyftSettings.num_features].to_numpy()\n",
    "            network.load_state_dict(torch.load(f\"{root}/{polyswyftSettings.neural_network_file}\"))\n",
    "\n",
    "        ### update root\n",
    "        root = f\"{polyswyftSettings.root}/{polyswyftSettings.child_root}_{rd}\"\n",
    "        ### create root folder ###\n",
    "        try:\n",
    "            os.makedirs(root)\n",
    "        except OSError:\n",
    "            logger.info(\"root folder already exists!\")\n",
    "\n",
    "        ####conditional resimulate deadpoints with swyft\n",
    "        resimulate_deadpoints(deadpoints=deadpoints, polyswyftSettings=polyswyftSettings, sim=sim, rd=rd)\n",
    "        dm = PolySwyftDataModule(polyswyftSettings=polyswyftSettings,rd=rd,\n",
    "                                 **polyswyftSettings.dm_kwargs)\n",
    "\n",
    "        ###prepare network\n",
    "        learning_rate = lr_round_scheduler(rd) #adjust learning rate between round (optional)\n",
    "        network.optimizer_init.optim_args = dict(lr=learning_rate)\n",
    "        ####set network to train mode\n",
    "        network.train()\n",
    "\n",
    "        #prepare wandb logger\n",
    "        try:\n",
    "            polyswyftSettings.wandb_kwargs.pop(\"finish\")\n",
    "        except KeyError:\n",
    "            print(\"Key not found\")\n",
    "        polyswyftSettings.wandb_kwargs[\"name\"] = f\"{polyswyftSettings.child_root}_{rd}\"\n",
    "        polyswyftSettings.wandb_kwargs[\"save_dir\"] = f\"{polyswyftSettings.root}/{polyswyftSettings.child_root}_{rd}\"\n",
    "        wandb_logger = WandbLogger(**polyswyftSettings.wandb_kwargs)\n",
    "        ###prepare trainer\n",
    "        try:\n",
    "            polyswyftSettings.trainer_kwargs.pop(\"callbacks\")\n",
    "        except KeyError:\n",
    "            print(\"Key not found\")\n",
    "\n",
    "        #### train network\n",
    "        trainer = swyft.SwyftTrainer(**polyswyftSettings.trainer_kwargs, logger=wandb_logger, callbacks=create_callbacks())\n",
    "        trainer.fit(network, dm)\n",
    "        wandb.finish()\n",
    "\n",
    "        if rank_gen == 0:\n",
    "            torch.save(network.state_dict(), f\"{root}/{polyswyftSettings.neural_network_file}\")\n",
    "            torch.save(network.optimizers().state_dict(), f\"{root}/{polyswyftSettings.optimizer_file}\")\n",
    "\n",
    "        #### prepare network for polychord\n",
    "        network.eval()\n",
    "\n",
    "        # run polychord\n",
    "        polyset.base_dir = root\n",
    "        comm_gen.barrier()\n",
    "        pypolychord.run_polychord(loglikelihood=network.logLikelihood,\n",
    "                                  nDims=polyswyftSettings.num_features,\n",
    "                                  nDerived=polyswyftSettings.nderived, settings=polyset,\n",
    "                                  prior=network.prior, dumper=network.dumper)\n",
    "\n",
    "        comm_gen.Barrier()\n",
    "        deadpoints = anesthetic.read_chains(root=f\"{root}/{polyset.file_root}\")\n",
    "\n",
    "        #run dynamic nested sampling round 2 here if you want\n",
    "        ##### Polychord run 2 #####\n",
    "        if polyswyftSettings.use_livepoint_increasing:\n",
    "            ### choose contour to increase livepoints ###\n",
    "            index = select_weighted_contour(deadpoints,\n",
    "                                            threshold=1 - polyswyftSettings.livepoint_increase_posterior_contour)\n",
    "            logL = deadpoints.iloc[index, :].logL\n",
    "\n",
    "            try:\n",
    "                os.makedirs(f\"{root}/{polyswyftSettings.increased_livepoints_fileroot}\")\n",
    "            except OSError:\n",
    "                logger.info(\"root folder already exists!\")\n",
    "\n",
    "            ### run polychord round 2 ###\n",
    "            polyset.base_dir = f\"{root}/{polyswyftSettings.increased_livepoints_fileroot}\"\n",
    "            polyset.nlives = {logL: polyswyftSettings.n_increased_livepoints}\n",
    "            comm_gen.Barrier()\n",
    "            pypolychord.run_polychord(loglikelihood=network.logLikelihood,\n",
    "                                      nDims=polyswyftSettings.num_features,\n",
    "                                      nDerived=polyswyftSettings.nderived, settings=polyset,\n",
    "                                      prior=network.prior, dumper=network.dumper)\n",
    "            comm_gen.Barrier()\n",
    "            polyset.nlives = {}\n",
    "            deadpoints = anesthetic.read_chains(\n",
    "                root=f\"{root}/{polyswyftSettings.increased_livepoints_fileroot}/{polyset.file_root}\")\n",
    "\n",
    "        #### optional deadpoints post processing\n",
    "        deadpoints = deadpoints_processing(deadpoints)\n",
    "\n",
    "        #prepare data for next round\n",
    "        deadpoints = deadpoints.iloc[:, :polyswyftSettings.num_features].to_numpy()\n"
   ],
   "metadata": {
    "collapsed": false,
    "ExecuteTime": {
     "end_time": "2025-05-17T00:27:49.495684Z",
     "start_time": "2025-05-17T00:04:55.891142Z"
    }
   },
   "id": "dd531a59efa99967",
   "execution_count": 10
  },
  {
   "cell_type": "code",
   "outputs": [],
   "source": [
    "import matplotlib.pyplot as plt\n",
    "from anesthetic import make_2d_axes\n",
    "from PolySwyft.utils import compute_KL_compression, compute_KL_divergence_truth, compute_KL_divergence\n"
   ],
   "metadata": {
    "collapsed": false,
    "ExecuteTime": {
     "end_time": "2025-05-17T00:27:49.526062Z",
     "start_time": "2025-05-17T00:27:49.508501Z"
    }
   },
   "id": "3e673c441f8aee79",
   "execution_count": 11
  },
  {
   "cell_type": "code",
   "outputs": [
    {
     "data": {
      "text/plain": "<Figure size 640x480 with 6 Axes>",
      "image/png": "[encoded data removed]"
     },
     "metadata": {},
     "output_type": "display_data"
    },
    {
     "data": {
      "text/plain": "<Figure size 350x350 with 1 Axes>",
      "image/png": "[encoded data removed]"
     },
     "metadata": {},
     "output_type": "display_data"
    }
   ],
   "source": [
    "if rank_gen == 0:\n",
    "    from matplotlib import rc\n",
    "    rc('text', usetex=True)\n",
    "    rc('font', family='serif')\n",
    "\n",
    "    # set up labels for plotting\n",
    "    params_idx = [i for i in range(0, polyswyftSettings.num_features)]\n",
    "    params_labels = {i: rf\"${polyswyftSettings.targetKey}_{i}$\" for i in range(polyswyftSettings.num_features)}\n",
    "    params = [fr\"${polyswyftSettings.targetKey}_{i}$\" for i in range(polyswyftSettings.num_features)]\n",
    "    # triangle plot\n",
    "    if polyswyftSettings.plot_triangle_plot:\n",
    "        kinds = {'lower': 'kde_2d', 'diagonal': 'kde_1d', 'upper': \"scatter_2d\"}\n",
    "        fig, axes = make_2d_axes(params_idx, labels=params_labels, lower=True, diagonal=True, upper=True,\n",
    "                                 ticks=\"outer\")\n",
    "\n",
    "        for rd in range(polyswyftSettings.triangle_start, polyswyftSettings.NRE_num_retrain_rounds + 1):\n",
    "            # load samples from round\n",
    "            current_root = f\"{polyswyftSettings.root}/{polyswyftSettings.child_root}_{rd}\"\n",
    "            ## if dynamic sampling was on\n",
    "            if polyswyftSettings.use_livepoint_increasing:\n",
    "                samples = anesthetic.read_chains(\n",
    "                    root=f\"{current_root}/{polyswyftSettings.increased_livepoints_fileroot}/{polyset.file_root}\")\n",
    "            else:\n",
    "                samples = anesthetic.read_chains(root=f\"{current_root}/{polyset.file_root}\")\n",
    "            ### setup labels\n",
    "            labels = samples.get_labels()\n",
    "            labels[:polyswyftSettings.num_features] = params\n",
    "            samples.set_labels(labels, inplace=True)\n",
    "\n",
    "            ### plot posterior\n",
    "            samples.plot_2d(axes=axes, alpha=0.4, label=fr\"$p_{rd}(\\theta|D)$\",\n",
    "                           kinds=kinds)\n",
    "\n",
    "        ### plot prior\n",
    "        prior = samples.prior()\n",
    "        prior.plot_2d(axes=axes, alpha=0.4, label=\"prior\", kinds=kinds)\n",
    "\n",
    "        if mcmc_true is not None:\n",
    "            mcmc_true.plot_2d(axes=axes, alpha=0.9, label=\"true\", color=\"red\",\n",
    "                                   kinds=kinds)\n",
    "\n",
    "        axes.iloc[-1, 0].legend(bbox_to_anchor=(len(axes) / 2, len(axes)), loc='lower center',\n",
    "                                ncols=polyswyftSettings.NRE_num_retrain_rounds + 2)\n",
    "        plt.show()\n",
    "        fig.savefig(f\"{polyswyftSettings.root}/NRE_triangle_posterior.pdf\")\n",
    "\n",
    "    # KL divergence plot\n",
    "    if polyswyftSettings.plot_KL_divergence:\n",
    "        current_key = \"current\"\n",
    "        previous_key = \"previous\"\n",
    "        network_storage = {}\n",
    "        samples_storage = {}\n",
    "        root_storage = {}\n",
    "        dkl_storage = {}\n",
    "        dkl_storage_true = {}\n",
    "        dkl_compression_storage = {}\n",
    "\n",
    "        for rd in range(0, polyswyftSettings.NRE_num_retrain_rounds + 1):\n",
    "            current_root = f\"{polyswyftSettings.root}/{polyswyftSettings.child_root}_{rd}\"\n",
    "            root_storage[current_key] = current_root\n",
    "\n",
    "            ## if dynamic sampling was on\n",
    "            if polyswyftSettings.use_livepoint_increasing:\n",
    "                samples = anesthetic.read_chains(\n",
    "                    root=f\"{current_root}/{polyswyftSettings.increased_livepoints_fileroot}/{polyset.file_root}\")\n",
    "            else:\n",
    "                samples = anesthetic.read_chains(root=f\"{current_root}/{polyset.file_root}\")\n",
    "            samples_storage[current_key] = samples\n",
    "            new_network = Network(polyswyftSettings=polyswyftSettings, obs=obs)\n",
    "            new_network.load_state_dict(torch.load(f\"{current_root}/{polyswyftSettings.neural_network_file}\"))\n",
    "            new_network.double()  # change to float64 precision of network\n",
    "            network_storage[current_key] = new_network\n",
    "\n",
    "            if rd > 0:\n",
    "                previous_network = network_storage[previous_key]\n",
    "                KDL = compute_KL_divergence(polyswyftSettings=polyswyftSettings, previous_network=previous_network.eval(),\n",
    "                                        current_samples=samples_storage[current_key], obs=obs,\n",
    "                                        previous_samples=samples_storage[previous_key])\n",
    "                dkl_storage[rd] = KDL\n",
    "\n",
    "            DKL = compute_KL_compression(samples_storage[current_key], polyswyftSettings)\n",
    "            dkl_compression_storage[rd] = DKL\n",
    "            if mcmc_true is not None:\n",
    "                network = network_storage[current_key]\n",
    "                KDL_true = compute_KL_divergence_truth(polyswyftSettings=polyswyftSettings,\n",
    "                                                       network=network.eval(),\n",
    "                                                       true_posterior=mcmc_true.copy(), obs=obs,\n",
    "                                                       previous_samples=samples_storage[current_key])\n",
    "                dkl_storage_true[rd] = KDL_true\n",
    "\n",
    "            root_storage[previous_key] = current_root\n",
    "            samples_storage[previous_key] = samples\n",
    "            network_storage[previous_key] = new_network\n",
    "        plt.figure(figsize=(3.5, 3.5))\n",
    "\n",
    "        ### plot KL(P_i||P_{i-1})\n",
    "        plt.errorbar(x=[i for i in range(1, polyswyftSettings.NRE_num_retrain_rounds + 1)],\n",
    "                     y=[dkl_storage[i][0] for i in range(1, polyswyftSettings.NRE_num_retrain_rounds + 1)],\n",
    "                     yerr=[dkl_storage[i][1] for i in range(1, polyswyftSettings.NRE_num_retrain_rounds + 1)],\n",
    "                     label=r\"$\\mathrm{KL} (\\mathcal{P}_i||\\mathcal{P}_{i-1})$\")\n",
    "        ### plot KL(P_i||Pi)\n",
    "        plt.errorbar(x=[i for i in range(0, polyswyftSettings.NRE_num_retrain_rounds + 1)],\n",
    "                     y=[dkl_compression_storage[i][0] for i in range(0, polyswyftSettings.NRE_num_retrain_rounds + 1)],\n",
    "                     yerr=[dkl_compression_storage[i][1] for i in range(0, polyswyftSettings.NRE_num_retrain_rounds + 1)],\n",
    "                     label=r\"$\\mathrm{KL}(\\mathcal{P}_i||\\pi)$\")\n",
    "\n",
    "        if mcmc_true is not None and polyswyftSettings.model is not None:\n",
    "            ### plot KL(P_true||P_i)\n",
    "            plt.errorbar(x=[i for i in range(0, polyswyftSettings.NRE_num_retrain_rounds + 1)],\n",
    "                         y=[dkl_storage_true[i][0] for i in range(0, polyswyftSettings.NRE_num_retrain_rounds + 1)],\n",
    "                         yerr=[dkl_storage_true[i][1] for i in range(0, polyswyftSettings.NRE_num_retrain_rounds + 1)],\n",
    "                         label=r\"$\\mathrm{KL}(\\mathcal{P}_{\\mathrm{True}}||\\mathcal{P}_i)$\", linestyle=\"--\")\n",
    "            ### plot KL(P_true||Pi)\n",
    "            mcmc_true_samples = mcmc_true.iloc[:, :polyswyftSettings.num_features].to_numpy()\n",
    "            logPi = polyswyftSettings.model.prior().logpdf(mcmc_true_samples)\n",
    "            logP = polyswyftSettings.model.posterior(obs[polyswyftSettings.obsKey].squeeze()).logpdf(mcmc_true_samples)\n",
    "            dkl_compression_truth = 1/logP.shape[0]*((logP - logPi).sum())\n",
    "            plt.hlines(y=dkl_compression_truth, xmin=0, xmax=polyswyftSettings.NRE_num_retrain_rounds, color=\"red\",\n",
    "                       label=r\"$\\mathrm{KL}(\\mathcal{P}_{\\mathrm{True}}||\\pi)$\",linestyle=\"--\")\n",
    "\n",
    "        plt.legend()\n",
    "        plt.xlabel(\"retrain round\")\n",
    "        plt.ylabel(\"KL divergence\")\n",
    "        plt.savefig(f\"{polyswyftSettings.root}/kl_divergence.pdf\", dpi=300, bbox_inches='tight')\n",
    "        plt.show()\n",
    "        plt.close()\n",
    "\n",
    "\n"
   ],
   "metadata": {
    "collapsed": false,
    "ExecuteTime": {
     "end_time": "2025-05-17T00:38:47.957973Z",
     "start_time": "2025-05-17T00:38:34.496761Z"
    }
   },
   "id": "62ad384caa7bc7c5",
   "execution_count": 26
  }
 ],
 "metadata": {
  "kernelspec": {
   "name": "lfienv",
   "language": "python",
   "display_name": "LFIenv"
  },
  "language_info": {
   "codemirror_mode": {
    "name": "ipython",
    "version": 2
   },
   "file_extension": ".py",
   "mimetype": "text/x-python",
   "name": "python",
   "nbconvert_exporter": "python",
   "pygments_lexer": "ipython2",
   "version": "2.7.6"
  }
 },
 "nbformat": 4,
 "nbformat_minor": 5
}
