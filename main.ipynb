{
 "cells": [
  {
   "cell_type": "code",
   "outputs": [],
   "source": [
    "import logging\n",
    "from pytorch_lightning.loggers import WandbLogger\n",
    "import numpy as np\n",
    "import pypolychord\n",
    "import wandb\n",
    "import swyft\n",
    "import torch\n",
    "import anesthetic\n",
    "from anesthetic import MCMCSamples\n",
    "import os"
   ],
   "metadata": {
    "collapsed": false,
    "ExecuteTime": {
     "end_time": "2025-05-21T20:50:17.668118Z",
     "start_time": "2025-05-21T20:50:09.635014Z"
    }
   },
   "id": "cbc444902206e184",
   "execution_count": 1
  },
  {
   "cell_type": "code",
   "outputs": [],
   "source": [
    "try:\n",
    "    from mpi4py import MPI\n",
    "    comm_gen = MPI.COMM_WORLD\n",
    "    rank_gen = comm_gen.Get_rank()\n",
    "    size_gen = comm_gen.Get_size()\n",
    "except ImportError:\n",
    "    raise ImportError(\"Please install mpi4py to use this script with MPI.\")\n"
   ],
   "metadata": {
    "collapsed": false,
    "ExecuteTime": {
     "end_time": "2025-05-21T20:50:17.816554Z",
     "start_time": "2025-05-21T20:50:17.674033Z"
    }
   },
   "id": "9c87673a461c8b48",
   "execution_count": 2
  },
  {
   "cell_type": "markdown",
   "source": [
    "We are importing the relevant modules for the (re-)training of the NRE's. Here, we use an already implemented swyft simulator ``PolySwyft_Simulator_MultiGauss`` and a ``SwyftModule`` that is extended with PolySwyft compatible methods. For customisation, one has to re-implement these classes to adjust for their own needs."
   ],
   "metadata": {
    "collapsed": false
   },
   "id": "a42ff434af5fc65d"
  },
  {
   "cell_type": "code",
   "execution_count": 3,
   "id": "initial_id",
   "metadata": {
    "collapsed": true,
    "ExecuteTime": {
     "end_time": "2025-05-21T20:50:17.962426Z",
     "start_time": "2025-05-21T20:50:17.819155Z"
    }
   },
   "outputs": [],
   "source": [
    "from pytorch_lightning import seed_everything\n",
    "from pytorch_lightning.callbacks import LearningRateMonitor, ModelCheckpoint\n",
    "from pytorch_lightning.callbacks.early_stopping import EarlyStopping\n",
    "from PolySwyft.PolySwyft_Network import Network\n",
    "from PolySwyft.PolySwyft_Settings import PolySwyft_Settings\n",
    "from PolySwyft.PolySwyft_Simulator_MultiGauss import Simulator\n",
    "from PolySwyft.utils import select_weighted_contour, resimulate_deadpoints\n",
    "from PolySwyft.PolySwyft_Dataloader import PolySwyftDataModule\n",
    "from PolySwyft.utils import compute_KL_compression, compute_KL_divergence_truth, compute_KL_divergence"
   ]
  },
  {
   "cell_type": "markdown",
   "source": [
    "Initialise the ``PolySwyftSettings``and change some of the default settings."
   ],
   "metadata": {
    "collapsed": false
   },
   "id": "6e7e3779b5cc6e9b"
  },
  {
   "cell_type": "code",
   "outputs": [
    {
     "name": "stderr",
     "output_type": "stream",
     "text": [
      "Global seed set to 234\n"
     ]
    }
   ],
   "source": [
    "root=\"PolySwyft_notebook\"\n",
    "polyswyftSettings = PolySwyft_Settings(root)\n",
    "trainer_kwargs = {\"accelerator\": 'cpu',\n",
    "                  \"devices\": 1,\n",
    "                  \"num_nodes\": 1,\n",
    "                  #\"strategy\": \"ddp\",\n",
    "                  \"max_epochs\": 1000,\n",
    "                  \"log_every_n_steps\": 1,\n",
    "                  \"precision\": 64,\n",
    "                  \"enable_progress_bar\": True,\n",
    "                  \"default_root_dir\": root,\n",
    "                  \"callbacks\": [],\n",
    "                  \"deterministic\": True,\n",
    "                  }\n",
    "polyswyftSettings.trainer_kwargs = trainer_kwargs\n",
    "polyswyftSettings.early_stopping_patience = 3\n",
    "seed_everything(polyswyftSettings.seed, workers=True)\n",
    "logging.basicConfig(filename=polyswyftSettings.logger_name, level=logging.INFO,\n",
    "                    filemode=\"a\")\n",
    "logger = logging.getLogger()\n",
    "polyswyftSettings.logger = logger\n",
    "logger.info('Started')"
   ],
   "metadata": {
    "collapsed": false,
    "ExecuteTime": {
     "end_time": "2025-05-21T20:50:17.993608Z",
     "start_time": "2025-05-21T20:50:17.967238Z"
    }
   },
   "id": "d367a7bb7084911c",
   "execution_count": 4
  },
  {
   "cell_type": "code",
   "outputs": [],
   "source": [
    "#### instantiate swyft simulator\n",
    "polyswyftSettings.num_features = 2\n",
    "polyswyftSettings.num_features_dataset = 4\n",
    "polyswyftSettings.NRE_num_retrain_rounds = 2\n",
    "polyswyftSettings.NRE_start_from_round = 0\n",
    "polyswyftSettings.n_training_samples = 1000\n",
    "d = polyswyftSettings.num_features_dataset\n",
    "n = polyswyftSettings.num_features\n",
    "\n",
    "m = torch.randn(d) * 3  # mean vec of dataset\n",
    "M = torch.randn(size=(d, n))  # transform matrix of dataset to parameter vee\n",
    "C = torch.eye(d)  # cov matrix of dataset\n",
    "mu = torch.zeros(n)  # mean vec of parameter prior\n",
    "Sigma = 100 * torch.eye(n)  # cov matrix of parameter prior\n",
    "sim = Simulator(polyswyftSettings=polyswyftSettings, m=m, M=M, C=C, mu=mu, Sigma=Sigma)\n",
    "polyswyftSettings.model = sim.model  # lsbi model"
   ],
   "metadata": {
    "collapsed": false,
    "ExecuteTime": {
     "end_time": "2025-05-21T20:50:18.008325Z",
     "start_time": "2025-05-21T20:50:17.997109Z"
    }
   },
   "id": "8130426b20cf8c26",
   "execution_count": 5
  },
  {
   "cell_type": "code",
   "outputs": [
    {
     "name": "stderr",
     "output_type": "stream",
     "text": [
      "/Users/hikarukilian/LFIenv/lib/python3.10/site-packages/scipy/stats/_multivariate.py:753: RuntimeWarning: covariance is not symmetric positive-semidefinite.\n",
      "  out = random_state.multivariate_normal(mean, cov, size)\n",
      "Global seed set to 234\n"
     ]
    },
    {
     "data": {
      "text/plain": "  0%|          | 0/1000 [00:00<?, ?it/s]",
      "application/vnd.jupyter.widget-view+json": {
       "version_major": 2,
       "version_minor": 0,
       "model_id": "ea24e5f6da27490893c81d159f2f5de0"
      }
     },
     "metadata": {},
     "output_type": "display_data"
    },
    {
     "name": "stderr",
     "output_type": "stream",
     "text": [
      "Global seed set to 234\n"
     ]
    }
   ],
   "source": [
    "# generate training dat and obs\n",
    "obs = swyft.Sample(x=torch.tensor(sim.model.evidence().rvs()[None, :]))\n",
    "n_per_core = polyswyftSettings.n_training_samples // size_gen\n",
    "if rank_gen == 0:\n",
    "    n_per_core += polyswyftSettings.n_training_samples % size_gen\n",
    "seed_everything(polyswyftSettings.seed + rank_gen, workers=True)\n",
    "deadpoints = sim.sample(n_per_core, targets=[polyswyftSettings.targetKey])[\n",
    "    polyswyftSettings.targetKey]\n",
    "comm_gen.Barrier()\n",
    "seed_everything(polyswyftSettings.seed, workers=True)\n",
    "deadpoints = comm_gen.allgather(deadpoints)\n",
    "deadpoints = np.concatenate(deadpoints, axis=0)\n",
    "comm_gen.Barrier()"
   ],
   "metadata": {
    "collapsed": false,
    "ExecuteTime": {
     "end_time": "2025-05-21T20:50:18.607092Z",
     "start_time": "2025-05-21T20:50:18.011032Z"
    }
   },
   "id": "f65cf265a9b32989",
   "execution_count": 6
  },
  {
   "cell_type": "code",
   "outputs": [
    {
     "data": {
      "text/plain": "  0%|          | 0/1000 [00:00<?, ?it/s]",
      "application/vnd.jupyter.widget-view+json": {
       "version_major": 2,
       "version_minor": 0,
       "model_id": "3423945fe8594496ba3ebb8c457bc97a"
      }
     },
     "metadata": {},
     "output_type": "display_data"
    }
   ],
   "source": [
    "### generate true posterior for comparison\n",
    "cond = {polyswyftSettings.obsKey: obs[polyswyftSettings.obsKey].numpy().squeeze()}\n",
    "full_joint = sim.sample(polyswyftSettings.n_weighted_samples, conditions=cond)\n",
    "posterior = full_joint[polyswyftSettings.posteriorsKey]\n",
    "weights = np.ones(shape=len(posterior))  # direct samples from posterior have weights 1\n",
    "params_labels = {i: rf\"${polyswyftSettings.targetKey}_{i}$\" for i in range(polyswyftSettings.num_features)}\n",
    "mcmc_true = MCMCSamples(\n",
    "    data=posterior, weights=weights.squeeze(), labels=params_labels)"
   ],
   "metadata": {
    "collapsed": false,
    "ExecuteTime": {
     "end_time": "2025-05-21T20:50:21.179892Z",
     "start_time": "2025-05-21T20:50:18.609135Z"
    }
   },
   "id": "a9a80613196b1f3a",
   "execution_count": 7
  },
  {
   "cell_type": "code",
   "outputs": [],
   "source": [
    "#### create helper function for polyswyft cycle\n",
    "def create_callbacks() -> list:\n",
    "    \"\"\"\n",
    "    Callbacks for the pytorch lightning trainer\n",
    "    \"\"\"\n",
    "    early_stopping_callback = EarlyStopping(monitor='val_loss', min_delta=0.,\n",
    "                                            patience=polyswyftSettings.early_stopping_patience, mode='min')\n",
    "    lr_monitor = LearningRateMonitor(logging_interval='step')\n",
    "    checkpoint_callback = ModelCheckpoint(monitor='val_loss',\n",
    "                                          filename='NRE_{epoch}_{val_loss:.2f}_{train_loss:.2f}', mode='min')\n",
    "    return [early_stopping_callback, lr_monitor, checkpoint_callback]\n",
    "\n",
    "def lr_round_scheduler(rd: int)-> float:\n",
    "    \"\"\"\n",
    "    learning rate decay between rounds (optional).\n",
    "    \"\"\"\n",
    "    lr = polyswyftSettings.learning_rate_init * (polyswyftSettings.learning_rate_decay*(polyswyftSettings.early_stopping_patience*rd))\n",
    "    return lr\n",
    "\n",
    "def deadpoints_processing(deadpoints: anesthetic.NestedSamples)->anesthetic.NestedSamples:\n",
    "    \"\"\"\n",
    "    deadpoints post processing (optional)\n",
    "    :param deadpoints:\n",
    "    :return: deadpoints\n",
    "    \"\"\"\n",
    "    return deadpoints"
   ],
   "metadata": {
    "collapsed": false,
    "ExecuteTime": {
     "end_time": "2025-05-21T20:50:21.193817Z",
     "start_time": "2025-05-21T20:50:21.182425Z"
    }
   },
   "id": "b54f19e4fc2eaee0",
   "execution_count": 8
  },
  {
   "cell_type": "code",
   "outputs": [],
   "source": [
    " #### set up polychord settings\n",
    "polyset = pypolychord.PolyChordSettings(polyswyftSettings.num_features, nDerived=polyswyftSettings.nderived)\n",
    "polyset.file_root = \"samples\"\n",
    "polyset.base_dir = polyswyftSettings.root\n",
    "polyset.seed = polyswyftSettings.seed\n",
    "polyset.nfail = polyswyftSettings.n_training_samples\n",
    "polyset.nlive = 100*polyswyftSettings.num_features"
   ],
   "metadata": {
    "collapsed": false,
    "ExecuteTime": {
     "end_time": "2025-05-21T20:50:21.204653Z",
     "start_time": "2025-05-21T20:50:21.197341Z"
    }
   },
   "id": "5526ce1aed6712cc",
   "execution_count": 9
  },
  {
   "cell_type": "code",
   "outputs": [
    {
     "name": "stderr",
     "output_type": "stream",
     "text": [
      "\u001B[34m\u001B[1mwandb\u001B[0m: Currently logged in as: \u001B[33mkhs40\u001B[0m (\u001B[33mnsnre\u001B[0m). Use \u001B[1m`wandb login --relogin`\u001B[0m to force relogin\n"
     ]
    },
    {
     "data": {
      "text/plain": "<IPython.core.display.HTML object>",
      "text/html": "wandb version 0.19.11 is available!  To upgrade, please run:\n $ pip install wandb --upgrade"
     },
     "metadata": {},
     "output_type": "display_data"
    },
    {
     "data": {
      "text/plain": "<IPython.core.display.HTML object>",
      "text/html": "Tracking run with wandb version 0.15.3"
     },
     "metadata": {},
     "output_type": "display_data"
    },
    {
     "data": {
      "text/plain": "<IPython.core.display.HTML object>",
      "text/html": "Run data is saved locally in <code>PolySwyft_notebook/round_0/wandb/run-20250521_215024-v7nd7xgs</code>"
     },
     "metadata": {},
     "output_type": "display_data"
    },
    {
     "data": {
      "text/plain": "<IPython.core.display.HTML object>",
      "text/html": "Syncing run <strong><a href='https://wandb.ai/nsnre/PolySwyft_notebook/runs/v7nd7xgs' target=\"_blank\">round_0</a></strong> to <a href='https://wandb.ai/nsnre/PolySwyft_notebook' target=\"_blank\">Weights & Biases</a> (<a href='https://wandb.me/run' target=\"_blank\">docs</a>)<br/>"
     },
     "metadata": {},
     "output_type": "display_data"
    },
    {
     "data": {
      "text/plain": "<IPython.core.display.HTML object>",
      "text/html": " View project at <a href='https://wandb.ai/nsnre/PolySwyft_notebook' target=\"_blank\">https://wandb.ai/nsnre/PolySwyft_notebook</a>"
     },
     "metadata": {},
     "output_type": "display_data"
    },
    {
     "data": {
      "text/plain": "<IPython.core.display.HTML object>",
      "text/html": " View run at <a href='https://wandb.ai/nsnre/PolySwyft_notebook/runs/v7nd7xgs' target=\"_blank\">https://wandb.ai/nsnre/PolySwyft_notebook/runs/v7nd7xgs</a>"
     },
     "metadata": {},
     "output_type": "display_data"
    },
    {
     "name": "stderr",
     "output_type": "stream",
     "text": [
      "GPU available: False, used: False\n",
      "TPU available: False, using: 0 TPU cores\n",
      "IPU available: False, using: 0 IPUs\n",
      "HPU available: False, using: 0 HPUs\n",
      "\n",
      "  | Name    | Type                   | Params\n",
      "---------------------------------------------------\n",
      "0 | network | LogRatioEstimator_Ndim | 68.1 K\n",
      "---------------------------------------------------\n",
      "68.1 K    Trainable params\n",
      "0         Non-trainable params\n",
      "68.1 K    Total params\n",
      "0.545     Total estimated model params size (MB)\n"
     ]
    },
    {
     "data": {
      "text/plain": "Sanity Checking: 0it [00:00, ?it/s]",
      "application/vnd.jupyter.widget-view+json": {
       "version_major": 2,
       "version_minor": 0,
       "model_id": "ff43eaca73dc41f298854cfe6b0af1bb"
      }
     },
     "metadata": {},
     "output_type": "display_data"
    },
    {
     "name": "stderr",
     "output_type": "stream",
     "text": [
      "/Users/hikarukilian/LFIenv/lib/python3.10/site-packages/pytorch_lightning/trainer/connectors/data_connector.py:224: PossibleUserWarning: The dataloader, val_dataloader 0, does not have many workers which may be a bottleneck. Consider increasing the value of the `num_workers` argument` (try 12 which is the number of cpus on this machine) in the `DataLoader` init to improve performance.\n",
      "  rank_zero_warn(\n",
      "/Users/hikarukilian/LFIenv/lib/python3.10/site-packages/torch/__init__.py:696: UserWarning: torch.set_default_tensor_type() is deprecated as of PyTorch 2.1, please use torch.set_default_dtype() and torch.set_default_device() as alternatives. (Triggered internally at /Users/runner/work/pytorch/pytorch/pytorch/torch/csrc/tensor/python_tensor.cpp:453.)\n",
      "  _C._set_default_tensor_type(t)\n",
      "/Users/hikarukilian/LFIenv/lib/python3.10/site-packages/pytorch_lightning/trainer/connectors/data_connector.py:224: PossibleUserWarning: The dataloader, train_dataloader, does not have many workers which may be a bottleneck. Consider increasing the value of the `num_workers` argument` (try 12 which is the number of cpus on this machine) in the `DataLoader` init to improve performance.\n",
      "  rank_zero_warn(\n"
     ]
    },
    {
     "data": {
      "text/plain": "Training: 0it [00:00, ?it/s]",
      "application/vnd.jupyter.widget-view+json": {
       "version_major": 2,
       "version_minor": 0,
       "model_id": "e9d47e5e641f4c5ab96ecd94be0eeaea"
      }
     },
     "metadata": {},
     "output_type": "display_data"
    },
    {
     "data": {
      "text/plain": "Validation: 0it [00:00, ?it/s]",
      "application/vnd.jupyter.widget-view+json": {
       "version_major": 2,
       "version_minor": 0,
       "model_id": "5156bed5e9dd4fb58a4e12f256758438"
      }
     },
     "metadata": {},
     "output_type": "display_data"
    },
    {
     "data": {
      "text/plain": "Validation: 0it [00:00, ?it/s]",
      "application/vnd.jupyter.widget-view+json": {
       "version_major": 2,
       "version_minor": 0,
       "model_id": "1ff8d4f9c70346ea92cdf8c3dd10eed4"
      }
     },
     "metadata": {},
     "output_type": "display_data"
    },
    {
     "data": {
      "text/plain": "Validation: 0it [00:00, ?it/s]",
      "application/vnd.jupyter.widget-view+json": {
       "version_major": 2,
       "version_minor": 0,
       "model_id": "e64c42a8762041d2bfaf27e043d32738"
      }
     },
     "metadata": {},
     "output_type": "display_data"
    },
    {
     "data": {
      "text/plain": "Validation: 0it [00:00, ?it/s]",
      "application/vnd.jupyter.widget-view+json": {
       "version_major": 2,
       "version_minor": 0,
       "model_id": "fc389e34d82d470cbb02e27ee18c88c2"
      }
     },
     "metadata": {},
     "output_type": "display_data"
    },
    {
     "data": {
      "text/plain": "Validation: 0it [00:00, ?it/s]",
      "application/vnd.jupyter.widget-view+json": {
       "version_major": 2,
       "version_minor": 0,
       "model_id": "d00444c916a54565bcc9641b826b67fb"
      }
     },
     "metadata": {},
     "output_type": "display_data"
    },
    {
     "data": {
      "text/plain": "Validation: 0it [00:00, ?it/s]",
      "application/vnd.jupyter.widget-view+json": {
       "version_major": 2,
       "version_minor": 0,
       "model_id": "a4768dadf0ac4b23ba33c259000190a3"
      }
     },
     "metadata": {},
     "output_type": "display_data"
    },
    {
     "data": {
      "text/plain": "Validation: 0it [00:00, ?it/s]",
      "application/vnd.jupyter.widget-view+json": {
       "version_major": 2,
       "version_minor": 0,
       "model_id": "145b1d6afebf4a64adacabde993f3a72"
      }
     },
     "metadata": {},
     "output_type": "display_data"
    },
    {
     "data": {
      "text/plain": "Validation: 0it [00:00, ?it/s]",
      "application/vnd.jupyter.widget-view+json": {
       "version_major": 2,
       "version_minor": 0,
       "model_id": "2ce05f7d7d28422880cf67626455537e"
      }
     },
     "metadata": {},
     "output_type": "display_data"
    },
    {
     "data": {
      "text/plain": "Validation: 0it [00:00, ?it/s]",
      "application/vnd.jupyter.widget-view+json": {
       "version_major": 2,
       "version_minor": 0,
       "model_id": "481f17eaeedf44fdba141e41392371f1"
      }
     },
     "metadata": {},
     "output_type": "display_data"
    },
    {
     "data": {
      "text/plain": "Validation: 0it [00:00, ?it/s]",
      "application/vnd.jupyter.widget-view+json": {
       "version_major": 2,
       "version_minor": 0,
       "model_id": "f13a780296a84ce6af24148fe9953291"
      }
     },
     "metadata": {},
     "output_type": "display_data"
    },
    {
     "data": {
      "text/plain": "Validation: 0it [00:00, ?it/s]",
      "application/vnd.jupyter.widget-view+json": {
       "version_major": 2,
       "version_minor": 0,
       "model_id": "8f6fa59900704368926a76e4bf03face"
      }
     },
     "metadata": {},
     "output_type": "display_data"
    },
    {
     "data": {
      "text/plain": "Validation: 0it [00:00, ?it/s]",
      "application/vnd.jupyter.widget-view+json": {
       "version_major": 2,
       "version_minor": 0,
       "model_id": "99fb8db4bdfd4c32b9bcd7d6bb670ffb"
      }
     },
     "metadata": {},
     "output_type": "display_data"
    },
    {
     "data": {
      "text/plain": "Validation: 0it [00:00, ?it/s]",
      "application/vnd.jupyter.widget-view+json": {
       "version_major": 2,
       "version_minor": 0,
       "model_id": "9f1a6fdc45c24569a7f0b231b503b644"
      }
     },
     "metadata": {},
     "output_type": "display_data"
    },
    {
     "data": {
      "text/plain": "Validation: 0it [00:00, ?it/s]",
      "application/vnd.jupyter.widget-view+json": {
       "version_major": 2,
       "version_minor": 0,
       "model_id": "776f00e41dc14423a86851fe17293665"
      }
     },
     "metadata": {},
     "output_type": "display_data"
    },
    {
     "data": {
      "text/plain": "Validation: 0it [00:00, ?it/s]",
      "application/vnd.jupyter.widget-view+json": {
       "version_major": 2,
       "version_minor": 0,
       "model_id": "acd54878f36742bf86dda31df9d72faf"
      }
     },
     "metadata": {},
     "output_type": "display_data"
    },
    {
     "data": {
      "text/plain": "Validation: 0it [00:00, ?it/s]",
      "application/vnd.jupyter.widget-view+json": {
       "version_major": 2,
       "version_minor": 0,
       "model_id": "8f0cd422cf774504b897f810728f9ae3"
      }
     },
     "metadata": {},
     "output_type": "display_data"
    },
    {
     "data": {
      "text/plain": "Validation: 0it [00:00, ?it/s]",
      "application/vnd.jupyter.widget-view+json": {
       "version_major": 2,
       "version_minor": 0,
       "model_id": "06897ab08a754e4da3e315713f919535"
      }
     },
     "metadata": {},
     "output_type": "display_data"
    },
    {
     "data": {
      "text/plain": "Validation: 0it [00:00, ?it/s]",
      "application/vnd.jupyter.widget-view+json": {
       "version_major": 2,
       "version_minor": 0,
       "model_id": "4547328b6a354622a5e83c8dd045ea59"
      }
     },
     "metadata": {},
     "output_type": "display_data"
    },
    {
     "data": {
      "text/plain": "<IPython.core.display.HTML object>",
      "text/html": "Waiting for W&B process to finish... <strong style=\"color:green\">(success).</strong>"
     },
     "metadata": {},
     "output_type": "display_data"
    },
    {
     "data": {
      "text/plain": "VBox(children=(Label(value='0.001 MB of 0.001 MB uploaded (0.000 MB deduped)\\r'), FloatProgress(value=1.0, max…",
      "application/vnd.jupyter.widget-view+json": {
       "version_major": 2,
       "version_minor": 0,
       "model_id": "e14908b2491a42f3b4e6ea9e7475bd16"
      }
     },
     "metadata": {},
     "output_type": "display_data"
    },
    {
     "data": {
      "text/plain": "<IPython.core.display.HTML object>",
      "text/html": "<style>\n    table.wandb td:nth-child(1) { padding: 0 10px; text-align: left ; width: auto;} td:nth-child(2) {text-align: left ; width: 100%}\n    .wandb-row { display: flex; flex-direction: row; flex-wrap: wrap; justify-content: flex-start; width: 100% }\n    .wandb-col { display: flex; flex-direction: column; flex-basis: 100%; flex: 1; padding: 10px; }\n    </style>\n<div class=\"wandb-row\"><div class=\"wandb-col\"><h3>Run history:</h3><br/><table class=\"wandb\"><tr><td>epoch</td><td>▁▁▁▁▁▂▂▂▂▃▃▃▃▃▃▃▄▄▄▄▅▅▅▅▅▆▆▆▆▆▆▇▇▇▇█████</td></tr><tr><td>lr-Adam</td><td>▁▁▁▁▁▁▁▁▁▁▁▁▁▁▁▁▁▁▁▁▁▁▁▁▁▁▁▁▁▁▁▁▁▁▁▁▁▁▁▁</td></tr><tr><td>train_loss</td><td>▃▄▁▇▇▄▅▃▂▃▆▂▄█▄▂▇▇▄▅▃▂▃▆▂▅█▄▁▇▇▄▅▃▂▃▅▁▄█</td></tr><tr><td>trainer/global_step</td><td>▁▁▁▂▂▂▂▂▂▃▃▃▃▃▄▄▄▄▄▄▅▅▅▅▅▅▆▆▆▆▆▇▇▇▇▇▇███</td></tr><tr><td>val_loss</td><td>█▇▆▄▃▂▁▁▁▁▁▁▁▁▁▁▁▁</td></tr></table><br/></div><div class=\"wandb-col\"><h3>Run summary:</h3><br/><table class=\"wandb\"><tr><td>epoch</td><td>17</td></tr><tr><td>lr-Adam</td><td>0.0</td></tr><tr><td>train_loss</td><td>0.0104</td></tr><tr><td>trainer/global_step</td><td>233</td></tr><tr><td>val_loss</td><td>0.00764</td></tr></table><br/></div></div>"
     },
     "metadata": {},
     "output_type": "display_data"
    },
    {
     "data": {
      "text/plain": "<IPython.core.display.HTML object>",
      "text/html": " View run <strong style=\"color:#cdcd00\">round_0</strong> at: <a href='https://wandb.ai/nsnre/PolySwyft_notebook/runs/v7nd7xgs' target=\"_blank\">https://wandb.ai/nsnre/PolySwyft_notebook/runs/v7nd7xgs</a><br/>Synced 5 W&B file(s), 0 media file(s), 0 artifact file(s) and 0 other file(s)"
     },
     "metadata": {},
     "output_type": "display_data"
    },
    {
     "data": {
      "text/plain": "<IPython.core.display.HTML object>",
      "text/html": "Find logs at: <code>PolySwyft_notebook/round_0/wandb/run-20250521_215024-v7nd7xgs/logs</code>"
     },
     "metadata": {},
     "output_type": "display_data"
    },
    {
     "name": "stdout",
     "output_type": "stream",
     "text": [
      "PolyChord: MPI is already initilised, not initialising, and will not finalize\n",
      "\n",
      "PolyChord: Next Generation Nested Sampling\n",
      "copyright: Will Handley, Mike Hobson & Anthony Lasenby\n",
      "  version: 1.22.1\n",
      "  release: 10th Jan 2024\n",
      "    email: wh260@mrao.cam.ac.uk\n",
      "\n",
      "Run Settings\n",
      "nlive    :     200\n",
      "nDims    :       2\n",
      "nDerived :       0\n",
      "Doing Clustering\n",
      "Synchronous parallelisation\n",
      "Generating equally weighted posteriors\n",
      "Generating weighted posteriors\n",
      "Clustering on posteriors\n",
      "Writing a resume file to PolySwyft_notebook/round_0/samples.resume\n",
      "\n",
      "generating live points\n",
      "\n",
      "all live points generated\n",
      "\n",
      "Speed  1 =  0.307E-02 seconds\n",
      "number of repeats:           10\n",
      "started sampling\n",
      "Last dead point: [-15.7439754    7.31167258  -0.1440801   -0.13788145]\n",
      "_________________\n",
      "lives      | 200 |\n",
      "phantoms   |1144 |\n",
      "posteriors | 201 |\n",
      "equals     | 134 |\n",
      "‾‾‾‾‾‾‾‾‾‾‾‾‾‾‾‾‾\n",
      "ncluster   =       1 /       1\n",
      "ndead      =                 201\n",
      "nposterior =                 201\n",
      "nequals    =                 131\n",
      "nlike      =                3428\n",
      "<nlike>    =          16.14   (           1.61 per slice )\n",
      "log(Z)     =           -0.62 +/-  0.04\n",
      "log(Z_1)   =           -0.62 +/-  0.04 (still evaluating)\n",
      "\n",
      "\n",
      "Last dead point: [-1.87870568 12.41650641 -0.157978   -0.12209159]\n",
      "_________________\n",
      "lives      | 200 |\n",
      "phantoms   |1565 |\n",
      "posteriors | 402 |\n",
      "equals     | 180 |\n",
      "‾‾‾‾‾‾‾‾‾‾‾‾‾‾‾‾‾\n",
      "ncluster   =       1 /       1\n",
      "ndead      =                 402\n",
      "nposterior =                 402\n",
      "nequals    =                 184\n",
      "nlike      =                8783\n",
      "<nlike>    =          26.78   (           2.68 per slice )\n",
      "log(Z)     =           -0.30 +/-  0.02\n",
      "log(Z_1)   =           -0.30 +/-  0.02 (still evaluating)\n",
      "\n",
      "\n",
      "Last dead point: [-1.00159801 17.62718048 -0.17047748 -0.11163785]\n",
      "_________________\n",
      "lives      | 200 |\n",
      "phantoms   |1759 |\n",
      "posteriors | 603 |\n",
      "equals     | 196 |\n",
      "‾‾‾‾‾‾‾‾‾‾‾‾‾‾‾‾‾\n",
      "ncluster   =       1 /       1\n",
      "ndead      =                 603\n",
      "nposterior =                 603\n",
      "nequals    =                 203\n",
      "nlike      =               14114\n",
      "<nlike>    =          26.66   (           2.67 per slice )\n",
      "log(Z)     =           -0.20 +/-  0.01\n",
      "log(Z_1)   =           -0.20 +/-  0.01 (still evaluating)\n",
      "\n",
      "\n",
      "Last dead point: [-0.16630192 22.28022851 -0.1161575  -0.10245753]\n",
      "___________________________________\n",
      "lives      | 172 |   7 |  19 |   2 |\n",
      "phantoms   |1570 |  87 | 203 |  50 |\n",
      "posteriors | 751 | 614 | 639 | 609 |\n",
      "equals     | 200 | 196 | 197 | 196 |\n",
      "‾‾‾‾‾‾‾‾‾‾‾‾‾‾‾‾‾‾‾‾‾‾‾‾‾‾‾‾‾‾‾‾‾‾‾\n",
      "ncluster   =       4 /       4\n",
      "ndead      =                 804\n",
      "nposterior =                 804\n",
      "nequals    =                 209\n",
      "nlike      =               25146\n",
      "<nlike>    =          55.16   (           5.52 per slice )\n",
      "log(Z)     =           -0.17 +/-  0.00\n",
      "log(Z_1)   =           -0.52 +/-  0.02 (still evaluating)\n",
      "log(Z_2)   =           -1.78 +/-  0.05 (still evaluating)\n",
      "log(Z_3)   =           -2.84 +/-  0.08 (still evaluating)\n",
      "log(Z_4)   =           -3.62 +/-  0.13 (still evaluating)\n",
      "\n",
      "\n",
      "Last dead point: [10.02978044 23.34240342 -0.10763523 -0.09583704]\n",
      "_________________________________________\n",
      "lives      | 183 |   3 |   6 |   5 |   3 |\n",
      "phantoms   |1833 |  45 |  79 | 143 |  74 |\n",
      "posteriors | 924 | 619 | 616 | 652 | 642 |\n",
      "equals     | 206 | 196 | 196 | 197 | 197 |\n",
      "‾‾‾‾‾‾‾‾‾‾‾‾‾‾‾‾‾‾‾‾‾‾‾‾‾‾‾‾‾‾‾‾‾‾‾‾‾‾‾‾‾\n",
      "ncluster   =       5 /       6\n",
      "ndead      =                1002\n",
      "nposterior =                1002\n",
      "nequals    =                 213\n",
      "nlike      =               35552\n",
      "<nlike>    =          52.03   (           5.20 per slice )\n",
      "log(Z)     =           -0.15 +/-  0.00\n",
      "log(Z_1)   =           -0.51 +/-  0.02 (still evaluating)\n",
      "log(Z_2)   =           -2.03 +/-  0.06 (still evaluating)\n",
      "log(Z_3)   =           -3.24 +/-  0.14 (still evaluating)\n",
      "log(Z_4)   =           -3.27 +/-  0.12 (still evaluating)\n",
      "log(Z_5)   =           -3.61 +/-  0.13\n",
      "log(Z_6)   =           -3.86 +/-  0.17 (still evaluating)\n",
      "\n",
      "\n",
      "Last dead point: [ 5.93441447 28.20735626 -0.09534232 -0.08867974]\n",
      "_____________________________________________________\n",
      "lives      |   1 |  12 |   6 |   3 |   2 | 173 |   3 |\n",
      "phantoms   |  86 | 149 | 199 |  61 |  49 |1728 |  56 |\n",
      "posteriors | 623 | 616 | 656 | 646 | 934 |1115 | 930 |\n",
      "equals     | 196 | 196 | 197 | 197 | 206 | 206 | 206 |\n",
      "‾‾‾‾‾‾‾‾‾‾‾‾‾‾‾‾‾‾‾‾‾‾‾‾‾‾‾‾‾‾‾‾‾‾‾‾‾‾‾‾‾‾‾‾‾‾‾‾‾‾‾‾‾\n",
      "ncluster   =       7 /       8\n",
      "ndead      =                1221\n",
      "nposterior =                1221\n",
      "nequals    =                 214\n",
      "nlike      =               48554\n",
      "<nlike>    =          65.01   (           6.50 per slice )\n",
      "log(Z)     =           -0.15 +/-  0.00\n",
      "log(Z_1)   =           -0.57 +/-  0.02 (still evaluating)\n",
      "log(Z_2)   =           -2.03 +/-  0.06 (still evaluating)\n",
      "log(Z_3)   =           -3.24 +/-  0.14 (still evaluating)\n",
      "log(Z_4)   =           -3.26 +/-  0.12 (still evaluating)\n",
      "log(Z_5)   =           -3.61 +/-  0.13\n",
      "log(Z_6)   =           -3.86 +/-  0.17 (still evaluating)\n",
      "log(Z_7)   =           -3.93 +/-  0.12 (still evaluating)\n",
      "log(Z_8)   =           -3.96 +/-  0.12 (still evaluating)\n",
      "\n",
      "\n",
      "Last dead point: [-0.23273427 46.79626141 -0.08454332 -0.05759192]\n",
      " ____________________________________________________ \n",
      "|                                                    |\n",
      "| ndead  =         1637                              |\n",
      "| log(Z) =           -0.14608 +/-            0.00133 |\n",
      "|____________________________________________________|\n",
      "Round 0: KL(P_i||Pi) = 0.0026524744027291913 +/- 0.0024891878890952197\n",
      "Round 0: KL(P_true||P_(i)) = 5.299066296941464 +/- 0.002639954312679251\n",
      "Round 0: KL(P_true||Pi) = 5.3170208118826725\n"
     ]
    },
    {
     "data": {
      "text/plain": "<IPython.core.display.HTML object>",
      "text/html": "wandb version 0.19.11 is available!  To upgrade, please run:\n $ pip install wandb --upgrade"
     },
     "metadata": {},
     "output_type": "display_data"
    },
    {
     "data": {
      "text/plain": "<IPython.core.display.HTML object>",
      "text/html": "Tracking run with wandb version 0.15.3"
     },
     "metadata": {},
     "output_type": "display_data"
    },
    {
     "data": {
      "text/plain": "<IPython.core.display.HTML object>",
      "text/html": "Run data is saved locally in <code>PolySwyft_notebook/round_1/wandb/run-20250521_215303-pm1xhkrr</code>"
     },
     "metadata": {},
     "output_type": "display_data"
    },
    {
     "data": {
      "text/plain": "<IPython.core.display.HTML object>",
      "text/html": "Syncing run <strong><a href='https://wandb.ai/nsnre/PolySwyft_notebook/runs/pm1xhkrr' target=\"_blank\">round_1</a></strong> to <a href='https://wandb.ai/nsnre/PolySwyft_notebook' target=\"_blank\">Weights & Biases</a> (<a href='https://wandb.me/run' target=\"_blank\">docs</a>)<br/>"
     },
     "metadata": {},
     "output_type": "display_data"
    },
    {
     "data": {
      "text/plain": "<IPython.core.display.HTML object>",
      "text/html": " View project at <a href='https://wandb.ai/nsnre/PolySwyft_notebook' target=\"_blank\">https://wandb.ai/nsnre/PolySwyft_notebook</a>"
     },
     "metadata": {},
     "output_type": "display_data"
    },
    {
     "data": {
      "text/plain": "<IPython.core.display.HTML object>",
      "text/html": " View run at <a href='https://wandb.ai/nsnre/PolySwyft_notebook/runs/pm1xhkrr' target=\"_blank\">https://wandb.ai/nsnre/PolySwyft_notebook/runs/pm1xhkrr</a>"
     },
     "metadata": {},
     "output_type": "display_data"
    },
    {
     "name": "stderr",
     "output_type": "stream",
     "text": [
      "GPU available: False, used: False\n",
      "TPU available: False, using: 0 TPU cores\n",
      "IPU available: False, using: 0 IPUs\n",
      "HPU available: False, using: 0 HPUs\n",
      "\n",
      "  | Name    | Type                   | Params\n",
      "---------------------------------------------------\n",
      "0 | network | LogRatioEstimator_Ndim | 68.1 K\n",
      "---------------------------------------------------\n",
      "68.1 K    Trainable params\n",
      "0         Non-trainable params\n",
      "68.1 K    Total params\n",
      "0.545     Total estimated model params size (MB)\n"
     ]
    },
    {
     "data": {
      "text/plain": "Sanity Checking: 0it [00:00, ?it/s]",
      "application/vnd.jupyter.widget-view+json": {
       "version_major": 2,
       "version_minor": 0,
       "model_id": "840e4e253e574a07a4af7936c6647953"
      }
     },
     "metadata": {},
     "output_type": "display_data"
    },
    {
     "name": "stderr",
     "output_type": "stream",
     "text": [
      "/Users/hikarukilian/LFIenv/lib/python3.10/site-packages/pytorch_lightning/trainer/connectors/data_connector.py:224: PossibleUserWarning: The dataloader, val_dataloader 0, does not have many workers which may be a bottleneck. Consider increasing the value of the `num_workers` argument` (try 12 which is the number of cpus on this machine) in the `DataLoader` init to improve performance.\n",
      "  rank_zero_warn(\n",
      "/Users/hikarukilian/LFIenv/lib/python3.10/site-packages/pytorch_lightning/trainer/connectors/data_connector.py:224: PossibleUserWarning: The dataloader, train_dataloader, does not have many workers which may be a bottleneck. Consider increasing the value of the `num_workers` argument` (try 12 which is the number of cpus on this machine) in the `DataLoader` init to improve performance.\n",
      "  rank_zero_warn(\n"
     ]
    },
    {
     "data": {
      "text/plain": "Training: 0it [00:00, ?it/s]",
      "application/vnd.jupyter.widget-view+json": {
       "version_major": 2,
       "version_minor": 0,
       "model_id": "7a32f4ade8904020985cca6343791879"
      }
     },
     "metadata": {},
     "output_type": "display_data"
    },
    {
     "data": {
      "text/plain": "Validation: 0it [00:00, ?it/s]",
      "application/vnd.jupyter.widget-view+json": {
       "version_major": 2,
       "version_minor": 0,
       "model_id": "a87a81a56d9a45c193eb58ce877bc740"
      }
     },
     "metadata": {},
     "output_type": "display_data"
    },
    {
     "data": {
      "text/plain": "Validation: 0it [00:00, ?it/s]",
      "application/vnd.jupyter.widget-view+json": {
       "version_major": 2,
       "version_minor": 0,
       "model_id": "df75a6aef1b543229cd1b89394863f87"
      }
     },
     "metadata": {},
     "output_type": "display_data"
    },
    {
     "data": {
      "text/plain": "Validation: 0it [00:00, ?it/s]",
      "application/vnd.jupyter.widget-view+json": {
       "version_major": 2,
       "version_minor": 0,
       "model_id": "30e0819e63f945f1a198efa36210a74b"
      }
     },
     "metadata": {},
     "output_type": "display_data"
    },
    {
     "data": {
      "text/plain": "Validation: 0it [00:00, ?it/s]",
      "application/vnd.jupyter.widget-view+json": {
       "version_major": 2,
       "version_minor": 0,
       "model_id": "274cf144b62c417a9cac2d0874d0ca48"
      }
     },
     "metadata": {},
     "output_type": "display_data"
    },
    {
     "data": {
      "text/plain": "Validation: 0it [00:00, ?it/s]",
      "application/vnd.jupyter.widget-view+json": {
       "version_major": 2,
       "version_minor": 0,
       "model_id": "ffc273737f67411c9147804185ca10d7"
      }
     },
     "metadata": {},
     "output_type": "display_data"
    },
    {
     "data": {
      "text/plain": "Validation: 0it [00:00, ?it/s]",
      "application/vnd.jupyter.widget-view+json": {
       "version_major": 2,
       "version_minor": 0,
       "model_id": "8366e2d409ed4678af93ffd31c3d7d33"
      }
     },
     "metadata": {},
     "output_type": "display_data"
    },
    {
     "data": {
      "text/plain": "Validation: 0it [00:00, ?it/s]",
      "application/vnd.jupyter.widget-view+json": {
       "version_major": 2,
       "version_minor": 0,
       "model_id": "9cf031f03e3d4a82a018d5d65877d9ed"
      }
     },
     "metadata": {},
     "output_type": "display_data"
    },
    {
     "data": {
      "text/plain": "Validation: 0it [00:00, ?it/s]",
      "application/vnd.jupyter.widget-view+json": {
       "version_major": 2,
       "version_minor": 0,
       "model_id": "1c6c672757994785b7901bae1c027e73"
      }
     },
     "metadata": {},
     "output_type": "display_data"
    },
    {
     "data": {
      "text/plain": "Validation: 0it [00:00, ?it/s]",
      "application/vnd.jupyter.widget-view+json": {
       "version_major": 2,
       "version_minor": 0,
       "model_id": "dc38b6b645314d99bec03eaf6cd698f1"
      }
     },
     "metadata": {},
     "output_type": "display_data"
    },
    {
     "data": {
      "text/plain": "<IPython.core.display.HTML object>",
      "text/html": "Waiting for W&B process to finish... <strong style=\"color:green\">(success).</strong>"
     },
     "metadata": {},
     "output_type": "display_data"
    },
    {
     "data": {
      "text/plain": "VBox(children=(Label(value='0.001 MB of 0.008 MB uploaded (0.000 MB deduped)\\r'), FloatProgress(value=0.132633…",
      "application/vnd.jupyter.widget-view+json": {
       "version_major": 2,
       "version_minor": 0,
       "model_id": "15048f16c143490c9ab7b84f48fb947f"
      }
     },
     "metadata": {},
     "output_type": "display_data"
    },
    {
     "data": {
      "text/plain": "<IPython.core.display.HTML object>",
      "text/html": "<style>\n    table.wandb td:nth-child(1) { padding: 0 10px; text-align: left ; width: auto;} td:nth-child(2) {text-align: left ; width: 100%}\n    .wandb-row { display: flex; flex-direction: row; flex-wrap: wrap; justify-content: flex-start; width: 100% }\n    .wandb-col { display: flex; flex-direction: column; flex-basis: 100%; flex: 1; padding: 10px; }\n    </style>\n<div class=\"wandb-row\"><div class=\"wandb-col\"><h3>Run history:</h3><br/><table class=\"wandb\"><tr><td>epoch</td><td>▁▁▁▁▁▂▂▂▂▃▃▃▃▄▄▄▄▄▅▅▅▅▅▅▅▅▅▆▆▆▆▇▇▇▇▇████</td></tr><tr><td>lr-Adam</td><td>█████▇▇▇▇▆▆▆▆▅▅▅▅▅▄▄▄▄▄▄▄▄▄▃▃▃▃▂▂▂▂▂▁▁▁▁</td></tr><tr><td>train_loss</td><td>█▄▄▂▂▃▂▃▂▃▃▂▂▁▁▂▂▂▂▂▂▂▂▂▂▂▂▁▂▂▂▁▁▂▂▂▃▃▂▁</td></tr><tr><td>trainer/global_step</td><td>▁▁▁▁▂▂▂▂▂▃▃▃▃▃▃▄▄▄▄▄▅▅▅▅▅▅▆▆▆▆▆▆▇▇▇▇▇███</td></tr><tr><td>val_loss</td><td>▄█▃▄▃▁▃▂▂</td></tr></table><br/></div><div class=\"wandb-col\"><h3>Run summary:</h3><br/><table class=\"wandb\"><tr><td>epoch</td><td>8</td></tr><tr><td>lr-Adam</td><td>0.00274</td></tr><tr><td>train_loss</td><td>-1.33407</td></tr><tr><td>trainer/global_step</td><td>296</td></tr><tr><td>val_loss</td><td>-1.29311</td></tr></table><br/></div></div>"
     },
     "metadata": {},
     "output_type": "display_data"
    },
    {
     "data": {
      "text/plain": "<IPython.core.display.HTML object>",
      "text/html": " View run <strong style=\"color:#cdcd00\">round_1</strong> at: <a href='https://wandb.ai/nsnre/PolySwyft_notebook/runs/pm1xhkrr' target=\"_blank\">https://wandb.ai/nsnre/PolySwyft_notebook/runs/pm1xhkrr</a><br/>Synced 5 W&B file(s), 0 media file(s), 0 artifact file(s) and 0 other file(s)"
     },
     "metadata": {},
     "output_type": "display_data"
    },
    {
     "data": {
      "text/plain": "<IPython.core.display.HTML object>",
      "text/html": "Find logs at: <code>PolySwyft_notebook/round_1/wandb/run-20250521_215303-pm1xhkrr/logs</code>"
     },
     "metadata": {},
     "output_type": "display_data"
    },
    {
     "name": "stdout",
     "output_type": "stream",
     "text": [
      "PolyChord: MPI is already initilised, not initialising, and will not finalize\n",
      "\n",
      "PolyChord: Next Generation Nested Sampling\n",
      "copyright: Will Handley, Mike Hobson & Anthony Lasenby\n",
      "  version: 1.22.1\n",
      "  release: 10th Jan 2024\n",
      "    email: wh260@mrao.cam.ac.uk\n",
      "\n",
      "Run Settings\n",
      "nlive    :     200\n",
      "nDims    :       2\n",
      "nDerived :       0\n",
      "Doing Clustering\n",
      "Synchronous parallelisation\n",
      "Generating equally weighted posteriors\n",
      "Generating weighted posteriors\n",
      "Clustering on posteriors\n",
      "Writing a resume file to PolySwyft_notebook/round_1/samples.resume\n",
      "\n",
      "generating live points\n",
      "\n",
      "\n",
      "all live points generated\n",
      "\n",
      "Speed  1 =  0.135E-02 seconds\n",
      "number of repeats:           10\n",
      "started sampling\n",
      "Last dead point: [-1.25260109e+01 -1.10186737e+01 -1.00000000e+30 -1.54429468e+01]\n",
      "_________________\n",
      "lives      | 200 |\n",
      "phantoms   |1128 |\n",
      "posteriors | 201 |\n",
      "equals     |  33 |\n",
      "‾‾‾‾‾‾‾‾‾‾‾‾‾‾‾‾‾\n",
      "ncluster   =       1 /       1\n",
      "ndead      =                 201\n",
      "nposterior =                 201\n",
      "nequals    =                  30\n",
      "nlike      =                3458\n",
      "<nlike>    =          16.29   (           1.63 per slice )\n",
      "log(Z)     =          -18.31 +/-  0.13\n",
      "log(Z_1)   =          -18.31 +/-  0.13 (still evaluating)\n",
      "\n",
      "\n",
      "Last dead point: [ -3.56214761   6.5430075  -13.57887959  -9.74116069]\n",
      "_________________\n",
      "lives      | 200 |\n",
      "phantoms   |1612 |\n",
      "posteriors | 402 |\n",
      "equals     |  43 |\n",
      "‾‾‾‾‾‾‾‾‾‾‾‾‾‾‾‾‾\n",
      "ncluster   =       1 /       1\n",
      "ndead      =                 402\n",
      "nposterior =                 402\n",
      "nequals    =                  51\n",
      "nlike      =               10033\n",
      "<nlike>    =          32.88   (           3.29 per slice )\n",
      "log(Z)     =          -13.19 +/-  0.12\n",
      "log(Z_1)   =          -13.19 +/-  0.12 (still evaluating)\n",
      "\n",
      "\n",
      "Last dead point: [-8.76542829 16.08944529 -8.19349743 -3.27170307]\n",
      "_________________\n",
      "lives      | 200 |\n",
      "phantoms   |1634 |\n",
      "posteriors | 603 |\n",
      "equals     |  34 |\n",
      "‾‾‾‾‾‾‾‾‾‾‾‾‾‾‾‾‾\n",
      "ncluster   =       1 /       1\n",
      "ndead      =                 603\n",
      "nposterior =                 603\n",
      "nequals    =                  30\n",
      "nlike      =               17753\n",
      "<nlike>    =          38.60   (           3.86 per slice )\n",
      "log(Z)     =           -8.10 +/-  0.16\n",
      "log(Z_1)   =           -8.10 +/-  0.16 (still evaluating)\n",
      "\n",
      "\n",
      "Last dead point: [-7.24154282  8.72393769  0.61255129  1.5877984 ]\n",
      "_________________\n",
      "lives      | 200 |\n",
      "phantoms   |1873 |\n",
      "posteriors | 804 |\n",
      "equals     |  65 |\n",
      "‾‾‾‾‾‾‾‾‾‾‾‾‾‾‾‾‾\n",
      "ncluster   =       1 /       1\n",
      "ndead      =                 804\n",
      "nposterior =                 804\n",
      "nequals    =                  67\n",
      "nlike      =               26602\n",
      "<nlike>    =          44.24   (           4.42 per slice )\n",
      "log(Z)     =           -3.55 +/-  0.15\n",
      "log(Z_1)   =           -3.55 +/-  0.15 (still evaluating)\n",
      "\n",
      "\n",
      "Last dead point: [-10.45862305  11.41582261   1.7490796    3.86289893]\n",
      "_________________\n",
      "lives      | 200 |\n",
      "phantoms   |1817 |\n",
      "posteriors |1005 |\n",
      "equals     | 153 |\n",
      "‾‾‾‾‾‾‾‾‾‾‾‾‾‾‾‾‾\n",
      "ncluster   =       1 /       1\n",
      "ndead      =                1005\n",
      "nposterior =                1005\n",
      "nequals    =                 164\n",
      "nlike      =               35960\n",
      "<nlike>    =          46.79   (           4.68 per slice )\n",
      "log(Z)     =           -1.38 +/-  0.14\n",
      "log(Z_1)   =           -1.38 +/-  0.14 (still evaluating)\n",
      "\n",
      "\n",
      "Last dead point: [-10.10218952  10.23219047   4.53808838   4.58343022]\n",
      "_________________\n",
      "lives      | 200 |\n",
      "phantoms   |1867 |\n",
      "posteriors |1206 |\n",
      "equals     | 334 |\n",
      "‾‾‾‾‾‾‾‾‾‾‾‾‾‾‾‾‾\n",
      "ncluster   =       1 /       1\n",
      "ndead      =                1206\n",
      "nposterior =                1206\n",
      "nequals    =                 344\n",
      "nlike      =               45405\n",
      "<nlike>    =          47.23   (           4.72 per slice )\n",
      "log(Z)     =           -0.61 +/-  0.14\n",
      "log(Z_1)   =           -0.61 +/-  0.14 (still evaluating)\n",
      "\n",
      "\n",
      "Last dead point: [-9.16944988  8.65375691  4.68864307  4.8741462 ]\n",
      "_________________\n",
      "lives      | 200 |\n",
      "phantoms   |1885 |\n",
      "posteriors |1407 |\n",
      "equals     | 438 |\n",
      "‾‾‾‾‾‾‾‾‾‾‾‾‾‾‾‾‾\n",
      "ncluster   =       1 /       1\n",
      "ndead      =                1407\n",
      "nposterior =                1407\n",
      "nequals    =                 454\n",
      "nlike      =               54925\n",
      "<nlike>    =          47.60   (           4.76 per slice )\n",
      "log(Z)     =           -0.33 +/-  0.15\n",
      "log(Z_1)   =           -0.33 +/-  0.15 (still evaluating)\n",
      "\n",
      "\n",
      "Last dead point: [-9.53118621  9.31441884  4.83238137  4.97983127]\n",
      "_________________\n",
      "lives      | 200 |\n",
      "phantoms   |1813 |\n",
      "posteriors |1608 |\n",
      "equals     | 485 |\n",
      "‾‾‾‾‾‾‾‾‾‾‾‾‾‾‾‾‾\n",
      "ncluster   =       1 /       1\n",
      "ndead      =                1608\n",
      "nposterior =                1608\n",
      "nequals    =                 506\n",
      "nlike      =               64372\n",
      "<nlike>    =          47.23   (           4.72 per slice )\n",
      "log(Z)     =           -0.23 +/-  0.15\n",
      "log(Z_1)   =           -0.23 +/-  0.15 (still evaluating)\n",
      "\n",
      "\n",
      "Last dead point: [-9.23208105  9.17734497  5.01195935  5.0195145 ]\n",
      "_________________\n",
      "lives      | 200 |\n",
      "phantoms   |1840 |\n",
      "posteriors |1809 |\n",
      "equals     | 502 |\n",
      "‾‾‾‾‾‾‾‾‾‾‾‾‾‾‾‾‾\n",
      "ncluster   =       1 /       1\n",
      "ndead      =                1809\n",
      "nposterior =                1809\n",
      "nequals    =                 532\n",
      "nlike      =               73790\n",
      "<nlike>    =          47.09   (           4.71 per slice )\n",
      "log(Z)     =           -0.19 +/-  0.15\n",
      "log(Z_1)   =           -0.19 +/-  0.15 (still evaluating)\n",
      "\n",
      "\n",
      "Last dead point: [-9.33242961  9.32104164  5.01851879  5.03338877]\n",
      "_________________\n",
      "lives      | 200 |\n",
      "phantoms   |1997 |\n",
      "posteriors |2010 |\n",
      "equals     | 507 |\n",
      "‾‾‾‾‾‾‾‾‾‾‾‾‾‾‾‾‾\n",
      "ncluster   =       1 /       1\n",
      "ndead      =                2010\n",
      "nposterior =                2010\n",
      "nequals    =                 540\n",
      "nlike      =               83271\n",
      "<nlike>    =          47.41   (           4.74 per slice )\n",
      "log(Z)     =           -0.18 +/-  0.15\n",
      "log(Z_1)   =           -0.18 +/-  0.15 (still evaluating)\n",
      "\n",
      "\n",
      "Last dead point: [-9.27346118  9.45786197  5.02631439  5.03898713]\n",
      "_________________\n",
      "lives      | 200 |\n",
      "phantoms   |1886 |\n",
      "posteriors |2211 |\n",
      "equals     | 509 |\n",
      "‾‾‾‾‾‾‾‾‾‾‾‾‾‾‾‾‾\n",
      "ncluster   =       1 /       1\n",
      "ndead      =                2211\n",
      "nposterior =                2211\n",
      "nequals    =                 547\n",
      "nlike      =               92766\n",
      "<nlike>    =          47.48   (           4.75 per slice )\n",
      "log(Z)     =           -0.17 +/-  0.15\n",
      "log(Z_1)   =           -0.17 +/-  0.15 (still evaluating)\n",
      "\n",
      "\n",
      "Last dead point: [-9.20092487  9.47421667  5.03840198  5.04105926]\n",
      "_________________\n",
      "lives      | 200 |\n",
      "phantoms   |1772 |\n",
      "posteriors |2412 |\n",
      "equals     | 512 |\n",
      "‾‾‾‾‾‾‾‾‾‾‾‾‾‾‾‾‾\n",
      "ncluster   =       1 /       1\n",
      "ndead      =                2412\n",
      "nposterior =                2412\n",
      "nequals    =                 548\n",
      "nlike      =              102288\n",
      "<nlike>    =          47.61   (           4.76 per slice )\n",
      "log(Z)     =           -0.17 +/-  0.15\n",
      "log(Z_1)   =           -0.17 +/-  0.15 (still evaluating)\n",
      "\n",
      "\n",
      "Last dead point: [-9.20270411  9.51837484  5.02858115  5.04299084]\n",
      " ____________________________________________________ \n",
      "|                                                    |\n",
      "| ndead  =         2629                              |\n",
      "| log(Z) =           -0.17198 +/-            0.14686 |\n",
      "|____________________________________________________|\n",
      "Round 1: KL(P_i||P_(i-1)) = 4.185778132118797 +/- 0.13382812328274737\n",
      "Round 1: KL(P_i||Pi) = 4.217225991545154 +/- 0.15141260555941224\n",
      "Round 1: KL(P_true||P_(i)) = 0.45807898286873 +/- 0.13879871134180843\n",
      "Round 1: KL(P_true||Pi) = 5.3170208118826725\n"
     ]
    },
    {
     "data": {
      "text/plain": "<IPython.core.display.HTML object>",
      "text/html": "wandb version 0.19.11 is available!  To upgrade, please run:\n $ pip install wandb --upgrade"
     },
     "metadata": {},
     "output_type": "display_data"
    },
    {
     "data": {
      "text/plain": "<IPython.core.display.HTML object>",
      "text/html": "Tracking run with wandb version 0.15.3"
     },
     "metadata": {},
     "output_type": "display_data"
    },
    {
     "data": {
      "text/plain": "<IPython.core.display.HTML object>",
      "text/html": "Run data is saved locally in <code>PolySwyft_notebook/round_2/wandb/run-20250521_215632-93dyji0k</code>"
     },
     "metadata": {},
     "output_type": "display_data"
    },
    {
     "data": {
      "text/plain": "<IPython.core.display.HTML object>",
      "text/html": "Syncing run <strong><a href='https://wandb.ai/nsnre/PolySwyft_notebook/runs/93dyji0k' target=\"_blank\">round_2</a></strong> to <a href='https://wandb.ai/nsnre/PolySwyft_notebook' target=\"_blank\">Weights & Biases</a> (<a href='https://wandb.me/run' target=\"_blank\">docs</a>)<br/>"
     },
     "metadata": {},
     "output_type": "display_data"
    },
    {
     "data": {
      "text/plain": "<IPython.core.display.HTML object>",
      "text/html": " View project at <a href='https://wandb.ai/nsnre/PolySwyft_notebook' target=\"_blank\">https://wandb.ai/nsnre/PolySwyft_notebook</a>"
     },
     "metadata": {},
     "output_type": "display_data"
    },
    {
     "data": {
      "text/plain": "<IPython.core.display.HTML object>",
      "text/html": " View run at <a href='https://wandb.ai/nsnre/PolySwyft_notebook/runs/93dyji0k' target=\"_blank\">https://wandb.ai/nsnre/PolySwyft_notebook/runs/93dyji0k</a>"
     },
     "metadata": {},
     "output_type": "display_data"
    },
    {
     "name": "stderr",
     "output_type": "stream",
     "text": [
      "GPU available: False, used: False\n",
      "TPU available: False, using: 0 TPU cores\n",
      "IPU available: False, using: 0 IPUs\n",
      "HPU available: False, using: 0 HPUs\n",
      "\n",
      "  | Name    | Type                   | Params\n",
      "---------------------------------------------------\n",
      "0 | network | LogRatioEstimator_Ndim | 68.1 K\n",
      "---------------------------------------------------\n",
      "68.1 K    Trainable params\n",
      "0         Non-trainable params\n",
      "68.1 K    Total params\n",
      "0.545     Total estimated model params size (MB)\n"
     ]
    },
    {
     "data": {
      "text/plain": "Sanity Checking: 0it [00:00, ?it/s]",
      "application/vnd.jupyter.widget-view+json": {
       "version_major": 2,
       "version_minor": 0,
       "model_id": "49167d71693044a89158bc169fbd09b4"
      }
     },
     "metadata": {},
     "output_type": "display_data"
    },
    {
     "name": "stderr",
     "output_type": "stream",
     "text": [
      "/Users/hikarukilian/LFIenv/lib/python3.10/site-packages/pytorch_lightning/trainer/connectors/data_connector.py:224: PossibleUserWarning: The dataloader, val_dataloader 0, does not have many workers which may be a bottleneck. Consider increasing the value of the `num_workers` argument` (try 12 which is the number of cpus on this machine) in the `DataLoader` init to improve performance.\n",
      "  rank_zero_warn(\n",
      "/Users/hikarukilian/LFIenv/lib/python3.10/site-packages/pytorch_lightning/trainer/connectors/data_connector.py:224: PossibleUserWarning: The dataloader, train_dataloader, does not have many workers which may be a bottleneck. Consider increasing the value of the `num_workers` argument` (try 12 which is the number of cpus on this machine) in the `DataLoader` init to improve performance.\n",
      "  rank_zero_warn(\n"
     ]
    },
    {
     "data": {
      "text/plain": "Training: 0it [00:00, ?it/s]",
      "application/vnd.jupyter.widget-view+json": {
       "version_major": 2,
       "version_minor": 0,
       "model_id": "a2a6f398fa6f4e41bfbbd5b6584afc09"
      }
     },
     "metadata": {},
     "output_type": "display_data"
    },
    {
     "data": {
      "text/plain": "Validation: 0it [00:00, ?it/s]",
      "application/vnd.jupyter.widget-view+json": {
       "version_major": 2,
       "version_minor": 0,
       "model_id": "8bb1701b7be04d67bdd61b453e56b91e"
      }
     },
     "metadata": {},
     "output_type": "display_data"
    },
    {
     "data": {
      "text/plain": "Validation: 0it [00:00, ?it/s]",
      "application/vnd.jupyter.widget-view+json": {
       "version_major": 2,
       "version_minor": 0,
       "model_id": "e68fe69c8ec14216a611a08b5ccba99c"
      }
     },
     "metadata": {},
     "output_type": "display_data"
    },
    {
     "data": {
      "text/plain": "Validation: 0it [00:00, ?it/s]",
      "application/vnd.jupyter.widget-view+json": {
       "version_major": 2,
       "version_minor": 0,
       "model_id": "e03b9c5141234c80a021dd719847c9e0"
      }
     },
     "metadata": {},
     "output_type": "display_data"
    },
    {
     "data": {
      "text/plain": "Validation: 0it [00:00, ?it/s]",
      "application/vnd.jupyter.widget-view+json": {
       "version_major": 2,
       "version_minor": 0,
       "model_id": "d0d7574f7ce4408c898fb72a1e6ff7a9"
      }
     },
     "metadata": {},
     "output_type": "display_data"
    },
    {
     "data": {
      "text/plain": "Validation: 0it [00:00, ?it/s]",
      "application/vnd.jupyter.widget-view+json": {
       "version_major": 2,
       "version_minor": 0,
       "model_id": "9083ef61a9394c19a3bc999fc6ce039f"
      }
     },
     "metadata": {},
     "output_type": "display_data"
    },
    {
     "data": {
      "text/plain": "Validation: 0it [00:00, ?it/s]",
      "application/vnd.jupyter.widget-view+json": {
       "version_major": 2,
       "version_minor": 0,
       "model_id": "8369ca04e5f5462ab2c3deb358e49efd"
      }
     },
     "metadata": {},
     "output_type": "display_data"
    },
    {
     "data": {
      "text/plain": "Validation: 0it [00:00, ?it/s]",
      "application/vnd.jupyter.widget-view+json": {
       "version_major": 2,
       "version_minor": 0,
       "model_id": "2acaa02845e24d99878803c2b467bc9b"
      }
     },
     "metadata": {},
     "output_type": "display_data"
    },
    {
     "data": {
      "text/plain": "<IPython.core.display.HTML object>",
      "text/html": "Waiting for W&B process to finish... <strong style=\"color:green\">(success).</strong>"
     },
     "metadata": {},
     "output_type": "display_data"
    },
    {
     "data": {
      "text/plain": "<IPython.core.display.HTML object>",
      "text/html": "<style>\n    table.wandb td:nth-child(1) { padding: 0 10px; text-align: left ; width: auto;} td:nth-child(2) {text-align: left ; width: 100%}\n    .wandb-row { display: flex; flex-direction: row; flex-wrap: wrap; justify-content: flex-start; width: 100% }\n    .wandb-col { display: flex; flex-direction: column; flex-basis: 100%; flex: 1; padding: 10px; }\n    </style>\n<div class=\"wandb-row\"><div class=\"wandb-col\"><h3>Run history:</h3><br/><table class=\"wandb\"><tr><td>epoch</td><td>▁▁▁▁▁▁▂▂▂▂▂▂▃▃▃▃▃▅▅▅▅▅▅▆▆▆▆▆▇▇▇▇▇▇██████</td></tr><tr><td>lr-Adam</td><td>██████▇▇▇▇▇▇▆▆▆▆▆▄▄▄▄▄▄▃▃▃▃▃▃▂▂▂▂▂▁▁▁▁▁▁</td></tr><tr><td>train_loss</td><td>▅█▆▄▂▄▅▃▃█▂▄▆▅▁▃▂▄▇▄▁▃▂▂▄▁▃▄▅▂▂▃▃▆▂▂▃▃▅▂</td></tr><tr><td>trainer/global_step</td><td>▁▁▁▁▂▂▂▂▂▃▃▃▃▃▃▄▄▄▄▄▅▅▅▅▅▅▆▆▆▆▆▇▇▇▇▇▇███</td></tr><tr><td>val_loss</td><td>█▃▆▁▃▁▃</td></tr></table><br/></div><div class=\"wandb-col\"><h3>Run summary:</h3><br/><table class=\"wandb\"><tr><td>epoch</td><td>6</td></tr><tr><td>lr-Adam</td><td>0.00559</td></tr><tr><td>train_loss</td><td>-1.12094</td></tr><tr><td>trainer/global_step</td><td>461</td></tr><tr><td>val_loss</td><td>-1.0819</td></tr></table><br/></div></div>"
     },
     "metadata": {},
     "output_type": "display_data"
    },
    {
     "data": {
      "text/plain": "<IPython.core.display.HTML object>",
      "text/html": " View run <strong style=\"color:#cdcd00\">round_2</strong> at: <a href='https://wandb.ai/nsnre/PolySwyft_notebook/runs/93dyji0k' target=\"_blank\">https://wandb.ai/nsnre/PolySwyft_notebook/runs/93dyji0k</a><br/>Synced 5 W&B file(s), 0 media file(s), 0 artifact file(s) and 0 other file(s)"
     },
     "metadata": {},
     "output_type": "display_data"
    },
    {
     "data": {
      "text/plain": "<IPython.core.display.HTML object>",
      "text/html": "Find logs at: <code>PolySwyft_notebook/round_2/wandb/run-20250521_215632-93dyji0k/logs</code>"
     },
     "metadata": {},
     "output_type": "display_data"
    },
    {
     "name": "stdout",
     "output_type": "stream",
     "text": [
      "PolyChord: MPI is already initilised, not initialising, and will not finalize\n",
      "\n",
      "PolyChord: Next Generation Nested Sampling\n",
      "copyright: Will Handley, Mike Hobson & Anthony Lasenby\n",
      "  version: 1.22.1\n",
      "  release: 10th Jan 2024\n",
      "    email: wh260@mrao.cam.ac.uk\n",
      "\n",
      "Run Settings\n",
      "nlive    :     200\n",
      "nDims    :       2\n",
      "nDerived :       0\n",
      "Doing Clustering\n",
      "Synchronous parallelisation\n",
      "Generating equally weighted posteriors\n",
      "Generating weighted posteriors\n",
      "Clustering on posteriors\n",
      "Writing a resume file to PolySwyft_notebook/round_2/samples.resume\n",
      "\n",
      "generating live points\n",
      "\n",
      "\n",
      "all live points generated\n",
      "\n",
      "Speed  1 =  0.154E-02 seconds\n",
      "number of repeats:           10\n",
      "started sampling\n",
      "Last dead point: [-21.93099802  13.03121335 -23.21194803 -22.67465203]\n",
      "_________________\n",
      "lives      | 200 |\n",
      "phantoms   |1059 |\n",
      "posteriors | 201 |\n",
      "equals     |  24 |\n",
      "‾‾‾‾‾‾‾‾‾‾‾‾‾‾‾‾‾\n",
      "ncluster   =       1 /       1\n",
      "ndead      =                 201\n",
      "nposterior =                 201\n",
      "nequals    =                  26\n",
      "nlike      =                3461\n",
      "<nlike>    =          16.30   (           1.63 per slice )\n",
      "log(Z)     =          -25.78 +/-  0.14\n",
      "log(Z_1)   =          -25.78 +/-  0.14 (still evaluating)\n",
      "\n",
      "\n",
      "Last dead point: [-16.85429572   7.82699227 -18.41514064 -17.72835595]\n",
      "_________________\n",
      "lives      | 200 |\n",
      "phantoms   |1614 |\n",
      "posteriors | 402 |\n",
      "equals     |  59 |\n",
      "‾‾‾‾‾‾‾‾‾‾‾‾‾‾‾‾‾\n",
      "ncluster   =       1 /       1\n",
      "ndead      =                 402\n",
      "nposterior =                 402\n",
      "nequals    =                  56\n",
      "nlike      =                9821\n",
      "<nlike>    =          31.80   (           3.18 per slice )\n",
      "log(Z)     =          -21.04 +/-  0.11\n",
      "log(Z_1)   =          -21.04 +/-  0.11 (still evaluating)\n",
      "\n",
      "\n",
      "Last dead point: [ -8.5001891    2.94890327 -13.97106893 -12.45647567]\n",
      "_________________\n",
      "lives      | 200 |\n",
      "phantoms   |1831 |\n",
      "posteriors | 603 |\n",
      "equals     |  41 |\n",
      "‾‾‾‾‾‾‾‾‾‾‾‾‾‾‾‾‾\n",
      "ncluster   =       1 /       1\n",
      "ndead      =                 603\n",
      "nposterior =                 603\n",
      "nequals    =                  45\n",
      "nlike      =               17433\n",
      "<nlike>    =          38.06   (           3.81 per slice )\n",
      "log(Z)     =          -16.95 +/-  0.14\n",
      "log(Z_1)   =          -16.95 +/-  0.14 (still evaluating)\n",
      "\n",
      "\n",
      "Last dead point: [-9.9062933  14.62716021 -5.95998733 -4.61168311]\n",
      "_________________\n",
      "lives      | 200 |\n",
      "phantoms   |1832 |\n",
      "posteriors | 804 |\n",
      "equals     |  37 |\n",
      "‾‾‾‾‾‾‾‾‾‾‾‾‾‾‾‾‾\n",
      "ncluster   =       1 /       1\n",
      "ndead      =                 804\n",
      "nposterior =                 804\n",
      "nequals    =                  45\n",
      "nlike      =               26077\n",
      "<nlike>    =          43.22   (           4.32 per slice )\n",
      "log(Z)     =          -10.20 +/-  0.17\n",
      "log(Z_1)   =          -10.20 +/-  0.17 (still evaluating)\n",
      "\n",
      "\n",
      "Last dead point: [-9.04601496  7.20781281 -1.38816503  0.16128687]\n",
      "_________________\n",
      "lives      | 200 |\n",
      "phantoms   |1828 |\n",
      "posteriors |1005 |\n",
      "equals     |  70 |\n",
      "‾‾‾‾‾‾‾‾‾‾‾‾‾‾‾‾‾\n",
      "ncluster   =       1 /       1\n",
      "ndead      =                1005\n",
      "nposterior =                1005\n",
      "nequals    =                  77\n",
      "nlike      =               35332\n",
      "<nlike>    =          46.27   (           4.63 per slice )\n",
      "log(Z)     =           -5.86 +/-  0.16\n",
      "log(Z_1)   =           -5.86 +/-  0.16 (still evaluating)\n",
      "\n",
      "\n",
      "Last dead point: [-10.0266997   10.97301317   1.53493721   1.5602677 ]\n",
      "_________________\n",
      "lives      | 200 |\n",
      "phantoms   |1790 |\n",
      "posteriors |1206 |\n",
      "equals     | 226 |\n",
      "‾‾‾‾‾‾‾‾‾‾‾‾‾‾‾‾‾\n",
      "ncluster   =       1 /       1\n",
      "ndead      =                1206\n",
      "nposterior =                1206\n",
      "nequals    =                 231\n",
      "nlike      =               44828\n",
      "<nlike>    =          47.48   (           4.75 per slice )\n",
      "log(Z)     =           -4.28 +/-  0.15\n",
      "log(Z_1)   =           -4.28 +/-  0.15 (still evaluating)\n",
      "\n",
      "\n",
      "Last dead point: [-9.23463327e+00  8.94679155e+00 -1.00000000e+30  2.01772005e+00]\n",
      "_________________\n",
      "lives      | 200 |\n",
      "phantoms   |1847 |\n",
      "posteriors |1407 |\n",
      "equals     | 382 |\n",
      "‾‾‾‾‾‾‾‾‾‾‾‾‾‾‾‾‾\n",
      "ncluster   =       1 /       1\n",
      "ndead      =                1407\n",
      "nposterior =                1407\n",
      "nequals    =                 385\n",
      "nlike      =               54299\n",
      "<nlike>    =          47.36   (           4.74 per slice )\n",
      "log(Z)     =           -3.78 +/-  0.16\n",
      "log(Z_1)   =           -3.78 +/-  0.16 (still evaluating)\n",
      "\n",
      "\n",
      "Last dead point: [-9.14619213  9.23863322  2.10460311  2.2356564 ]\n",
      "_________________\n",
      "lives      | 200 |\n",
      "phantoms   |1738 |\n",
      "posteriors |1608 |\n",
      "equals     | 465 |\n",
      "‾‾‾‾‾‾‾‾‾‾‾‾‾‾‾‾‾\n",
      "ncluster   =       1 /       1\n",
      "ndead      =                1608\n",
      "nposterior =                1608\n",
      "nequals    =                 461\n",
      "nlike      =               63680\n",
      "<nlike>    =          46.91   (           4.69 per slice )\n",
      "log(Z)     =           -3.59 +/-  0.16\n",
      "log(Z_1)   =           -3.59 +/-  0.16 (still evaluating)\n",
      "\n",
      "\n",
      "Last dead point: [-8.97553988  9.49212333  2.29258434  2.30711549]\n",
      "_________________\n",
      "lives      | 200 |\n",
      "phantoms   |1712 |\n",
      "posteriors |1809 |\n",
      "equals     | 492 |\n",
      "‾‾‾‾‾‾‾‾‾‾‾‾‾‾‾‾‾\n",
      "ncluster   =       1 /       1\n",
      "ndead      =                1809\n",
      "nposterior =                1809\n",
      "nequals    =                 497\n",
      "nlike      =               73050\n",
      "<nlike>    =          46.85   (           4.68 per slice )\n",
      "log(Z)     =           -3.52 +/-  0.16\n",
      "log(Z_1)   =           -3.52 +/-  0.16 (still evaluating)\n",
      "\n",
      "\n",
      "Last dead point: [-9.14362623  9.89419641  1.88958271  2.32333341]\n",
      "_________________\n",
      "lives      | 200 |\n",
      "phantoms   |1763 |\n",
      "posteriors |2010 |\n",
      "equals     | 499 |\n",
      "‾‾‾‾‾‾‾‾‾‾‾‾‾‾‾‾‾\n",
      "ncluster   =       1 /       1\n",
      "ndead      =                2010\n",
      "nposterior =                2010\n",
      "nequals    =                 513\n",
      "nlike      =               82602\n",
      "<nlike>    =          47.76   (           4.78 per slice )\n",
      "log(Z)     =           -3.50 +/-  0.16\n",
      "log(Z_1)   =           -3.50 +/-  0.16 (still evaluating)\n",
      "\n",
      "\n",
      "Last dead point: [-9.19188982  9.882222    2.3178617   2.32780349]\n",
      "_________________\n",
      "lives      | 200 |\n",
      "phantoms   |1811 |\n",
      "posteriors |2211 |\n",
      "equals     | 502 |\n",
      "‾‾‾‾‾‾‾‾‾‾‾‾‾‾‾‾‾\n",
      "ncluster   =       1 /       1\n",
      "ndead      =                2211\n",
      "nposterior =                2211\n",
      "nequals    =                 519\n",
      "nlike      =               92164\n",
      "<nlike>    =          47.81   (           4.78 per slice )\n",
      "log(Z)     =           -3.49 +/-  0.16\n",
      "log(Z_1)   =           -3.49 +/-  0.16 (still evaluating)\n",
      "\n",
      "\n",
      "Last dead point: [-9.11945833  9.61053055  2.32858861  2.32886949]\n",
      "_________________\n",
      "lives      | 200 |\n",
      "phantoms   |1997 |\n",
      "posteriors |2412 |\n",
      "equals     | 502 |\n",
      "‾‾‾‾‾‾‾‾‾‾‾‾‾‾‾‾‾\n",
      "ncluster   =       1 /       1\n",
      "ndead      =                2412\n",
      "nposterior =                2412\n",
      "nequals    =                 524\n",
      "nlike      =              101739\n",
      "<nlike>    =          47.88   (           4.79 per slice )\n",
      "log(Z)     =           -3.48 +/-  0.16\n",
      "log(Z_1)   =           -3.48 +/-  0.16 (still evaluating)\n",
      "\n",
      "\n",
      "Last dead point: [-9.11910161  9.63577552  2.32895688  2.32988081]\n",
      " ____________________________________________________ \n",
      "|                                                    |\n",
      "| ndead  =         2748                              |\n",
      "| log(Z) =           -3.48091 +/-            0.15720 |\n",
      "|____________________________________________________|\n",
      "Round 2: KL(P_i||P_(i-1)) = 0.2629189494349693 +/- 0.20046867111253963\n",
      "Round 2: KL(P_i||Pi) = 4.879524018302713 +/- 0.15178350137081492\n",
      "Round 2: KL(P_true||P_(i)) = 0.08728083689955056 +/- 0.15532346138634387\n",
      "Round 2: KL(P_true||Pi) = 5.3170208118826725\n"
     ]
    }
   ],
   "source": [
    "if not polyswyftSettings.only_plot_mode:\n",
    "    #initialise temporary storage for KL diagnostics\n",
    "    deadpoints_samples = deadpoints\n",
    "    network_storage = {}\n",
    "    samples_storage = {}\n",
    "    root_storage = {}\n",
    "    dkl_storage = {}\n",
    "    dkl_storage_true = {}\n",
    "    dkl_compression_storage = {}\n",
    "    current_key = \"current\"\n",
    "    previous_key = \"previous\"\n",
    "    for rd in range(polyswyftSettings.NRE_start_from_round, polyswyftSettings.NRE_num_retrain_rounds+1):\n",
    "        logger.info(\"training network round: \" + str(rd))\n",
    "        if polyswyftSettings.NRE_start_from_round > 0: # load previous samples and network\n",
    "            root = f\"{polyswyftSettings.root}/{polyswyftSettings.child_root}_{rd-1}\"\n",
    "            deadpoints = anesthetic.read_chains(root=f\"{root}/{polyset.file_root}\")\n",
    "            deadpoints_samples = deadpoints.iloc[:, :polyswyftSettings.num_features].to_numpy()\n",
    "            network = Network(polyswyftSettings=polyswyftSettings, obs=obs)\n",
    "            network.load_state_dict(torch.load(f\"{root}/{polyswyftSettings.neural_network_file}\"))\n",
    "            root_storage[rd-1] = root\n",
    "            network_storage[previous_key] = network\n",
    "            samples_storage[previous_key] = deadpoints\n",
    "\n",
    "        ### update root\n",
    "        root = f\"{polyswyftSettings.root}/{polyswyftSettings.child_root}_{rd}\"\n",
    "        ### create root folder ###\n",
    "        try:\n",
    "            os.makedirs(root)\n",
    "        except OSError:\n",
    "            logger.info(\"root folder already exists!\")\n",
    "\n",
    "\n",
    "        ####conditional resimulate deadpoints with swyft\n",
    "        resimulate_deadpoints(deadpoints=deadpoints_samples, polyswyftSettings=polyswyftSettings, sim=sim, rd=rd)\n",
    "        dm = PolySwyftDataModule(polyswyftSettings=polyswyftSettings,rd=rd,\n",
    "                                 **polyswyftSettings.dm_kwargs)\n",
    "\n",
    "        ###prepare network\n",
    "        #### instantiate swyft network\n",
    "        network = Network(polyswyftSettings=polyswyftSettings, obs=obs)\n",
    "        if rd > 0:\n",
    "            prev_root = root_storage[rd-1]\n",
    "            network.load_state_dict(torch.load(f\"{prev_root}/{polyswyftSettings.neural_network_file}\"))\n",
    "        learning_rate = lr_round_scheduler(rd) #adjust learning rate between round (optional)\n",
    "        network.optimizer_init.optim_args = dict(lr=learning_rate)\n",
    "        ####set network to train mode\n",
    "        network.train()\n",
    "\n",
    "        #prepare wandb logger\n",
    "        polyswyftSettings.wandb_kwargs[\"name\"] = f\"{polyswyftSettings.child_root}_{rd}\"\n",
    "        polyswyftSettings.wandb_kwargs[\"save_dir\"] = f\"{polyswyftSettings.root}/{polyswyftSettings.child_root}_{rd}\"\n",
    "        wandb_logger = WandbLogger(**polyswyftSettings.wandb_kwargs)\n",
    "\n",
    "        ###prepare trainer\n",
    "        polyswyftSettings.trainer_kwargs[\"callbacks\"] = create_callbacks()\n",
    "        #### train network\n",
    "        trainer = swyft.SwyftTrainer(**polyswyftSettings.trainer_kwargs, logger=wandb_logger)\n",
    "        trainer.fit(network, dm)\n",
    "        wandb.finish()\n",
    "\n",
    "        ### save network and optimizer\n",
    "        if rank_gen == 0:\n",
    "            torch.save(network.state_dict(), f\"{root}/{polyswyftSettings.neural_network_file}\")\n",
    "            torch.save(network.optimizers().state_dict(), f\"{root}/{polyswyftSettings.optimizer_file}\")\n",
    "\n",
    "        comm_gen.Barrier()\n",
    "        #### prepare network for polychord\n",
    "        network.eval()\n",
    "\n",
    "        # run polychord\n",
    "        polyset.base_dir = root\n",
    "        comm_gen.barrier()\n",
    "        pypolychord.run_polychord(loglikelihood=network.logLikelihood,\n",
    "                                  nDims=polyswyftSettings.num_features,\n",
    "                                  nDerived=polyswyftSettings.nderived, settings=polyset,\n",
    "                                  prior=network.prior, dumper=network.dumper)\n",
    "\n",
    "        comm_gen.Barrier()\n",
    "        deadpoints = anesthetic.read_chains(root=f\"{root}/{polyset.file_root}\")\n",
    "\n",
    "        #run dynamic nested sampling round 2 here if you want\n",
    "        ##### Polychord run 2 #####\n",
    "        if polyswyftSettings.use_livepoint_increasing:\n",
    "            ### choose contour to increase livepoints ###\n",
    "            index = select_weighted_contour(deadpoints,\n",
    "                                            threshold=1 - polyswyftSettings.livepoint_increase_posterior_contour)\n",
    "            logL = deadpoints.iloc[index, :].logL\n",
    "\n",
    "            try:\n",
    "                os.makedirs(f\"{root}/{polyswyftSettings.increased_livepoints_fileroot}\")\n",
    "            except OSError:\n",
    "                logger.info(\"root folder already exists!\")\n",
    "\n",
    "            ### run polychord round 2 ###\n",
    "            polyset.base_dir = f\"{root}/{polyswyftSettings.increased_livepoints_fileroot}\"\n",
    "            polyset.nlives = {logL: polyswyftSettings.n_increased_livepoints}\n",
    "            comm_gen.Barrier()\n",
    "            pypolychord.run_polychord(loglikelihood=network.logLikelihood,\n",
    "                                      nDims=polyswyftSettings.num_features,\n",
    "                                      nDerived=polyswyftSettings.nderived, settings=polyset,\n",
    "                                      prior=network.prior, dumper=network.dumper)\n",
    "            comm_gen.Barrier()\n",
    "            polyset.nlives = {}\n",
    "            deadpoints = anesthetic.read_chains(\n",
    "                root=f\"{root}/{polyswyftSettings.increased_livepoints_fileroot}/{polyset.file_root}\")\n",
    "\n",
    "\n",
    "        #### compute KL divergences\n",
    "        root_storage[rd] = root\n",
    "        samples_storage[current_key] = deadpoints\n",
    "        network_storage[current_key] = network\n",
    "        #### compute KL(P_i||P_(i-1))\n",
    "        if rd > 0:\n",
    "            previous_network = network_storage[previous_key]\n",
    "            KDL = compute_KL_divergence(polyswyftSettings=polyswyftSettings, previous_network=previous_network.eval(),\n",
    "                                        current_samples=samples_storage[current_key], obs=obs,\n",
    "                                        previous_samples=samples_storage[previous_key])\n",
    "            dkl_storage[rd] = KDL\n",
    "            logger.info(f\"Round {rd}: KL(P_i||P_(i-1)) = {KDL[0]} +/- {KDL[1]}\")\n",
    "            print(f\"Round {rd}: KL(P_i||P_(i-1)) = {KDL[0]} +/- {KDL[1]}\")\n",
    "\n",
    "\n",
    "        ### compute KL(P_i||Pi)\n",
    "        DKL = compute_KL_compression(samples_storage[current_key], polyswyftSettings)\n",
    "        dkl_compression_storage[rd] = DKL\n",
    "        logger.info(f\"Round {rd}: KL(P_i||Pi) = {DKL[0]} +/- {DKL[1]}\")\n",
    "        print(f\"Round {rd}: KL(P_i||Pi) = {DKL[0]} +/- {DKL[1]}\")\n",
    "\n",
    "\n",
    "        if mcmc_true is not None:\n",
    "            #### compute KL(P_true||P_i)\n",
    "            current_network = network_storage[current_key]\n",
    "            KDL_true = compute_KL_divergence_truth(polyswyftSettings=polyswyftSettings,\n",
    "                                                   network=current_network.eval(),\n",
    "                                                   true_posterior=mcmc_true.copy(), obs=obs,\n",
    "                                                   samples=samples_storage[current_key])\n",
    "            dkl_storage_true[rd] = KDL_true\n",
    "            logger.info(f\"Round {rd}: KL(P_true||P_(i)) = {KDL_true[0]} +/- {KDL_true[1]}\")\n",
    "            print(f\"Round {rd}: KL(P_true||P_(i)) = {KDL_true[0]} +/- {KDL_true[1]}\")\n",
    "\n",
    "            #### compute K(P_true||Pi)\n",
    "            logPi = polyswyftSettings.model.prior().logpdf(posterior)\n",
    "            logP = polyswyftSettings.model.posterior(obs[polyswyftSettings.obsKey].squeeze()).logpdf(posterior)\n",
    "            dkl_compression_truth = 1/logP.shape[0]*((logP - logPi).sum())\n",
    "            logger.info(f\"Round {rd}: KL(P_true||Pi) = {dkl_compression_truth}\")\n",
    "            print(f\"Round {rd}: KL(P_true||Pi) = {dkl_compression_truth}\")\n",
    "\n",
    "        samples_storage[previous_key] = deadpoints\n",
    "        network_storage[previous_key] = network\n",
    "\n",
    "        #### optional deadpoints post processing\n",
    "        deadpoints = deadpoints_processing(deadpoints)\n",
    "\n",
    "        #prepare data for next round\n",
    "        deadpoints_samples = deadpoints.iloc[:, :polyswyftSettings.num_features].to_numpy()\n"
   ],
   "metadata": {
    "collapsed": false,
    "ExecuteTime": {
     "end_time": "2025-05-21T21:01:02.226999Z",
     "start_time": "2025-05-21T20:50:21.212457Z"
    }
   },
   "id": "dd531a59efa99967",
   "execution_count": 10
  },
  {
   "cell_type": "code",
   "outputs": [],
   "source": [
    "import matplotlib.pyplot as plt\n",
    "from anesthetic import make_2d_axes"
   ],
   "metadata": {
    "collapsed": false,
    "ExecuteTime": {
     "end_time": "2025-05-21T21:01:02.240917Z",
     "start_time": "2025-05-21T21:01:02.231955Z"
    }
   },
   "id": "3e673c441f8aee79",
   "execution_count": 11
  },
  {
   "cell_type": "code",
   "outputs": [
    {
     "data": {
      "text/plain": "<Figure size 640x480 with 6 Axes>",
      "image/png": "[encoded data removed]"
     },
     "metadata": {},
     "output_type": "display_data"
    },
    {
     "data": {
      "text/plain": "<Figure size 350x350 with 1 Axes>",
      "image/png": "[encoded data removed]"
     },
     "metadata": {},
     "output_type": "display_data"
    }
   ],
   "source": [
    "if rank_gen == 0:\n",
    "    from matplotlib import rc\n",
    "    rc('text', usetex=True)\n",
    "    rc('font', family='serif')\n",
    "\n",
    "    # set up labels for plotting\n",
    "    params_idx = [i for i in range(0, polyswyftSettings.num_features)]\n",
    "    params_labels = {i: rf\"${polyswyftSettings.targetKey}_{i}$\" for i in range(polyswyftSettings.num_features)}\n",
    "    params = [fr\"${polyswyftSettings.targetKey}_{i}$\" for i in range(polyswyftSettings.num_features)]\n",
    "    # triangle plot\n",
    "    if polyswyftSettings.plot_triangle_plot:\n",
    "        kinds = {'lower': 'kde_2d', 'diagonal': 'kde_1d', 'upper': \"scatter_2d\"}\n",
    "        fig, axes = make_2d_axes(params_idx, labels=params_labels, lower=True, diagonal=True, upper=True,\n",
    "                                 ticks=\"outer\")\n",
    "\n",
    "        for rd in range(polyswyftSettings.triangle_start, polyswyftSettings.NRE_num_retrain_rounds + 1):\n",
    "            # load samples from round\n",
    "            current_root = f\"{polyswyftSettings.root}/{polyswyftSettings.child_root}_{rd}\"\n",
    "            ## if dynamic sampling was on\n",
    "            if polyswyftSettings.use_livepoint_increasing:\n",
    "                samples = anesthetic.read_chains(\n",
    "                    root=f\"{current_root}/{polyswyftSettings.increased_livepoints_fileroot}/{polyset.file_root}\")\n",
    "            else:\n",
    "                samples = anesthetic.read_chains(root=f\"{current_root}/{polyset.file_root}\")\n",
    "            ### setup labels\n",
    "            labels = samples.get_labels()\n",
    "            labels[:polyswyftSettings.num_features] = params\n",
    "            samples.set_labels(labels, inplace=True)\n",
    "\n",
    "            ### plot posterior\n",
    "            samples.plot_2d(axes=axes, alpha=0.4, label=fr\"$p_{rd}(\\theta|D)$\",\n",
    "                           kinds=kinds)\n",
    "\n",
    "        ### plot prior\n",
    "        #prior = samples.prior()\n",
    "        #prior.plot_2d(axes=axes, alpha=0.4, label=\"prior\", kinds=kinds)\n",
    "\n",
    "        if mcmc_true is not None:\n",
    "            mcmc_true.plot_2d(axes=axes, alpha=0.9, label=\"true\", color=\"red\",\n",
    "                                   kinds=kinds)\n",
    "\n",
    "        axes.iloc[-1, 0].legend(bbox_to_anchor=(len(axes) / 2, len(axes)), loc='lower center',\n",
    "                                ncols=polyswyftSettings.NRE_num_retrain_rounds + 2)\n",
    "        plt.show()\n",
    "        fig.savefig(f\"{polyswyftSettings.root}/NRE_triangle_posterior.pdf\")\n",
    "\n",
    "    # KL divergence plot\n",
    "    if polyswyftSettings.plot_KL_divergence:\n",
    "        current_key = \"current\"\n",
    "        previous_key = \"previous\"\n",
    "        network_storage = {}\n",
    "        samples_storage = {}\n",
    "        root_storage = {}\n",
    "        dkl_storage = {}\n",
    "        dkl_storage_true = {}\n",
    "        dkl_compression_storage = {}\n",
    "\n",
    "        for rd in range(0, polyswyftSettings.NRE_num_retrain_rounds + 1):\n",
    "            current_root = f\"{polyswyftSettings.root}/{polyswyftSettings.child_root}_{rd}\"\n",
    "            root_storage[rd] = current_root\n",
    "\n",
    "            ## if dynamic sampling was on\n",
    "            if polyswyftSettings.use_livepoint_increasing:\n",
    "                samples = anesthetic.read_chains(\n",
    "                    root=f\"{current_root}/{polyswyftSettings.increased_livepoints_fileroot}/{polyset.file_root}\")\n",
    "            else:\n",
    "                samples = anesthetic.read_chains(root=f\"{current_root}/{polyset.file_root}\")\n",
    "            samples_storage[current_key] = samples\n",
    "            new_network = Network(polyswyftSettings=polyswyftSettings, obs=obs)\n",
    "            new_network.load_state_dict(torch.load(f\"{current_root}/{polyswyftSettings.neural_network_file}\"))\n",
    "            new_network.double()  # change to float64 precision of network\n",
    "            network_storage[current_key] = new_network\n",
    "\n",
    "            if rd > 0:\n",
    "                previous_network = network_storage[previous_key]\n",
    "                KDL = compute_KL_divergence(polyswyftSettings=polyswyftSettings, previous_network=previous_network.eval(),\n",
    "                                        current_samples=samples_storage[current_key], obs=obs,\n",
    "                                        previous_samples=samples_storage[previous_key])\n",
    "                dkl_storage[rd] = KDL\n",
    "\n",
    "            DKL = compute_KL_compression(samples_storage[current_key], polyswyftSettings)\n",
    "            dkl_compression_storage[rd] = DKL\n",
    "            if mcmc_true is not None:\n",
    "                network = network_storage[current_key]\n",
    "                KDL_true = compute_KL_divergence_truth(polyswyftSettings=polyswyftSettings,\n",
    "                                                       network=network.eval(),\n",
    "                                                       true_posterior=mcmc_true.copy(), obs=obs,\n",
    "                                                       samples=samples_storage[current_key])\n",
    "                dkl_storage_true[rd] = KDL_true\n",
    "\n",
    "            samples_storage[previous_key] = samples\n",
    "            network_storage[previous_key] = new_network\n",
    "        plt.figure(figsize=(3.5, 3.5))\n",
    "\n",
    "        ### plot KL(P_i||P_{i-1})\n",
    "        plt.errorbar(x=[i for i in range(1, polyswyftSettings.NRE_num_retrain_rounds + 1)],\n",
    "                     y=[dkl_storage[i][0] for i in range(1, polyswyftSettings.NRE_num_retrain_rounds + 1)],\n",
    "                     yerr=[dkl_storage[i][1] for i in range(1, polyswyftSettings.NRE_num_retrain_rounds + 1)],\n",
    "                     label=r\"$\\mathrm{KL} (\\mathcal{P}_i||\\mathcal{P}_{i-1})$\")\n",
    "        ### plot KL(P_i||pi)\n",
    "        plt.errorbar(x=[i for i in range(0, polyswyftSettings.NRE_num_retrain_rounds + 1)],\n",
    "                     y=[dkl_compression_storage[i][0] for i in range(0, polyswyftSettings.NRE_num_retrain_rounds + 1)],\n",
    "                     yerr=[dkl_compression_storage[i][1] for i in range(0, polyswyftSettings.NRE_num_retrain_rounds + 1)],\n",
    "                     label=r\"$\\mathrm{KL}(\\mathcal{P}_i||\\pi)$\")\n",
    "\n",
    "        if mcmc_true is not None and polyswyftSettings.model is not None:\n",
    "            ### plot KL(P_true||P_i)\n",
    "            plt.errorbar(x=[i for i in range(0, polyswyftSettings.NRE_num_retrain_rounds + 1)],\n",
    "                         y=[dkl_storage_true[i][0] for i in range(0, polyswyftSettings.NRE_num_retrain_rounds + 1)],\n",
    "                         yerr=[dkl_storage_true[i][1] for i in range(0, polyswyftSettings.NRE_num_retrain_rounds + 1)],\n",
    "                         label=r\"$\\mathrm{KL}(\\mathcal{P}_{\\mathrm{True}}||\\mathcal{P}_i)$\", linestyle=\"--\")\n",
    "            ### plot KL(P_true||pi)\n",
    "            logpi = polyswyftSettings.model.prior().logpdf(posterior)\n",
    "            logP = polyswyftSettings.model.posterior(obs[polyswyftSettings.obsKey].squeeze()).logpdf(posterior)\n",
    "            dkl_compression_truth = 1/logP.shape[0]*((logP - logpi).sum())\n",
    "            plt.hlines(y=dkl_compression_truth, xmin=0, xmax=polyswyftSettings.NRE_num_retrain_rounds, color=\"red\",\n",
    "                       label=r\"$\\mathrm{KL}(\\mathcal{P}_{\\mathrm{True}}||\\pi)$\",linestyle=\"--\")\n",
    "\n",
    "        plt.legend()\n",
    "        plt.xlabel(\"retrain round\")\n",
    "        plt.ylabel(\"KL divergence\")\n",
    "        plt.savefig(f\"{polyswyftSettings.root}/kl_divergence.pdf\", dpi=300, bbox_inches='tight')\n",
    "        plt.show()\n",
    "        plt.close()"
   ],
   "metadata": {
    "collapsed": false,
    "ExecuteTime": {
     "end_time": "2025-05-21T21:01:07.854194Z",
     "start_time": "2025-05-21T21:01:02.243837Z"
    }
   },
   "id": "62ad384caa7bc7c5",
   "execution_count": 12
  }
 ],
 "metadata": {
  "kernelspec": {
   "name": "lfienv",
   "language": "python",
   "display_name": "LFIenv"
  },
  "language_info": {
   "codemirror_mode": {
    "name": "ipython",
    "version": 2
   },
   "file_extension": ".py",
   "mimetype": "text/x-python",
   "name": "python",
   "nbconvert_exporter": "python",
   "pygments_lexer": "ipython2",
   "version": "2.7.6"
  }
 },
 "nbformat": 4,
 "nbformat_minor": 5
}
